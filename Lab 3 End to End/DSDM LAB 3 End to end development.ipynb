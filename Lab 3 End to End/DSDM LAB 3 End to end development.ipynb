{
 "cells": [
  {
   "cell_type": "code",
   "execution_count": 19,
   "id": "66b8e02a",
   "metadata": {},
   "outputs": [],
   "source": [
    "%matplotlib inline\n",
    "import matplotlib\n",
    "import numpy as np\n",
    "import matplotlib.pyplot as plt\n",
    "import pandas as pd\n",
    "import seaborn as sns\n",
    "\n",
    "import itertools\n",
    "\n",
    "from sklearn.model_selection import train_test_split, StratifiedShuffleSplit, cross_val_score\n",
    "\n",
    "from sklearn.preprocessing import LabelEncoder, StandardScaler, OneHotEncoder\n",
    "from sklearn.compose import ColumnTransformer\n",
    "from sklearn.base import BaseEstimator, TransformerMixin\n",
    "from sklearn.pipeline import Pipeline\n",
    "\n",
    "from sklearn.tree import DecisionTreeRegressor\n",
    "from sklearn.ensemble import RandomForestRegressor, GradientBoostingRegressor, RandomForestClassifier, ExtraTreesClassifier\n",
    "from sklearn.linear_model import SGDRegressor, BayesianRidge\n",
    "from sklearn.metrics import mean_squared_error as mse\n",
    "from sklearn.metrics import mean_absolute_error as mae\n",
    "from sklearn.metrics import accuracy_score as acc\n",
    "from sklearn.metrics import make_scorer, confusion_matrix\n",
    "from sklearn.metrics import SCORERS\n",
    "from sklearn.metrics import f1_score\n",
    "from sklearn.model_selection import RandomizedSearchCV\n",
    "from sklearn.dummy import DummyRegressor, DummyClassifier"
   ]
  },
  {
   "cell_type": "code",
   "execution_count": 52,
   "id": "a76f38dc",
   "metadata": {},
   "outputs": [],
   "source": [
    "import warnings\n",
    "warnings.filterwarnings('ignore')"
   ]
  },
  {
   "cell_type": "code",
   "execution_count": null,
   "id": "5bc04fe5",
   "metadata": {},
   "outputs": [],
   "source": []
  },
  {
   "cell_type": "code",
   "execution_count": null,
   "id": "98d30baa",
   "metadata": {},
   "outputs": [],
   "source": []
  },
  {
   "cell_type": "code",
   "execution_count": 20,
   "id": "14d057be",
   "metadata": {},
   "outputs": [
    {
     "data": {
      "text/html": [
       "<div>\n",
       "<style scoped>\n",
       "    .dataframe tbody tr th:only-of-type {\n",
       "        vertical-align: middle;\n",
       "    }\n",
       "\n",
       "    .dataframe tbody tr th {\n",
       "        vertical-align: top;\n",
       "    }\n",
       "\n",
       "    .dataframe thead th {\n",
       "        text-align: right;\n",
       "    }\n",
       "</style>\n",
       "<table border=\"1\" class=\"dataframe\">\n",
       "  <thead>\n",
       "    <tr style=\"text-align: right;\">\n",
       "      <th></th>\n",
       "      <th>age</th>\n",
       "      <th>job</th>\n",
       "      <th>marital</th>\n",
       "      <th>education</th>\n",
       "      <th>default</th>\n",
       "      <th>housing</th>\n",
       "      <th>loan</th>\n",
       "      <th>contact</th>\n",
       "      <th>month</th>\n",
       "      <th>day_of_week</th>\n",
       "      <th>...</th>\n",
       "      <th>campaign</th>\n",
       "      <th>pdays</th>\n",
       "      <th>previous</th>\n",
       "      <th>poutcome</th>\n",
       "      <th>emp.var.rate</th>\n",
       "      <th>cons.price.idx</th>\n",
       "      <th>cons.conf.idx</th>\n",
       "      <th>euribor3m</th>\n",
       "      <th>nr.employed</th>\n",
       "      <th>y</th>\n",
       "    </tr>\n",
       "  </thead>\n",
       "  <tbody>\n",
       "    <tr>\n",
       "      <th>0</th>\n",
       "      <td>56</td>\n",
       "      <td>housemaid</td>\n",
       "      <td>married</td>\n",
       "      <td>basic.4y</td>\n",
       "      <td>no</td>\n",
       "      <td>no</td>\n",
       "      <td>no</td>\n",
       "      <td>telephone</td>\n",
       "      <td>may</td>\n",
       "      <td>mon</td>\n",
       "      <td>...</td>\n",
       "      <td>1</td>\n",
       "      <td>999</td>\n",
       "      <td>0</td>\n",
       "      <td>nonexistent</td>\n",
       "      <td>1.1</td>\n",
       "      <td>93.994</td>\n",
       "      <td>-36.4</td>\n",
       "      <td>4.857</td>\n",
       "      <td>5191.0</td>\n",
       "      <td>no</td>\n",
       "    </tr>\n",
       "    <tr>\n",
       "      <th>1</th>\n",
       "      <td>57</td>\n",
       "      <td>services</td>\n",
       "      <td>married</td>\n",
       "      <td>high.school</td>\n",
       "      <td>unknown</td>\n",
       "      <td>no</td>\n",
       "      <td>no</td>\n",
       "      <td>telephone</td>\n",
       "      <td>may</td>\n",
       "      <td>mon</td>\n",
       "      <td>...</td>\n",
       "      <td>1</td>\n",
       "      <td>999</td>\n",
       "      <td>0</td>\n",
       "      <td>nonexistent</td>\n",
       "      <td>1.1</td>\n",
       "      <td>93.994</td>\n",
       "      <td>-36.4</td>\n",
       "      <td>4.857</td>\n",
       "      <td>5191.0</td>\n",
       "      <td>no</td>\n",
       "    </tr>\n",
       "    <tr>\n",
       "      <th>2</th>\n",
       "      <td>37</td>\n",
       "      <td>services</td>\n",
       "      <td>married</td>\n",
       "      <td>high.school</td>\n",
       "      <td>no</td>\n",
       "      <td>yes</td>\n",
       "      <td>no</td>\n",
       "      <td>telephone</td>\n",
       "      <td>may</td>\n",
       "      <td>mon</td>\n",
       "      <td>...</td>\n",
       "      <td>1</td>\n",
       "      <td>999</td>\n",
       "      <td>0</td>\n",
       "      <td>nonexistent</td>\n",
       "      <td>1.1</td>\n",
       "      <td>93.994</td>\n",
       "      <td>-36.4</td>\n",
       "      <td>4.857</td>\n",
       "      <td>5191.0</td>\n",
       "      <td>no</td>\n",
       "    </tr>\n",
       "    <tr>\n",
       "      <th>3</th>\n",
       "      <td>40</td>\n",
       "      <td>admin.</td>\n",
       "      <td>married</td>\n",
       "      <td>basic.6y</td>\n",
       "      <td>no</td>\n",
       "      <td>no</td>\n",
       "      <td>no</td>\n",
       "      <td>telephone</td>\n",
       "      <td>may</td>\n",
       "      <td>mon</td>\n",
       "      <td>...</td>\n",
       "      <td>1</td>\n",
       "      <td>999</td>\n",
       "      <td>0</td>\n",
       "      <td>nonexistent</td>\n",
       "      <td>1.1</td>\n",
       "      <td>93.994</td>\n",
       "      <td>-36.4</td>\n",
       "      <td>4.857</td>\n",
       "      <td>5191.0</td>\n",
       "      <td>no</td>\n",
       "    </tr>\n",
       "    <tr>\n",
       "      <th>4</th>\n",
       "      <td>56</td>\n",
       "      <td>services</td>\n",
       "      <td>married</td>\n",
       "      <td>high.school</td>\n",
       "      <td>no</td>\n",
       "      <td>no</td>\n",
       "      <td>yes</td>\n",
       "      <td>telephone</td>\n",
       "      <td>may</td>\n",
       "      <td>mon</td>\n",
       "      <td>...</td>\n",
       "      <td>1</td>\n",
       "      <td>999</td>\n",
       "      <td>0</td>\n",
       "      <td>nonexistent</td>\n",
       "      <td>1.1</td>\n",
       "      <td>93.994</td>\n",
       "      <td>-36.4</td>\n",
       "      <td>4.857</td>\n",
       "      <td>5191.0</td>\n",
       "      <td>no</td>\n",
       "    </tr>\n",
       "    <tr>\n",
       "      <th>...</th>\n",
       "      <td>...</td>\n",
       "      <td>...</td>\n",
       "      <td>...</td>\n",
       "      <td>...</td>\n",
       "      <td>...</td>\n",
       "      <td>...</td>\n",
       "      <td>...</td>\n",
       "      <td>...</td>\n",
       "      <td>...</td>\n",
       "      <td>...</td>\n",
       "      <td>...</td>\n",
       "      <td>...</td>\n",
       "      <td>...</td>\n",
       "      <td>...</td>\n",
       "      <td>...</td>\n",
       "      <td>...</td>\n",
       "      <td>...</td>\n",
       "      <td>...</td>\n",
       "      <td>...</td>\n",
       "      <td>...</td>\n",
       "      <td>...</td>\n",
       "    </tr>\n",
       "    <tr>\n",
       "      <th>41183</th>\n",
       "      <td>73</td>\n",
       "      <td>retired</td>\n",
       "      <td>married</td>\n",
       "      <td>professional.course</td>\n",
       "      <td>no</td>\n",
       "      <td>yes</td>\n",
       "      <td>no</td>\n",
       "      <td>cellular</td>\n",
       "      <td>nov</td>\n",
       "      <td>fri</td>\n",
       "      <td>...</td>\n",
       "      <td>1</td>\n",
       "      <td>999</td>\n",
       "      <td>0</td>\n",
       "      <td>nonexistent</td>\n",
       "      <td>-1.1</td>\n",
       "      <td>94.767</td>\n",
       "      <td>-50.8</td>\n",
       "      <td>1.028</td>\n",
       "      <td>4963.6</td>\n",
       "      <td>yes</td>\n",
       "    </tr>\n",
       "    <tr>\n",
       "      <th>41184</th>\n",
       "      <td>46</td>\n",
       "      <td>blue-collar</td>\n",
       "      <td>married</td>\n",
       "      <td>professional.course</td>\n",
       "      <td>no</td>\n",
       "      <td>no</td>\n",
       "      <td>no</td>\n",
       "      <td>cellular</td>\n",
       "      <td>nov</td>\n",
       "      <td>fri</td>\n",
       "      <td>...</td>\n",
       "      <td>1</td>\n",
       "      <td>999</td>\n",
       "      <td>0</td>\n",
       "      <td>nonexistent</td>\n",
       "      <td>-1.1</td>\n",
       "      <td>94.767</td>\n",
       "      <td>-50.8</td>\n",
       "      <td>1.028</td>\n",
       "      <td>4963.6</td>\n",
       "      <td>no</td>\n",
       "    </tr>\n",
       "    <tr>\n",
       "      <th>41185</th>\n",
       "      <td>56</td>\n",
       "      <td>retired</td>\n",
       "      <td>married</td>\n",
       "      <td>university.degree</td>\n",
       "      <td>no</td>\n",
       "      <td>yes</td>\n",
       "      <td>no</td>\n",
       "      <td>cellular</td>\n",
       "      <td>nov</td>\n",
       "      <td>fri</td>\n",
       "      <td>...</td>\n",
       "      <td>2</td>\n",
       "      <td>999</td>\n",
       "      <td>0</td>\n",
       "      <td>nonexistent</td>\n",
       "      <td>-1.1</td>\n",
       "      <td>94.767</td>\n",
       "      <td>-50.8</td>\n",
       "      <td>1.028</td>\n",
       "      <td>4963.6</td>\n",
       "      <td>no</td>\n",
       "    </tr>\n",
       "    <tr>\n",
       "      <th>41186</th>\n",
       "      <td>44</td>\n",
       "      <td>technician</td>\n",
       "      <td>married</td>\n",
       "      <td>professional.course</td>\n",
       "      <td>no</td>\n",
       "      <td>no</td>\n",
       "      <td>no</td>\n",
       "      <td>cellular</td>\n",
       "      <td>nov</td>\n",
       "      <td>fri</td>\n",
       "      <td>...</td>\n",
       "      <td>1</td>\n",
       "      <td>999</td>\n",
       "      <td>0</td>\n",
       "      <td>nonexistent</td>\n",
       "      <td>-1.1</td>\n",
       "      <td>94.767</td>\n",
       "      <td>-50.8</td>\n",
       "      <td>1.028</td>\n",
       "      <td>4963.6</td>\n",
       "      <td>yes</td>\n",
       "    </tr>\n",
       "    <tr>\n",
       "      <th>41187</th>\n",
       "      <td>74</td>\n",
       "      <td>retired</td>\n",
       "      <td>married</td>\n",
       "      <td>professional.course</td>\n",
       "      <td>no</td>\n",
       "      <td>yes</td>\n",
       "      <td>no</td>\n",
       "      <td>cellular</td>\n",
       "      <td>nov</td>\n",
       "      <td>fri</td>\n",
       "      <td>...</td>\n",
       "      <td>3</td>\n",
       "      <td>999</td>\n",
       "      <td>1</td>\n",
       "      <td>failure</td>\n",
       "      <td>-1.1</td>\n",
       "      <td>94.767</td>\n",
       "      <td>-50.8</td>\n",
       "      <td>1.028</td>\n",
       "      <td>4963.6</td>\n",
       "      <td>no</td>\n",
       "    </tr>\n",
       "  </tbody>\n",
       "</table>\n",
       "<p>41188 rows × 21 columns</p>\n",
       "</div>"
      ],
      "text/plain": [
       "       age          job  marital            education  default housing loan  \\\n",
       "0       56    housemaid  married             basic.4y       no      no   no   \n",
       "1       57     services  married          high.school  unknown      no   no   \n",
       "2       37     services  married          high.school       no     yes   no   \n",
       "3       40       admin.  married             basic.6y       no      no   no   \n",
       "4       56     services  married          high.school       no      no  yes   \n",
       "...    ...          ...      ...                  ...      ...     ...  ...   \n",
       "41183   73      retired  married  professional.course       no     yes   no   \n",
       "41184   46  blue-collar  married  professional.course       no      no   no   \n",
       "41185   56      retired  married    university.degree       no     yes   no   \n",
       "41186   44   technician  married  professional.course       no      no   no   \n",
       "41187   74      retired  married  professional.course       no     yes   no   \n",
       "\n",
       "         contact month day_of_week  ...  campaign  pdays  previous  \\\n",
       "0      telephone   may         mon  ...         1    999         0   \n",
       "1      telephone   may         mon  ...         1    999         0   \n",
       "2      telephone   may         mon  ...         1    999         0   \n",
       "3      telephone   may         mon  ...         1    999         0   \n",
       "4      telephone   may         mon  ...         1    999         0   \n",
       "...          ...   ...         ...  ...       ...    ...       ...   \n",
       "41183   cellular   nov         fri  ...         1    999         0   \n",
       "41184   cellular   nov         fri  ...         1    999         0   \n",
       "41185   cellular   nov         fri  ...         2    999         0   \n",
       "41186   cellular   nov         fri  ...         1    999         0   \n",
       "41187   cellular   nov         fri  ...         3    999         1   \n",
       "\n",
       "          poutcome emp.var.rate  cons.price.idx  cons.conf.idx  euribor3m  \\\n",
       "0      nonexistent          1.1          93.994          -36.4      4.857   \n",
       "1      nonexistent          1.1          93.994          -36.4      4.857   \n",
       "2      nonexistent          1.1          93.994          -36.4      4.857   \n",
       "3      nonexistent          1.1          93.994          -36.4      4.857   \n",
       "4      nonexistent          1.1          93.994          -36.4      4.857   \n",
       "...            ...          ...             ...            ...        ...   \n",
       "41183  nonexistent         -1.1          94.767          -50.8      1.028   \n",
       "41184  nonexistent         -1.1          94.767          -50.8      1.028   \n",
       "41185  nonexistent         -1.1          94.767          -50.8      1.028   \n",
       "41186  nonexistent         -1.1          94.767          -50.8      1.028   \n",
       "41187      failure         -1.1          94.767          -50.8      1.028   \n",
       "\n",
       "       nr.employed    y  \n",
       "0           5191.0   no  \n",
       "1           5191.0   no  \n",
       "2           5191.0   no  \n",
       "3           5191.0   no  \n",
       "4           5191.0   no  \n",
       "...            ...  ...  \n",
       "41183       4963.6  yes  \n",
       "41184       4963.6   no  \n",
       "41185       4963.6   no  \n",
       "41186       4963.6  yes  \n",
       "41187       4963.6   no  \n",
       "\n",
       "[41188 rows x 21 columns]"
      ]
     },
     "execution_count": 20,
     "metadata": {},
     "output_type": "execute_result"
    }
   ],
   "source": [
    "df = pd.read_csv(\"https://raw.githubusercontent.com/albanda/CE888/master/lab3/bank-additional-full.csv\", delimiter=\";\")\n",
    "df"
   ]
  },
  {
   "cell_type": "code",
   "execution_count": 21,
   "id": "88211cdc",
   "metadata": {},
   "outputs": [
    {
     "name": "stdout",
     "output_type": "stream",
     "text": [
      "<class 'pandas.core.frame.DataFrame'>\n",
      "RangeIndex: 41188 entries, 0 to 41187\n",
      "Data columns (total 21 columns):\n",
      " #   Column          Non-Null Count  Dtype  \n",
      "---  ------          --------------  -----  \n",
      " 0   age             41188 non-null  int64  \n",
      " 1   job             41188 non-null  object \n",
      " 2   marital         41188 non-null  object \n",
      " 3   education       41188 non-null  object \n",
      " 4   default         41188 non-null  object \n",
      " 5   housing         41188 non-null  object \n",
      " 6   loan            41188 non-null  object \n",
      " 7   contact         41188 non-null  object \n",
      " 8   month           41188 non-null  object \n",
      " 9   day_of_week     41188 non-null  object \n",
      " 10  duration        41188 non-null  int64  \n",
      " 11  campaign        41188 non-null  int64  \n",
      " 12  pdays           41188 non-null  int64  \n",
      " 13  previous        41188 non-null  int64  \n",
      " 14  poutcome        41188 non-null  object \n",
      " 15  emp.var.rate    41188 non-null  float64\n",
      " 16  cons.price.idx  41188 non-null  float64\n",
      " 17  cons.conf.idx   41188 non-null  float64\n",
      " 18  euribor3m       41188 non-null  float64\n",
      " 19  nr.employed     41188 non-null  float64\n",
      " 20  y               41188 non-null  object \n",
      "dtypes: float64(5), int64(5), object(11)\n",
      "memory usage: 6.6+ MB\n"
     ]
    }
   ],
   "source": [
    "df.info()"
   ]
  },
  {
   "cell_type": "markdown",
   "id": "2b2061f2",
   "metadata": {},
   "source": [
    "There are 10 featues which are of type \"object\" which need to be converted from label to numerical"
   ]
  },
  {
   "cell_type": "code",
   "execution_count": 22,
   "id": "b1a4e418",
   "metadata": {},
   "outputs": [],
   "source": [
    "cat_features = [feature for feature in df.columns if df[feature].dtype == 'O']"
   ]
  },
  {
   "cell_type": "code",
   "execution_count": 23,
   "id": "c3fd3e7c",
   "metadata": {},
   "outputs": [
    {
     "name": "stdout",
     "output_type": "stream",
     "text": [
      "['job', 'marital', 'education', 'default', 'housing', 'loan', 'contact', 'month', 'day_of_week', 'poutcome', 'y'] \n",
      "\n",
      "There are  11 featues including target which are of type \"object\" which need to be converted from label to numerical\n"
     ]
    }
   ],
   "source": [
    "print(cat_features,'\\n')\n",
    "print('There are ',len(cat_features), 'featues including target which are of type \"object\" which need to be converted from label to numerical')\n"
   ]
  },
  {
   "cell_type": "markdown",
   "id": "a018bc55",
   "metadata": {},
   "source": [
    "\n",
    "# converting categorical features"
   ]
  },
  {
   "cell_type": "code",
   "execution_count": 24,
   "id": "ad04c14d",
   "metadata": {},
   "outputs": [],
   "source": [
    "class OneHotEncoderCategoricalFeatures(BaseEstimator, TransformerMixin):\n",
    "    def __init__(self, cat_features):\n",
    "        self.cat_features = cat_features\n",
    "    \n",
    "    def fit(self, X, y=None):\n",
    "        return self\n",
    "    \n",
    "    def transform(self, X):\n",
    "        return pd.get_dummies(X, columns=self.cat_features,drop_first=True)"
   ]
  },
  {
   "cell_type": "code",
   "execution_count": 25,
   "id": "8d6a0ea3",
   "metadata": {},
   "outputs": [],
   "source": [
    "data = df"
   ]
  },
  {
   "cell_type": "code",
   "execution_count": 27,
   "id": "b7642135",
   "metadata": {},
   "outputs": [
    {
     "name": "stdout",
     "output_type": "stream",
     "text": [
      "<class 'pandas.core.frame.DataFrame'>\n",
      "RangeIndex: 41188 entries, 0 to 41187\n",
      "Data columns (total 21 columns):\n",
      " #   Column          Non-Null Count  Dtype  \n",
      "---  ------          --------------  -----  \n",
      " 0   age             41188 non-null  int64  \n",
      " 1   job             41188 non-null  object \n",
      " 2   marital         41188 non-null  object \n",
      " 3   education       41188 non-null  object \n",
      " 4   default         41188 non-null  object \n",
      " 5   housing         41188 non-null  object \n",
      " 6   loan            41188 non-null  object \n",
      " 7   contact         41188 non-null  object \n",
      " 8   month           41188 non-null  object \n",
      " 9   day_of_week     41188 non-null  object \n",
      " 10  duration        41188 non-null  int64  \n",
      " 11  campaign        41188 non-null  int64  \n",
      " 12  pdays           41188 non-null  int64  \n",
      " 13  previous        41188 non-null  int64  \n",
      " 14  poutcome        41188 non-null  object \n",
      " 15  emp.var.rate    41188 non-null  float64\n",
      " 16  cons.price.idx  41188 non-null  float64\n",
      " 17  cons.conf.idx   41188 non-null  float64\n",
      " 18  euribor3m       41188 non-null  float64\n",
      " 19  nr.employed     41188 non-null  float64\n",
      " 20  y               41188 non-null  object \n",
      "dtypes: float64(5), int64(5), object(11)\n",
      "memory usage: 6.6+ MB\n"
     ]
    }
   ],
   "source": [
    "data.info()"
   ]
  },
  {
   "cell_type": "markdown",
   "id": "9b68bf16",
   "metadata": {},
   "source": [
    "# Checking for nan values using heatmap"
   ]
  },
  {
   "cell_type": "code",
   "execution_count": 28,
   "id": "cf4fff13",
   "metadata": {},
   "outputs": [
    {
     "data": {
      "text/plain": [
       "<AxesSubplot:>"
      ]
     },
     "execution_count": 28,
     "metadata": {},
     "output_type": "execute_result"
    },
    {
     "data": {
      "image/png": "[encoded data removed]",
      "text/plain": [
       "<Figure size 432x288 with 1 Axes>"
      ]
     },
     "metadata": {
      "needs_background": "light"
     },
     "output_type": "display_data"
    }
   ],
   "source": [
    "sns.heatmap(data.isnull(),yticklabels=False,cbar=False,cmap='viridis')\n"
   ]
  },
  {
   "cell_type": "markdown",
   "id": "d273afcc",
   "metadata": {},
   "source": [
    "# Dropping feature \"Duration\""
   ]
  },
  {
   "cell_type": "code",
   "execution_count": 29,
   "id": "6c90a8b2",
   "metadata": {},
   "outputs": [],
   "source": [
    "data = data.drop(['duration'],axis=1)"
   ]
  },
  {
   "cell_type": "code",
   "execution_count": null,
   "id": "f1281089",
   "metadata": {},
   "outputs": [],
   "source": []
  },
  {
   "cell_type": "markdown",
   "id": "d7deec5a",
   "metadata": {},
   "source": [
    "# Checking for the imbalance in dataste"
   ]
  },
  {
   "cell_type": "code",
   "execution_count": 30,
   "id": "01b320e6",
   "metadata": {},
   "outputs": [
    {
     "data": {
      "text/plain": [
       "(41188, 20)"
      ]
     },
     "execution_count": 30,
     "metadata": {},
     "output_type": "execute_result"
    }
   ],
   "source": [
    "data.shape"
   ]
  },
  {
   "cell_type": "code",
   "execution_count": 31,
   "id": "3c4d90c0",
   "metadata": {},
   "outputs": [
    {
     "data": {
      "text/plain": [
       "no     36548\n",
       "yes     4640\n",
       "Name: y, dtype: int64"
      ]
     },
     "execution_count": 31,
     "metadata": {},
     "output_type": "execute_result"
    }
   ],
   "source": [
    "data['y'].value_counts()"
   ]
  },
  {
   "cell_type": "code",
   "execution_count": 32,
   "id": "a33cc7de",
   "metadata": {},
   "outputs": [
    {
     "data": {
      "text/plain": [
       "<AxesSubplot:xlabel='y', ylabel='Count'>"
      ]
     },
     "execution_count": 32,
     "metadata": {},
     "output_type": "execute_result"
    },
    {
     "data": {
      "image/png": "[encoded data removed]",
      "text/plain": [
       "<Figure size 432x288 with 1 Axes>"
      ]
     },
     "metadata": {
      "needs_background": "light"
     },
     "output_type": "display_data"
    }
   ],
   "source": [
    "sns.histplot(data['y'])"
   ]
  },
  {
   "cell_type": "markdown",
   "id": "73956c02",
   "metadata": {},
   "source": [
    "The dataset is highly imbalanced with a lot of 0 values\n"
   ]
  },
  {
   "cell_type": "markdown",
   "id": "20d0cdab",
   "metadata": {},
   "source": [
    "# Analysing Numerical features"
   ]
  },
  {
   "cell_type": "code",
   "execution_count": 33,
   "id": "15d6781e",
   "metadata": {},
   "outputs": [
    {
     "name": "stdout",
     "output_type": "stream",
     "text": [
      "Number of numerical variables:  9\n"
     ]
    },
    {
     "data": {
      "text/html": [
       "<div>\n",
       "<style scoped>\n",
       "    .dataframe tbody tr th:only-of-type {\n",
       "        vertical-align: middle;\n",
       "    }\n",
       "\n",
       "    .dataframe tbody tr th {\n",
       "        vertical-align: top;\n",
       "    }\n",
       "\n",
       "    .dataframe thead th {\n",
       "        text-align: right;\n",
       "    }\n",
       "</style>\n",
       "<table border=\"1\" class=\"dataframe\">\n",
       "  <thead>\n",
       "    <tr style=\"text-align: right;\">\n",
       "      <th></th>\n",
       "      <th>age</th>\n",
       "      <th>campaign</th>\n",
       "      <th>pdays</th>\n",
       "      <th>previous</th>\n",
       "      <th>emp.var.rate</th>\n",
       "      <th>cons.price.idx</th>\n",
       "      <th>cons.conf.idx</th>\n",
       "      <th>euribor3m</th>\n",
       "      <th>nr.employed</th>\n",
       "    </tr>\n",
       "  </thead>\n",
       "  <tbody>\n",
       "    <tr>\n",
       "      <th>0</th>\n",
       "      <td>56</td>\n",
       "      <td>1</td>\n",
       "      <td>999</td>\n",
       "      <td>0</td>\n",
       "      <td>1.1</td>\n",
       "      <td>93.994</td>\n",
       "      <td>-36.4</td>\n",
       "      <td>4.857</td>\n",
       "      <td>5191.0</td>\n",
       "    </tr>\n",
       "    <tr>\n",
       "      <th>1</th>\n",
       "      <td>57</td>\n",
       "      <td>1</td>\n",
       "      <td>999</td>\n",
       "      <td>0</td>\n",
       "      <td>1.1</td>\n",
       "      <td>93.994</td>\n",
       "      <td>-36.4</td>\n",
       "      <td>4.857</td>\n",
       "      <td>5191.0</td>\n",
       "    </tr>\n",
       "    <tr>\n",
       "      <th>2</th>\n",
       "      <td>37</td>\n",
       "      <td>1</td>\n",
       "      <td>999</td>\n",
       "      <td>0</td>\n",
       "      <td>1.1</td>\n",
       "      <td>93.994</td>\n",
       "      <td>-36.4</td>\n",
       "      <td>4.857</td>\n",
       "      <td>5191.0</td>\n",
       "    </tr>\n",
       "    <tr>\n",
       "      <th>3</th>\n",
       "      <td>40</td>\n",
       "      <td>1</td>\n",
       "      <td>999</td>\n",
       "      <td>0</td>\n",
       "      <td>1.1</td>\n",
       "      <td>93.994</td>\n",
       "      <td>-36.4</td>\n",
       "      <td>4.857</td>\n",
       "      <td>5191.0</td>\n",
       "    </tr>\n",
       "    <tr>\n",
       "      <th>4</th>\n",
       "      <td>56</td>\n",
       "      <td>1</td>\n",
       "      <td>999</td>\n",
       "      <td>0</td>\n",
       "      <td>1.1</td>\n",
       "      <td>93.994</td>\n",
       "      <td>-36.4</td>\n",
       "      <td>4.857</td>\n",
       "      <td>5191.0</td>\n",
       "    </tr>\n",
       "  </tbody>\n",
       "</table>\n",
       "</div>"
      ],
      "text/plain": [
       "   age  campaign  pdays  previous  emp.var.rate  cons.price.idx  \\\n",
       "0   56         1    999         0           1.1          93.994   \n",
       "1   57         1    999         0           1.1          93.994   \n",
       "2   37         1    999         0           1.1          93.994   \n",
       "3   40         1    999         0           1.1          93.994   \n",
       "4   56         1    999         0           1.1          93.994   \n",
       "\n",
       "   cons.conf.idx  euribor3m  nr.employed  \n",
       "0          -36.4      4.857       5191.0  \n",
       "1          -36.4      4.857       5191.0  \n",
       "2          -36.4      4.857       5191.0  \n",
       "3          -36.4      4.857       5191.0  \n",
       "4          -36.4      4.857       5191.0  "
      ]
     },
     "execution_count": 33,
     "metadata": {},
     "output_type": "execute_result"
    }
   ],
   "source": [
    "# list of numerical variables\n",
    "num_features = [feature for feature in data.columns if data[feature].dtypes != 'O']\n",
    "\n",
    "print('Number of numerical variables: ', len(num_features))\n",
    "\n",
    "# visualise the numerical variables\n",
    "data[num_features].head()"
   ]
  },
  {
   "cell_type": "markdown",
   "id": "da85aa19",
   "metadata": {},
   "source": [
    "# Modelling"
   ]
  },
  {
   "cell_type": "code",
   "execution_count": 34,
   "id": "c1a7decb",
   "metadata": {},
   "outputs": [
    {
     "name": "stdout",
     "output_type": "stream",
     "text": [
      "32950 8238\n"
     ]
    }
   ],
   "source": [
    "train_set, test_set = train_test_split(data, test_size=0.2, random_state=50, stratify= data['y'] )  \n",
    "# by setting a random_state above, we make sure anytime we run this line we end up with the same train and test sets\n",
    "print(len(train_set), len(test_set))"
   ]
  },
  {
   "cell_type": "code",
   "execution_count": 133,
   "id": "9232bc03",
   "metadata": {},
   "outputs": [],
   "source": [
    "df = train_set.copy()\n",
    "# Separate features from outcomes\n",
    "y_df = df['y'].copy()\n",
    "y_df = pd.get_dummies(y_df, columns=['y'],drop_first=True)\n",
    "y = y_df.rename(columns={'yes': 'y'})\n",
    "X_df = df.copy().drop(['y'],axis = 1)"
   ]
  },
  {
   "cell_type": "code",
   "execution_count": 134,
   "id": "6bcb4a8e",
   "metadata": {},
   "outputs": [
    {
     "data": {
      "text/html": [
       "<div>\n",
       "<style scoped>\n",
       "    .dataframe tbody tr th:only-of-type {\n",
       "        vertical-align: middle;\n",
       "    }\n",
       "\n",
       "    .dataframe tbody tr th {\n",
       "        vertical-align: top;\n",
       "    }\n",
       "\n",
       "    .dataframe thead th {\n",
       "        text-align: right;\n",
       "    }\n",
       "</style>\n",
       "<table border=\"1\" class=\"dataframe\">\n",
       "  <thead>\n",
       "    <tr style=\"text-align: right;\">\n",
       "      <th></th>\n",
       "      <th>y</th>\n",
       "    </tr>\n",
       "  </thead>\n",
       "  <tbody>\n",
       "    <tr>\n",
       "      <th>38445</th>\n",
       "      <td>1</td>\n",
       "    </tr>\n",
       "    <tr>\n",
       "      <th>17713</th>\n",
       "      <td>0</td>\n",
       "    </tr>\n",
       "    <tr>\n",
       "      <th>30309</th>\n",
       "      <td>1</td>\n",
       "    </tr>\n",
       "    <tr>\n",
       "      <th>25951</th>\n",
       "      <td>0</td>\n",
       "    </tr>\n",
       "    <tr>\n",
       "      <th>29064</th>\n",
       "      <td>0</td>\n",
       "    </tr>\n",
       "    <tr>\n",
       "      <th>...</th>\n",
       "      <td>...</td>\n",
       "    </tr>\n",
       "    <tr>\n",
       "      <th>11470</th>\n",
       "      <td>0</td>\n",
       "    </tr>\n",
       "    <tr>\n",
       "      <th>18260</th>\n",
       "      <td>1</td>\n",
       "    </tr>\n",
       "    <tr>\n",
       "      <th>141</th>\n",
       "      <td>0</td>\n",
       "    </tr>\n",
       "    <tr>\n",
       "      <th>19789</th>\n",
       "      <td>0</td>\n",
       "    </tr>\n",
       "    <tr>\n",
       "      <th>7742</th>\n",
       "      <td>0</td>\n",
       "    </tr>\n",
       "  </tbody>\n",
       "</table>\n",
       "<p>32950 rows × 1 columns</p>\n",
       "</div>"
      ],
      "text/plain": [
       "       y\n",
       "38445  1\n",
       "17713  0\n",
       "30309  1\n",
       "25951  0\n",
       "29064  0\n",
       "...   ..\n",
       "11470  0\n",
       "18260  1\n",
       "141    0\n",
       "19789  0\n",
       "7742   0\n",
       "\n",
       "[32950 rows x 1 columns]"
      ]
     },
     "execution_count": 134,
     "metadata": {},
     "output_type": "execute_result"
    }
   ],
   "source": [
    "y"
   ]
  },
  {
   "cell_type": "code",
   "execution_count": 37,
   "id": "790f18fd",
   "metadata": {},
   "outputs": [],
   "source": [
    "num_features = [feature for feature in X_df.columns if X_df[feature].dtypes != 'O']"
   ]
  },
  {
   "cell_type": "code",
   "execution_count": 38,
   "id": "32add93f",
   "metadata": {},
   "outputs": [],
   "source": [
    "cat_features = [feature for feature in X_df.columns if X_df[feature].dtype == 'O']"
   ]
  },
  {
   "cell_type": "code",
   "execution_count": 39,
   "id": "987d44d7",
   "metadata": {},
   "outputs": [
    {
     "data": {
      "text/plain": [
       "['age',\n",
       " 'campaign',\n",
       " 'pdays',\n",
       " 'previous',\n",
       " 'emp.var.rate',\n",
       " 'cons.price.idx',\n",
       " 'cons.conf.idx',\n",
       " 'euribor3m',\n",
       " 'nr.employed']"
      ]
     },
     "execution_count": 39,
     "metadata": {},
     "output_type": "execute_result"
    }
   ],
   "source": [
    "num_features"
   ]
  },
  {
   "cell_type": "code",
   "execution_count": 40,
   "id": "f5bf8bd4",
   "metadata": {
    "scrolled": true
   },
   "outputs": [
    {
     "data": {
      "text/plain": [
       "['job',\n",
       " 'marital',\n",
       " 'education',\n",
       " 'default',\n",
       " 'housing',\n",
       " 'loan',\n",
       " 'contact',\n",
       " 'month',\n",
       " 'day_of_week',\n",
       " 'poutcome']"
      ]
     },
     "execution_count": 40,
     "metadata": {},
     "output_type": "execute_result"
    }
   ],
   "source": [
    "cat_features"
   ]
  },
  {
   "cell_type": "code",
   "execution_count": 41,
   "id": "11ca569b",
   "metadata": {},
   "outputs": [
    {
     "data": {
      "text/plain": [
       "(32950, 52)"
      ]
     },
     "execution_count": 41,
     "metadata": {},
     "output_type": "execute_result"
    }
   ],
   "source": [
    "encoder = OneHotEncoderCategoricalFeatures(cat_features)\n",
    "X_oho = encoder.transform(X_df)\n",
    "X_oho.shape"
   ]
  },
  {
   "cell_type": "code",
   "execution_count": 42,
   "id": "37312984",
   "metadata": {},
   "outputs": [
    {
     "data": {
      "text/html": [
       "<div>\n",
       "<style scoped>\n",
       "    .dataframe tbody tr th:only-of-type {\n",
       "        vertical-align: middle;\n",
       "    }\n",
       "\n",
       "    .dataframe tbody tr th {\n",
       "        vertical-align: top;\n",
       "    }\n",
       "\n",
       "    .dataframe thead th {\n",
       "        text-align: right;\n",
       "    }\n",
       "</style>\n",
       "<table border=\"1\" class=\"dataframe\">\n",
       "  <thead>\n",
       "    <tr style=\"text-align: right;\">\n",
       "      <th></th>\n",
       "      <th>age</th>\n",
       "      <th>campaign</th>\n",
       "      <th>pdays</th>\n",
       "      <th>previous</th>\n",
       "      <th>emp.var.rate</th>\n",
       "      <th>cons.price.idx</th>\n",
       "      <th>cons.conf.idx</th>\n",
       "      <th>euribor3m</th>\n",
       "      <th>nr.employed</th>\n",
       "      <th>job_blue-collar</th>\n",
       "      <th>...</th>\n",
       "      <th>month_may</th>\n",
       "      <th>month_nov</th>\n",
       "      <th>month_oct</th>\n",
       "      <th>month_sep</th>\n",
       "      <th>day_of_week_mon</th>\n",
       "      <th>day_of_week_thu</th>\n",
       "      <th>day_of_week_tue</th>\n",
       "      <th>day_of_week_wed</th>\n",
       "      <th>poutcome_nonexistent</th>\n",
       "      <th>poutcome_success</th>\n",
       "    </tr>\n",
       "  </thead>\n",
       "  <tbody>\n",
       "    <tr>\n",
       "      <th>38445</th>\n",
       "      <td>22</td>\n",
       "      <td>3</td>\n",
       "      <td>6</td>\n",
       "      <td>1</td>\n",
       "      <td>-3.4</td>\n",
       "      <td>92.431</td>\n",
       "      <td>-26.9</td>\n",
       "      <td>0.730</td>\n",
       "      <td>5017.5</td>\n",
       "      <td>0</td>\n",
       "      <td>...</td>\n",
       "      <td>0</td>\n",
       "      <td>0</td>\n",
       "      <td>1</td>\n",
       "      <td>0</td>\n",
       "      <td>0</td>\n",
       "      <td>0</td>\n",
       "      <td>0</td>\n",
       "      <td>0</td>\n",
       "      <td>0</td>\n",
       "      <td>1</td>\n",
       "    </tr>\n",
       "    <tr>\n",
       "      <th>17713</th>\n",
       "      <td>36</td>\n",
       "      <td>1</td>\n",
       "      <td>999</td>\n",
       "      <td>0</td>\n",
       "      <td>1.4</td>\n",
       "      <td>93.918</td>\n",
       "      <td>-42.7</td>\n",
       "      <td>4.961</td>\n",
       "      <td>5228.1</td>\n",
       "      <td>0</td>\n",
       "      <td>...</td>\n",
       "      <td>0</td>\n",
       "      <td>0</td>\n",
       "      <td>0</td>\n",
       "      <td>0</td>\n",
       "      <td>0</td>\n",
       "      <td>0</td>\n",
       "      <td>1</td>\n",
       "      <td>0</td>\n",
       "      <td>1</td>\n",
       "      <td>0</td>\n",
       "    </tr>\n",
       "    <tr>\n",
       "      <th>30309</th>\n",
       "      <td>37</td>\n",
       "      <td>1</td>\n",
       "      <td>999</td>\n",
       "      <td>0</td>\n",
       "      <td>-1.8</td>\n",
       "      <td>93.075</td>\n",
       "      <td>-47.1</td>\n",
       "      <td>1.365</td>\n",
       "      <td>5099.1</td>\n",
       "      <td>0</td>\n",
       "      <td>...</td>\n",
       "      <td>0</td>\n",
       "      <td>0</td>\n",
       "      <td>0</td>\n",
       "      <td>0</td>\n",
       "      <td>0</td>\n",
       "      <td>1</td>\n",
       "      <td>0</td>\n",
       "      <td>0</td>\n",
       "      <td>1</td>\n",
       "      <td>0</td>\n",
       "    </tr>\n",
       "    <tr>\n",
       "      <th>25951</th>\n",
       "      <td>38</td>\n",
       "      <td>2</td>\n",
       "      <td>999</td>\n",
       "      <td>0</td>\n",
       "      <td>-0.1</td>\n",
       "      <td>93.200</td>\n",
       "      <td>-42.0</td>\n",
       "      <td>4.120</td>\n",
       "      <td>5195.8</td>\n",
       "      <td>0</td>\n",
       "      <td>...</td>\n",
       "      <td>0</td>\n",
       "      <td>1</td>\n",
       "      <td>0</td>\n",
       "      <td>0</td>\n",
       "      <td>0</td>\n",
       "      <td>0</td>\n",
       "      <td>0</td>\n",
       "      <td>1</td>\n",
       "      <td>1</td>\n",
       "      <td>0</td>\n",
       "    </tr>\n",
       "    <tr>\n",
       "      <th>29064</th>\n",
       "      <td>41</td>\n",
       "      <td>3</td>\n",
       "      <td>999</td>\n",
       "      <td>0</td>\n",
       "      <td>-1.8</td>\n",
       "      <td>93.075</td>\n",
       "      <td>-47.1</td>\n",
       "      <td>1.405</td>\n",
       "      <td>5099.1</td>\n",
       "      <td>0</td>\n",
       "      <td>...</td>\n",
       "      <td>0</td>\n",
       "      <td>0</td>\n",
       "      <td>0</td>\n",
       "      <td>0</td>\n",
       "      <td>0</td>\n",
       "      <td>0</td>\n",
       "      <td>0</td>\n",
       "      <td>0</td>\n",
       "      <td>1</td>\n",
       "      <td>0</td>\n",
       "    </tr>\n",
       "    <tr>\n",
       "      <th>...</th>\n",
       "      <td>...</td>\n",
       "      <td>...</td>\n",
       "      <td>...</td>\n",
       "      <td>...</td>\n",
       "      <td>...</td>\n",
       "      <td>...</td>\n",
       "      <td>...</td>\n",
       "      <td>...</td>\n",
       "      <td>...</td>\n",
       "      <td>...</td>\n",
       "      <td>...</td>\n",
       "      <td>...</td>\n",
       "      <td>...</td>\n",
       "      <td>...</td>\n",
       "      <td>...</td>\n",
       "      <td>...</td>\n",
       "      <td>...</td>\n",
       "      <td>...</td>\n",
       "      <td>...</td>\n",
       "      <td>...</td>\n",
       "      <td>...</td>\n",
       "    </tr>\n",
       "    <tr>\n",
       "      <th>11470</th>\n",
       "      <td>37</td>\n",
       "      <td>1</td>\n",
       "      <td>999</td>\n",
       "      <td>0</td>\n",
       "      <td>1.4</td>\n",
       "      <td>94.465</td>\n",
       "      <td>-41.8</td>\n",
       "      <td>4.959</td>\n",
       "      <td>5228.1</td>\n",
       "      <td>0</td>\n",
       "      <td>...</td>\n",
       "      <td>0</td>\n",
       "      <td>0</td>\n",
       "      <td>0</td>\n",
       "      <td>0</td>\n",
       "      <td>0</td>\n",
       "      <td>0</td>\n",
       "      <td>0</td>\n",
       "      <td>0</td>\n",
       "      <td>1</td>\n",
       "      <td>0</td>\n",
       "    </tr>\n",
       "    <tr>\n",
       "      <th>18260</th>\n",
       "      <td>43</td>\n",
       "      <td>4</td>\n",
       "      <td>999</td>\n",
       "      <td>0</td>\n",
       "      <td>1.4</td>\n",
       "      <td>93.918</td>\n",
       "      <td>-42.7</td>\n",
       "      <td>4.963</td>\n",
       "      <td>5228.1</td>\n",
       "      <td>0</td>\n",
       "      <td>...</td>\n",
       "      <td>0</td>\n",
       "      <td>0</td>\n",
       "      <td>0</td>\n",
       "      <td>0</td>\n",
       "      <td>0</td>\n",
       "      <td>0</td>\n",
       "      <td>0</td>\n",
       "      <td>1</td>\n",
       "      <td>1</td>\n",
       "      <td>0</td>\n",
       "    </tr>\n",
       "    <tr>\n",
       "      <th>141</th>\n",
       "      <td>56</td>\n",
       "      <td>1</td>\n",
       "      <td>999</td>\n",
       "      <td>0</td>\n",
       "      <td>1.1</td>\n",
       "      <td>93.994</td>\n",
       "      <td>-36.4</td>\n",
       "      <td>4.857</td>\n",
       "      <td>5191.0</td>\n",
       "      <td>0</td>\n",
       "      <td>...</td>\n",
       "      <td>1</td>\n",
       "      <td>0</td>\n",
       "      <td>0</td>\n",
       "      <td>0</td>\n",
       "      <td>1</td>\n",
       "      <td>0</td>\n",
       "      <td>0</td>\n",
       "      <td>0</td>\n",
       "      <td>1</td>\n",
       "      <td>0</td>\n",
       "    </tr>\n",
       "    <tr>\n",
       "      <th>19789</th>\n",
       "      <td>47</td>\n",
       "      <td>1</td>\n",
       "      <td>999</td>\n",
       "      <td>0</td>\n",
       "      <td>1.4</td>\n",
       "      <td>93.444</td>\n",
       "      <td>-36.1</td>\n",
       "      <td>4.966</td>\n",
       "      <td>5228.1</td>\n",
       "      <td>0</td>\n",
       "      <td>...</td>\n",
       "      <td>0</td>\n",
       "      <td>0</td>\n",
       "      <td>0</td>\n",
       "      <td>0</td>\n",
       "      <td>0</td>\n",
       "      <td>0</td>\n",
       "      <td>0</td>\n",
       "      <td>0</td>\n",
       "      <td>1</td>\n",
       "      <td>0</td>\n",
       "    </tr>\n",
       "    <tr>\n",
       "      <th>7742</th>\n",
       "      <td>33</td>\n",
       "      <td>7</td>\n",
       "      <td>999</td>\n",
       "      <td>0</td>\n",
       "      <td>1.1</td>\n",
       "      <td>93.994</td>\n",
       "      <td>-36.4</td>\n",
       "      <td>4.864</td>\n",
       "      <td>5191.0</td>\n",
       "      <td>0</td>\n",
       "      <td>...</td>\n",
       "      <td>1</td>\n",
       "      <td>0</td>\n",
       "      <td>0</td>\n",
       "      <td>0</td>\n",
       "      <td>0</td>\n",
       "      <td>0</td>\n",
       "      <td>0</td>\n",
       "      <td>0</td>\n",
       "      <td>1</td>\n",
       "      <td>0</td>\n",
       "    </tr>\n",
       "  </tbody>\n",
       "</table>\n",
       "<p>32950 rows × 52 columns</p>\n",
       "</div>"
      ],
      "text/plain": [
       "       age  campaign  pdays  previous  emp.var.rate  cons.price.idx  \\\n",
       "38445   22         3      6         1          -3.4          92.431   \n",
       "17713   36         1    999         0           1.4          93.918   \n",
       "30309   37         1    999         0          -1.8          93.075   \n",
       "25951   38         2    999         0          -0.1          93.200   \n",
       "29064   41         3    999         0          -1.8          93.075   \n",
       "...    ...       ...    ...       ...           ...             ...   \n",
       "11470   37         1    999         0           1.4          94.465   \n",
       "18260   43         4    999         0           1.4          93.918   \n",
       "141     56         1    999         0           1.1          93.994   \n",
       "19789   47         1    999         0           1.4          93.444   \n",
       "7742    33         7    999         0           1.1          93.994   \n",
       "\n",
       "       cons.conf.idx  euribor3m  nr.employed  job_blue-collar  ...  month_may  \\\n",
       "38445          -26.9      0.730       5017.5                0  ...          0   \n",
       "17713          -42.7      4.961       5228.1                0  ...          0   \n",
       "30309          -47.1      1.365       5099.1                0  ...          0   \n",
       "25951          -42.0      4.120       5195.8                0  ...          0   \n",
       "29064          -47.1      1.405       5099.1                0  ...          0   \n",
       "...              ...        ...          ...              ...  ...        ...   \n",
       "11470          -41.8      4.959       5228.1                0  ...          0   \n",
       "18260          -42.7      4.963       5228.1                0  ...          0   \n",
       "141            -36.4      4.857       5191.0                0  ...          1   \n",
       "19789          -36.1      4.966       5228.1                0  ...          0   \n",
       "7742           -36.4      4.864       5191.0                0  ...          1   \n",
       "\n",
       "       month_nov  month_oct  month_sep  day_of_week_mon  day_of_week_thu  \\\n",
       "38445          0          1          0                0                0   \n",
       "17713          0          0          0                0                0   \n",
       "30309          0          0          0                0                1   \n",
       "25951          1          0          0                0                0   \n",
       "29064          0          0          0                0                0   \n",
       "...          ...        ...        ...              ...              ...   \n",
       "11470          0          0          0                0                0   \n",
       "18260          0          0          0                0                0   \n",
       "141            0          0          0                1                0   \n",
       "19789          0          0          0                0                0   \n",
       "7742           0          0          0                0                0   \n",
       "\n",
       "       day_of_week_tue  day_of_week_wed  poutcome_nonexistent  \\\n",
       "38445                0                0                     0   \n",
       "17713                1                0                     1   \n",
       "30309                0                0                     1   \n",
       "25951                0                1                     1   \n",
       "29064                0                0                     1   \n",
       "...                ...              ...                   ...   \n",
       "11470                0                0                     1   \n",
       "18260                0                1                     1   \n",
       "141                  0                0                     1   \n",
       "19789                0                0                     1   \n",
       "7742                 0                0                     1   \n",
       "\n",
       "       poutcome_success  \n",
       "38445                 1  \n",
       "17713                 0  \n",
       "30309                 0  \n",
       "25951                 0  \n",
       "29064                 0  \n",
       "...                 ...  \n",
       "11470                 0  \n",
       "18260                 0  \n",
       "141                   0  \n",
       "19789                 0  \n",
       "7742                  0  \n",
       "\n",
       "[32950 rows x 52 columns]"
      ]
     },
     "execution_count": 42,
     "metadata": {},
     "output_type": "execute_result"
    }
   ],
   "source": [
    "X_oho"
   ]
  },
  {
   "cell_type": "code",
   "execution_count": 43,
   "id": "cbc03bbe",
   "metadata": {},
   "outputs": [
    {
     "data": {
      "text/plain": [
       "(32950, 62)"
      ]
     },
     "execution_count": 43,
     "metadata": {},
     "output_type": "execute_result"
    }
   ],
   "source": [
    "colTransformer = ColumnTransformer([\n",
    "    ('num', StandardScaler(), num_features),\n",
    "    ('cat', OneHotEncoder(), cat_features)\n",
    "    ],\n",
    "    remainder='passthrough'  # i.e., leave the rest of the columns untouched -- otherwise, they're dropped\n",
    "    )\n",
    "\n",
    "X_processed = colTransformer.fit_transform(X_df)\n",
    "X_processed.shape"
   ]
  },
  {
   "cell_type": "code",
   "execution_count": 44,
   "id": "af0db4a8",
   "metadata": {
    "scrolled": true
   },
   "outputs": [
    {
     "data": {
      "text/plain": [
       "array([[-1.72917814,  0.15624845, -5.17551625, ...,  0.        ,\n",
       "         0.        ,  1.        ],\n",
       "       [-0.38548747, -0.56704269,  0.19322861, ...,  0.        ,\n",
       "         1.        ,  0.        ],\n",
       "       [-0.28950956, -0.56704269,  0.19322861, ...,  0.        ,\n",
       "         1.        ,  0.        ],\n",
       "       ...,\n",
       "       [ 1.53407064, -0.56704269,  0.19322861, ...,  0.        ,\n",
       "         1.        ,  0.        ],\n",
       "       [ 0.67026949, -0.56704269,  0.19322861, ...,  0.        ,\n",
       "         1.        ,  0.        ],\n",
       "       [-0.67342118,  1.60283073,  0.19322861, ...,  0.        ,\n",
       "         1.        ,  0.        ]])"
      ]
     },
     "execution_count": 44,
     "metadata": {},
     "output_type": "execute_result"
    }
   ],
   "source": [
    "X_processed"
   ]
  },
  {
   "cell_type": "code",
   "execution_count": 45,
   "id": "cf606495",
   "metadata": {},
   "outputs": [
    {
     "data": {
      "text/plain": [
       "array([[1],\n",
       "       [0],\n",
       "       [1],\n",
       "       ...,\n",
       "       [0],\n",
       "       [0],\n",
       "       [0]], dtype=uint8)"
      ]
     },
     "execution_count": 45,
     "metadata": {},
     "output_type": "execute_result"
    }
   ],
   "source": [
    "y.values"
   ]
  },
  {
   "cell_type": "code",
   "execution_count": 46,
   "id": "f52bf143",
   "metadata": {},
   "outputs": [
    {
     "name": "stdout",
     "output_type": "stream",
     "text": [
      "['accuracy', 'adjusted_mutual_info_score', 'adjusted_rand_score', 'average_precision', 'balanced_accuracy', 'completeness_score', 'explained_variance', 'f1', 'f1_macro', 'f1_micro', 'f1_samples', 'f1_weighted', 'fowlkes_mallows_score', 'homogeneity_score', 'jaccard', 'jaccard_macro', 'jaccard_micro', 'jaccard_samples', 'jaccard_weighted', 'max_error', 'mutual_info_score', 'neg_brier_score', 'neg_log_loss', 'neg_mean_absolute_error', 'neg_mean_absolute_percentage_error', 'neg_mean_gamma_deviance', 'neg_mean_poisson_deviance', 'neg_mean_squared_error', 'neg_mean_squared_log_error', 'neg_median_absolute_error', 'neg_root_mean_squared_error', 'normalized_mutual_info_score', 'precision', 'precision_macro', 'precision_micro', 'precision_samples', 'precision_weighted', 'r2', 'rand_score', 'recall', 'recall_macro', 'recall_micro', 'recall_samples', 'recall_weighted', 'roc_auc', 'roc_auc_ovo', 'roc_auc_ovo_weighted', 'roc_auc_ovr', 'roc_auc_ovr_weighted', 'top_k_accuracy', 'v_measure_score']\n"
     ]
    }
   ],
   "source": [
    "print(sorted(SCORERS.keys()))"
   ]
  },
  {
   "cell_type": "code",
   "execution_count": 47,
   "id": "ac9f599f",
   "metadata": {},
   "outputs": [
    {
     "name": "stdout",
     "output_type": "stream",
     "text": [
      "Dummy ACC: 0.12\n"
     ]
    }
   ],
   "source": [
    "dummy_clf = DummyClassifier(strategy='stratified')\n",
    "dummy_clf.fit(X_processed, y)\n",
    "print(\"Dummy ACC: %.2f\" % f1_score(y, dummy_clf.predict(X_processed)))"
   ]
  },
  {
   "cell_type": "markdown",
   "id": "0389410b",
   "metadata": {},
   "source": [
    "The below code gives the RFC score"
   ]
  },
  {
   "cell_type": "code",
   "execution_count": 129,
   "id": "08276357",
   "metadata": {},
   "outputs": [
    {
     "name": "stdout",
     "output_type": "stream",
     "text": [
      "ACC: 0.28 +/- 0.04\n"
     ]
    }
   ],
   "source": [
    "clf = RandomForestClassifier(n_estimators=600, max_depth=5, random_state=50)\n",
    "scores = cross_val_score(clf, X_processed, y, cv=10, scoring=make_scorer(f1_score))  # cross-validation\n",
    "print(\"ACC: %.2f +/- %.2f\" % (scores.mean(), scores.std()))"
   ]
  },
  {
   "cell_type": "code",
   "execution_count": null,
   "id": "467faea3",
   "metadata": {},
   "outputs": [],
   "source": []
  },
  {
   "cell_type": "code",
   "execution_count": 116,
   "id": "e9164c44",
   "metadata": {},
   "outputs": [],
   "source": [
    " #Randomized Search CV\n",
    "\n",
    "# Number of trees in random forest\n",
    "n_estimators = [int(x) for x in np.linspace(start = 50, stop = 1200, num = 24)]\n",
    "# Maximum number of levels in tree\n",
    "max_depth = [int(x) for x in np.linspace(1, 20, num = 20)]\n",
    "\n"
   ]
  },
  {
   "cell_type": "code",
   "execution_count": 117,
   "id": "d9480d32",
   "metadata": {},
   "outputs": [
    {
     "name": "stdout",
     "output_type": "stream",
     "text": [
      "{'n_estimators': [50, 100, 150, 200, 250, 300, 350, 400, 450, 500, 550, 600, 650, 700, 750, 800, 850, 900, 950, 1000, 1050, 1100, 1150, 1200], 'max_depth': [1, 2, 3, 4, 5, 6, 7, 8, 9, 10, 11, 12, 13, 14, 15, 16, 17, 18, 19, 20]}\n"
     ]
    }
   ],
   "source": [
    "# Create the random grid\n",
    "random_grid = {'n_estimators': n_estimators,\n",
    "               'max_depth': max_depth}\n",
    "\n",
    "print(random_grid)"
   ]
  },
  {
   "cell_type": "code",
   "execution_count": null,
   "id": "bcb89258",
   "metadata": {},
   "outputs": [],
   "source": []
  },
  {
   "cell_type": "code",
   "execution_count": 118,
   "id": "3b2d5ef4",
   "metadata": {},
   "outputs": [],
   "source": [
    "# Use the random grid to search for best hyperparameters\n",
    "# First create the base model to tune\n",
    "rf = RandomForestClassifier()\n",
    "# Random search of parameters, using 3 fold cross validation, \n",
    "# search across 100 different combinations\n",
    "rf_random = RandomizedSearchCV(estimator = rf, param_distributions=random_grid, scoring=f1_score, n_iter = 10, cv = 10, verbose=2, random_state=50, n_jobs = 1)\n",
    "\n"
   ]
  },
  {
   "cell_type": "code",
   "execution_count": 119,
   "id": "819f05a7",
   "metadata": {},
   "outputs": [
    {
     "name": "stdout",
     "output_type": "stream",
     "text": [
      "Fitting 10 folds for each of 10 candidates, totalling 100 fits\n",
      "[CV] END ......................max_depth=5, n_estimators=600; total time=   5.5s\n",
      "[CV] END ......................max_depth=5, n_estimators=600; total time=   5.5s\n",
      "[CV] END ......................max_depth=5, n_estimators=600; total time=   5.4s\n",
      "[CV] END ......................max_depth=5, n_estimators=600; total time=   5.5s\n",
      "[CV] END ......................max_depth=5, n_estimators=600; total time=   5.8s\n",
      "[CV] END ......................max_depth=5, n_estimators=600; total time=   5.9s\n",
      "[CV] END ......................max_depth=5, n_estimators=600; total time=   5.7s\n",
      "[CV] END ......................max_depth=5, n_estimators=600; total time=   5.7s\n",
      "[CV] END ......................max_depth=5, n_estimators=600; total time=   5.6s\n",
      "[CV] END ......................max_depth=5, n_estimators=600; total time=   5.7s\n",
      "[CV] END .....................max_depth=2, n_estimators=1150; total time=   7.2s\n",
      "[CV] END .....................max_depth=2, n_estimators=1150; total time=   6.6s\n",
      "[CV] END .....................max_depth=2, n_estimators=1150; total time=   7.1s\n",
      "[CV] END .....................max_depth=2, n_estimators=1150; total time=   6.8s\n",
      "[CV] END .....................max_depth=2, n_estimators=1150; total time=   6.7s\n",
      "[CV] END .....................max_depth=2, n_estimators=1150; total time=   6.9s\n",
      "[CV] END .....................max_depth=2, n_estimators=1150; total time=   6.9s\n",
      "[CV] END .....................max_depth=2, n_estimators=1150; total time=   6.9s\n",
      "[CV] END .....................max_depth=2, n_estimators=1150; total time=   7.0s\n",
      "[CV] END .....................max_depth=2, n_estimators=1150; total time=   6.8s\n",
      "[CV] END .....................max_depth=15, n_estimators=600; total time=  11.9s\n",
      "[CV] END .....................max_depth=15, n_estimators=600; total time=  11.8s\n",
      "[CV] END .....................max_depth=15, n_estimators=600; total time=  11.7s\n",
      "[CV] END .....................max_depth=15, n_estimators=600; total time=  11.8s\n",
      "[CV] END .....................max_depth=15, n_estimators=600; total time=  11.5s\n",
      "[CV] END .....................max_depth=15, n_estimators=600; total time=  11.5s\n",
      "[CV] END .....................max_depth=15, n_estimators=600; total time=  11.5s\n",
      "[CV] END .....................max_depth=15, n_estimators=600; total time=  11.8s\n",
      "[CV] END .....................max_depth=15, n_estimators=600; total time=  11.6s\n",
      "[CV] END .....................max_depth=15, n_estimators=600; total time=  11.9s\n",
      "[CV] END ......................max_depth=2, n_estimators=950; total time=   5.7s\n",
      "[CV] END ......................max_depth=2, n_estimators=950; total time=   5.8s\n",
      "[CV] END ......................max_depth=2, n_estimators=950; total time=   5.9s\n",
      "[CV] END ......................max_depth=2, n_estimators=950; total time=   5.7s\n",
      "[CV] END ......................max_depth=2, n_estimators=950; total time=   5.5s\n",
      "[CV] END ......................max_depth=2, n_estimators=950; total time=   5.4s\n",
      "[CV] END ......................max_depth=2, n_estimators=950; total time=   5.4s\n",
      "[CV] END ......................max_depth=2, n_estimators=950; total time=   5.4s\n",
      "[CV] END ......................max_depth=2, n_estimators=950; total time=   5.3s\n",
      "[CV] END ......................max_depth=2, n_estimators=950; total time=   5.5s\n",
      "[CV] END ......................max_depth=9, n_estimators=600; total time=   8.0s\n",
      "[CV] END ......................max_depth=9, n_estimators=600; total time=   8.0s\n",
      "[CV] END ......................max_depth=9, n_estimators=600; total time=   8.4s\n",
      "[CV] END ......................max_depth=9, n_estimators=600; total time=   8.5s\n",
      "[CV] END ......................max_depth=9, n_estimators=600; total time=   8.3s\n",
      "[CV] END ......................max_depth=9, n_estimators=600; total time=   8.3s\n",
      "[CV] END ......................max_depth=9, n_estimators=600; total time=   8.4s\n",
      "[CV] END ......................max_depth=9, n_estimators=600; total time=   8.3s\n",
      "[CV] END ......................max_depth=9, n_estimators=600; total time=   8.4s\n",
      "[CV] END ......................max_depth=9, n_estimators=600; total time=   8.2s\n",
      "[CV] END .....................max_depth=20, n_estimators=700; total time=  15.8s\n",
      "[CV] END .....................max_depth=20, n_estimators=700; total time=  15.5s\n",
      "[CV] END .....................max_depth=20, n_estimators=700; total time=  14.9s\n",
      "[CV] END .....................max_depth=20, n_estimators=700; total time=  14.9s\n",
      "[CV] END .....................max_depth=20, n_estimators=700; total time=  14.8s\n",
      "[CV] END .....................max_depth=20, n_estimators=700; total time=  15.1s\n",
      "[CV] END .....................max_depth=20, n_estimators=700; total time=  16.0s\n",
      "[CV] END .....................max_depth=20, n_estimators=700; total time=  16.0s\n",
      "[CV] END .....................max_depth=20, n_estimators=700; total time=  15.6s\n",
      "[CV] END .....................max_depth=20, n_estimators=700; total time=  15.3s\n",
      "[CV] END .....................max_depth=7, n_estimators=1150; total time=  13.5s\n",
      "[CV] END .....................max_depth=7, n_estimators=1150; total time=  13.6s\n",
      "[CV] END .....................max_depth=7, n_estimators=1150; total time=  13.5s\n",
      "[CV] END .....................max_depth=7, n_estimators=1150; total time=  13.2s\n",
      "[CV] END .....................max_depth=7, n_estimators=1150; total time=  13.2s\n",
      "[CV] END .....................max_depth=7, n_estimators=1150; total time=  13.4s\n",
      "[CV] END .....................max_depth=7, n_estimators=1150; total time=  13.6s\n",
      "[CV] END .....................max_depth=7, n_estimators=1150; total time=  13.0s\n",
      "[CV] END .....................max_depth=7, n_estimators=1150; total time=  13.5s\n",
      "[CV] END .....................max_depth=7, n_estimators=1150; total time=  13.5s\n",
      "[CV] END .......................max_depth=6, n_estimators=50; total time=   0.5s\n",
      "[CV] END .......................max_depth=6, n_estimators=50; total time=   0.5s\n",
      "[CV] END .......................max_depth=6, n_estimators=50; total time=   0.5s\n",
      "[CV] END .......................max_depth=6, n_estimators=50; total time=   0.5s\n",
      "[CV] END .......................max_depth=6, n_estimators=50; total time=   0.5s\n",
      "[CV] END .......................max_depth=6, n_estimators=50; total time=   0.5s\n",
      "[CV] END .......................max_depth=6, n_estimators=50; total time=   0.6s\n",
      "[CV] END .......................max_depth=6, n_estimators=50; total time=   0.5s\n",
      "[CV] END .......................max_depth=6, n_estimators=50; total time=   0.5s\n",
      "[CV] END .......................max_depth=6, n_estimators=50; total time=   0.5s\n",
      "[CV] END .....................max_depth=11, n_estimators=400; total time=   6.3s\n",
      "[CV] END .....................max_depth=11, n_estimators=400; total time=   6.6s\n",
      "[CV] END .....................max_depth=11, n_estimators=400; total time=   6.5s\n",
      "[CV] END .....................max_depth=11, n_estimators=400; total time=   6.4s\n",
      "[CV] END .....................max_depth=11, n_estimators=400; total time=   6.6s\n",
      "[CV] END .....................max_depth=11, n_estimators=400; total time=   6.4s\n",
      "[CV] END .....................max_depth=11, n_estimators=400; total time=   6.4s\n",
      "[CV] END .....................max_depth=11, n_estimators=400; total time=   6.4s\n",
      "[CV] END .....................max_depth=11, n_estimators=400; total time=   6.4s\n",
      "[CV] END .....................max_depth=11, n_estimators=400; total time=   6.3s\n",
      "[CV] END ......................max_depth=7, n_estimators=100; total time=   1.2s\n",
      "[CV] END ......................max_depth=7, n_estimators=100; total time=   1.2s\n",
      "[CV] END ......................max_depth=7, n_estimators=100; total time=   1.2s\n",
      "[CV] END ......................max_depth=7, n_estimators=100; total time=   1.2s\n",
      "[CV] END ......................max_depth=7, n_estimators=100; total time=   1.2s\n",
      "[CV] END ......................max_depth=7, n_estimators=100; total time=   1.2s\n",
      "[CV] END ......................max_depth=7, n_estimators=100; total time=   1.2s\n",
      "[CV] END ......................max_depth=7, n_estimators=100; total time=   1.2s\n",
      "[CV] END ......................max_depth=7, n_estimators=100; total time=   1.2s\n",
      "[CV] END ......................max_depth=7, n_estimators=100; total time=   1.2s\n"
     ]
    },
    {
     "data": {
      "text/plain": [
       "RandomizedSearchCV(cv=10, estimator=RandomForestClassifier(), n_jobs=1,\n",
       "                   param_distributions={'max_depth': [1, 2, 3, 4, 5, 6, 7, 8, 9,\n",
       "                                                      10, 11, 12, 13, 14, 15,\n",
       "                                                      16, 17, 18, 19, 20],\n",
       "                                        'n_estimators': [50, 100, 150, 200, 250,\n",
       "                                                         300, 350, 400, 450,\n",
       "                                                         500, 550, 600, 650,\n",
       "                                                         700, 750, 800, 850,\n",
       "                                                         900, 950, 1000, 1050,\n",
       "                                                         1100, 1150, 1200]},\n",
       "                   random_state=50, scoring=<function f1_score at 0x12a9b8790>,\n",
       "                   verbose=2)"
      ]
     },
     "execution_count": 119,
     "metadata": {},
     "output_type": "execute_result"
    }
   ],
   "source": [
    "rf_random.fit(X_processed, y)"
   ]
  },
  {
   "cell_type": "code",
   "execution_count": null,
   "id": "b533708a",
   "metadata": {},
   "outputs": [],
   "source": [
    "#after gridsearch check. rfc with best estimators"
   ]
  },
  {
   "cell_type": "code",
   "execution_count": 130,
   "id": "ec4eb145",
   "metadata": {},
   "outputs": [
    {
     "data": {
      "text/plain": [
       "{'n_estimators': 600, 'max_depth': 5}"
      ]
     },
     "execution_count": 130,
     "metadata": {},
     "output_type": "execute_result"
    }
   ],
   "source": [
    "rf_random.best_params_"
   ]
  },
  {
   "cell_type": "code",
   "execution_count": 131,
   "id": "12ffc937",
   "metadata": {},
   "outputs": [
    {
     "data": {
      "text/plain": [
       "RandomForestClassifier(max_depth=5, n_estimators=600)"
      ]
     },
     "execution_count": 131,
     "metadata": {},
     "output_type": "execute_result"
    }
   ],
   "source": [
    "rf_random.best_estimator_"
   ]
  },
  {
   "cell_type": "code",
   "execution_count": 132,
   "id": "e03d386c",
   "metadata": {},
   "outputs": [
    {
     "name": "stdout",
     "output_type": "stream",
     "text": [
      "ACC: 0.28 +/- 0.04\n"
     ]
    }
   ],
   "source": [
    "clf = rf_random.best_estimator_\n",
    "scores = cross_val_score(clf, X_processed, y, cv=10, scoring=make_scorer(f1_score))  # cross-validation\n",
    "print(\"ACC: %.2f +/- %.2f\" % (scores.mean(), scores.std()))"
   ]
  },
  {
   "cell_type": "code",
   "execution_count": null,
   "id": "f7d0a848",
   "metadata": {},
   "outputs": [],
   "source": []
  },
  {
   "cell_type": "code",
   "execution_count": null,
   "id": "aefdd14f",
   "metadata": {},
   "outputs": [],
   "source": []
  },
  {
   "cell_type": "markdown",
   "id": "c7045e3e",
   "metadata": {},
   "source": [
    "# FEATURE IMPORTANCE"
   ]
  },
  {
   "cell_type": "code",
   "execution_count": 97,
   "id": "ff6189e0",
   "metadata": {},
   "outputs": [],
   "source": [
    "X = X_processed"
   ]
  },
  {
   "cell_type": "code",
   "execution_count": 105,
   "id": "4a4178a2",
   "metadata": {},
   "outputs": [
    {
     "name": "stdout",
     "output_type": "stream",
     "text": [
      "[ 7  8  2 61  4  0  6  5  1  3 59 60 52 49 43 50 42 55 31 38 36 56 54 23\n",
      " 57 22 44 28 58  9 39 10 14 41 18 30 27 48 17 33 21 34 25 53 16 32 13 26\n",
      " 19 15 51 45 47 12 37 40 11 20 46 24 29 35]\n",
      "Feature ranking:\n",
      "1. euribor3m (0.137780)\n",
      "2. nr.employed (0.116927)\n",
      "3. pdays (0.074017)\n",
      "4. success (0.069784)\n",
      "5. emp.var.rate (0.061363)\n",
      "6. age (0.060166)\n",
      "7. cons.conf.idx (0.055543)\n",
      "8. cons.price.idx (0.048979)\n",
      "9. campaign (0.026308)\n",
      "10. previous (0.025351)\n",
      "11. failure (0.016382)\n",
      "12. nonexistent (0.014782)\n",
      "13. oct (0.013438)\n",
      "14. mar (0.012811)\n",
      "15. telephone (0.012810)\n",
      "16. may (0.012357)\n",
      "17. cellular (0.012290)\n",
      "18. mon (0.010371)\n",
      "19. university.degree (0.009047)\n",
      "20. yes (0.008521)\n",
      "21. no (0.008431)\n",
      "22. thu (0.008164)\n",
      "23. fri (0.007796)\n",
      "24. single (0.007611)\n",
      "25. tue (0.007523)\n",
      "26. married (0.007450)\n",
      "27. apr (0.007437)\n",
      "28. high.school (0.007248)\n",
      "29. wed (0.007054)\n",
      "30. admin. (0.006952)\n",
      "31. no (0.006847)\n",
      "32. blue-collar (0.006600)\n",
      "33. retired (0.006250)\n",
      "34. yes (0.006244)\n",
      "35. technician (0.006190)\n",
      "36. professional.course (0.006005)\n",
      "37. basic.9y (0.005529)\n",
      "38. jun (0.005518)\n",
      "39. student (0.005392)\n",
      "40. no (0.005189)\n",
      "41. divorced (0.004945)\n",
      "42. unknown (0.004916)\n",
      "43. basic.4y (0.004759)\n",
      "44. sep (0.004538)\n",
      "45. services (0.004164)\n",
      "46. unknown (0.004158)\n",
      "47. management (0.003956)\n",
      "48. basic.6y (0.003423)\n",
      "49. unemployed (0.003405)\n",
      "50. self-employed (0.003265)\n",
      "51. nov (0.003076)\n",
      "52. aug (0.003003)\n",
      "53. jul (0.003002)\n",
      "54. housemaid (0.002565)\n",
      "55. unknown (0.002528)\n",
      "56. unknown (0.002516)\n",
      "57. entrepreneur (0.002301)\n",
      "58. unknown (0.002204)\n",
      "59. dec (0.001723)\n",
      "60. unknown (0.000804)\n",
      "61. illiterate (0.000294)\n",
      "62. yes (0.000000)\n"
     ]
    },
    {
     "data": {
      "image/png": "[encoded data removed]",
      "text/plain": [
       "<Figure size 3600x2160 with 1 Axes>"
      ]
     },
     "metadata": {
      "needs_background": "light"
     },
     "output_type": "display_data"
    }
   ],
   "source": [
    "# Fit the model\n",
    "clf.fit(X_processed, y)\n",
    "\n",
    "# Let's see the feature importances for our classifier\n",
    "importances = clf.feature_importances_\n",
    "std = np.std([tree.feature_importances_ for tree in clf.estimators_],\n",
    "             axis=0)\n",
    "indices = np.argsort(importances)[::-1]\n",
    "print(indices)\n",
    "# Let's get the attibute names:\n",
    "cat_encoder = colTransformer.named_transformers_['cat']\n",
    "cat_oho_attributes = oho_categories = [item for sublist in cat_encoder.categories_ for item in sublist]\n",
    "feat_names = num_features + cat_oho_attributes\n",
    "\n",
    "# Print the feature ranking\n",
    "print(\"Feature ranking:\")\n",
    "for f in range(X_processed.shape[1]):\n",
    "    print(\"%d. %s (%f)\" % (f + 1, feat_names[indices[f]],  importances[indices[f]]))\n",
    "\n",
    "# Plot the feature importances of the forest\n",
    "fig = plt.figure()\n",
    "plt.title(\"Feature importances\")\n",
    "plt.bar(range(X.shape[1]), importances[indices], color=\"r\", yerr=std[indices], align=\"center\")\n",
    "plt.xticks(range(X.shape[1]), np.array(feat_names)[indices])\n",
    "plt.xlim([-1, X.shape[1]])\n",
    "plt.ylim([0, None])\n",
    "\n",
    "fig.set_size_inches(50, 30)"
   ]
  },
  {
   "cell_type": "code",
   "execution_count": 137,
   "id": "3fe3874a",
   "metadata": {},
   "outputs": [
    {
     "data": {
      "image/png": "[encoded data removed]",
      "text/plain": [
       "<Figure size 2160x1440 with 2 Axes>"
      ]
     },
     "metadata": {
      "needs_background": "light"
     },
     "output_type": "display_data"
    }
   ],
   "source": [
    "import seaborn as sns\n",
    "#Using Pearson Correlation\n",
    "plt.figure(figsize=(30,20))\n",
    "cor = X_df.corr()\n",
    "sns.heatmap(cor, annot=True, cmap=plt.cm.CMRmap_r)\n",
    "plt.show()"
   ]
  },
  {
   "cell_type": "code",
   "execution_count": null,
   "id": "823d4de6",
   "metadata": {},
   "outputs": [],
   "source": []
  },
  {
   "cell_type": "markdown",
   "id": "9c5919fb",
   "metadata": {},
   "source": [
    "# Feature selection"
   ]
  },
  {
   "cell_type": "markdown",
   "id": "7837c8d3",
   "metadata": {},
   "source": [
    "1.euribor3m (0.137780)\n",
    "2. nr.employed (0.116927)\n",
    "3. pdays (0.074017)\n",
    "4. success (0.069784)\n",
    "5. emp.var.rate (0.061363)\n",
    "6. age (0.060166)\n",
    "7. cons.conf.idx (0.055543)\n",
    "8. cons.price.idx (0.048979)\n",
    "9. campaign (0.026308)\n",
    "10. previous "
   ]
  },
  {
   "cell_type": "code",
   "execution_count": 140,
   "id": "ae27c67a",
   "metadata": {},
   "outputs": [],
   "source": [
    "features =['euribor3m','nr.employed','pdays','poutcome','emp.var.rate','age','cons.conf.idx','cons.price.idx','campaign','previous']"
   ]
  },
  {
   "cell_type": "code",
   "execution_count": 147,
   "id": "c9b53808",
   "metadata": {},
   "outputs": [],
   "source": [
    "X_df = df[features]"
   ]
  },
  {
   "cell_type": "code",
   "execution_count": 148,
   "id": "21351526",
   "metadata": {},
   "outputs": [
    {
     "data": {
      "text/html": [
       "<div>\n",
       "<style scoped>\n",
       "    .dataframe tbody tr th:only-of-type {\n",
       "        vertical-align: middle;\n",
       "    }\n",
       "\n",
       "    .dataframe tbody tr th {\n",
       "        vertical-align: top;\n",
       "    }\n",
       "\n",
       "    .dataframe thead th {\n",
       "        text-align: right;\n",
       "    }\n",
       "</style>\n",
       "<table border=\"1\" class=\"dataframe\">\n",
       "  <thead>\n",
       "    <tr style=\"text-align: right;\">\n",
       "      <th></th>\n",
       "      <th>euribor3m</th>\n",
       "      <th>nr.employed</th>\n",
       "      <th>pdays</th>\n",
       "      <th>poutcome</th>\n",
       "      <th>emp.var.rate</th>\n",
       "      <th>age</th>\n",
       "      <th>cons.conf.idx</th>\n",
       "      <th>cons.price.idx</th>\n",
       "      <th>campaign</th>\n",
       "      <th>previous</th>\n",
       "    </tr>\n",
       "  </thead>\n",
       "  <tbody>\n",
       "    <tr>\n",
       "      <th>38445</th>\n",
       "      <td>0.730</td>\n",
       "      <td>5017.5</td>\n",
       "      <td>6</td>\n",
       "      <td>success</td>\n",
       "      <td>-3.4</td>\n",
       "      <td>22</td>\n",
       "      <td>-26.9</td>\n",
       "      <td>92.431</td>\n",
       "      <td>3</td>\n",
       "      <td>1</td>\n",
       "    </tr>\n",
       "    <tr>\n",
       "      <th>17713</th>\n",
       "      <td>4.961</td>\n",
       "      <td>5228.1</td>\n",
       "      <td>999</td>\n",
       "      <td>nonexistent</td>\n",
       "      <td>1.4</td>\n",
       "      <td>36</td>\n",
       "      <td>-42.7</td>\n",
       "      <td>93.918</td>\n",
       "      <td>1</td>\n",
       "      <td>0</td>\n",
       "    </tr>\n",
       "    <tr>\n",
       "      <th>30309</th>\n",
       "      <td>1.365</td>\n",
       "      <td>5099.1</td>\n",
       "      <td>999</td>\n",
       "      <td>nonexistent</td>\n",
       "      <td>-1.8</td>\n",
       "      <td>37</td>\n",
       "      <td>-47.1</td>\n",
       "      <td>93.075</td>\n",
       "      <td>1</td>\n",
       "      <td>0</td>\n",
       "    </tr>\n",
       "    <tr>\n",
       "      <th>25951</th>\n",
       "      <td>4.120</td>\n",
       "      <td>5195.8</td>\n",
       "      <td>999</td>\n",
       "      <td>nonexistent</td>\n",
       "      <td>-0.1</td>\n",
       "      <td>38</td>\n",
       "      <td>-42.0</td>\n",
       "      <td>93.200</td>\n",
       "      <td>2</td>\n",
       "      <td>0</td>\n",
       "    </tr>\n",
       "    <tr>\n",
       "      <th>29064</th>\n",
       "      <td>1.405</td>\n",
       "      <td>5099.1</td>\n",
       "      <td>999</td>\n",
       "      <td>nonexistent</td>\n",
       "      <td>-1.8</td>\n",
       "      <td>41</td>\n",
       "      <td>-47.1</td>\n",
       "      <td>93.075</td>\n",
       "      <td>3</td>\n",
       "      <td>0</td>\n",
       "    </tr>\n",
       "    <tr>\n",
       "      <th>...</th>\n",
       "      <td>...</td>\n",
       "      <td>...</td>\n",
       "      <td>...</td>\n",
       "      <td>...</td>\n",
       "      <td>...</td>\n",
       "      <td>...</td>\n",
       "      <td>...</td>\n",
       "      <td>...</td>\n",
       "      <td>...</td>\n",
       "      <td>...</td>\n",
       "    </tr>\n",
       "    <tr>\n",
       "      <th>11470</th>\n",
       "      <td>4.959</td>\n",
       "      <td>5228.1</td>\n",
       "      <td>999</td>\n",
       "      <td>nonexistent</td>\n",
       "      <td>1.4</td>\n",
       "      <td>37</td>\n",
       "      <td>-41.8</td>\n",
       "      <td>94.465</td>\n",
       "      <td>1</td>\n",
       "      <td>0</td>\n",
       "    </tr>\n",
       "    <tr>\n",
       "      <th>18260</th>\n",
       "      <td>4.963</td>\n",
       "      <td>5228.1</td>\n",
       "      <td>999</td>\n",
       "      <td>nonexistent</td>\n",
       "      <td>1.4</td>\n",
       "      <td>43</td>\n",
       "      <td>-42.7</td>\n",
       "      <td>93.918</td>\n",
       "      <td>4</td>\n",
       "      <td>0</td>\n",
       "    </tr>\n",
       "    <tr>\n",
       "      <th>141</th>\n",
       "      <td>4.857</td>\n",
       "      <td>5191.0</td>\n",
       "      <td>999</td>\n",
       "      <td>nonexistent</td>\n",
       "      <td>1.1</td>\n",
       "      <td>56</td>\n",
       "      <td>-36.4</td>\n",
       "      <td>93.994</td>\n",
       "      <td>1</td>\n",
       "      <td>0</td>\n",
       "    </tr>\n",
       "    <tr>\n",
       "      <th>19789</th>\n",
       "      <td>4.966</td>\n",
       "      <td>5228.1</td>\n",
       "      <td>999</td>\n",
       "      <td>nonexistent</td>\n",
       "      <td>1.4</td>\n",
       "      <td>47</td>\n",
       "      <td>-36.1</td>\n",
       "      <td>93.444</td>\n",
       "      <td>1</td>\n",
       "      <td>0</td>\n",
       "    </tr>\n",
       "    <tr>\n",
       "      <th>7742</th>\n",
       "      <td>4.864</td>\n",
       "      <td>5191.0</td>\n",
       "      <td>999</td>\n",
       "      <td>nonexistent</td>\n",
       "      <td>1.1</td>\n",
       "      <td>33</td>\n",
       "      <td>-36.4</td>\n",
       "      <td>93.994</td>\n",
       "      <td>7</td>\n",
       "      <td>0</td>\n",
       "    </tr>\n",
       "  </tbody>\n",
       "</table>\n",
       "<p>32950 rows × 10 columns</p>\n",
       "</div>"
      ],
      "text/plain": [
       "       euribor3m  nr.employed  pdays     poutcome  emp.var.rate  age  \\\n",
       "38445      0.730       5017.5      6      success          -3.4   22   \n",
       "17713      4.961       5228.1    999  nonexistent           1.4   36   \n",
       "30309      1.365       5099.1    999  nonexistent          -1.8   37   \n",
       "25951      4.120       5195.8    999  nonexistent          -0.1   38   \n",
       "29064      1.405       5099.1    999  nonexistent          -1.8   41   \n",
       "...          ...          ...    ...          ...           ...  ...   \n",
       "11470      4.959       5228.1    999  nonexistent           1.4   37   \n",
       "18260      4.963       5228.1    999  nonexistent           1.4   43   \n",
       "141        4.857       5191.0    999  nonexistent           1.1   56   \n",
       "19789      4.966       5228.1    999  nonexistent           1.4   47   \n",
       "7742       4.864       5191.0    999  nonexistent           1.1   33   \n",
       "\n",
       "       cons.conf.idx  cons.price.idx  campaign  previous  \n",
       "38445          -26.9          92.431         3         1  \n",
       "17713          -42.7          93.918         1         0  \n",
       "30309          -47.1          93.075         1         0  \n",
       "25951          -42.0          93.200         2         0  \n",
       "29064          -47.1          93.075         3         0  \n",
       "...              ...             ...       ...       ...  \n",
       "11470          -41.8          94.465         1         0  \n",
       "18260          -42.7          93.918         4         0  \n",
       "141            -36.4          93.994         1         0  \n",
       "19789          -36.1          93.444         1         0  \n",
       "7742           -36.4          93.994         7         0  \n",
       "\n",
       "[32950 rows x 10 columns]"
      ]
     },
     "execution_count": 148,
     "metadata": {},
     "output_type": "execute_result"
    }
   ],
   "source": [
    "X_df"
   ]
  },
  {
   "cell_type": "code",
   "execution_count": 150,
   "id": "93cce4be",
   "metadata": {},
   "outputs": [],
   "source": [
    "num_features = [feature for feature in X_df.columns if X_df[feature].dtypes != 'O']"
   ]
  },
  {
   "cell_type": "code",
   "execution_count": 151,
   "id": "3d1e6581",
   "metadata": {},
   "outputs": [],
   "source": [
    "cat_features = [feature for feature in X_df.columns if X_df[feature].dtype == 'O']"
   ]
  },
  {
   "cell_type": "code",
   "execution_count": 152,
   "id": "08d22bcc",
   "metadata": {},
   "outputs": [
    {
     "data": {
      "text/plain": [
       "['euribor3m',\n",
       " 'nr.employed',\n",
       " 'pdays',\n",
       " 'emp.var.rate',\n",
       " 'age',\n",
       " 'cons.conf.idx',\n",
       " 'cons.price.idx',\n",
       " 'campaign',\n",
       " 'previous']"
      ]
     },
     "execution_count": 152,
     "metadata": {},
     "output_type": "execute_result"
    }
   ],
   "source": [
    "num_features"
   ]
  },
  {
   "cell_type": "code",
   "execution_count": 153,
   "id": "c9909a9f",
   "metadata": {
    "scrolled": true
   },
   "outputs": [
    {
     "data": {
      "text/plain": [
       "['poutcome']"
      ]
     },
     "execution_count": 153,
     "metadata": {},
     "output_type": "execute_result"
    }
   ],
   "source": [
    "cat_features"
   ]
  },
  {
   "cell_type": "code",
   "execution_count": 154,
   "id": "22609505",
   "metadata": {},
   "outputs": [
    {
     "data": {
      "text/plain": [
       "(32950, 11)"
      ]
     },
     "execution_count": 154,
     "metadata": {},
     "output_type": "execute_result"
    }
   ],
   "source": [
    "encoder = OneHotEncoderCategoricalFeatures(cat_features)\n",
    "X_oho = encoder.transform(X_df)\n",
    "X_oho.shape"
   ]
  },
  {
   "cell_type": "code",
   "execution_count": 155,
   "id": "d3f61f14",
   "metadata": {},
   "outputs": [
    {
     "data": {
      "text/html": [
       "<div>\n",
       "<style scoped>\n",
       "    .dataframe tbody tr th:only-of-type {\n",
       "        vertical-align: middle;\n",
       "    }\n",
       "\n",
       "    .dataframe tbody tr th {\n",
       "        vertical-align: top;\n",
       "    }\n",
       "\n",
       "    .dataframe thead th {\n",
       "        text-align: right;\n",
       "    }\n",
       "</style>\n",
       "<table border=\"1\" class=\"dataframe\">\n",
       "  <thead>\n",
       "    <tr style=\"text-align: right;\">\n",
       "      <th></th>\n",
       "      <th>euribor3m</th>\n",
       "      <th>nr.employed</th>\n",
       "      <th>pdays</th>\n",
       "      <th>emp.var.rate</th>\n",
       "      <th>age</th>\n",
       "      <th>cons.conf.idx</th>\n",
       "      <th>cons.price.idx</th>\n",
       "      <th>campaign</th>\n",
       "      <th>previous</th>\n",
       "      <th>poutcome_nonexistent</th>\n",
       "      <th>poutcome_success</th>\n",
       "    </tr>\n",
       "  </thead>\n",
       "  <tbody>\n",
       "    <tr>\n",
       "      <th>38445</th>\n",
       "      <td>0.730</td>\n",
       "      <td>5017.5</td>\n",
       "      <td>6</td>\n",
       "      <td>-3.4</td>\n",
       "      <td>22</td>\n",
       "      <td>-26.9</td>\n",
       "      <td>92.431</td>\n",
       "      <td>3</td>\n",
       "      <td>1</td>\n",
       "      <td>0</td>\n",
       "      <td>1</td>\n",
       "    </tr>\n",
       "    <tr>\n",
       "      <th>17713</th>\n",
       "      <td>4.961</td>\n",
       "      <td>5228.1</td>\n",
       "      <td>999</td>\n",
       "      <td>1.4</td>\n",
       "      <td>36</td>\n",
       "      <td>-42.7</td>\n",
       "      <td>93.918</td>\n",
       "      <td>1</td>\n",
       "      <td>0</td>\n",
       "      <td>1</td>\n",
       "      <td>0</td>\n",
       "    </tr>\n",
       "    <tr>\n",
       "      <th>30309</th>\n",
       "      <td>1.365</td>\n",
       "      <td>5099.1</td>\n",
       "      <td>999</td>\n",
       "      <td>-1.8</td>\n",
       "      <td>37</td>\n",
       "      <td>-47.1</td>\n",
       "      <td>93.075</td>\n",
       "      <td>1</td>\n",
       "      <td>0</td>\n",
       "      <td>1</td>\n",
       "      <td>0</td>\n",
       "    </tr>\n",
       "    <tr>\n",
       "      <th>25951</th>\n",
       "      <td>4.120</td>\n",
       "      <td>5195.8</td>\n",
       "      <td>999</td>\n",
       "      <td>-0.1</td>\n",
       "      <td>38</td>\n",
       "      <td>-42.0</td>\n",
       "      <td>93.200</td>\n",
       "      <td>2</td>\n",
       "      <td>0</td>\n",
       "      <td>1</td>\n",
       "      <td>0</td>\n",
       "    </tr>\n",
       "    <tr>\n",
       "      <th>29064</th>\n",
       "      <td>1.405</td>\n",
       "      <td>5099.1</td>\n",
       "      <td>999</td>\n",
       "      <td>-1.8</td>\n",
       "      <td>41</td>\n",
       "      <td>-47.1</td>\n",
       "      <td>93.075</td>\n",
       "      <td>3</td>\n",
       "      <td>0</td>\n",
       "      <td>1</td>\n",
       "      <td>0</td>\n",
       "    </tr>\n",
       "    <tr>\n",
       "      <th>...</th>\n",
       "      <td>...</td>\n",
       "      <td>...</td>\n",
       "      <td>...</td>\n",
       "      <td>...</td>\n",
       "      <td>...</td>\n",
       "      <td>...</td>\n",
       "      <td>...</td>\n",
       "      <td>...</td>\n",
       "      <td>...</td>\n",
       "      <td>...</td>\n",
       "      <td>...</td>\n",
       "    </tr>\n",
       "    <tr>\n",
       "      <th>11470</th>\n",
       "      <td>4.959</td>\n",
       "      <td>5228.1</td>\n",
       "      <td>999</td>\n",
       "      <td>1.4</td>\n",
       "      <td>37</td>\n",
       "      <td>-41.8</td>\n",
       "      <td>94.465</td>\n",
       "      <td>1</td>\n",
       "      <td>0</td>\n",
       "      <td>1</td>\n",
       "      <td>0</td>\n",
       "    </tr>\n",
       "    <tr>\n",
       "      <th>18260</th>\n",
       "      <td>4.963</td>\n",
       "      <td>5228.1</td>\n",
       "      <td>999</td>\n",
       "      <td>1.4</td>\n",
       "      <td>43</td>\n",
       "      <td>-42.7</td>\n",
       "      <td>93.918</td>\n",
       "      <td>4</td>\n",
       "      <td>0</td>\n",
       "      <td>1</td>\n",
       "      <td>0</td>\n",
       "    </tr>\n",
       "    <tr>\n",
       "      <th>141</th>\n",
       "      <td>4.857</td>\n",
       "      <td>5191.0</td>\n",
       "      <td>999</td>\n",
       "      <td>1.1</td>\n",
       "      <td>56</td>\n",
       "      <td>-36.4</td>\n",
       "      <td>93.994</td>\n",
       "      <td>1</td>\n",
       "      <td>0</td>\n",
       "      <td>1</td>\n",
       "      <td>0</td>\n",
       "    </tr>\n",
       "    <tr>\n",
       "      <th>19789</th>\n",
       "      <td>4.966</td>\n",
       "      <td>5228.1</td>\n",
       "      <td>999</td>\n",
       "      <td>1.4</td>\n",
       "      <td>47</td>\n",
       "      <td>-36.1</td>\n",
       "      <td>93.444</td>\n",
       "      <td>1</td>\n",
       "      <td>0</td>\n",
       "      <td>1</td>\n",
       "      <td>0</td>\n",
       "    </tr>\n",
       "    <tr>\n",
       "      <th>7742</th>\n",
       "      <td>4.864</td>\n",
       "      <td>5191.0</td>\n",
       "      <td>999</td>\n",
       "      <td>1.1</td>\n",
       "      <td>33</td>\n",
       "      <td>-36.4</td>\n",
       "      <td>93.994</td>\n",
       "      <td>7</td>\n",
       "      <td>0</td>\n",
       "      <td>1</td>\n",
       "      <td>0</td>\n",
       "    </tr>\n",
       "  </tbody>\n",
       "</table>\n",
       "<p>32950 rows × 11 columns</p>\n",
       "</div>"
      ],
      "text/plain": [
       "       euribor3m  nr.employed  pdays  emp.var.rate  age  cons.conf.idx  \\\n",
       "38445      0.730       5017.5      6          -3.4   22          -26.9   \n",
       "17713      4.961       5228.1    999           1.4   36          -42.7   \n",
       "30309      1.365       5099.1    999          -1.8   37          -47.1   \n",
       "25951      4.120       5195.8    999          -0.1   38          -42.0   \n",
       "29064      1.405       5099.1    999          -1.8   41          -47.1   \n",
       "...          ...          ...    ...           ...  ...            ...   \n",
       "11470      4.959       5228.1    999           1.4   37          -41.8   \n",
       "18260      4.963       5228.1    999           1.4   43          -42.7   \n",
       "141        4.857       5191.0    999           1.1   56          -36.4   \n",
       "19789      4.966       5228.1    999           1.4   47          -36.1   \n",
       "7742       4.864       5191.0    999           1.1   33          -36.4   \n",
       "\n",
       "       cons.price.idx  campaign  previous  poutcome_nonexistent  \\\n",
       "38445          92.431         3         1                     0   \n",
       "17713          93.918         1         0                     1   \n",
       "30309          93.075         1         0                     1   \n",
       "25951          93.200         2         0                     1   \n",
       "29064          93.075         3         0                     1   \n",
       "...               ...       ...       ...                   ...   \n",
       "11470          94.465         1         0                     1   \n",
       "18260          93.918         4         0                     1   \n",
       "141            93.994         1         0                     1   \n",
       "19789          93.444         1         0                     1   \n",
       "7742           93.994         7         0                     1   \n",
       "\n",
       "       poutcome_success  \n",
       "38445                 1  \n",
       "17713                 0  \n",
       "30309                 0  \n",
       "25951                 0  \n",
       "29064                 0  \n",
       "...                 ...  \n",
       "11470                 0  \n",
       "18260                 0  \n",
       "141                   0  \n",
       "19789                 0  \n",
       "7742                  0  \n",
       "\n",
       "[32950 rows x 11 columns]"
      ]
     },
     "execution_count": 155,
     "metadata": {},
     "output_type": "execute_result"
    }
   ],
   "source": [
    "X_oho"
   ]
  },
  {
   "cell_type": "code",
   "execution_count": 156,
   "id": "34e13c97",
   "metadata": {},
   "outputs": [
    {
     "data": {
      "text/plain": [
       "(32950, 12)"
      ]
     },
     "execution_count": 156,
     "metadata": {},
     "output_type": "execute_result"
    }
   ],
   "source": [
    "colTransformer = ColumnTransformer([\n",
    "    ('num', StandardScaler(), num_features),\n",
    "    ('cat', OneHotEncoder(), cat_features)\n",
    "    ],\n",
    "    remainder='passthrough'  # i.e., leave the rest of the columns untouched -- otherwise, they're dropped\n",
    "    )\n",
    "\n",
    "X_processed = colTransformer.fit_transform(X_df)\n",
    "X_processed.shape"
   ]
  },
  {
   "cell_type": "code",
   "execution_count": 160,
   "id": "0c58610c",
   "metadata": {
    "scrolled": true
   },
   "outputs": [
    {
     "data": {
      "text/plain": [
       "(32950, 12)"
      ]
     },
     "execution_count": 160,
     "metadata": {},
     "output_type": "execute_result"
    }
   ],
   "source": [
    "X_processed.shape"
   ]
  },
  {
   "cell_type": "code",
   "execution_count": 158,
   "id": "63b7e2ae",
   "metadata": {},
   "outputs": [
    {
     "data": {
      "text/plain": [
       "array([[1],\n",
       "       [0],\n",
       "       [1],\n",
       "       ...,\n",
       "       [0],\n",
       "       [0],\n",
       "       [0]], dtype=uint8)"
      ]
     },
     "execution_count": 158,
     "metadata": {},
     "output_type": "execute_result"
    }
   ],
   "source": [
    "y.values"
   ]
  },
  {
   "cell_type": "code",
   "execution_count": null,
   "id": "67d48841",
   "metadata": {},
   "outputs": [],
   "source": []
  },
  {
   "cell_type": "code",
   "execution_count": 161,
   "id": "f474d94e",
   "metadata": {},
   "outputs": [
    {
     "name": "stdout",
     "output_type": "stream",
     "text": [
      "Dummy ACC: 0.11\n"
     ]
    }
   ],
   "source": [
    "dummy_clf = DummyClassifier(strategy='stratified')\n",
    "dummy_clf.fit(X_processed, y)\n",
    "print(\"Dummy ACC: %.2f\" % f1_score(y, dummy_clf.predict(X_processed)))"
   ]
  },
  {
   "cell_type": "markdown",
   "id": "ea7ce5d5",
   "metadata": {},
   "source": [
    "The below code gives the RFC score"
   ]
  },
  {
   "cell_type": "code",
   "execution_count": 163,
   "id": "9efc8a3b",
   "metadata": {},
   "outputs": [
    {
     "name": "stdout",
     "output_type": "stream",
     "text": [
      "ACC: 0.28 +/- 0.04\n"
     ]
    }
   ],
   "source": [
    "clf = RandomForestClassifier(n_estimators=100, max_depth=3, random_state=50)\n",
    "scores = cross_val_score(clf, X_processed, y, cv=10, scoring=make_scorer(f1_score))  # cross-validation\n",
    "print(\"ACC: %.2f +/- %.2f\" % (scores.mean(), scores.std()))"
   ]
  },
  {
   "cell_type": "code",
   "execution_count": 159,
   "id": "c865660c",
   "metadata": {},
   "outputs": [
    {
     "name": "stdout",
     "output_type": "stream",
     "text": [
      "ACC: 0.29 +/- 0.05\n"
     ]
    }
   ],
   "source": [
    "clf = rf_random.best_estimator_\n",
    "scores = cross_val_score(clf, X_processed, y, cv=10, scoring=make_scorer(f1_score))  # cross-validation\n",
    "print(\"ACC: %.2f +/- %.2f\" % (scores.mean(), scores.std()))"
   ]
  },
  {
   "cell_type": "markdown",
   "id": "7f526453",
   "metadata": {},
   "source": [
    "# TESTING\n"
   ]
  },
  {
   "cell_type": "code",
   "execution_count": 135,
   "id": "891d8d6c",
   "metadata": {},
   "outputs": [
    {
     "name": "stdout",
     "output_type": "stream",
     "text": [
      "Size of test set: 8238\n"
     ]
    }
   ],
   "source": [
    "df_test = test_set.copy()\n",
    "print('Size of test set: %d' % len(df_test))\n",
    "# Separate features from outcomes\n",
    "y_test_df = df_test['y'].copy()\n",
    "y_test_df = pd.get_dummies(y_test_df, columns=['Class'],drop_first=True)\n",
    "y_test = y_test_df.rename(columns={'yes': 'y'})\n",
    "X_test_df = df_test.copy().drop(['y'],axis = 1)"
   ]
  },
  {
   "cell_type": "code",
   "execution_count": 136,
   "id": "dfdabaaf",
   "metadata": {},
   "outputs": [],
   "source": [
    "# Transform features\n",
    "X_test = colTransformer.transform(X_test_df)\n",
    "assert X_test.shape[1] == X_processed.shape[1]  # same number of features"
   ]
  },
  {
   "cell_type": "code",
   "execution_count": 137,
   "id": "327e8e99",
   "metadata": {},
   "outputs": [
    {
     "data": {
      "text/plain": [
       "0.8999757222626851"
      ]
     },
     "execution_count": 137,
     "metadata": {},
     "output_type": "execute_result"
    }
   ],
   "source": [
    "# Predict\n",
    "test_predictions = clf.predict(X_test)\n",
    "# What's the accuracy on the test set?\n",
    "acc(y_test, test_predictions)"
   ]
  },
  {
   "cell_type": "code",
   "execution_count": null,
   "id": "94e58fcd",
   "metadata": {},
   "outputs": [],
   "source": []
  },
  {
   "cell_type": "code",
   "execution_count": null,
   "id": "a0bf8e35",
   "metadata": {},
   "outputs": [],
   "source": [
    "colTransformer = ColumnTransformer([\n",
    "    ('num', StandardScaler(), num_features),\n",
    "    ('cat', OneHotEncoder(), cat_features)\n",
    "    ],\n",
    "    remainder='passthrough'  # i.e., leave the rest of the columns untouched -- otherwise, they're dropped\n",
    "    )\n",
    "\n",
    "X_processed = colTransformer.fit_transform(X_df)\n",
    "X_processed.shape"
   ]
  }
 ],
 "metadata": {
  "kernelspec": {
   "display_name": "Python 3 (ipykernel)",
   "language": "python",
   "name": "python3"
  },
  "language_info": {
   "codemirror_mode": {
    "name": "ipython",
    "version": 3
   },
   "file_extension": ".py",
   "mimetype": "text/x-python",
   "name": "python",
   "nbconvert_exporter": "python",
   "pygments_lexer": "ipython3",
   "version": "3.9.7"
  }
 },
 "nbformat": 4,
 "nbformat_minor": 5
}
