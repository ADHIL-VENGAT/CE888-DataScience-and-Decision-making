{
  "cells": [
    {
      "cell_type": "markdown",
      "metadata": {
        "id": "view-in-github",
        "colab_type": "text"
      },
      "source": [
        "<a href=\"https://colab.research.google.com/github/ADHIL-VENGAT/CE888-DataScience-and-Decision-making/blob/main/Lab%203%20End%20to%20End/bank_classification.ipynb\" target=\"_parent\"><img src=\"https://colab.research.google.com/assets/colab-badge.svg\" alt=\"Open In Colab\"/></a>"
      ]
    },
    {
      "cell_type": "code",
      "execution_count": 1,
      "id": "66b8e02a",
      "metadata": {
        "id": "66b8e02a"
      },
      "outputs": [],
      "source": [
        "%matplotlib inline\n",
        "import matplotlib\n",
        "import numpy as np\n",
        "import matplotlib.pyplot as plt\n",
        "import pandas as pd\n",
        "import seaborn as sns\n",
        "\n",
        "import itertools\n",
        "\n",
        "from sklearn.model_selection import train_test_split, StratifiedShuffleSplit, cross_val_score\n",
        "\n",
        "from sklearn.preprocessing import LabelEncoder, StandardScaler, OneHotEncoder\n",
        "from sklearn.compose import ColumnTransformer\n",
        "from sklearn.base import BaseEstimator, TransformerMixin\n",
        "from sklearn.pipeline import Pipeline\n",
        "\n",
        "from sklearn.tree import DecisionTreeRegressor\n",
        "from sklearn.ensemble import RandomForestRegressor, GradientBoostingRegressor, RandomForestClassifier, ExtraTreesClassifier\n",
        "from sklearn.linear_model import SGDRegressor, BayesianRidge\n",
        "from sklearn.metrics import mean_squared_error as mse\n",
        "from sklearn.metrics import mean_absolute_error as mae\n",
        "from sklearn.metrics import accuracy_score as acc\n",
        "from sklearn.metrics import make_scorer, confusion_matrix\n",
        "from sklearn.metrics import SCORERS\n",
        "from sklearn.metrics import f1_score\n",
        "from sklearn.model_selection import RandomizedSearchCV\n",
        "from sklearn.dummy import DummyRegressor, DummyClassifier"
      ]
    },
    {
      "cell_type": "code",
      "execution_count": 2,
      "id": "a76f38dc",
      "metadata": {
        "id": "a76f38dc"
      },
      "outputs": [],
      "source": [
        "import warnings\n",
        "warnings.filterwarnings('ignore')"
      ]
    },
    {
      "cell_type": "code",
      "execution_count": 3,
      "id": "14d057be",
      "metadata": {
        "colab": {
          "base_uri": "https://localhost:8080/",
          "height": 471
        },
        "id": "14d057be",
        "outputId": "96c207ba-f5b2-435b-de84-c61667eebdab"
      },
      "outputs": [
        {
          "output_type": "execute_result",
          "data": {
            "text/plain": [
              "       age          job  marital            education  default housing loan  \\\n",
              "0       56    housemaid  married             basic.4y       no      no   no   \n",
              "1       57     services  married          high.school  unknown      no   no   \n",
              "2       37     services  married          high.school       no     yes   no   \n",
              "3       40       admin.  married             basic.6y       no      no   no   \n",
              "4       56     services  married          high.school       no      no  yes   \n",
              "...    ...          ...      ...                  ...      ...     ...  ...   \n",
              "41183   73      retired  married  professional.course       no     yes   no   \n",
              "41184   46  blue-collar  married  professional.course       no      no   no   \n",
              "41185   56      retired  married    university.degree       no     yes   no   \n",
              "41186   44   technician  married  professional.course       no      no   no   \n",
              "41187   74      retired  married  professional.course       no     yes   no   \n",
              "\n",
              "         contact month day_of_week  ...  campaign  pdays  previous  \\\n",
              "0      telephone   may         mon  ...         1    999         0   \n",
              "1      telephone   may         mon  ...         1    999         0   \n",
              "2      telephone   may         mon  ...         1    999         0   \n",
              "3      telephone   may         mon  ...         1    999         0   \n",
              "4      telephone   may         mon  ...         1    999         0   \n",
              "...          ...   ...         ...  ...       ...    ...       ...   \n",
              "41183   cellular   nov         fri  ...         1    999         0   \n",
              "41184   cellular   nov         fri  ...         1    999         0   \n",
              "41185   cellular   nov         fri  ...         2    999         0   \n",
              "41186   cellular   nov         fri  ...         1    999         0   \n",
              "41187   cellular   nov         fri  ...         3    999         1   \n",
              "\n",
              "          poutcome emp.var.rate  cons.price.idx  cons.conf.idx  euribor3m  \\\n",
              "0      nonexistent          1.1          93.994          -36.4      4.857   \n",
              "1      nonexistent          1.1          93.994          -36.4      4.857   \n",
              "2      nonexistent          1.1          93.994          -36.4      4.857   \n",
              "3      nonexistent          1.1          93.994          -36.4      4.857   \n",
              "4      nonexistent          1.1          93.994          -36.4      4.857   \n",
              "...            ...          ...             ...            ...        ...   \n",
              "41183  nonexistent         -1.1          94.767          -50.8      1.028   \n",
              "41184  nonexistent         -1.1          94.767          -50.8      1.028   \n",
              "41185  nonexistent         -1.1          94.767          -50.8      1.028   \n",
              "41186  nonexistent         -1.1          94.767          -50.8      1.028   \n",
              "41187      failure         -1.1          94.767          -50.8      1.028   \n",
              "\n",
              "       nr.employed    y  \n",
              "0           5191.0   no  \n",
              "1           5191.0   no  \n",
              "2           5191.0   no  \n",
              "3           5191.0   no  \n",
              "4           5191.0   no  \n",
              "...            ...  ...  \n",
              "41183       4963.6  yes  \n",
              "41184       4963.6   no  \n",
              "41185       4963.6   no  \n",
              "41186       4963.6  yes  \n",
              "41187       4963.6   no  \n",
              "\n",
              "[41188 rows x 21 columns]"
            ],
            "text/html": [
              "\n",
              "  <div id=\"df-349ac77c-6a9b-43b8-9c76-18b6a369d349\">\n",
              "    <div class=\"colab-df-container\">\n",
              "      <div>\n",
              "<style scoped>\n",
              "    .dataframe tbody tr th:only-of-type {\n",
              "        vertical-align: middle;\n",
              "    }\n",
              "\n",
              "    .dataframe tbody tr th {\n",
              "        vertical-align: top;\n",
              "    }\n",
              "\n",
              "    .dataframe thead th {\n",
              "        text-align: right;\n",
              "    }\n",
              "</style>\n",
              "<table border=\"1\" class=\"dataframe\">\n",
              "  <thead>\n",
              "    <tr style=\"text-align: right;\">\n",
              "      <th></th>\n",
              "      <th>age</th>\n",
              "      <th>job</th>\n",
              "      <th>marital</th>\n",
              "      <th>education</th>\n",
              "      <th>default</th>\n",
              "      <th>housing</th>\n",
              "      <th>loan</th>\n",
              "      <th>contact</th>\n",
              "      <th>month</th>\n",
              "      <th>day_of_week</th>\n",
              "      <th>...</th>\n",
              "      <th>campaign</th>\n",
              "      <th>pdays</th>\n",
              "      <th>previous</th>\n",
              "      <th>poutcome</th>\n",
              "      <th>emp.var.rate</th>\n",
              "      <th>cons.price.idx</th>\n",
              "      <th>cons.conf.idx</th>\n",
              "      <th>euribor3m</th>\n",
              "      <th>nr.employed</th>\n",
              "      <th>y</th>\n",
              "    </tr>\n",
              "  </thead>\n",
              "  <tbody>\n",
              "    <tr>\n",
              "      <th>0</th>\n",
              "      <td>56</td>\n",
              "      <td>housemaid</td>\n",
              "      <td>married</td>\n",
              "      <td>basic.4y</td>\n",
              "      <td>no</td>\n",
              "      <td>no</td>\n",
              "      <td>no</td>\n",
              "      <td>telephone</td>\n",
              "      <td>may</td>\n",
              "      <td>mon</td>\n",
              "      <td>...</td>\n",
              "      <td>1</td>\n",
              "      <td>999</td>\n",
              "      <td>0</td>\n",
              "      <td>nonexistent</td>\n",
              "      <td>1.1</td>\n",
              "      <td>93.994</td>\n",
              "      <td>-36.4</td>\n",
              "      <td>4.857</td>\n",
              "      <td>5191.0</td>\n",
              "      <td>no</td>\n",
              "    </tr>\n",
              "    <tr>\n",
              "      <th>1</th>\n",
              "      <td>57</td>\n",
              "      <td>services</td>\n",
              "      <td>married</td>\n",
              "      <td>high.school</td>\n",
              "      <td>unknown</td>\n",
              "      <td>no</td>\n",
              "      <td>no</td>\n",
              "      <td>telephone</td>\n",
              "      <td>may</td>\n",
              "      <td>mon</td>\n",
              "      <td>...</td>\n",
              "      <td>1</td>\n",
              "      <td>999</td>\n",
              "      <td>0</td>\n",
              "      <td>nonexistent</td>\n",
              "      <td>1.1</td>\n",
              "      <td>93.994</td>\n",
              "      <td>-36.4</td>\n",
              "      <td>4.857</td>\n",
              "      <td>5191.0</td>\n",
              "      <td>no</td>\n",
              "    </tr>\n",
              "    <tr>\n",
              "      <th>2</th>\n",
              "      <td>37</td>\n",
              "      <td>services</td>\n",
              "      <td>married</td>\n",
              "      <td>high.school</td>\n",
              "      <td>no</td>\n",
              "      <td>yes</td>\n",
              "      <td>no</td>\n",
              "      <td>telephone</td>\n",
              "      <td>may</td>\n",
              "      <td>mon</td>\n",
              "      <td>...</td>\n",
              "      <td>1</td>\n",
              "      <td>999</td>\n",
              "      <td>0</td>\n",
              "      <td>nonexistent</td>\n",
              "      <td>1.1</td>\n",
              "      <td>93.994</td>\n",
              "      <td>-36.4</td>\n",
              "      <td>4.857</td>\n",
              "      <td>5191.0</td>\n",
              "      <td>no</td>\n",
              "    </tr>\n",
              "    <tr>\n",
              "      <th>3</th>\n",
              "      <td>40</td>\n",
              "      <td>admin.</td>\n",
              "      <td>married</td>\n",
              "      <td>basic.6y</td>\n",
              "      <td>no</td>\n",
              "      <td>no</td>\n",
              "      <td>no</td>\n",
              "      <td>telephone</td>\n",
              "      <td>may</td>\n",
              "      <td>mon</td>\n",
              "      <td>...</td>\n",
              "      <td>1</td>\n",
              "      <td>999</td>\n",
              "      <td>0</td>\n",
              "      <td>nonexistent</td>\n",
              "      <td>1.1</td>\n",
              "      <td>93.994</td>\n",
              "      <td>-36.4</td>\n",
              "      <td>4.857</td>\n",
              "      <td>5191.0</td>\n",
              "      <td>no</td>\n",
              "    </tr>\n",
              "    <tr>\n",
              "      <th>4</th>\n",
              "      <td>56</td>\n",
              "      <td>services</td>\n",
              "      <td>married</td>\n",
              "      <td>high.school</td>\n",
              "      <td>no</td>\n",
              "      <td>no</td>\n",
              "      <td>yes</td>\n",
              "      <td>telephone</td>\n",
              "      <td>may</td>\n",
              "      <td>mon</td>\n",
              "      <td>...</td>\n",
              "      <td>1</td>\n",
              "      <td>999</td>\n",
              "      <td>0</td>\n",
              "      <td>nonexistent</td>\n",
              "      <td>1.1</td>\n",
              "      <td>93.994</td>\n",
              "      <td>-36.4</td>\n",
              "      <td>4.857</td>\n",
              "      <td>5191.0</td>\n",
              "      <td>no</td>\n",
              "    </tr>\n",
              "    <tr>\n",
              "      <th>...</th>\n",
              "      <td>...</td>\n",
              "      <td>...</td>\n",
              "      <td>...</td>\n",
              "      <td>...</td>\n",
              "      <td>...</td>\n",
              "      <td>...</td>\n",
              "      <td>...</td>\n",
              "      <td>...</td>\n",
              "      <td>...</td>\n",
              "      <td>...</td>\n",
              "      <td>...</td>\n",
              "      <td>...</td>\n",
              "      <td>...</td>\n",
              "      <td>...</td>\n",
              "      <td>...</td>\n",
              "      <td>...</td>\n",
              "      <td>...</td>\n",
              "      <td>...</td>\n",
              "      <td>...</td>\n",
              "      <td>...</td>\n",
              "      <td>...</td>\n",
              "    </tr>\n",
              "    <tr>\n",
              "      <th>41183</th>\n",
              "      <td>73</td>\n",
              "      <td>retired</td>\n",
              "      <td>married</td>\n",
              "      <td>professional.course</td>\n",
              "      <td>no</td>\n",
              "      <td>yes</td>\n",
              "      <td>no</td>\n",
              "      <td>cellular</td>\n",
              "      <td>nov</td>\n",
              "      <td>fri</td>\n",
              "      <td>...</td>\n",
              "      <td>1</td>\n",
              "      <td>999</td>\n",
              "      <td>0</td>\n",
              "      <td>nonexistent</td>\n",
              "      <td>-1.1</td>\n",
              "      <td>94.767</td>\n",
              "      <td>-50.8</td>\n",
              "      <td>1.028</td>\n",
              "      <td>4963.6</td>\n",
              "      <td>yes</td>\n",
              "    </tr>\n",
              "    <tr>\n",
              "      <th>41184</th>\n",
              "      <td>46</td>\n",
              "      <td>blue-collar</td>\n",
              "      <td>married</td>\n",
              "      <td>professional.course</td>\n",
              "      <td>no</td>\n",
              "      <td>no</td>\n",
              "      <td>no</td>\n",
              "      <td>cellular</td>\n",
              "      <td>nov</td>\n",
              "      <td>fri</td>\n",
              "      <td>...</td>\n",
              "      <td>1</td>\n",
              "      <td>999</td>\n",
              "      <td>0</td>\n",
              "      <td>nonexistent</td>\n",
              "      <td>-1.1</td>\n",
              "      <td>94.767</td>\n",
              "      <td>-50.8</td>\n",
              "      <td>1.028</td>\n",
              "      <td>4963.6</td>\n",
              "      <td>no</td>\n",
              "    </tr>\n",
              "    <tr>\n",
              "      <th>41185</th>\n",
              "      <td>56</td>\n",
              "      <td>retired</td>\n",
              "      <td>married</td>\n",
              "      <td>university.degree</td>\n",
              "      <td>no</td>\n",
              "      <td>yes</td>\n",
              "      <td>no</td>\n",
              "      <td>cellular</td>\n",
              "      <td>nov</td>\n",
              "      <td>fri</td>\n",
              "      <td>...</td>\n",
              "      <td>2</td>\n",
              "      <td>999</td>\n",
              "      <td>0</td>\n",
              "      <td>nonexistent</td>\n",
              "      <td>-1.1</td>\n",
              "      <td>94.767</td>\n",
              "      <td>-50.8</td>\n",
              "      <td>1.028</td>\n",
              "      <td>4963.6</td>\n",
              "      <td>no</td>\n",
              "    </tr>\n",
              "    <tr>\n",
              "      <th>41186</th>\n",
              "      <td>44</td>\n",
              "      <td>technician</td>\n",
              "      <td>married</td>\n",
              "      <td>professional.course</td>\n",
              "      <td>no</td>\n",
              "      <td>no</td>\n",
              "      <td>no</td>\n",
              "      <td>cellular</td>\n",
              "      <td>nov</td>\n",
              "      <td>fri</td>\n",
              "      <td>...</td>\n",
              "      <td>1</td>\n",
              "      <td>999</td>\n",
              "      <td>0</td>\n",
              "      <td>nonexistent</td>\n",
              "      <td>-1.1</td>\n",
              "      <td>94.767</td>\n",
              "      <td>-50.8</td>\n",
              "      <td>1.028</td>\n",
              "      <td>4963.6</td>\n",
              "      <td>yes</td>\n",
              "    </tr>\n",
              "    <tr>\n",
              "      <th>41187</th>\n",
              "      <td>74</td>\n",
              "      <td>retired</td>\n",
              "      <td>married</td>\n",
              "      <td>professional.course</td>\n",
              "      <td>no</td>\n",
              "      <td>yes</td>\n",
              "      <td>no</td>\n",
              "      <td>cellular</td>\n",
              "      <td>nov</td>\n",
              "      <td>fri</td>\n",
              "      <td>...</td>\n",
              "      <td>3</td>\n",
              "      <td>999</td>\n",
              "      <td>1</td>\n",
              "      <td>failure</td>\n",
              "      <td>-1.1</td>\n",
              "      <td>94.767</td>\n",
              "      <td>-50.8</td>\n",
              "      <td>1.028</td>\n",
              "      <td>4963.6</td>\n",
              "      <td>no</td>\n",
              "    </tr>\n",
              "  </tbody>\n",
              "</table>\n",
              "<p>41188 rows × 21 columns</p>\n",
              "</div>\n",
              "      <button class=\"colab-df-convert\" onclick=\"convertToInteractive('df-349ac77c-6a9b-43b8-9c76-18b6a369d349')\"\n",
              "              title=\"Convert this dataframe to an interactive table.\"\n",
              "              style=\"display:none;\">\n",
              "        \n",
              "  <svg xmlns=\"http://www.w3.org/2000/svg\" height=\"24px\"viewBox=\"0 0 24 24\"\n",
              "       width=\"24px\">\n",
              "    <path d=\"M0 0h24v24H0V0z\" fill=\"none\"/>\n",
              "    <path d=\"M18.56 5.44l.94 2.06.94-2.06 2.06-.94-2.06-.94-.94-2.06-.94 2.06-2.06.94zm-11 1L8.5 8.5l.94-2.06 2.06-.94-2.06-.94L8.5 2.5l-.94 2.06-2.06.94zm10 10l.94 2.06.94-2.06 2.06-.94-2.06-.94-.94-2.06-.94 2.06-2.06.94z\"/><path d=\"M17.41 7.96l-1.37-1.37c-.4-.4-.92-.59-1.43-.59-.52 0-1.04.2-1.43.59L10.3 9.45l-7.72 7.72c-.78.78-.78 2.05 0 2.83L4 21.41c.39.39.9.59 1.41.59.51 0 1.02-.2 1.41-.59l7.78-7.78 2.81-2.81c.8-.78.8-2.07 0-2.86zM5.41 20L4 18.59l7.72-7.72 1.47 1.35L5.41 20z\"/>\n",
              "  </svg>\n",
              "      </button>\n",
              "      \n",
              "  <style>\n",
              "    .colab-df-container {\n",
              "      display:flex;\n",
              "      flex-wrap:wrap;\n",
              "      gap: 12px;\n",
              "    }\n",
              "\n",
              "    .colab-df-convert {\n",
              "      background-color: #E8F0FE;\n",
              "      border: none;\n",
              "      border-radius: 50%;\n",
              "      cursor: pointer;\n",
              "      display: none;\n",
              "      fill: #1967D2;\n",
              "      height: 32px;\n",
              "      padding: 0 0 0 0;\n",
              "      width: 32px;\n",
              "    }\n",
              "\n",
              "    .colab-df-convert:hover {\n",
              "      background-color: #E2EBFA;\n",
              "      box-shadow: 0px 1px 2px rgba(60, 64, 67, 0.3), 0px 1px 3px 1px rgba(60, 64, 67, 0.15);\n",
              "      fill: #174EA6;\n",
              "    }\n",
              "\n",
              "    [theme=dark] .colab-df-convert {\n",
              "      background-color: #3B4455;\n",
              "      fill: #D2E3FC;\n",
              "    }\n",
              "\n",
              "    [theme=dark] .colab-df-convert:hover {\n",
              "      background-color: #434B5C;\n",
              "      box-shadow: 0px 1px 3px 1px rgba(0, 0, 0, 0.15);\n",
              "      filter: drop-shadow(0px 1px 2px rgba(0, 0, 0, 0.3));\n",
              "      fill: #FFFFFF;\n",
              "    }\n",
              "  </style>\n",
              "\n",
              "      <script>\n",
              "        const buttonEl =\n",
              "          document.querySelector('#df-349ac77c-6a9b-43b8-9c76-18b6a369d349 button.colab-df-convert');\n",
              "        buttonEl.style.display =\n",
              "          google.colab.kernel.accessAllowed ? 'block' : 'none';\n",
              "\n",
              "        async function convertToInteractive(key) {\n",
              "          const element = document.querySelector('#df-349ac77c-6a9b-43b8-9c76-18b6a369d349');\n",
              "          const dataTable =\n",
              "            await google.colab.kernel.invokeFunction('convertToInteractive',\n",
              "                                                     [key], {});\n",
              "          if (!dataTable) return;\n",
              "\n",
              "          const docLinkHtml = 'Like what you see? Visit the ' +\n",
              "            '<a target=\"_blank\" href=https://colab.research.google.com/notebooks/data_table.ipynb>data table notebook</a>'\n",
              "            + ' to learn more about interactive tables.';\n",
              "          element.innerHTML = '';\n",
              "          dataTable['output_type'] = 'display_data';\n",
              "          await google.colab.output.renderOutput(dataTable, element);\n",
              "          const docLink = document.createElement('div');\n",
              "          docLink.innerHTML = docLinkHtml;\n",
              "          element.appendChild(docLink);\n",
              "        }\n",
              "      </script>\n",
              "    </div>\n",
              "  </div>\n",
              "  "
            ]
          },
          "metadata": {},
          "execution_count": 3
        }
      ],
      "source": [
        "df = pd.read_csv(\"https://raw.githubusercontent.com/albanda/CE888/master/lab3/bank-additional-full.csv\", delimiter=\";\")\n",
        "df"
      ]
    },
    {
      "cell_type": "code",
      "execution_count": 4,
      "id": "88211cdc",
      "metadata": {
        "colab": {
          "base_uri": "https://localhost:8080/"
        },
        "id": "88211cdc",
        "outputId": "368a19df-e26e-420c-d768-0cecfab7d248"
      },
      "outputs": [
        {
          "output_type": "stream",
          "name": "stdout",
          "text": [
            "<class 'pandas.core.frame.DataFrame'>\n",
            "RangeIndex: 41188 entries, 0 to 41187\n",
            "Data columns (total 21 columns):\n",
            " #   Column          Non-Null Count  Dtype  \n",
            "---  ------          --------------  -----  \n",
            " 0   age             41188 non-null  int64  \n",
            " 1   job             41188 non-null  object \n",
            " 2   marital         41188 non-null  object \n",
            " 3   education       41188 non-null  object \n",
            " 4   default         41188 non-null  object \n",
            " 5   housing         41188 non-null  object \n",
            " 6   loan            41188 non-null  object \n",
            " 7   contact         41188 non-null  object \n",
            " 8   month           41188 non-null  object \n",
            " 9   day_of_week     41188 non-null  object \n",
            " 10  duration        41188 non-null  int64  \n",
            " 11  campaign        41188 non-null  int64  \n",
            " 12  pdays           41188 non-null  int64  \n",
            " 13  previous        41188 non-null  int64  \n",
            " 14  poutcome        41188 non-null  object \n",
            " 15  emp.var.rate    41188 non-null  float64\n",
            " 16  cons.price.idx  41188 non-null  float64\n",
            " 17  cons.conf.idx   41188 non-null  float64\n",
            " 18  euribor3m       41188 non-null  float64\n",
            " 19  nr.employed     41188 non-null  float64\n",
            " 20  y               41188 non-null  object \n",
            "dtypes: float64(5), int64(5), object(11)\n",
            "memory usage: 6.6+ MB\n"
          ]
        }
      ],
      "source": [
        "df.info()"
      ]
    },
    {
      "cell_type": "markdown",
      "id": "2b2061f2",
      "metadata": {
        "id": "2b2061f2"
      },
      "source": [
        "There are 10 featues which are of type \"object\" which need to be converted from label to numerical"
      ]
    },
    {
      "cell_type": "code",
      "execution_count": 5,
      "id": "b1a4e418",
      "metadata": {
        "id": "b1a4e418"
      },
      "outputs": [],
      "source": [
        "cat_features = [feature for feature in df.columns if df[feature].dtype == 'O']"
      ]
    },
    {
      "cell_type": "code",
      "execution_count": 6,
      "id": "c3fd3e7c",
      "metadata": {
        "colab": {
          "base_uri": "https://localhost:8080/"
        },
        "id": "c3fd3e7c",
        "outputId": "c92e0ec4-7e68-408d-f3e9-2f4ff46304a4"
      },
      "outputs": [
        {
          "output_type": "stream",
          "name": "stdout",
          "text": [
            "['job', 'marital', 'education', 'default', 'housing', 'loan', 'contact', 'month', 'day_of_week', 'poutcome', 'y'] \n",
            "\n",
            "There are  11 featues including target which are of type \"object\" which need to be converted from label to numerical\n"
          ]
        }
      ],
      "source": [
        "print(cat_features,'\\n')\n",
        "print('There are ',len(cat_features), 'featues including target which are of type \"object\" which need to be converted from label to numerical')\n"
      ]
    },
    {
      "cell_type": "markdown",
      "id": "a018bc55",
      "metadata": {
        "id": "a018bc55"
      },
      "source": [
        "\n",
        "# converting categorical features"
      ]
    },
    {
      "cell_type": "code",
      "execution_count": 7,
      "id": "ad04c14d",
      "metadata": {
        "id": "ad04c14d"
      },
      "outputs": [],
      "source": [
        "class OneHotEncoderCategoricalFeatures(BaseEstimator, TransformerMixin):\n",
        "    def __init__(self, cat_features):\n",
        "        self.cat_features = cat_features\n",
        "    \n",
        "    def fit(self, X, y=None):\n",
        "        return self\n",
        "    \n",
        "    def transform(self, X):\n",
        "        return pd.get_dummies(X, columns=self.cat_features,drop_first=True)"
      ]
    },
    {
      "cell_type": "code",
      "execution_count": 8,
      "id": "8d6a0ea3",
      "metadata": {
        "id": "8d6a0ea3"
      },
      "outputs": [],
      "source": [
        "data = df"
      ]
    },
    {
      "cell_type": "code",
      "execution_count": 9,
      "id": "b7642135",
      "metadata": {
        "colab": {
          "base_uri": "https://localhost:8080/"
        },
        "id": "b7642135",
        "outputId": "7ac78405-8baf-43d4-8435-5618d69c6601"
      },
      "outputs": [
        {
          "output_type": "stream",
          "name": "stdout",
          "text": [
            "<class 'pandas.core.frame.DataFrame'>\n",
            "RangeIndex: 41188 entries, 0 to 41187\n",
            "Data columns (total 21 columns):\n",
            " #   Column          Non-Null Count  Dtype  \n",
            "---  ------          --------------  -----  \n",
            " 0   age             41188 non-null  int64  \n",
            " 1   job             41188 non-null  object \n",
            " 2   marital         41188 non-null  object \n",
            " 3   education       41188 non-null  object \n",
            " 4   default         41188 non-null  object \n",
            " 5   housing         41188 non-null  object \n",
            " 6   loan            41188 non-null  object \n",
            " 7   contact         41188 non-null  object \n",
            " 8   month           41188 non-null  object \n",
            " 9   day_of_week     41188 non-null  object \n",
            " 10  duration        41188 non-null  int64  \n",
            " 11  campaign        41188 non-null  int64  \n",
            " 12  pdays           41188 non-null  int64  \n",
            " 13  previous        41188 non-null  int64  \n",
            " 14  poutcome        41188 non-null  object \n",
            " 15  emp.var.rate    41188 non-null  float64\n",
            " 16  cons.price.idx  41188 non-null  float64\n",
            " 17  cons.conf.idx   41188 non-null  float64\n",
            " 18  euribor3m       41188 non-null  float64\n",
            " 19  nr.employed     41188 non-null  float64\n",
            " 20  y               41188 non-null  object \n",
            "dtypes: float64(5), int64(5), object(11)\n",
            "memory usage: 6.6+ MB\n"
          ]
        }
      ],
      "source": [
        "data.info()"
      ]
    },
    {
      "cell_type": "markdown",
      "id": "9b68bf16",
      "metadata": {
        "id": "9b68bf16"
      },
      "source": [
        "# Checking for nan values using heatmap"
      ]
    },
    {
      "cell_type": "code",
      "execution_count": 10,
      "id": "cf4fff13",
      "metadata": {
        "colab": {
          "base_uri": "https://localhost:8080/",
          "height": 342
        },
        "id": "cf4fff13",
        "outputId": "523bb70f-b655-4026-f97b-1ed3171313ac"
      },
      "outputs": [
        {
          "output_type": "execute_result",
          "data": {
            "text/plain": [
              "<matplotlib.axes._subplots.AxesSubplot at 0x7f36975b6410>"
            ]
          },
          "metadata": {},
          "execution_count": 10
        },
        {
          "output_type": "display_data",
          "data": {
            "text/plain": [
              "<Figure size 432x288 with 1 Axes>"
            ],
            "image/png": "[encoded data removed]"
          },
          "metadata": {
            "needs_background": "light"
          }
        }
      ],
      "source": [
        "sns.heatmap(data.isnull(),yticklabels=False,cbar=False,cmap='viridis')\n"
      ]
    },
    {
      "cell_type": "markdown",
      "id": "d273afcc",
      "metadata": {
        "id": "d273afcc"
      },
      "source": [
        "# Dropping feature \"Duration\""
      ]
    },
    {
      "cell_type": "code",
      "execution_count": 11,
      "id": "6c90a8b2",
      "metadata": {
        "id": "6c90a8b2"
      },
      "outputs": [],
      "source": [
        "data = data.drop(['duration'],axis=1)"
      ]
    },
    {
      "cell_type": "code",
      "execution_count": 11,
      "id": "f1281089",
      "metadata": {
        "id": "f1281089"
      },
      "outputs": [],
      "source": [
        ""
      ]
    },
    {
      "cell_type": "markdown",
      "id": "d7deec5a",
      "metadata": {
        "id": "d7deec5a"
      },
      "source": [
        "# Checking for the imbalance in dataste"
      ]
    },
    {
      "cell_type": "code",
      "execution_count": 12,
      "id": "01b320e6",
      "metadata": {
        "colab": {
          "base_uri": "https://localhost:8080/"
        },
        "id": "01b320e6",
        "outputId": "7fc65755-97e3-4a65-cbd2-0cc03e79fa16"
      },
      "outputs": [
        {
          "output_type": "execute_result",
          "data": {
            "text/plain": [
              "(41188, 20)"
            ]
          },
          "metadata": {},
          "execution_count": 12
        }
      ],
      "source": [
        "data.shape"
      ]
    },
    {
      "cell_type": "code",
      "execution_count": 29,
      "id": "3c4d90c0",
      "metadata": {
        "colab": {
          "base_uri": "https://localhost:8080/"
        },
        "id": "3c4d90c0",
        "outputId": "95df6507-246c-4c8e-c3f5-c4f6552bac56"
      },
      "outputs": [
        {
          "output_type": "execute_result",
          "data": {
            "text/plain": [
              "no     0.887346\n",
              "yes    0.112654\n",
              "Name: y, dtype: float64"
            ]
          },
          "metadata": {},
          "execution_count": 29
        }
      ],
      "source": [
        "data['y'].value_counts(1)"
      ]
    },
    {
      "cell_type": "code",
      "execution_count": 14,
      "id": "a33cc7de",
      "metadata": {
        "colab": {
          "base_uri": "https://localhost:8080/",
          "height": 296
        },
        "id": "a33cc7de",
        "outputId": "7de2cb69-899c-44be-b306-ffe3d6c4d77f"
      },
      "outputs": [
        {
          "output_type": "execute_result",
          "data": {
            "text/plain": [
              "<matplotlib.axes._subplots.AxesSubplot at 0x7f3694d49710>"
            ]
          },
          "metadata": {},
          "execution_count": 14
        },
        {
          "output_type": "display_data",
          "data": {
            "text/plain": [
              "<Figure size 432x288 with 1 Axes>"
            ],
            "image/png": "[encoded data removed]"
          },
          "metadata": {
            "needs_background": "light"
          }
        }
      ],
      "source": [
        "sns.histplot(data['y'])"
      ]
    },
    {
      "cell_type": "markdown",
      "id": "73956c02",
      "metadata": {
        "id": "73956c02"
      },
      "source": [
        "The dataset is highly imbalanced with a lot of 0 values\n"
      ]
    },
    {
      "cell_type": "markdown",
      "id": "20d0cdab",
      "metadata": {
        "id": "20d0cdab"
      },
      "source": [
        "# Analysing Numerical features"
      ]
    },
    {
      "cell_type": "code",
      "execution_count": 15,
      "id": "15d6781e",
      "metadata": {
        "colab": {
          "base_uri": "https://localhost:8080/",
          "height": 221
        },
        "id": "15d6781e",
        "outputId": "08d311cd-b5cb-431e-e1c5-6daabeab7fc9"
      },
      "outputs": [
        {
          "output_type": "stream",
          "name": "stdout",
          "text": [
            "Number of numerical variables:  9\n"
          ]
        },
        {
          "output_type": "execute_result",
          "data": {
            "text/plain": [
              "   age  campaign  pdays  previous  emp.var.rate  cons.price.idx  \\\n",
              "0   56         1    999         0           1.1          93.994   \n",
              "1   57         1    999         0           1.1          93.994   \n",
              "2   37         1    999         0           1.1          93.994   \n",
              "3   40         1    999         0           1.1          93.994   \n",
              "4   56         1    999         0           1.1          93.994   \n",
              "\n",
              "   cons.conf.idx  euribor3m  nr.employed  \n",
              "0          -36.4      4.857       5191.0  \n",
              "1          -36.4      4.857       5191.0  \n",
              "2          -36.4      4.857       5191.0  \n",
              "3          -36.4      4.857       5191.0  \n",
              "4          -36.4      4.857       5191.0  "
            ],
            "text/html": [
              "\n",
              "  <div id=\"df-98a71c57-11a9-45e6-ab87-dd5f00b5e257\">\n",
              "    <div class=\"colab-df-container\">\n",
              "      <div>\n",
              "<style scoped>\n",
              "    .dataframe tbody tr th:only-of-type {\n",
              "        vertical-align: middle;\n",
              "    }\n",
              "\n",
              "    .dataframe tbody tr th {\n",
              "        vertical-align: top;\n",
              "    }\n",
              "\n",
              "    .dataframe thead th {\n",
              "        text-align: right;\n",
              "    }\n",
              "</style>\n",
              "<table border=\"1\" class=\"dataframe\">\n",
              "  <thead>\n",
              "    <tr style=\"text-align: right;\">\n",
              "      <th></th>\n",
              "      <th>age</th>\n",
              "      <th>campaign</th>\n",
              "      <th>pdays</th>\n",
              "      <th>previous</th>\n",
              "      <th>emp.var.rate</th>\n",
              "      <th>cons.price.idx</th>\n",
              "      <th>cons.conf.idx</th>\n",
              "      <th>euribor3m</th>\n",
              "      <th>nr.employed</th>\n",
              "    </tr>\n",
              "  </thead>\n",
              "  <tbody>\n",
              "    <tr>\n",
              "      <th>0</th>\n",
              "      <td>56</td>\n",
              "      <td>1</td>\n",
              "      <td>999</td>\n",
              "      <td>0</td>\n",
              "      <td>1.1</td>\n",
              "      <td>93.994</td>\n",
              "      <td>-36.4</td>\n",
              "      <td>4.857</td>\n",
              "      <td>5191.0</td>\n",
              "    </tr>\n",
              "    <tr>\n",
              "      <th>1</th>\n",
              "      <td>57</td>\n",
              "      <td>1</td>\n",
              "      <td>999</td>\n",
              "      <td>0</td>\n",
              "      <td>1.1</td>\n",
              "      <td>93.994</td>\n",
              "      <td>-36.4</td>\n",
              "      <td>4.857</td>\n",
              "      <td>5191.0</td>\n",
              "    </tr>\n",
              "    <tr>\n",
              "      <th>2</th>\n",
              "      <td>37</td>\n",
              "      <td>1</td>\n",
              "      <td>999</td>\n",
              "      <td>0</td>\n",
              "      <td>1.1</td>\n",
              "      <td>93.994</td>\n",
              "      <td>-36.4</td>\n",
              "      <td>4.857</td>\n",
              "      <td>5191.0</td>\n",
              "    </tr>\n",
              "    <tr>\n",
              "      <th>3</th>\n",
              "      <td>40</td>\n",
              "      <td>1</td>\n",
              "      <td>999</td>\n",
              "      <td>0</td>\n",
              "      <td>1.1</td>\n",
              "      <td>93.994</td>\n",
              "      <td>-36.4</td>\n",
              "      <td>4.857</td>\n",
              "      <td>5191.0</td>\n",
              "    </tr>\n",
              "    <tr>\n",
              "      <th>4</th>\n",
              "      <td>56</td>\n",
              "      <td>1</td>\n",
              "      <td>999</td>\n",
              "      <td>0</td>\n",
              "      <td>1.1</td>\n",
              "      <td>93.994</td>\n",
              "      <td>-36.4</td>\n",
              "      <td>4.857</td>\n",
              "      <td>5191.0</td>\n",
              "    </tr>\n",
              "  </tbody>\n",
              "</table>\n",
              "</div>\n",
              "      <button class=\"colab-df-convert\" onclick=\"convertToInteractive('df-98a71c57-11a9-45e6-ab87-dd5f00b5e257')\"\n",
              "              title=\"Convert this dataframe to an interactive table.\"\n",
              "              style=\"display:none;\">\n",
              "        \n",
              "  <svg xmlns=\"http://www.w3.org/2000/svg\" height=\"24px\"viewBox=\"0 0 24 24\"\n",
              "       width=\"24px\">\n",
              "    <path d=\"M0 0h24v24H0V0z\" fill=\"none\"/>\n",
              "    <path d=\"M18.56 5.44l.94 2.06.94-2.06 2.06-.94-2.06-.94-.94-2.06-.94 2.06-2.06.94zm-11 1L8.5 8.5l.94-2.06 2.06-.94-2.06-.94L8.5 2.5l-.94 2.06-2.06.94zm10 10l.94 2.06.94-2.06 2.06-.94-2.06-.94-.94-2.06-.94 2.06-2.06.94z\"/><path d=\"M17.41 7.96l-1.37-1.37c-.4-.4-.92-.59-1.43-.59-.52 0-1.04.2-1.43.59L10.3 9.45l-7.72 7.72c-.78.78-.78 2.05 0 2.83L4 21.41c.39.39.9.59 1.41.59.51 0 1.02-.2 1.41-.59l7.78-7.78 2.81-2.81c.8-.78.8-2.07 0-2.86zM5.41 20L4 18.59l7.72-7.72 1.47 1.35L5.41 20z\"/>\n",
              "  </svg>\n",
              "      </button>\n",
              "      \n",
              "  <style>\n",
              "    .colab-df-container {\n",
              "      display:flex;\n",
              "      flex-wrap:wrap;\n",
              "      gap: 12px;\n",
              "    }\n",
              "\n",
              "    .colab-df-convert {\n",
              "      background-color: #E8F0FE;\n",
              "      border: none;\n",
              "      border-radius: 50%;\n",
              "      cursor: pointer;\n",
              "      display: none;\n",
              "      fill: #1967D2;\n",
              "      height: 32px;\n",
              "      padding: 0 0 0 0;\n",
              "      width: 32px;\n",
              "    }\n",
              "\n",
              "    .colab-df-convert:hover {\n",
              "      background-color: #E2EBFA;\n",
              "      box-shadow: 0px 1px 2px rgba(60, 64, 67, 0.3), 0px 1px 3px 1px rgba(60, 64, 67, 0.15);\n",
              "      fill: #174EA6;\n",
              "    }\n",
              "\n",
              "    [theme=dark] .colab-df-convert {\n",
              "      background-color: #3B4455;\n",
              "      fill: #D2E3FC;\n",
              "    }\n",
              "\n",
              "    [theme=dark] .colab-df-convert:hover {\n",
              "      background-color: #434B5C;\n",
              "      box-shadow: 0px 1px 3px 1px rgba(0, 0, 0, 0.15);\n",
              "      filter: drop-shadow(0px 1px 2px rgba(0, 0, 0, 0.3));\n",
              "      fill: #FFFFFF;\n",
              "    }\n",
              "  </style>\n",
              "\n",
              "      <script>\n",
              "        const buttonEl =\n",
              "          document.querySelector('#df-98a71c57-11a9-45e6-ab87-dd5f00b5e257 button.colab-df-convert');\n",
              "        buttonEl.style.display =\n",
              "          google.colab.kernel.accessAllowed ? 'block' : 'none';\n",
              "\n",
              "        async function convertToInteractive(key) {\n",
              "          const element = document.querySelector('#df-98a71c57-11a9-45e6-ab87-dd5f00b5e257');\n",
              "          const dataTable =\n",
              "            await google.colab.kernel.invokeFunction('convertToInteractive',\n",
              "                                                     [key], {});\n",
              "          if (!dataTable) return;\n",
              "\n",
              "          const docLinkHtml = 'Like what you see? Visit the ' +\n",
              "            '<a target=\"_blank\" href=https://colab.research.google.com/notebooks/data_table.ipynb>data table notebook</a>'\n",
              "            + ' to learn more about interactive tables.';\n",
              "          element.innerHTML = '';\n",
              "          dataTable['output_type'] = 'display_data';\n",
              "          await google.colab.output.renderOutput(dataTable, element);\n",
              "          const docLink = document.createElement('div');\n",
              "          docLink.innerHTML = docLinkHtml;\n",
              "          element.appendChild(docLink);\n",
              "        }\n",
              "      </script>\n",
              "    </div>\n",
              "  </div>\n",
              "  "
            ]
          },
          "metadata": {},
          "execution_count": 15
        }
      ],
      "source": [
        "# list of numerical variables\n",
        "num_features = [feature for feature in data.columns if data[feature].dtypes != 'O']\n",
        "\n",
        "print('Number of numerical variables: ', len(num_features))\n",
        "\n",
        "# visualise the numerical variables\n",
        "data[num_features].head()"
      ]
    },
    {
      "cell_type": "markdown",
      "id": "da85aa19",
      "metadata": {
        "id": "da85aa19"
      },
      "source": [
        "# Modelling"
      ]
    },
    {
      "cell_type": "code",
      "execution_count": 16,
      "id": "c1a7decb",
      "metadata": {
        "colab": {
          "base_uri": "https://localhost:8080/"
        },
        "id": "c1a7decb",
        "outputId": "a0220290-10ef-4e40-d9f1-f89616a9011c"
      },
      "outputs": [
        {
          "output_type": "stream",
          "name": "stdout",
          "text": [
            "32950 8238\n"
          ]
        }
      ],
      "source": [
        "train_set, test_set = train_test_split(data, test_size=0.2, random_state=50, stratify= data['y'] )  \n",
        "# by setting a random_state above, we make sure anytime we run this line we end up with the same train and test sets\n",
        "print(len(train_set), len(test_set))"
      ]
    },
    {
      "cell_type": "code",
      "execution_count": 17,
      "id": "9232bc03",
      "metadata": {
        "id": "9232bc03"
      },
      "outputs": [],
      "source": [
        "df = train_set.copy()\n",
        "# Separate features from outcomes\n",
        "y_df = df['y'].copy()\n",
        "y_df = pd.get_dummies(y_df, columns=['y'],drop_first=True)\n",
        "y = y_df.rename(columns={'yes': 'y'})\n",
        "X_df = df.copy().drop(['y'],axis = 1)"
      ]
    },
    {
      "cell_type": "code",
      "execution_count": 18,
      "id": "6bcb4a8e",
      "metadata": {
        "colab": {
          "base_uri": "https://localhost:8080/",
          "height": 419
        },
        "id": "6bcb4a8e",
        "outputId": "c14dcca8-c553-4854-ab41-c18520bae06f"
      },
      "outputs": [
        {
          "output_type": "execute_result",
          "data": {
            "text/plain": [
              "       y\n",
              "38445  1\n",
              "17713  0\n",
              "30309  1\n",
              "25951  0\n",
              "29064  0\n",
              "...   ..\n",
              "11470  0\n",
              "18260  1\n",
              "141    0\n",
              "19789  0\n",
              "7742   0\n",
              "\n",
              "[32950 rows x 1 columns]"
            ],
            "text/html": [
              "\n",
              "  <div id=\"df-004118d2-723e-4f0f-a826-d10672dc5091\">\n",
              "    <div class=\"colab-df-container\">\n",
              "      <div>\n",
              "<style scoped>\n",
              "    .dataframe tbody tr th:only-of-type {\n",
              "        vertical-align: middle;\n",
              "    }\n",
              "\n",
              "    .dataframe tbody tr th {\n",
              "        vertical-align: top;\n",
              "    }\n",
              "\n",
              "    .dataframe thead th {\n",
              "        text-align: right;\n",
              "    }\n",
              "</style>\n",
              "<table border=\"1\" class=\"dataframe\">\n",
              "  <thead>\n",
              "    <tr style=\"text-align: right;\">\n",
              "      <th></th>\n",
              "      <th>y</th>\n",
              "    </tr>\n",
              "  </thead>\n",
              "  <tbody>\n",
              "    <tr>\n",
              "      <th>38445</th>\n",
              "      <td>1</td>\n",
              "    </tr>\n",
              "    <tr>\n",
              "      <th>17713</th>\n",
              "      <td>0</td>\n",
              "    </tr>\n",
              "    <tr>\n",
              "      <th>30309</th>\n",
              "      <td>1</td>\n",
              "    </tr>\n",
              "    <tr>\n",
              "      <th>25951</th>\n",
              "      <td>0</td>\n",
              "    </tr>\n",
              "    <tr>\n",
              "      <th>29064</th>\n",
              "      <td>0</td>\n",
              "    </tr>\n",
              "    <tr>\n",
              "      <th>...</th>\n",
              "      <td>...</td>\n",
              "    </tr>\n",
              "    <tr>\n",
              "      <th>11470</th>\n",
              "      <td>0</td>\n",
              "    </tr>\n",
              "    <tr>\n",
              "      <th>18260</th>\n",
              "      <td>1</td>\n",
              "    </tr>\n",
              "    <tr>\n",
              "      <th>141</th>\n",
              "      <td>0</td>\n",
              "    </tr>\n",
              "    <tr>\n",
              "      <th>19789</th>\n",
              "      <td>0</td>\n",
              "    </tr>\n",
              "    <tr>\n",
              "      <th>7742</th>\n",
              "      <td>0</td>\n",
              "    </tr>\n",
              "  </tbody>\n",
              "</table>\n",
              "<p>32950 rows × 1 columns</p>\n",
              "</div>\n",
              "      <button class=\"colab-df-convert\" onclick=\"convertToInteractive('df-004118d2-723e-4f0f-a826-d10672dc5091')\"\n",
              "              title=\"Convert this dataframe to an interactive table.\"\n",
              "              style=\"display:none;\">\n",
              "        \n",
              "  <svg xmlns=\"http://www.w3.org/2000/svg\" height=\"24px\"viewBox=\"0 0 24 24\"\n",
              "       width=\"24px\">\n",
              "    <path d=\"M0 0h24v24H0V0z\" fill=\"none\"/>\n",
              "    <path d=\"M18.56 5.44l.94 2.06.94-2.06 2.06-.94-2.06-.94-.94-2.06-.94 2.06-2.06.94zm-11 1L8.5 8.5l.94-2.06 2.06-.94-2.06-.94L8.5 2.5l-.94 2.06-2.06.94zm10 10l.94 2.06.94-2.06 2.06-.94-2.06-.94-.94-2.06-.94 2.06-2.06.94z\"/><path d=\"M17.41 7.96l-1.37-1.37c-.4-.4-.92-.59-1.43-.59-.52 0-1.04.2-1.43.59L10.3 9.45l-7.72 7.72c-.78.78-.78 2.05 0 2.83L4 21.41c.39.39.9.59 1.41.59.51 0 1.02-.2 1.41-.59l7.78-7.78 2.81-2.81c.8-.78.8-2.07 0-2.86zM5.41 20L4 18.59l7.72-7.72 1.47 1.35L5.41 20z\"/>\n",
              "  </svg>\n",
              "      </button>\n",
              "      \n",
              "  <style>\n",
              "    .colab-df-container {\n",
              "      display:flex;\n",
              "      flex-wrap:wrap;\n",
              "      gap: 12px;\n",
              "    }\n",
              "\n",
              "    .colab-df-convert {\n",
              "      background-color: #E8F0FE;\n",
              "      border: none;\n",
              "      border-radius: 50%;\n",
              "      cursor: pointer;\n",
              "      display: none;\n",
              "      fill: #1967D2;\n",
              "      height: 32px;\n",
              "      padding: 0 0 0 0;\n",
              "      width: 32px;\n",
              "    }\n",
              "\n",
              "    .colab-df-convert:hover {\n",
              "      background-color: #E2EBFA;\n",
              "      box-shadow: 0px 1px 2px rgba(60, 64, 67, 0.3), 0px 1px 3px 1px rgba(60, 64, 67, 0.15);\n",
              "      fill: #174EA6;\n",
              "    }\n",
              "\n",
              "    [theme=dark] .colab-df-convert {\n",
              "      background-color: #3B4455;\n",
              "      fill: #D2E3FC;\n",
              "    }\n",
              "\n",
              "    [theme=dark] .colab-df-convert:hover {\n",
              "      background-color: #434B5C;\n",
              "      box-shadow: 0px 1px 3px 1px rgba(0, 0, 0, 0.15);\n",
              "      filter: drop-shadow(0px 1px 2px rgba(0, 0, 0, 0.3));\n",
              "      fill: #FFFFFF;\n",
              "    }\n",
              "  </style>\n",
              "\n",
              "      <script>\n",
              "        const buttonEl =\n",
              "          document.querySelector('#df-004118d2-723e-4f0f-a826-d10672dc5091 button.colab-df-convert');\n",
              "        buttonEl.style.display =\n",
              "          google.colab.kernel.accessAllowed ? 'block' : 'none';\n",
              "\n",
              "        async function convertToInteractive(key) {\n",
              "          const element = document.querySelector('#df-004118d2-723e-4f0f-a826-d10672dc5091');\n",
              "          const dataTable =\n",
              "            await google.colab.kernel.invokeFunction('convertToInteractive',\n",
              "                                                     [key], {});\n",
              "          if (!dataTable) return;\n",
              "\n",
              "          const docLinkHtml = 'Like what you see? Visit the ' +\n",
              "            '<a target=\"_blank\" href=https://colab.research.google.com/notebooks/data_table.ipynb>data table notebook</a>'\n",
              "            + ' to learn more about interactive tables.';\n",
              "          element.innerHTML = '';\n",
              "          dataTable['output_type'] = 'display_data';\n",
              "          await google.colab.output.renderOutput(dataTable, element);\n",
              "          const docLink = document.createElement('div');\n",
              "          docLink.innerHTML = docLinkHtml;\n",
              "          element.appendChild(docLink);\n",
              "        }\n",
              "      </script>\n",
              "    </div>\n",
              "  </div>\n",
              "  "
            ]
          },
          "metadata": {},
          "execution_count": 18
        }
      ],
      "source": [
        "y"
      ]
    },
    {
      "cell_type": "code",
      "execution_count": 19,
      "id": "790f18fd",
      "metadata": {
        "id": "790f18fd"
      },
      "outputs": [],
      "source": [
        "num_features = [feature for feature in X_df.columns if X_df[feature].dtypes != 'O']"
      ]
    },
    {
      "cell_type": "code",
      "execution_count": 20,
      "id": "32add93f",
      "metadata": {
        "id": "32add93f"
      },
      "outputs": [],
      "source": [
        "cat_features = [feature for feature in X_df.columns if X_df[feature].dtype == 'O']"
      ]
    },
    {
      "cell_type": "code",
      "execution_count": 21,
      "id": "987d44d7",
      "metadata": {
        "colab": {
          "base_uri": "https://localhost:8080/"
        },
        "id": "987d44d7",
        "outputId": "b1bdbc53-a34d-4cba-f1c7-8d6924f37d1e"
      },
      "outputs": [
        {
          "output_type": "execute_result",
          "data": {
            "text/plain": [
              "['age',\n",
              " 'campaign',\n",
              " 'pdays',\n",
              " 'previous',\n",
              " 'emp.var.rate',\n",
              " 'cons.price.idx',\n",
              " 'cons.conf.idx',\n",
              " 'euribor3m',\n",
              " 'nr.employed']"
            ]
          },
          "metadata": {},
          "execution_count": 21
        }
      ],
      "source": [
        "num_features"
      ]
    },
    {
      "cell_type": "code",
      "execution_count": 22,
      "id": "f5bf8bd4",
      "metadata": {
        "scrolled": true,
        "colab": {
          "base_uri": "https://localhost:8080/"
        },
        "id": "f5bf8bd4",
        "outputId": "c0fccb02-c4e3-4772-9262-733213c13cdb"
      },
      "outputs": [
        {
          "output_type": "execute_result",
          "data": {
            "text/plain": [
              "['job',\n",
              " 'marital',\n",
              " 'education',\n",
              " 'default',\n",
              " 'housing',\n",
              " 'loan',\n",
              " 'contact',\n",
              " 'month',\n",
              " 'day_of_week',\n",
              " 'poutcome']"
            ]
          },
          "metadata": {},
          "execution_count": 22
        }
      ],
      "source": [
        "cat_features"
      ]
    },
    {
      "cell_type": "code",
      "execution_count": 23,
      "id": "11ca569b",
      "metadata": {
        "colab": {
          "base_uri": "https://localhost:8080/"
        },
        "id": "11ca569b",
        "outputId": "7614b6f8-e5ee-4ecf-9ddc-ee3a613f183a"
      },
      "outputs": [
        {
          "output_type": "execute_result",
          "data": {
            "text/plain": [
              "(32950, 52)"
            ]
          },
          "metadata": {},
          "execution_count": 23
        }
      ],
      "source": [
        "encoder = OneHotEncoderCategoricalFeatures(cat_features)\n",
        "X_oho = encoder.transform(X_df)\n",
        "X_oho.shape"
      ]
    },
    {
      "cell_type": "code",
      "execution_count": 24,
      "id": "37312984",
      "metadata": {
        "colab": {
          "base_uri": "https://localhost:8080/",
          "height": 488
        },
        "id": "37312984",
        "outputId": "01f4e48e-2093-44ce-b106-74c10199375e"
      },
      "outputs": [
        {
          "output_type": "execute_result",
          "data": {
            "text/plain": [
              "       age  campaign  pdays  previous  emp.var.rate  cons.price.idx  \\\n",
              "38445   22         3      6         1          -3.4          92.431   \n",
              "17713   36         1    999         0           1.4          93.918   \n",
              "30309   37         1    999         0          -1.8          93.075   \n",
              "25951   38         2    999         0          -0.1          93.200   \n",
              "29064   41         3    999         0          -1.8          93.075   \n",
              "...    ...       ...    ...       ...           ...             ...   \n",
              "11470   37         1    999         0           1.4          94.465   \n",
              "18260   43         4    999         0           1.4          93.918   \n",
              "141     56         1    999         0           1.1          93.994   \n",
              "19789   47         1    999         0           1.4          93.444   \n",
              "7742    33         7    999         0           1.1          93.994   \n",
              "\n",
              "       cons.conf.idx  euribor3m  nr.employed  job_blue-collar  ...  month_may  \\\n",
              "38445          -26.9      0.730       5017.5                0  ...          0   \n",
              "17713          -42.7      4.961       5228.1                0  ...          0   \n",
              "30309          -47.1      1.365       5099.1                0  ...          0   \n",
              "25951          -42.0      4.120       5195.8                0  ...          0   \n",
              "29064          -47.1      1.405       5099.1                0  ...          0   \n",
              "...              ...        ...          ...              ...  ...        ...   \n",
              "11470          -41.8      4.959       5228.1                0  ...          0   \n",
              "18260          -42.7      4.963       5228.1                0  ...          0   \n",
              "141            -36.4      4.857       5191.0                0  ...          1   \n",
              "19789          -36.1      4.966       5228.1                0  ...          0   \n",
              "7742           -36.4      4.864       5191.0                0  ...          1   \n",
              "\n",
              "       month_nov  month_oct  month_sep  day_of_week_mon  day_of_week_thu  \\\n",
              "38445          0          1          0                0                0   \n",
              "17713          0          0          0                0                0   \n",
              "30309          0          0          0                0                1   \n",
              "25951          1          0          0                0                0   \n",
              "29064          0          0          0                0                0   \n",
              "...          ...        ...        ...              ...              ...   \n",
              "11470          0          0          0                0                0   \n",
              "18260          0          0          0                0                0   \n",
              "141            0          0          0                1                0   \n",
              "19789          0          0          0                0                0   \n",
              "7742           0          0          0                0                0   \n",
              "\n",
              "       day_of_week_tue  day_of_week_wed  poutcome_nonexistent  \\\n",
              "38445                0                0                     0   \n",
              "17713                1                0                     1   \n",
              "30309                0                0                     1   \n",
              "25951                0                1                     1   \n",
              "29064                0                0                     1   \n",
              "...                ...              ...                   ...   \n",
              "11470                0                0                     1   \n",
              "18260                0                1                     1   \n",
              "141                  0                0                     1   \n",
              "19789                0                0                     1   \n",
              "7742                 0                0                     1   \n",
              "\n",
              "       poutcome_success  \n",
              "38445                 1  \n",
              "17713                 0  \n",
              "30309                 0  \n",
              "25951                 0  \n",
              "29064                 0  \n",
              "...                 ...  \n",
              "11470                 0  \n",
              "18260                 0  \n",
              "141                   0  \n",
              "19789                 0  \n",
              "7742                  0  \n",
              "\n",
              "[32950 rows x 52 columns]"
            ],
            "text/html": [
              "\n",
              "  <div id=\"df-389ba05c-3800-422b-a70a-d77c906f17b3\">\n",
              "    <div class=\"colab-df-container\">\n",
              "      <div>\n",
              "<style scoped>\n",
              "    .dataframe tbody tr th:only-of-type {\n",
              "        vertical-align: middle;\n",
              "    }\n",
              "\n",
              "    .dataframe tbody tr th {\n",
              "        vertical-align: top;\n",
              "    }\n",
              "\n",
              "    .dataframe thead th {\n",
              "        text-align: right;\n",
              "    }\n",
              "</style>\n",
              "<table border=\"1\" class=\"dataframe\">\n",
              "  <thead>\n",
              "    <tr style=\"text-align: right;\">\n",
              "      <th></th>\n",
              "      <th>age</th>\n",
              "      <th>campaign</th>\n",
              "      <th>pdays</th>\n",
              "      <th>previous</th>\n",
              "      <th>emp.var.rate</th>\n",
              "      <th>cons.price.idx</th>\n",
              "      <th>cons.conf.idx</th>\n",
              "      <th>euribor3m</th>\n",
              "      <th>nr.employed</th>\n",
              "      <th>job_blue-collar</th>\n",
              "      <th>...</th>\n",
              "      <th>month_may</th>\n",
              "      <th>month_nov</th>\n",
              "      <th>month_oct</th>\n",
              "      <th>month_sep</th>\n",
              "      <th>day_of_week_mon</th>\n",
              "      <th>day_of_week_thu</th>\n",
              "      <th>day_of_week_tue</th>\n",
              "      <th>day_of_week_wed</th>\n",
              "      <th>poutcome_nonexistent</th>\n",
              "      <th>poutcome_success</th>\n",
              "    </tr>\n",
              "  </thead>\n",
              "  <tbody>\n",
              "    <tr>\n",
              "      <th>38445</th>\n",
              "      <td>22</td>\n",
              "      <td>3</td>\n",
              "      <td>6</td>\n",
              "      <td>1</td>\n",
              "      <td>-3.4</td>\n",
              "      <td>92.431</td>\n",
              "      <td>-26.9</td>\n",
              "      <td>0.730</td>\n",
              "      <td>5017.5</td>\n",
              "      <td>0</td>\n",
              "      <td>...</td>\n",
              "      <td>0</td>\n",
              "      <td>0</td>\n",
              "      <td>1</td>\n",
              "      <td>0</td>\n",
              "      <td>0</td>\n",
              "      <td>0</td>\n",
              "      <td>0</td>\n",
              "      <td>0</td>\n",
              "      <td>0</td>\n",
              "      <td>1</td>\n",
              "    </tr>\n",
              "    <tr>\n",
              "      <th>17713</th>\n",
              "      <td>36</td>\n",
              "      <td>1</td>\n",
              "      <td>999</td>\n",
              "      <td>0</td>\n",
              "      <td>1.4</td>\n",
              "      <td>93.918</td>\n",
              "      <td>-42.7</td>\n",
              "      <td>4.961</td>\n",
              "      <td>5228.1</td>\n",
              "      <td>0</td>\n",
              "      <td>...</td>\n",
              "      <td>0</td>\n",
              "      <td>0</td>\n",
              "      <td>0</td>\n",
              "      <td>0</td>\n",
              "      <td>0</td>\n",
              "      <td>0</td>\n",
              "      <td>1</td>\n",
              "      <td>0</td>\n",
              "      <td>1</td>\n",
              "      <td>0</td>\n",
              "    </tr>\n",
              "    <tr>\n",
              "      <th>30309</th>\n",
              "      <td>37</td>\n",
              "      <td>1</td>\n",
              "      <td>999</td>\n",
              "      <td>0</td>\n",
              "      <td>-1.8</td>\n",
              "      <td>93.075</td>\n",
              "      <td>-47.1</td>\n",
              "      <td>1.365</td>\n",
              "      <td>5099.1</td>\n",
              "      <td>0</td>\n",
              "      <td>...</td>\n",
              "      <td>0</td>\n",
              "      <td>0</td>\n",
              "      <td>0</td>\n",
              "      <td>0</td>\n",
              "      <td>0</td>\n",
              "      <td>1</td>\n",
              "      <td>0</td>\n",
              "      <td>0</td>\n",
              "      <td>1</td>\n",
              "      <td>0</td>\n",
              "    </tr>\n",
              "    <tr>\n",
              "      <th>25951</th>\n",
              "      <td>38</td>\n",
              "      <td>2</td>\n",
              "      <td>999</td>\n",
              "      <td>0</td>\n",
              "      <td>-0.1</td>\n",
              "      <td>93.200</td>\n",
              "      <td>-42.0</td>\n",
              "      <td>4.120</td>\n",
              "      <td>5195.8</td>\n",
              "      <td>0</td>\n",
              "      <td>...</td>\n",
              "      <td>0</td>\n",
              "      <td>1</td>\n",
              "      <td>0</td>\n",
              "      <td>0</td>\n",
              "      <td>0</td>\n",
              "      <td>0</td>\n",
              "      <td>0</td>\n",
              "      <td>1</td>\n",
              "      <td>1</td>\n",
              "      <td>0</td>\n",
              "    </tr>\n",
              "    <tr>\n",
              "      <th>29064</th>\n",
              "      <td>41</td>\n",
              "      <td>3</td>\n",
              "      <td>999</td>\n",
              "      <td>0</td>\n",
              "      <td>-1.8</td>\n",
              "      <td>93.075</td>\n",
              "      <td>-47.1</td>\n",
              "      <td>1.405</td>\n",
              "      <td>5099.1</td>\n",
              "      <td>0</td>\n",
              "      <td>...</td>\n",
              "      <td>0</td>\n",
              "      <td>0</td>\n",
              "      <td>0</td>\n",
              "      <td>0</td>\n",
              "      <td>0</td>\n",
              "      <td>0</td>\n",
              "      <td>0</td>\n",
              "      <td>0</td>\n",
              "      <td>1</td>\n",
              "      <td>0</td>\n",
              "    </tr>\n",
              "    <tr>\n",
              "      <th>...</th>\n",
              "      <td>...</td>\n",
              "      <td>...</td>\n",
              "      <td>...</td>\n",
              "      <td>...</td>\n",
              "      <td>...</td>\n",
              "      <td>...</td>\n",
              "      <td>...</td>\n",
              "      <td>...</td>\n",
              "      <td>...</td>\n",
              "      <td>...</td>\n",
              "      <td>...</td>\n",
              "      <td>...</td>\n",
              "      <td>...</td>\n",
              "      <td>...</td>\n",
              "      <td>...</td>\n",
              "      <td>...</td>\n",
              "      <td>...</td>\n",
              "      <td>...</td>\n",
              "      <td>...</td>\n",
              "      <td>...</td>\n",
              "      <td>...</td>\n",
              "    </tr>\n",
              "    <tr>\n",
              "      <th>11470</th>\n",
              "      <td>37</td>\n",
              "      <td>1</td>\n",
              "      <td>999</td>\n",
              "      <td>0</td>\n",
              "      <td>1.4</td>\n",
              "      <td>94.465</td>\n",
              "      <td>-41.8</td>\n",
              "      <td>4.959</td>\n",
              "      <td>5228.1</td>\n",
              "      <td>0</td>\n",
              "      <td>...</td>\n",
              "      <td>0</td>\n",
              "      <td>0</td>\n",
              "      <td>0</td>\n",
              "      <td>0</td>\n",
              "      <td>0</td>\n",
              "      <td>0</td>\n",
              "      <td>0</td>\n",
              "      <td>0</td>\n",
              "      <td>1</td>\n",
              "      <td>0</td>\n",
              "    </tr>\n",
              "    <tr>\n",
              "      <th>18260</th>\n",
              "      <td>43</td>\n",
              "      <td>4</td>\n",
              "      <td>999</td>\n",
              "      <td>0</td>\n",
              "      <td>1.4</td>\n",
              "      <td>93.918</td>\n",
              "      <td>-42.7</td>\n",
              "      <td>4.963</td>\n",
              "      <td>5228.1</td>\n",
              "      <td>0</td>\n",
              "      <td>...</td>\n",
              "      <td>0</td>\n",
              "      <td>0</td>\n",
              "      <td>0</td>\n",
              "      <td>0</td>\n",
              "      <td>0</td>\n",
              "      <td>0</td>\n",
              "      <td>0</td>\n",
              "      <td>1</td>\n",
              "      <td>1</td>\n",
              "      <td>0</td>\n",
              "    </tr>\n",
              "    <tr>\n",
              "      <th>141</th>\n",
              "      <td>56</td>\n",
              "      <td>1</td>\n",
              "      <td>999</td>\n",
              "      <td>0</td>\n",
              "      <td>1.1</td>\n",
              "      <td>93.994</td>\n",
              "      <td>-36.4</td>\n",
              "      <td>4.857</td>\n",
              "      <td>5191.0</td>\n",
              "      <td>0</td>\n",
              "      <td>...</td>\n",
              "      <td>1</td>\n",
              "      <td>0</td>\n",
              "      <td>0</td>\n",
              "      <td>0</td>\n",
              "      <td>1</td>\n",
              "      <td>0</td>\n",
              "      <td>0</td>\n",
              "      <td>0</td>\n",
              "      <td>1</td>\n",
              "      <td>0</td>\n",
              "    </tr>\n",
              "    <tr>\n",
              "      <th>19789</th>\n",
              "      <td>47</td>\n",
              "      <td>1</td>\n",
              "      <td>999</td>\n",
              "      <td>0</td>\n",
              "      <td>1.4</td>\n",
              "      <td>93.444</td>\n",
              "      <td>-36.1</td>\n",
              "      <td>4.966</td>\n",
              "      <td>5228.1</td>\n",
              "      <td>0</td>\n",
              "      <td>...</td>\n",
              "      <td>0</td>\n",
              "      <td>0</td>\n",
              "      <td>0</td>\n",
              "      <td>0</td>\n",
              "      <td>0</td>\n",
              "      <td>0</td>\n",
              "      <td>0</td>\n",
              "      <td>0</td>\n",
              "      <td>1</td>\n",
              "      <td>0</td>\n",
              "    </tr>\n",
              "    <tr>\n",
              "      <th>7742</th>\n",
              "      <td>33</td>\n",
              "      <td>7</td>\n",
              "      <td>999</td>\n",
              "      <td>0</td>\n",
              "      <td>1.1</td>\n",
              "      <td>93.994</td>\n",
              "      <td>-36.4</td>\n",
              "      <td>4.864</td>\n",
              "      <td>5191.0</td>\n",
              "      <td>0</td>\n",
              "      <td>...</td>\n",
              "      <td>1</td>\n",
              "      <td>0</td>\n",
              "      <td>0</td>\n",
              "      <td>0</td>\n",
              "      <td>0</td>\n",
              "      <td>0</td>\n",
              "      <td>0</td>\n",
              "      <td>0</td>\n",
              "      <td>1</td>\n",
              "      <td>0</td>\n",
              "    </tr>\n",
              "  </tbody>\n",
              "</table>\n",
              "<p>32950 rows × 52 columns</p>\n",
              "</div>\n",
              "      <button class=\"colab-df-convert\" onclick=\"convertToInteractive('df-389ba05c-3800-422b-a70a-d77c906f17b3')\"\n",
              "              title=\"Convert this dataframe to an interactive table.\"\n",
              "              style=\"display:none;\">\n",
              "        \n",
              "  <svg xmlns=\"http://www.w3.org/2000/svg\" height=\"24px\"viewBox=\"0 0 24 24\"\n",
              "       width=\"24px\">\n",
              "    <path d=\"M0 0h24v24H0V0z\" fill=\"none\"/>\n",
              "    <path d=\"M18.56 5.44l.94 2.06.94-2.06 2.06-.94-2.06-.94-.94-2.06-.94 2.06-2.06.94zm-11 1L8.5 8.5l.94-2.06 2.06-.94-2.06-.94L8.5 2.5l-.94 2.06-2.06.94zm10 10l.94 2.06.94-2.06 2.06-.94-2.06-.94-.94-2.06-.94 2.06-2.06.94z\"/><path d=\"M17.41 7.96l-1.37-1.37c-.4-.4-.92-.59-1.43-.59-.52 0-1.04.2-1.43.59L10.3 9.45l-7.72 7.72c-.78.78-.78 2.05 0 2.83L4 21.41c.39.39.9.59 1.41.59.51 0 1.02-.2 1.41-.59l7.78-7.78 2.81-2.81c.8-.78.8-2.07 0-2.86zM5.41 20L4 18.59l7.72-7.72 1.47 1.35L5.41 20z\"/>\n",
              "  </svg>\n",
              "      </button>\n",
              "      \n",
              "  <style>\n",
              "    .colab-df-container {\n",
              "      display:flex;\n",
              "      flex-wrap:wrap;\n",
              "      gap: 12px;\n",
              "    }\n",
              "\n",
              "    .colab-df-convert {\n",
              "      background-color: #E8F0FE;\n",
              "      border: none;\n",
              "      border-radius: 50%;\n",
              "      cursor: pointer;\n",
              "      display: none;\n",
              "      fill: #1967D2;\n",
              "      height: 32px;\n",
              "      padding: 0 0 0 0;\n",
              "      width: 32px;\n",
              "    }\n",
              "\n",
              "    .colab-df-convert:hover {\n",
              "      background-color: #E2EBFA;\n",
              "      box-shadow: 0px 1px 2px rgba(60, 64, 67, 0.3), 0px 1px 3px 1px rgba(60, 64, 67, 0.15);\n",
              "      fill: #174EA6;\n",
              "    }\n",
              "\n",
              "    [theme=dark] .colab-df-convert {\n",
              "      background-color: #3B4455;\n",
              "      fill: #D2E3FC;\n",
              "    }\n",
              "\n",
              "    [theme=dark] .colab-df-convert:hover {\n",
              "      background-color: #434B5C;\n",
              "      box-shadow: 0px 1px 3px 1px rgba(0, 0, 0, 0.15);\n",
              "      filter: drop-shadow(0px 1px 2px rgba(0, 0, 0, 0.3));\n",
              "      fill: #FFFFFF;\n",
              "    }\n",
              "  </style>\n",
              "\n",
              "      <script>\n",
              "        const buttonEl =\n",
              "          document.querySelector('#df-389ba05c-3800-422b-a70a-d77c906f17b3 button.colab-df-convert');\n",
              "        buttonEl.style.display =\n",
              "          google.colab.kernel.accessAllowed ? 'block' : 'none';\n",
              "\n",
              "        async function convertToInteractive(key) {\n",
              "          const element = document.querySelector('#df-389ba05c-3800-422b-a70a-d77c906f17b3');\n",
              "          const dataTable =\n",
              "            await google.colab.kernel.invokeFunction('convertToInteractive',\n",
              "                                                     [key], {});\n",
              "          if (!dataTable) return;\n",
              "\n",
              "          const docLinkHtml = 'Like what you see? Visit the ' +\n",
              "            '<a target=\"_blank\" href=https://colab.research.google.com/notebooks/data_table.ipynb>data table notebook</a>'\n",
              "            + ' to learn more about interactive tables.';\n",
              "          element.innerHTML = '';\n",
              "          dataTable['output_type'] = 'display_data';\n",
              "          await google.colab.output.renderOutput(dataTable, element);\n",
              "          const docLink = document.createElement('div');\n",
              "          docLink.innerHTML = docLinkHtml;\n",
              "          element.appendChild(docLink);\n",
              "        }\n",
              "      </script>\n",
              "    </div>\n",
              "  </div>\n",
              "  "
            ]
          },
          "metadata": {},
          "execution_count": 24
        }
      ],
      "source": [
        "X_oho"
      ]
    },
    {
      "cell_type": "code",
      "execution_count": 25,
      "id": "cbc03bbe",
      "metadata": {
        "colab": {
          "base_uri": "https://localhost:8080/"
        },
        "id": "cbc03bbe",
        "outputId": "e56eeb8c-093a-4bdc-9cab-e5369f1adef8"
      },
      "outputs": [
        {
          "output_type": "execute_result",
          "data": {
            "text/plain": [
              "(32950, 62)"
            ]
          },
          "metadata": {},
          "execution_count": 25
        }
      ],
      "source": [
        "colTransformer = ColumnTransformer([\n",
        "    ('num', StandardScaler(), num_features),\n",
        "    ('cat', OneHotEncoder(), cat_features)\n",
        "    ],\n",
        "    remainder='passthrough'  # i.e., leave the rest of the columns untouched -- otherwise, they're dropped\n",
        "    )\n",
        "\n",
        "X_processed = colTransformer.fit_transform(X_df)\n",
        "X_processed.shape"
      ]
    },
    {
      "cell_type": "code",
      "execution_count": 26,
      "id": "af0db4a8",
      "metadata": {
        "scrolled": true,
        "colab": {
          "base_uri": "https://localhost:8080/"
        },
        "id": "af0db4a8",
        "outputId": "31653dc4-0b94-4ba0-94ee-ae147370ec39"
      },
      "outputs": [
        {
          "output_type": "execute_result",
          "data": {
            "text/plain": [
              "array([[-1.72917814,  0.15624845, -5.17551625, ...,  0.        ,\n",
              "         0.        ,  1.        ],\n",
              "       [-0.38548747, -0.56704269,  0.19322861, ...,  0.        ,\n",
              "         1.        ,  0.        ],\n",
              "       [-0.28950956, -0.56704269,  0.19322861, ...,  0.        ,\n",
              "         1.        ,  0.        ],\n",
              "       ...,\n",
              "       [ 1.53407064, -0.56704269,  0.19322861, ...,  0.        ,\n",
              "         1.        ,  0.        ],\n",
              "       [ 0.67026949, -0.56704269,  0.19322861, ...,  0.        ,\n",
              "         1.        ,  0.        ],\n",
              "       [-0.67342118,  1.60283073,  0.19322861, ...,  0.        ,\n",
              "         1.        ,  0.        ]])"
            ]
          },
          "metadata": {},
          "execution_count": 26
        }
      ],
      "source": [
        "X_processed"
      ]
    },
    {
      "cell_type": "code",
      "execution_count": 32,
      "id": "cf606495",
      "metadata": {
        "colab": {
          "base_uri": "https://localhost:8080/"
        },
        "id": "cf606495",
        "outputId": "da19813e-5fe9-4270-f48b-0c3c56554a13"
      },
      "outputs": [
        {
          "output_type": "execute_result",
          "data": {
            "text/plain": [
              "array([[1],\n",
              "       [0],\n",
              "       [1],\n",
              "       ...,\n",
              "       [0],\n",
              "       [0],\n",
              "       [0]], dtype=uint8)"
            ]
          },
          "metadata": {},
          "execution_count": 32
        }
      ],
      "source": [
        "y.values"
      ]
    },
    {
      "cell_type": "code",
      "execution_count": 33,
      "id": "f52bf143",
      "metadata": {
        "colab": {
          "base_uri": "https://localhost:8080/"
        },
        "id": "f52bf143",
        "outputId": "d433af08-3b8b-4deb-86e5-0215779c4e06"
      },
      "outputs": [
        {
          "output_type": "stream",
          "name": "stdout",
          "text": [
            "['accuracy', 'adjusted_mutual_info_score', 'adjusted_rand_score', 'average_precision', 'balanced_accuracy', 'completeness_score', 'explained_variance', 'f1', 'f1_macro', 'f1_micro', 'f1_samples', 'f1_weighted', 'fowlkes_mallows_score', 'homogeneity_score', 'jaccard', 'jaccard_macro', 'jaccard_micro', 'jaccard_samples', 'jaccard_weighted', 'max_error', 'mutual_info_score', 'neg_brier_score', 'neg_log_loss', 'neg_mean_absolute_error', 'neg_mean_absolute_percentage_error', 'neg_mean_gamma_deviance', 'neg_mean_poisson_deviance', 'neg_mean_squared_error', 'neg_mean_squared_log_error', 'neg_median_absolute_error', 'neg_root_mean_squared_error', 'normalized_mutual_info_score', 'precision', 'precision_macro', 'precision_micro', 'precision_samples', 'precision_weighted', 'r2', 'rand_score', 'recall', 'recall_macro', 'recall_micro', 'recall_samples', 'recall_weighted', 'roc_auc', 'roc_auc_ovo', 'roc_auc_ovo_weighted', 'roc_auc_ovr', 'roc_auc_ovr_weighted', 'top_k_accuracy', 'v_measure_score']\n"
          ]
        }
      ],
      "source": [
        "print(sorted(SCORERS.keys()))"
      ]
    },
    {
      "cell_type": "code",
      "execution_count": 34,
      "id": "ac9f599f",
      "metadata": {
        "colab": {
          "base_uri": "https://localhost:8080/"
        },
        "id": "ac9f599f",
        "outputId": "5bbc3421-655a-4675-daa1-c6be4b7a2984"
      },
      "outputs": [
        {
          "output_type": "stream",
          "name": "stdout",
          "text": [
            "Dummy ACC: 0.11\n"
          ]
        }
      ],
      "source": [
        "dummy_clf = DummyClassifier(strategy='stratified')\n",
        "dummy_clf.fit(X_processed, y)\n",
        "print(\"Dummy ACC: %.2f\" % f1_score(y, dummy_clf.predict(X_processed)))"
      ]
    },
    {
      "cell_type": "markdown",
      "id": "0389410b",
      "metadata": {
        "id": "0389410b"
      },
      "source": [
        "The below code gives the RFC score"
      ]
    },
    {
      "cell_type": "code",
      "execution_count": 35,
      "id": "08276357",
      "metadata": {
        "colab": {
          "base_uri": "https://localhost:8080/"
        },
        "id": "08276357",
        "outputId": "4ae5455a-54c4-4726-829f-c33ef0cf57e2"
      },
      "outputs": [
        {
          "output_type": "stream",
          "name": "stdout",
          "text": [
            "ACC: 0.28 +/- 0.04\n"
          ]
        }
      ],
      "source": [
        "clf = RandomForestClassifier(n_estimators=600, max_depth=5, random_state=50)\n",
        "scores = cross_val_score(clf, X_processed, y, cv=10, scoring=make_scorer(f1_score))  # cross-validation\n",
        "print(\"ACC: %.2f +/- %.2f\" % (scores.mean(), scores.std()))"
      ]
    },
    {
      "cell_type": "code",
      "execution_count": null,
      "id": "467faea3",
      "metadata": {
        "id": "467faea3"
      },
      "outputs": [],
      "source": [
        ""
      ]
    },
    {
      "cell_type": "code",
      "execution_count": 36,
      "id": "e9164c44",
      "metadata": {
        "id": "e9164c44"
      },
      "outputs": [],
      "source": [
        " #Randomized Search CV\n",
        "\n",
        "# Number of trees in random forest\n",
        "n_estimators = [int(x) for x in np.linspace(start = 50, stop = 1200, num = 24)]\n",
        "# Maximum number of levels in tree\n",
        "max_depth = [int(x) for x in np.linspace(1, 20, num = 20)]\n",
        "\n"
      ]
    },
    {
      "cell_type": "code",
      "execution_count": 37,
      "id": "d9480d32",
      "metadata": {
        "colab": {
          "base_uri": "https://localhost:8080/"
        },
        "id": "d9480d32",
        "outputId": "67567b47-bc02-4350-930f-74e2fe13d1b1"
      },
      "outputs": [
        {
          "output_type": "stream",
          "name": "stdout",
          "text": [
            "{'n_estimators': [50, 100, 150, 200, 250, 300, 350, 400, 450, 500, 550, 600, 650, 700, 750, 800, 850, 900, 950, 1000, 1050, 1100, 1150, 1200], 'max_depth': [1, 2, 3, 4, 5, 6, 7, 8, 9, 10, 11, 12, 13, 14, 15, 16, 17, 18, 19, 20]}\n"
          ]
        }
      ],
      "source": [
        "# Create the random grid\n",
        "random_grid = {'n_estimators': n_estimators,\n",
        "               'max_depth': max_depth}\n",
        "\n",
        "print(random_grid)"
      ]
    },
    {
      "cell_type": "code",
      "execution_count": null,
      "id": "bcb89258",
      "metadata": {
        "id": "bcb89258"
      },
      "outputs": [],
      "source": [
        ""
      ]
    },
    {
      "cell_type": "code",
      "execution_count": 38,
      "id": "3b2d5ef4",
      "metadata": {
        "id": "3b2d5ef4"
      },
      "outputs": [],
      "source": [
        "# Use the random grid to search for best hyperparameters\n",
        "# First create the base model to tune\n",
        "rf = RandomForestClassifier()\n",
        "# Random search of parameters, using 3 fold cross validation, \n",
        "# search across 100 different combinations\n",
        "rf_random = RandomizedSearchCV(estimator = rf, param_distributions=random_grid, scoring=f1_score, n_iter = 10, cv = 10, verbose=2, random_state=50, n_jobs = 1)\n",
        "\n"
      ]
    },
    {
      "cell_type": "code",
      "execution_count": null,
      "id": "819f05a7",
      "metadata": {
        "colab": {
          "base_uri": "https://localhost:8080/"
        },
        "id": "819f05a7",
        "outputId": "77f2965c-2b29-4571-9b8b-f936dab83f26"
      },
      "outputs": [
        {
          "output_type": "stream",
          "name": "stdout",
          "text": [
            "Fitting 10 folds for each of 10 candidates, totalling 100 fits\n",
            "[CV] END ......................max_depth=5, n_estimators=600; total time=   8.1s\n",
            "[CV] END ......................max_depth=5, n_estimators=600; total time=   9.3s\n",
            "[CV] END ......................max_depth=5, n_estimators=600; total time=   8.8s\n",
            "[CV] END ......................max_depth=5, n_estimators=600; total time=   8.4s\n",
            "[CV] END ......................max_depth=5, n_estimators=600; total time=   8.0s\n",
            "[CV] END ......................max_depth=5, n_estimators=600; total time=   8.2s\n",
            "[CV] END ......................max_depth=5, n_estimators=600; total time=   8.2s\n",
            "[CV] END ......................max_depth=5, n_estimators=600; total time=   8.6s\n",
            "[CV] END ......................max_depth=5, n_estimators=600; total time=   7.8s\n",
            "[CV] END ......................max_depth=5, n_estimators=600; total time=   8.0s\n",
            "[CV] END .....................max_depth=2, n_estimators=1150; total time=   9.7s\n",
            "[CV] END .....................max_depth=2, n_estimators=1150; total time=   9.8s\n",
            "[CV] END .....................max_depth=2, n_estimators=1150; total time=   9.8s\n",
            "[CV] END .....................max_depth=2, n_estimators=1150; total time=   9.5s\n",
            "[CV] END .....................max_depth=2, n_estimators=1150; total time=   9.4s\n",
            "[CV] END .....................max_depth=2, n_estimators=1150; total time=   9.5s\n",
            "[CV] END .....................max_depth=2, n_estimators=1150; total time=   9.7s\n",
            "[CV] END .....................max_depth=2, n_estimators=1150; total time=   9.5s\n",
            "[CV] END .....................max_depth=2, n_estimators=1150; total time=  10.1s\n",
            "[CV] END .....................max_depth=2, n_estimators=1150; total time=   9.4s\n",
            "[CV] END .....................max_depth=15, n_estimators=600; total time=  15.2s\n",
            "[CV] END .....................max_depth=15, n_estimators=600; total time=  15.5s\n",
            "[CV] END .....................max_depth=15, n_estimators=600; total time=  14.8s\n",
            "[CV] END .....................max_depth=15, n_estimators=600; total time=  15.6s\n",
            "[CV] END .....................max_depth=15, n_estimators=600; total time=  15.2s\n",
            "[CV] END .....................max_depth=15, n_estimators=600; total time=  15.6s\n",
            "[CV] END .....................max_depth=15, n_estimators=600; total time=  15.6s\n",
            "[CV] END .....................max_depth=15, n_estimators=600; total time=  14.9s\n",
            "[CV] END .....................max_depth=15, n_estimators=600; total time=  15.6s\n",
            "[CV] END .....................max_depth=15, n_estimators=600; total time=  15.2s\n",
            "[CV] END ......................max_depth=2, n_estimators=950; total time=   8.0s\n",
            "[CV] END ......................max_depth=2, n_estimators=950; total time=   8.3s\n",
            "[CV] END ......................max_depth=2, n_estimators=950; total time=   8.4s\n",
            "[CV] END ......................max_depth=2, n_estimators=950; total time=   8.4s\n",
            "[CV] END ......................max_depth=2, n_estimators=950; total time=   8.2s\n",
            "[CV] END ......................max_depth=2, n_estimators=950; total time=   8.0s\n"
          ]
        }
      ],
      "source": [
        "rf_random.fit(X_processed, y)"
      ]
    },
    {
      "cell_type": "code",
      "execution_count": null,
      "id": "b533708a",
      "metadata": {
        "id": "b533708a"
      },
      "outputs": [],
      "source": [
        "#after gridsearch check. rfc with best estimators"
      ]
    },
    {
      "cell_type": "code",
      "execution_count": null,
      "id": "ec4eb145",
      "metadata": {
        "id": "ec4eb145"
      },
      "outputs": [],
      "source": [
        "rf_random.best_params_"
      ]
    },
    {
      "cell_type": "code",
      "execution_count": null,
      "id": "12ffc937",
      "metadata": {
        "id": "12ffc937"
      },
      "outputs": [],
      "source": [
        "rf_random.best_estimator_"
      ]
    },
    {
      "cell_type": "code",
      "execution_count": null,
      "id": "e03d386c",
      "metadata": {
        "id": "e03d386c"
      },
      "outputs": [],
      "source": [
        "clf = rf_random.best_estimator_\n",
        "scores = cross_val_score(clf, X_processed, y, cv=10, scoring=make_scorer(f1_score))  # cross-validation\n",
        "print(\"ACC: %.2f +/- %.2f\" % (scores.mean(), scores.std()))"
      ]
    },
    {
      "cell_type": "code",
      "execution_count": null,
      "id": "f7d0a848",
      "metadata": {
        "id": "f7d0a848"
      },
      "outputs": [],
      "source": [
        ""
      ]
    },
    {
      "cell_type": "code",
      "execution_count": null,
      "id": "aefdd14f",
      "metadata": {
        "id": "aefdd14f"
      },
      "outputs": [],
      "source": [
        ""
      ]
    },
    {
      "cell_type": "markdown",
      "id": "c7045e3e",
      "metadata": {
        "id": "c7045e3e"
      },
      "source": [
        "# FEATURE IMPORTANCE"
      ]
    },
    {
      "cell_type": "code",
      "execution_count": null,
      "id": "ff6189e0",
      "metadata": {
        "id": "ff6189e0"
      },
      "outputs": [],
      "source": [
        "X = X_processed"
      ]
    },
    {
      "cell_type": "code",
      "execution_count": null,
      "id": "4a4178a2",
      "metadata": {
        "id": "4a4178a2",
        "outputId": "df54fb2a-4797-4156-eb35-9fe417033b3a"
      },
      "outputs": [
        {
          "name": "stdout",
          "output_type": "stream",
          "text": [
            "[ 7  8  2 61  4  0  6  5  1  3 59 60 52 49 43 50 42 55 31 38 36 56 54 23\n",
            " 57 22 44 28 58  9 39 10 14 41 18 30 27 48 17 33 21 34 25 53 16 32 13 26\n",
            " 19 15 51 45 47 12 37 40 11 20 46 24 29 35]\n",
            "Feature ranking:\n",
            "1. euribor3m (0.137780)\n",
            "2. nr.employed (0.116927)\n",
            "3. pdays (0.074017)\n",
            "4. success (0.069784)\n",
            "5. emp.var.rate (0.061363)\n",
            "6. age (0.060166)\n",
            "7. cons.conf.idx (0.055543)\n",
            "8. cons.price.idx (0.048979)\n",
            "9. campaign (0.026308)\n",
            "10. previous (0.025351)\n",
            "11. failure (0.016382)\n",
            "12. nonexistent (0.014782)\n",
            "13. oct (0.013438)\n",
            "14. mar (0.012811)\n",
            "15. telephone (0.012810)\n",
            "16. may (0.012357)\n",
            "17. cellular (0.012290)\n",
            "18. mon (0.010371)\n",
            "19. university.degree (0.009047)\n",
            "20. yes (0.008521)\n",
            "21. no (0.008431)\n",
            "22. thu (0.008164)\n",
            "23. fri (0.007796)\n",
            "24. single (0.007611)\n",
            "25. tue (0.007523)\n",
            "26. married (0.007450)\n",
            "27. apr (0.007437)\n",
            "28. high.school (0.007248)\n",
            "29. wed (0.007054)\n",
            "30. admin. (0.006952)\n",
            "31. no (0.006847)\n",
            "32. blue-collar (0.006600)\n",
            "33. retired (0.006250)\n",
            "34. yes (0.006244)\n",
            "35. technician (0.006190)\n",
            "36. professional.course (0.006005)\n",
            "37. basic.9y (0.005529)\n",
            "38. jun (0.005518)\n",
            "39. student (0.005392)\n",
            "40. no (0.005189)\n",
            "41. divorced (0.004945)\n",
            "42. unknown (0.004916)\n",
            "43. basic.4y (0.004759)\n",
            "44. sep (0.004538)\n",
            "45. services (0.004164)\n",
            "46. unknown (0.004158)\n",
            "47. management (0.003956)\n",
            "48. basic.6y (0.003423)\n",
            "49. unemployed (0.003405)\n",
            "50. self-employed (0.003265)\n",
            "51. nov (0.003076)\n",
            "52. aug (0.003003)\n",
            "53. jul (0.003002)\n",
            "54. housemaid (0.002565)\n",
            "55. unknown (0.002528)\n",
            "56. unknown (0.002516)\n",
            "57. entrepreneur (0.002301)\n",
            "58. unknown (0.002204)\n",
            "59. dec (0.001723)\n",
            "60. unknown (0.000804)\n",
            "61. illiterate (0.000294)\n",
            "62. yes (0.000000)\n"
          ]
        },
        {
          "data": {
            "image/png": "[encoded data removed]",
            "text/plain": [
              "<Figure size 3600x2160 with 1 Axes>"
            ]
          },
          "metadata": {
            "needs_background": "light"
          },
          "output_type": "display_data"
        }
      ],
      "source": [
        "# Fit the model\n",
        "clf.fit(X_processed, y)\n",
        "\n",
        "# Let's see the feature importances for our classifier\n",
        "importances = clf.feature_importances_\n",
        "std = np.std([tree.feature_importances_ for tree in clf.estimators_],\n",
        "             axis=0)\n",
        "indices = np.argsort(importances)[::-1]\n",
        "print(indices)\n",
        "# Let's get the attibute names:\n",
        "cat_encoder = colTransformer.named_transformers_['cat']\n",
        "cat_oho_attributes = oho_categories = [item for sublist in cat_encoder.categories_ for item in sublist]\n",
        "feat_names = num_features + cat_oho_attributes\n",
        "\n",
        "# Print the feature ranking\n",
        "print(\"Feature ranking:\")\n",
        "for f in range(X_processed.shape[1]):\n",
        "    print(\"%d. %s (%f)\" % (f + 1, feat_names[indices[f]],  importances[indices[f]]))\n",
        "\n",
        "# Plot the feature importances of the forest\n",
        "fig = plt.figure()\n",
        "plt.title(\"Feature importances\")\n",
        "plt.bar(range(X.shape[1]), importances[indices], color=\"r\", yerr=std[indices], align=\"center\")\n",
        "plt.xticks(range(X.shape[1]), np.array(feat_names)[indices])\n",
        "plt.xlim([-1, X.shape[1]])\n",
        "plt.ylim([0, None])\n",
        "\n",
        "fig.set_size_inches(50, 30)"
      ]
    },
    {
      "cell_type": "code",
      "execution_count": null,
      "id": "3fe3874a",
      "metadata": {
        "id": "3fe3874a"
      },
      "outputs": [],
      "source": [
        "import seaborn as sns\n",
        "#Using Pearson Correlation\n",
        "plt.figure(figsize=(30,20))\n",
        "cor = X_df.corr()\n",
        "sns.heatmap(cor, annot=True, cmap=plt.cm.CMRmap_r)\n",
        "plt.show()"
      ]
    },
    {
      "cell_type": "code",
      "execution_count": null,
      "id": "823d4de6",
      "metadata": {
        "id": "823d4de6"
      },
      "outputs": [],
      "source": [
        ""
      ]
    },
    {
      "cell_type": "markdown",
      "id": "9c5919fb",
      "metadata": {
        "id": "9c5919fb"
      },
      "source": [
        "# Feature selection"
      ]
    },
    {
      "cell_type": "markdown",
      "id": "7837c8d3",
      "metadata": {
        "id": "7837c8d3"
      },
      "source": [
        "1.euribor3m (0.137780)\n",
        "2. nr.employed (0.116927)\n",
        "3. pdays (0.074017)\n",
        "4. success (0.069784)\n",
        "5. emp.var.rate (0.061363)\n",
        "6. age (0.060166)\n",
        "7. cons.conf.idx (0.055543)\n",
        "8. cons.price.idx (0.048979)\n",
        "9. campaign (0.026308)\n",
        "10. previous "
      ]
    },
    {
      "cell_type": "code",
      "execution_count": null,
      "id": "ae27c67a",
      "metadata": {
        "id": "ae27c67a"
      },
      "outputs": [],
      "source": [
        "features =['euribor3m','nr.employed','pdays','poutcome','emp.var.rate','age','cons.conf.idx','cons.price.idx','campaign','previous']"
      ]
    },
    {
      "cell_type": "code",
      "execution_count": null,
      "id": "c9b53808",
      "metadata": {
        "id": "c9b53808"
      },
      "outputs": [],
      "source": [
        "X_df = df[features]"
      ]
    },
    {
      "cell_type": "code",
      "execution_count": null,
      "id": "21351526",
      "metadata": {
        "id": "21351526"
      },
      "outputs": [],
      "source": [
        "X_df"
      ]
    },
    {
      "cell_type": "code",
      "execution_count": null,
      "id": "93cce4be",
      "metadata": {
        "id": "93cce4be"
      },
      "outputs": [],
      "source": [
        "num_features = [feature for feature in X_df.columns if X_df[feature].dtypes != 'O']"
      ]
    },
    {
      "cell_type": "code",
      "execution_count": null,
      "id": "3d1e6581",
      "metadata": {
        "id": "3d1e6581"
      },
      "outputs": [],
      "source": [
        "cat_features = [feature for feature in X_df.columns if X_df[feature].dtype == 'O']"
      ]
    },
    {
      "cell_type": "code",
      "execution_count": null,
      "id": "08d22bcc",
      "metadata": {
        "id": "08d22bcc"
      },
      "outputs": [],
      "source": [
        "num_features"
      ]
    },
    {
      "cell_type": "code",
      "execution_count": null,
      "id": "c9909a9f",
      "metadata": {
        "scrolled": true,
        "id": "c9909a9f"
      },
      "outputs": [],
      "source": [
        "cat_features"
      ]
    },
    {
      "cell_type": "code",
      "execution_count": null,
      "id": "22609505",
      "metadata": {
        "id": "22609505"
      },
      "outputs": [],
      "source": [
        "encoder = OneHotEncoderCategoricalFeatures(cat_features)\n",
        "X_oho = encoder.transform(X_df)\n",
        "X_oho.shape"
      ]
    },
    {
      "cell_type": "code",
      "execution_count": null,
      "id": "d3f61f14",
      "metadata": {
        "id": "d3f61f14"
      },
      "outputs": [],
      "source": [
        "X_oho"
      ]
    },
    {
      "cell_type": "code",
      "execution_count": null,
      "id": "34e13c97",
      "metadata": {
        "id": "34e13c97"
      },
      "outputs": [],
      "source": [
        "colTransformer = ColumnTransformer([\n",
        "    ('num', StandardScaler(), num_features),\n",
        "    ('cat', OneHotEncoder(), cat_features)\n",
        "    ],\n",
        "    remainder='passthrough'  # i.e., leave the rest of the columns untouched -- otherwise, they're dropped\n",
        "    )\n",
        "\n",
        "X_processed = colTransformer.fit_transform(X_df)\n",
        "X_processed.shape"
      ]
    },
    {
      "cell_type": "code",
      "execution_count": null,
      "id": "0c58610c",
      "metadata": {
        "scrolled": true,
        "id": "0c58610c"
      },
      "outputs": [],
      "source": [
        "X_processed.shape"
      ]
    },
    {
      "cell_type": "code",
      "execution_count": null,
      "id": "63b7e2ae",
      "metadata": {
        "id": "63b7e2ae"
      },
      "outputs": [],
      "source": [
        "y.values"
      ]
    },
    {
      "cell_type": "code",
      "execution_count": null,
      "id": "67d48841",
      "metadata": {
        "id": "67d48841"
      },
      "outputs": [],
      "source": [
        ""
      ]
    },
    {
      "cell_type": "code",
      "execution_count": null,
      "id": "f474d94e",
      "metadata": {
        "id": "f474d94e"
      },
      "outputs": [],
      "source": [
        "dummy_clf = DummyClassifier(strategy='stratified')\n",
        "dummy_clf.fit(X_processed, y)\n",
        "print(\"Dummy ACC: %.2f\" % f1_score(y, dummy_clf.predict(X_processed)))"
      ]
    },
    {
      "cell_type": "markdown",
      "id": "ea7ce5d5",
      "metadata": {
        "id": "ea7ce5d5"
      },
      "source": [
        "The below code gives the RFC score"
      ]
    },
    {
      "cell_type": "code",
      "execution_count": null,
      "id": "9efc8a3b",
      "metadata": {
        "id": "9efc8a3b"
      },
      "outputs": [],
      "source": [
        "clf = RandomForestClassifier(n_estimators=100, max_depth=3, random_state=50)\n",
        "scores = cross_val_score(clf, X_processed, y, cv=10, scoring=make_scorer(f1_score))  # cross-validation\n",
        "print(\"ACC: %.2f +/- %.2f\" % (scores.mean(), scores.std()))"
      ]
    },
    {
      "cell_type": "code",
      "execution_count": null,
      "id": "c865660c",
      "metadata": {
        "id": "c865660c"
      },
      "outputs": [],
      "source": [
        "clf = rf_random.best_estimator_\n",
        "scores = cross_val_score(clf, X_processed, y, cv=10, scoring=make_scorer(f1_score))  # cross-validation\n",
        "print(\"ACC: %.2f +/- %.2f\" % (scores.mean(), scores.std()))"
      ]
    },
    {
      "cell_type": "markdown",
      "id": "7f526453",
      "metadata": {
        "id": "7f526453"
      },
      "source": [
        "# TESTING\n"
      ]
    },
    {
      "cell_type": "code",
      "execution_count": null,
      "id": "891d8d6c",
      "metadata": {
        "id": "891d8d6c",
        "outputId": "6e7b6204-990c-4fa2-827a-8289fce0efeb"
      },
      "outputs": [
        {
          "name": "stdout",
          "output_type": "stream",
          "text": [
            "Size of test set: 8238\n"
          ]
        }
      ],
      "source": [
        "df_test = test_set.copy()\n",
        "print('Size of test set: %d' % len(df_test))\n",
        "# Separate features from outcomes\n",
        "y_test_df = df_test['y'].copy()\n",
        "y_test_df = pd.get_dummies(y_test_df, columns=['Class'],drop_first=True)\n",
        "y_test = y_test_df.rename(columns={'yes': 'y'})\n",
        "X_test_df = df_test.copy().drop(['y'],axis = 1)"
      ]
    },
    {
      "cell_type": "code",
      "execution_count": null,
      "id": "dfdabaaf",
      "metadata": {
        "id": "dfdabaaf"
      },
      "outputs": [],
      "source": [
        "# Transform features\n",
        "X_test = colTransformer.transform(X_test_df)\n",
        "assert X_test.shape[1] == X_processed.shape[1]  # same number of features"
      ]
    },
    {
      "cell_type": "code",
      "execution_count": null,
      "id": "327e8e99",
      "metadata": {
        "id": "327e8e99",
        "outputId": "94488310-5f8e-41a4-8699-27822a8da0ca"
      },
      "outputs": [
        {
          "data": {
            "text/plain": [
              "0.8999757222626851"
            ]
          },
          "execution_count": 137,
          "metadata": {},
          "output_type": "execute_result"
        }
      ],
      "source": [
        "# Predict\n",
        "test_predictions = clf.predict(X_test)\n",
        "# What's the accuracy on the test set?\n",
        "acc(y_test, test_predictions)"
      ]
    },
    {
      "cell_type": "code",
      "execution_count": null,
      "id": "94e58fcd",
      "metadata": {
        "id": "94e58fcd"
      },
      "outputs": [],
      "source": [
        ""
      ]
    },
    {
      "cell_type": "code",
      "execution_count": null,
      "id": "a0bf8e35",
      "metadata": {
        "id": "a0bf8e35"
      },
      "outputs": [],
      "source": [
        "colTransformer = ColumnTransformer([\n",
        "    ('num', StandardScaler(), num_features),\n",
        "    ('cat', OneHotEncoder(), cat_features)\n",
        "    ],\n",
        "    remainder='passthrough'  # i.e., leave the rest of the columns untouched -- otherwise, they're dropped\n",
        "    )\n",
        "\n",
        "X_processed = colTransformer.fit_transform(X_df)\n",
        "X_processed.shape"
      ]
    }
  ],
  "metadata": {
    "kernelspec": {
      "display_name": "Python 3 (ipykernel)",
      "language": "python",
      "name": "python3"
    },
    "language_info": {
      "codemirror_mode": {
        "name": "ipython",
        "version": 3
      },
      "file_extension": ".py",
      "mimetype": "text/x-python",
      "name": "python",
      "nbconvert_exporter": "python",
      "pygments_lexer": "ipython3",
      "version": "3.9.7"
    },
    "colab": {
      "name": "bank_classification.ipynb",
      "provenance": [],
      "include_colab_link": true
    }
  },
  "nbformat": 4,
  "nbformat_minor": 5
}