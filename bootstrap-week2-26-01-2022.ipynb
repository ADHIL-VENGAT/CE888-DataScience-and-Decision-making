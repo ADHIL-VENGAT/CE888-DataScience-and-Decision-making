{
 "cells": [
  {
   "cell_type": "markdown",
   "metadata": {
    "id": "nCi_99yMYIb1"
   },
   "source": [
    "In this notebook you'll create your own bootstrap function following the bootstrap algorithm (check the lecture notes!)"
   ]
  },
  {
   "cell_type": "code",
   "execution_count": 20,
   "metadata": {
    "id": "LY5zujI2YC37",
    "pycharm": {
     "name": "#%%# Imports\n"
    }
   },
   "outputs": [],
   "source": [
    "import matplotlib\n",
    "import pandas as pd\n",
    "import seaborn as sns\n",
    "import numpy as np\n",
    "\n"
   ]
  },
  {
   "cell_type": "code",
   "execution_count": 21,
   "metadata": {
    "id": "Eqkwj4SMY38t"
   },
   "outputs": [],
   "source": [
    "# Load the data\n",
    "df = pd.read_csv('https://raw.githubusercontent.com/albanda/CE888/master/lab2%20-%20bootstrap/customers.csv')\n",
    "data = df.values.T[1]"
   ]
  },
  {
   "cell_type": "code",
   "execution_count": 22,
   "metadata": {},
   "outputs": [
    {
     "data": {
      "text/html": [
       "<div>\n",
       "<style scoped>\n",
       "    .dataframe tbody tr th:only-of-type {\n",
       "        vertical-align: middle;\n",
       "    }\n",
       "\n",
       "    .dataframe tbody tr th {\n",
       "        vertical-align: top;\n",
       "    }\n",
       "\n",
       "    .dataframe thead th {\n",
       "        text-align: right;\n",
       "    }\n",
       "</style>\n",
       "<table border=\"1\" class=\"dataframe\">\n",
       "  <thead>\n",
       "    <tr style=\"text-align: right;\">\n",
       "      <th></th>\n",
       "      <th>Day</th>\n",
       "      <th>Millons of pounds in sales</th>\n",
       "    </tr>\n",
       "  </thead>\n",
       "  <tbody>\n",
       "    <tr>\n",
       "      <th>0</th>\n",
       "      <td>1</td>\n",
       "      <td>2.0</td>\n",
       "    </tr>\n",
       "    <tr>\n",
       "      <th>1</th>\n",
       "      <td>2</td>\n",
       "      <td>8.0</td>\n",
       "    </tr>\n",
       "    <tr>\n",
       "      <th>2</th>\n",
       "      <td>3</td>\n",
       "      <td>20.0</td>\n",
       "    </tr>\n",
       "    <tr>\n",
       "      <th>3</th>\n",
       "      <td>4</td>\n",
       "      <td>13.0</td>\n",
       "    </tr>\n",
       "    <tr>\n",
       "      <th>4</th>\n",
       "      <td>5</td>\n",
       "      <td>5.0</td>\n",
       "    </tr>\n",
       "    <tr>\n",
       "      <th>5</th>\n",
       "      <td>6</td>\n",
       "      <td>9.0</td>\n",
       "    </tr>\n",
       "    <tr>\n",
       "      <th>6</th>\n",
       "      <td>7</td>\n",
       "      <td>10.0</td>\n",
       "    </tr>\n",
       "    <tr>\n",
       "      <th>7</th>\n",
       "      <td>8</td>\n",
       "      <td>8.0</td>\n",
       "    </tr>\n",
       "    <tr>\n",
       "      <th>8</th>\n",
       "      <td>9</td>\n",
       "      <td>22.0</td>\n",
       "    </tr>\n",
       "    <tr>\n",
       "      <th>9</th>\n",
       "      <td>10</td>\n",
       "      <td>10.0</td>\n",
       "    </tr>\n",
       "    <tr>\n",
       "      <th>10</th>\n",
       "      <td>11</td>\n",
       "      <td>2.0</td>\n",
       "    </tr>\n",
       "    <tr>\n",
       "      <th>11</th>\n",
       "      <td>12</td>\n",
       "      <td>4.0</td>\n",
       "    </tr>\n",
       "    <tr>\n",
       "      <th>12</th>\n",
       "      <td>13</td>\n",
       "      <td>7.0</td>\n",
       "    </tr>\n",
       "    <tr>\n",
       "      <th>13</th>\n",
       "      <td>14</td>\n",
       "      <td>9.0</td>\n",
       "    </tr>\n",
       "  </tbody>\n",
       "</table>\n",
       "</div>"
      ],
      "text/plain": [
       "    Day   Millons of pounds in sales\n",
       "0     1                          2.0\n",
       "1     2                          8.0\n",
       "2     3                         20.0\n",
       "3     4                         13.0\n",
       "4     5                          5.0\n",
       "5     6                          9.0\n",
       "6     7                         10.0\n",
       "7     8                          8.0\n",
       "8     9                         22.0\n",
       "9    10                         10.0\n",
       "10   11                          2.0\n",
       "11   12                          4.0\n",
       "12   13                          7.0\n",
       "13   14                          9.0"
      ]
     },
     "execution_count": 22,
     "metadata": {},
     "output_type": "execute_result"
    }
   ],
   "source": [
    "df"
   ]
  },
  {
   "cell_type": "code",
   "execution_count": 23,
   "metadata": {
    "id": "Gxvc_bScYC4H",
    "pycharm": {
     "name": "#%%\n"
    }
   },
   "outputs": [],
   "source": [
    "# Checking the notes from the lecture, create here your own bootstrap function:\n",
    "# 1. Sample from the input array x to create an array of samples of shape (n_bootstraps, sample_size)\n",
    "# Hint: Check the function random.choice() on Numpy\n",
    "# 2. Calculate and save the mean of the array (this is \"data_mean\" that is returned by the function)\n",
    "# 3. Calculate the mean from each bootstrap (i.e., row) and store it.\n",
    "# (This should be an array of n_bootstraps values)\n",
    "# 4. Calculate the lower and upper bounds for a 95% CI (hint: check the percentile function on Numpy)\n",
    "# 5. Return data_mean, and the lower and upper bounds of your interval\n",
    "\n",
    "# ----> defining a function to determine the mean of array ros\n",
    "def mean_of_array_rows(numbers):\n",
    "    l = []\n",
    "    for i in range(len(numbers)):\n",
    "        l.append(np.average(numbers[i]))\n",
    "    return np.array(l)\n",
    "\n",
    "\n",
    "\n",
    "def bootstrap_mean(x, sample_size, n_bootstraps):\n",
    "    # <---INSERT YOUR CODE HERE--->\n",
    "    n_bootstrap_array = []\n",
    "    ci_data_mean_array = []\n",
    "\n",
    "    \n",
    "    for i in range(n_bootstraps):\n",
    "        b_sample = np.random.choice(x,sample_size)\n",
    "        n_bootstrap_array.append(b_sample)\n",
    "    data_mean_array = np.sort(mean_of_array_rows(n_bootstrap_array))[::-1]\n",
    "    \n",
    "    ci = 95/100\n",
    "    l= (1-ci)/2\n",
    "    btm = l\n",
    "    top = ci + l\n",
    "    for element in data_mean_array:\n",
    "        if (element >= np.quantile(data_mean_array,btm)) and (element <= np.quantile(data_mean_array,top)):\n",
    "            ci_data_mean_array.append(element)\n",
    "    data_mean=np.mean(ci_data_mean_array)\n",
    "    lower = min(ci_data_mean_array)\n",
    "    upper = max(ci_data_mean_array)\n",
    " \n",
    "\n",
    "\n",
    "\n",
    "\n",
    "\n",
    "    return data_mean, lower, upper\n"
   ]
  },
  {
   "cell_type": "code",
   "execution_count": null,
   "metadata": {},
   "outputs": [],
   "source": []
  },
  {
   "cell_type": "code",
   "execution_count": 24,
   "metadata": {},
   "outputs": [
    {
     "name": "stderr",
     "output_type": "stream",
     "text": [
      "/usr/local/Cellar/jupyterlab/3.1.14/libexec/lib/python3.9/site-packages/seaborn/_decorators.py:36: FutureWarning: Pass the following variables as keyword args: x, y. From version 0.12, the only valid positional argument will be `data`, and passing other arguments without an explicit keyword will result in an error or misinterpretation.\n",
      "  warnings.warn(\n"
     ]
    },
    {
     "data": {
      "text/plain": [
       "(0.0, 50000.0)"
      ]
     },
     "execution_count": 24,
     "metadata": {},
     "output_type": "execute_result"
    },
    {
     "data": {
      "image/png": "[encoded data removed]",
      "text/plain": [
       "<Figure size 425.125x360 with 1 Axes>"
      ]
     },
     "metadata": {
      "needs_background": "light"
     },
     "output_type": "display_data"
    }
   ],
   "source": [
    "# Call your bootstrap function and plot the results\n",
    "\n",
    "boots = []\n",
    "for i in range(100, 50000, 1000):\n",
    "    boot = bootstrap_mean(data, data.shape[0], i)\n",
    "    boots.append([i, boot[0], \"mean\"])\n",
    "    boots.append([i, boot[1], \"lower\"])\n",
    "    boots.append([i, boot[2], \"upper\"])\n",
    "\n",
    "df_boot = pd.DataFrame(boots, columns=['Bootstrap Iterations', 'Mean', \"Value\"])\n",
    "sns_plot = sns.lmplot(df_boot.columns[0], df_boot.columns[1], data=df_boot, fit_reg=False, hue=\"Value\")\n",
    "\n",
    "sns_plot.axes[0, 0].set_ylim(0,)\n",
    "sns_plot.axes[0, 0].set_xlim(0, 50000)"
   ]
  },
  {
   "cell_type": "markdown",
   "metadata": {
    "id": "MjtP4e2_YC4V"
   },
   "source": [
    "\n",
    "Now, modify the bootstrap function you created above so that you can pass your desired confidence interval as a parameter.\n",
    "\n"
   ]
  },
  {
   "cell_type": "code",
   "execution_count": 25,
   "metadata": {},
   "outputs": [],
   "source": [
    "def bootstrap_mean_ci(sample, sample_size, n_bootstraps, ci):\n",
    "    n_bootstrap_array = []\n",
    "    ci_data_mean_array = []\n",
    "    for i in range(n_bootstraps):\n",
    "        b_sample = np.random.choice(sample,sample_size)\n",
    "        n_bootstrap_array.append(b_sample)\n",
    "    data_mean_array = np.sort(mean_of_array_rows(n_bootstrap_array))[::-1]\n",
    "    ci = ci/100\n",
    "    l= (1-ci)/2\n",
    "    btm = l\n",
    "    top = ci + l\n",
    "    for element in data_mean_array:\n",
    "        if (element >= np.quantile(data_mean_array,btm)) and (element <= np.quantile(data_mean_array,top)):\n",
    "            ci_data_mean_array.append(element)\n",
    "    data_mean=np.mean(ci_data_mean_array)\n",
    "    lower = min(ci_data_mean_array)\n",
    "    upper = max(ci_data_mean_array)\n",
    "    return data_mean, lower, upper    \n",
    "        \n",
    "    "
   ]
  },
  {
   "cell_type": "code",
   "execution_count": 26,
   "metadata": {
    "id": "uDnjq08GYl-C"
   },
   "outputs": [
    {
     "name": "stderr",
     "output_type": "stream",
     "text": [
      "/usr/local/Cellar/jupyterlab/3.1.14/libexec/lib/python3.9/site-packages/seaborn/_decorators.py:36: FutureWarning: Pass the following variables as keyword args: x, y. From version 0.12, the only valid positional argument will be `data`, and passing other arguments without an explicit keyword will result in an error or misinterpretation.\n",
      "  warnings.warn(\n"
     ]
    },
    {
     "data": {
      "text/plain": [
       "(0.0, 50000.0)"
      ]
     },
     "execution_count": 26,
     "metadata": {},
     "output_type": "execute_result"
    },
    {
     "data": {
      "image/png": "[encoded data removed]",
      "text/plain": [
       "<Figure size 425.125x360 with 1 Axes>"
      ]
     },
     "metadata": {
      "needs_background": "light"
     },
     "output_type": "display_data"
    }
   ],
   "source": [
    "boots = []\n",
    "for i in range(100, 50000, 1000):\n",
    "    boot = bootstrap_mean_ci(data, data.shape[0], i, 80)\n",
    "    boots.append([i, boot[0], \"mean\"])\n",
    "    boots.append([i, boot[1], \"lower\"])\n",
    "    boots.append([i, boot[2], \"upper\"])\n",
    "\n",
    "df_boot = pd.DataFrame(boots, columns=['Boostrap Iterations', 'Mean', \"Value\"])\n",
    "sns_plot = sns.lmplot(df_boot.columns[0], df_boot.columns[1], data=df_boot, fit_reg=False, hue=\"Value\")\n",
    "\n",
    "sns_plot.axes[0, 0].set_ylim(0,)\n",
    "sns_plot.axes[0, 0].set_xlim(0, 50000)\n",
    "\n",
    "#sns_plot.savefig(\"bootstrap_confidence_80.pdf\", bbox_inches='tight')\n"
   ]
  },
  {
   "cell_type": "markdown",
   "metadata": {
    "id": "qjNgXW6wdd7r"
   },
   "source": [
    "# Vehicles dataset\n",
    "\n",
    "Now let's work on a different dataset, which is stored in the vehicles.csv file.\n"
   ]
  },
  {
   "cell_type": "code",
   "execution_count": 27,
   "metadata": {
    "id": "avWv4ipFdpka"
   },
   "outputs": [],
   "source": [
    "# Load and visualise the vehicles dataset\n",
    "# To load the dataset: https://neptune.ai/blog/google-colab-dealing-with-files (check section \"Load individual files directly from GitHub\")\n",
    "\n",
    "\n",
    "# Note that the current and new fleets are in different columns and have different lengths, so bear this in mind when you're plotting.\n",
    "# You can create separate scatterplots for the two fleets, as you would with the histograms, \n",
    "# or plot them both in one plot (but not one against the other).\n",
    "# <---INSERT YOUR CODE HERE--->\n",
    "# Note: you can add more cells as needed to organise your code and your plots\n"
   ]
  },
  {
   "cell_type": "code",
   "execution_count": 28,
   "metadata": {},
   "outputs": [],
   "source": [
    "# Load the data\n",
    "df = pd.read_csv('https://raw.githubusercontent.com/albanda/CE888/master/lab2%20-%20bootstrap/vehicles.csv')"
   ]
  },
  {
   "cell_type": "code",
   "execution_count": 29,
   "metadata": {},
   "outputs": [
    {
     "data": {
      "text/html": [
       "<div>\n",
       "<style scoped>\n",
       "    .dataframe tbody tr th:only-of-type {\n",
       "        vertical-align: middle;\n",
       "    }\n",
       "\n",
       "    .dataframe tbody tr th {\n",
       "        vertical-align: top;\n",
       "    }\n",
       "\n",
       "    .dataframe thead th {\n",
       "        text-align: right;\n",
       "    }\n",
       "</style>\n",
       "<table border=\"1\" class=\"dataframe\">\n",
       "  <thead>\n",
       "    <tr style=\"text-align: right;\">\n",
       "      <th></th>\n",
       "      <th>Current fleet</th>\n",
       "      <th>New Fleet</th>\n",
       "    </tr>\n",
       "  </thead>\n",
       "  <tbody>\n",
       "    <tr>\n",
       "      <th>0</th>\n",
       "      <td>18</td>\n",
       "      <td>24.0</td>\n",
       "    </tr>\n",
       "    <tr>\n",
       "      <th>1</th>\n",
       "      <td>15</td>\n",
       "      <td>27.0</td>\n",
       "    </tr>\n",
       "    <tr>\n",
       "      <th>2</th>\n",
       "      <td>18</td>\n",
       "      <td>27.0</td>\n",
       "    </tr>\n",
       "    <tr>\n",
       "      <th>3</th>\n",
       "      <td>16</td>\n",
       "      <td>25.0</td>\n",
       "    </tr>\n",
       "    <tr>\n",
       "      <th>4</th>\n",
       "      <td>17</td>\n",
       "      <td>31.0</td>\n",
       "    </tr>\n",
       "    <tr>\n",
       "      <th>...</th>\n",
       "      <td>...</td>\n",
       "      <td>...</td>\n",
       "    </tr>\n",
       "    <tr>\n",
       "      <th>244</th>\n",
       "      <td>27</td>\n",
       "      <td>NaN</td>\n",
       "    </tr>\n",
       "    <tr>\n",
       "      <th>245</th>\n",
       "      <td>27</td>\n",
       "      <td>NaN</td>\n",
       "    </tr>\n",
       "    <tr>\n",
       "      <th>246</th>\n",
       "      <td>32</td>\n",
       "      <td>NaN</td>\n",
       "    </tr>\n",
       "    <tr>\n",
       "      <th>247</th>\n",
       "      <td>28</td>\n",
       "      <td>NaN</td>\n",
       "    </tr>\n",
       "    <tr>\n",
       "      <th>248</th>\n",
       "      <td>31</td>\n",
       "      <td>NaN</td>\n",
       "    </tr>\n",
       "  </tbody>\n",
       "</table>\n",
       "<p>249 rows × 2 columns</p>\n",
       "</div>"
      ],
      "text/plain": [
       "     Current fleet  New Fleet\n",
       "0               18       24.0\n",
       "1               15       27.0\n",
       "2               18       27.0\n",
       "3               16       25.0\n",
       "4               17       31.0\n",
       "..             ...        ...\n",
       "244             27        NaN\n",
       "245             27        NaN\n",
       "246             32        NaN\n",
       "247             28        NaN\n",
       "248             31        NaN\n",
       "\n",
       "[249 rows x 2 columns]"
      ]
     },
     "execution_count": 29,
     "metadata": {},
     "output_type": "execute_result"
    }
   ],
   "source": [
    "df"
   ]
  },
  {
   "cell_type": "code",
   "execution_count": 30,
   "metadata": {},
   "outputs": [
    {
     "name": "stderr",
     "output_type": "stream",
     "text": [
      "/usr/local/Cellar/jupyterlab/3.1.14/libexec/lib/python3.9/site-packages/seaborn/distributions.py:2619: FutureWarning: `distplot` is a deprecated function and will be removed in a future version. Please adapt your code to use either `displot` (a figure-level function with similar flexibility) or `histplot` (an axes-level function for histograms).\n",
      "  warnings.warn(msg, FutureWarning)\n",
      "/usr/local/Cellar/jupyterlab/3.1.14/libexec/lib/python3.9/site-packages/seaborn/distributions.py:2103: FutureWarning: The `axis` variable is no longer used and will be removed. Instead, assign variables directly to `x` or `y`.\n",
      "  warnings.warn(msg, FutureWarning)\n",
      "/usr/local/Cellar/jupyterlab/3.1.14/libexec/lib/python3.9/site-packages/seaborn/distributions.py:2619: FutureWarning: `distplot` is a deprecated function and will be removed in a future version. Please adapt your code to use either `displot` (a figure-level function with similar flexibility) or `histplot` (an axes-level function for histograms).\n",
      "  warnings.warn(msg, FutureWarning)\n",
      "/usr/local/Cellar/jupyterlab/3.1.14/libexec/lib/python3.9/site-packages/seaborn/distributions.py:2103: FutureWarning: The `axis` variable is no longer used and will be removed. Instead, assign variables directly to `x` or `y`.\n",
      "  warnings.warn(msg, FutureWarning)\n"
     ]
    },
    {
     "data": {
      "text/plain": [
       "<AxesSubplot:>"
      ]
     },
     "execution_count": 30,
     "metadata": {},
     "output_type": "execute_result"
    },
    {
     "data": {
      "image/png": "[encoded data removed]",
      "text/plain": [
       "<Figure size 432x288 with 1 Axes>"
      ]
     },
     "metadata": {
      "needs_background": "light"
     },
     "output_type": "display_data"
    }
   ],
   "source": [
    "data = df[df.columns[0]].values\n",
    "sns.distplot(data, bins=15, kde=False, rug=True) # Histogram\n",
    "data = df[df.columns[1]].values\n",
    "sns.distplot(data, bins=15, kde=False, rug=True) # Histogram"
   ]
  },
  {
   "cell_type": "code",
   "execution_count": 31,
   "metadata": {},
   "outputs": [
    {
     "name": "stderr",
     "output_type": "stream",
     "text": [
      "/usr/local/Cellar/jupyterlab/3.1.14/libexec/lib/python3.9/site-packages/seaborn/_decorators.py:36: FutureWarning: Pass the following variables as keyword args: x, y. From version 0.12, the only valid positional argument will be `data`, and passing other arguments without an explicit keyword will result in an error or misinterpretation.\n",
      "  warnings.warn(\n"
     ]
    },
    {
     "data": {
      "text/plain": [
       "<seaborn.axisgrid.FacetGrid at 0x12e5db970>"
      ]
     },
     "execution_count": 31,
     "metadata": {},
     "output_type": "execute_result"
    },
    {
     "data": {
      "image/png": "[encoded data removed]",
      "text/plain": [
       "<Figure size 360x360 with 1 Axes>"
      ]
     },
     "metadata": {
      "needs_background": "light"
     },
     "output_type": "display_data"
    }
   ],
   "source": [
    "sns.lmplot(df.columns[0], df.columns[1], data=df, fit_reg=False)"
   ]
  },
  {
   "cell_type": "code",
   "execution_count": null,
   "metadata": {},
   "outputs": [],
   "source": []
  },
  {
   "cell_type": "code",
   "execution_count": null,
   "metadata": {},
   "outputs": [],
   "source": []
  },
  {
   "cell_type": "markdown",
   "metadata": {
    "id": "B5d0tXDpIEj8"
   },
   "source": [
    "## Compare the two fleets\n",
    "\n",
    "The business analysts come up a comparison algorithm that requires the upper and lower bounds for the mean in order to say which fleet is better.\n",
    "1. Calculate the mean of both samples.\n",
    "2. Using the bootstrap function that you created:\n",
    "    - Construct the 95% CI of the mean of the current fleet.\n",
    "    - Construct the 95% CI of the mean of the new fleet.\n",
    "    - Are they comparable? (i.e., is one better than the other?) -- you can do this with a permutation test (check the lecture notes!)"
   ]
  },
  {
   "cell_type": "markdown",
   "metadata": {},
   "source": [
    "np.mean(df[df.columns[1]].fillna(value = 0))"
   ]
  },
  {
   "cell_type": "code",
   "execution_count": 32,
   "metadata": {},
   "outputs": [
    {
     "data": {
      "text/plain": [
       "(249,)"
      ]
     },
     "execution_count": 32,
     "metadata": {},
     "output_type": "execute_result"
    }
   ],
   "source": [
    "df[df.columns[0]].shape"
   ]
  },
  {
   "cell_type": "code",
   "execution_count": 33,
   "metadata": {
    "id": "po4mp6zRHC0m"
   },
   "outputs": [],
   "source": [
    "# <---INSERT YOUR CODE HERE--->\n",
    "mean_curr = np.mean(df[df.columns[0]])\n",
    "mean_new = np.mean(df[df.columns[1]])\n",
    "t_obs = mean_new - mean_curr"
   ]
  },
  {
   "cell_type": "code",
   "execution_count": 34,
   "metadata": {},
   "outputs": [
    {
     "data": {
      "text/plain": [
       "(20.14457831325301, 30.481012658227847, 10.336434344974837)"
      ]
     },
     "execution_count": 34,
     "metadata": {},
     "output_type": "execute_result"
    }
   ],
   "source": [
    "mean_curr,mean_new,t_obs"
   ]
  },
  {
   "cell_type": "code",
   "execution_count": 35,
   "metadata": {},
   "outputs": [
    {
     "name": "stdout",
     "output_type": "stream",
     "text": [
      "------------------------------------------Current fleet-------------------------------------------------------------------\n",
      "Mean is 20.14\n",
      "lower bound ------>       19.37\n",
      "Upper bound ------>       20.95\n",
      "\n",
      "------------------------------------------new fleet-------------------------------------------------------------------\n",
      "Mean is 30.48\n",
      "lower bound ------>       29.16\n",
      "Upper bound ------>       31.82\n",
      "\n"
     ]
    }
   ],
   "source": [
    "# Load the data\n",
    "df = pd.read_csv('https://raw.githubusercontent.com/albanda/CE888/master/lab2%20-%20bootstrap/vehicles.csv')\n",
    "data = df[df.columns[0]].dropna().values\n",
    "print('------------------------------------------Current fleet-------------------------------------------------------------------')\n",
    "print('''\\\n",
    "Mean is %5.2f\n",
    "lower bound ------>       %5.2f\n",
    "Upper bound ------>       %5.2f\n",
    "'''%(bootstrap_mean_ci(data, data.shape[0], 10000, 95)))\n",
    "print('------------------------------------------new fleet-------------------------------------------------------------------')\n",
    "data = df[df.columns[1]].dropna().values\n",
    "print('''\\\n",
    "Mean is %5.2f\n",
    "lower bound ------>       %5.2f\n",
    "Upper bound ------>       %5.2f\n",
    "'''%(bootstrap_mean_ci(data, data.shape[0], 10000, 95)))"
   ]
  },
  {
   "cell_type": "code",
   "execution_count": 61,
   "metadata": {
    "id": "MkxvDZG4HC0n"
   },
   "outputs": [],
   "source": [
    "# Create your own function for a permutation test here (you will need it for the lab quiz!):\n",
    "def permut_test(sample1, sample2, n_permutations):\n",
    "    \"\"\"\n",
    "    sample1: 1D array\n",
    "    sample2: 1D array (note that the size of the two arrays can be different)\n",
    "    n_permutations: number of permutations to calculate the p-value\n",
    "    \"\"\"\n",
    "    t_old = np.mean(sample1)\n",
    "    t_new = np.mean(sample2)\n",
    "    t_obs = t_new - t_old\n",
    "    concat = np.concatenate((sample1, sample2))\n",
    "    perm_count = 0\n",
    "    for i in range(n_permutations):\n",
    "        perm = np.random.permutation(concat)\n",
    "        p_old = perm[:int(len(perm)/2)]\n",
    "        p_new = perm[int(len(perm)/2):]\n",
    "        t_p_old = np.mean(p_old)\n",
    "        t_p_new = np.mean(p_new)\n",
    "        t_perm = t_p_new - t_p_old\n",
    "        if t_perm > t_obs:\n",
    "            perm_count = perm_count + 1\n",
    "    pvalue = perm_count/n_permutations\n",
    "    \n",
    "    return pvalue"
   ]
  },
  {
   "cell_type": "code",
   "execution_count": 62,
   "metadata": {},
   "outputs": [
    {
     "name": "stdout",
     "output_type": "stream",
     "text": [
      "p-value   ----> 0.00000\n"
     ]
    }
   ],
   "source": [
    "# Load the data\n",
    "df = pd.read_csv('https://raw.githubusercontent.com/albanda/CE888/master/lab2%20-%20bootstrap/vehicles.csv')\n",
    "sample1 = df[df.columns[0]]\n",
    "sample2 = df[df.columns[1]]\n",
    "p = permut_test(sample1, sample2, 30000)\n",
    "print('''p-value   ----> %.5f'''%(p))"
   ]
  },
  {
   "cell_type": "markdown",
   "metadata": {},
   "source": [
    "#  week 2 Assignment solutions"
   ]
  },
  {
   "cell_type": "code",
   "execution_count": 45,
   "metadata": {},
   "outputs": [
    {
     "name": "stdout",
     "output_type": "stream",
     "text": [
      "Mean is  9.67\n",
      "lower bound ------>        8.50\n",
      "Upper bound ------>       10.88\n",
      "\n"
     ]
    }
   ],
   "source": [
    "#2.\n",
    "# Load the data\n",
    "df = pd.read_csv('https://raw.githubusercontent.com/albanda/CE888/master/lab2%20-%20bootstrap/vehicles.csv')\n",
    "data = df[df.columns[1]].fillna(value = 0).values\n",
    "print('''\\\n",
    "Mean is %5.2f\n",
    "lower bound ------>       %5.2f\n",
    "Upper bound ------>       %5.2f\n",
    "'''%(bootstrap_mean_ci(data, data.shape[0], 10000, 80)))\n"
   ]
  },
  {
   "cell_type": "code",
   "execution_count": null,
   "metadata": {},
   "outputs": [],
   "source": []
  },
  {
   "cell_type": "code",
   "execution_count": 44,
   "metadata": {},
   "outputs": [
    {
     "name": "stdout",
     "output_type": "stream",
     "text": [
      "Mean is  9.18\n",
      "lower bound ------>        7.36\n",
      "Upper bound ------>       11.21\n",
      "\n"
     ]
    }
   ],
   "source": [
    "#3.\n",
    "# Load the data\n",
    "df = pd.read_csv('https://raw.githubusercontent.com/albanda/CE888/master/lab2%20-%20bootstrap/customers.csv')\n",
    "data = df.values.T[1]\n",
    "print('''\\\n",
    "Mean is %5.2f\n",
    "lower bound ------>       %5.2f\n",
    "Upper bound ------>       %5.2f\n",
    "'''%(bootstrap_mean_ci(data, data.shape[0], 10000, 80)))\n"
   ]
  },
  {
   "cell_type": "code",
   "execution_count": null,
   "metadata": {},
   "outputs": [],
   "source": []
  },
  {
   "cell_type": "code",
   "execution_count": 51,
   "metadata": {},
   "outputs": [
    {
     "name": "stdout",
     "output_type": "stream",
     "text": [
      "Standard Deviation is  0.25\n",
      "lower bound ------>        5.82\n",
      "Upper bound ------>        6.95\n",
      "\n"
     ]
    }
   ],
   "source": [
    "#4.\n",
    "def std_of_array_rows(numbers):\n",
    "    l = []\n",
    "    for i in range(len(numbers)):\n",
    "        l.append(np.std(numbers[i]))\n",
    "    return np.array(l)\n",
    "def bootstrap_std_ci(sample, sample_size, n_bootstraps, ci):\n",
    "    n_bootstrap_array = []\n",
    "    ci_data_std_array = []\n",
    "    for i in range(n_bootstraps):\n",
    "        b_sample = np.random.choice(sample,sample_size)\n",
    "        n_bootstrap_array.append(b_sample)\n",
    "    data_std_array = np.sort(std_of_array_rows(n_bootstrap_array))[::-1]\n",
    "    ci = ci/100\n",
    "    l= (1-ci)/2\n",
    "    btm = l\n",
    "    top = ci + l\n",
    "    for element in data_std_array:\n",
    "        if (element >= np.quantile(data_std_array,btm)) and (element <= np.quantile(data_std_array,top)):\n",
    "            ci_data_std_array.append(element)\n",
    "    data_std=np.std(ci_data_std_array)\n",
    "    lower = min(ci_data_std_array)\n",
    "    upper = max(ci_data_std_array)\n",
    "    return data_std, lower, upper \n",
    "# Load the data\n",
    "df = pd.read_csv('https://raw.githubusercontent.com/albanda/CE888/master/lab2%20-%20bootstrap/vehicles.csv')\n",
    "data = df[df.columns[0]].dropna().values\n",
    "print('''\\\n",
    "Standard Deviation is %5.2f\n",
    "lower bound ------>       %5.2f\n",
    "Upper bound ------>       %5.2f\n",
    "'''%(bootstrap_std_ci(data, data.shape[0], 10000, 95)))"
   ]
  },
  {
   "cell_type": "code",
   "execution_count": null,
   "metadata": {},
   "outputs": [],
   "source": []
  },
  {
   "cell_type": "code",
   "execution_count": 54,
   "metadata": {},
   "outputs": [
    {
     "name": "stdout",
     "output_type": "stream",
     "text": [
      "Standard Deviation is  0.17\n",
      "lower bound ------>        6.06\n",
      "Upper bound ------>        6.70\n",
      "\n"
     ]
    }
   ],
   "source": [
    "#5.\n",
    "def std_of_array_rows(numbers):\n",
    "    l = []\n",
    "    for i in range(len(numbers)):\n",
    "        l.append(np.std(numbers[i]))\n",
    "    return np.array(l)\n",
    "def bootstrap_std_ci(sample, sample_size, n_bootstraps, ci):\n",
    "    n_bootstrap_array = []\n",
    "    ci_data_std_array = []\n",
    "    for i in range(n_bootstraps):\n",
    "        b_sample = np.random.choice(sample,sample_size)\n",
    "        n_bootstrap_array.append(b_sample)\n",
    "    data_std_array = np.sort(std_of_array_rows(n_bootstrap_array))[::-1]\n",
    "    ci = ci/100\n",
    "    l= (1-ci)/2\n",
    "    btm = l\n",
    "    top = ci + l\n",
    "    for element in data_std_array:\n",
    "        if (element >= np.quantile(data_std_array,btm)) and (element <= np.quantile(data_std_array,top)):\n",
    "            ci_data_std_array.append(element)\n",
    "    data_std=np.std(ci_data_std_array)\n",
    "    lower = min(ci_data_std_array)\n",
    "    upper = max(ci_data_std_array)\n",
    "    return data_std, lower, upper \n",
    "df = pd.read_csv('https://raw.githubusercontent.com/albanda/CE888/master/lab2%20-%20bootstrap/vehicles.csv')\n",
    "data = df[df.columns[0]].dropna().values\n",
    "print('''\\\n",
    "Standard Deviation is %5.2f\n",
    "lower bound ------>       %5.2f\n",
    "Upper bound ------>       %5.2f\n",
    "'''%(bootstrap_std_ci(data, data.shape[0], 10000, 73)))"
   ]
  },
  {
   "cell_type": "code",
   "execution_count": null,
   "metadata": {},
   "outputs": [],
   "source": []
  },
  {
   "cell_type": "code",
   "execution_count": 63,
   "metadata": {},
   "outputs": [
    {
     "data": {
      "text/plain": [
       "0.0"
      ]
     },
     "execution_count": 63,
     "metadata": {},
     "output_type": "execute_result"
    }
   ],
   "source": [
    "#7.\n",
    "# Load the data\n",
    "df = pd.read_csv('https://raw.githubusercontent.com/albanda/CE888/master/lab2%20-%20bootstrap/vehicles.csv')\n",
    "sample1 = df[df.columns[0]]\n",
    "sample2 = df[df.columns[1]]\n",
    "permut_test(sample1, sample2, 30000)"
   ]
  },
  {
   "cell_type": "code",
   "execution_count": null,
   "metadata": {},
   "outputs": [],
   "source": []
  },
  {
   "cell_type": "code",
   "execution_count": 66,
   "metadata": {},
   "outputs": [
    {
     "name": "stdout",
     "output_type": "stream",
     "text": [
      "(OH)Mean is 44.32\n",
      "(OH)lower bound ------>       41.84\n",
      "(OH)Upper bound ------>       46.76\n",
      "\n",
      "(PA)Mean is 45.48\n",
      "(PA)lower bound ------>       42.79\n",
      "(PA)Upper bound ------>       48.36\n",
      "\n",
      "p-value   ----> 0.23383\n"
     ]
    }
   ],
   "source": [
    "#8.\n",
    "# Load the data\n",
    "dem_share_PA = [60.08, 40.64, 36.07, 41.21, 31.04, 43.78, 44.08, 46.85, 44.71, 46.15, 63.10, 52.20, 43.18, 40.24, 39.92, 47.87, 37.77, 40.11, 49.85, 48.61, 38.62, 54.25, 34.84, 47.75, 43.82, 55.97, 58.23, 42.97, 42.38, 36.11, 37.53, 42.65, 50.96, 47.43, 56.24, 45.60, 46.39, 35.22, 48.56, 32.97, 57.88, 36.05, 37.72, 50.36, 32.12, 41.55, 54.66, 57.81, 54.58, 32.88, 54.37, 40.45, 47.61, 60.49, 43.11, 27.32, 44.03, 33.56, 37.26, 54.64, 43.12, 25.34, 49.79, 83.56, 40.09, 60.81, 49.81]\n",
    "dem_share_OH = [56.94, 50.46, 65.99, 45.88, 42.23, 45.26, 57.01, 53.61, 59.10, 61.48, 43.43, 44.69, 54.59, 48.36, 45.89, 48.62, 43.92, 38.23, 28.79, 63.57, 38.07, 40.18, 43.05, 41.56, 42.49, 36.06, 52.76, 46.07, 39.43, 39.26, 47.47, 27.92, 38.01, 45.45, 29.07, 28.94, 51.28, 50.10, 39.84, 36.43, 35.71, 31.47, 47.01, 40.10, 48.76, 31.56, 39.86, 45.31, 35.47, 51.38, 46.33, 48.73, 41.77, 41.32, 48.46, 53.14, 34.01, 54.74, 40.67, 38.96, 46.29, 38.25, 6.80, 31.75, 46.33, 44.90, 33.57, 38.10, 39.67, 40.47, 49.44, 37.62, 36.71, 46.73, 42.20, 53.16, 52.40, 58.36, 68.02, 38.53, 34.58, 69.64, 60.50, 53.53, 36.54, 49.58, 41.97, 38.11]\n",
    "sample1 = np.array(dem_share_OH)\n",
    "sample2 = np.array(dem_share_PA)\n",
    "#dem_share_OH\n",
    "data = sample1\n",
    "print('''\\\n",
    "(OH)Mean is %5.2f\n",
    "(OH)lower bound ------>       %5.2f\n",
    "(OH)Upper bound ------>       %5.2f\n",
    "'''%(bootstrap_mean_ci(data, data.shape[0], 100000, 98)))\n",
    "#dem_share_PA\n",
    "data = sample2\n",
    "print('''\\\n",
    "(PA)Mean is %5.2f\n",
    "(PA)lower bound ------>       %5.2f\n",
    "(PA)Upper bound ------>       %5.2f\n",
    "'''%(bootstrap_mean_ci(data, data.shape[0], 100000, 98)))\n",
    "\n",
    "p = permut_test(sample1, sample2, 30000)\n",
    "print('''p-value   ----> %.5f'''%(p))"
   ]
  },
  {
   "cell_type": "code",
   "execution_count": null,
   "metadata": {},
   "outputs": [],
   "source": []
  },
  {
   "cell_type": "code",
   "execution_count": null,
   "metadata": {},
   "outputs": [],
   "source": []
  }
 ],
 "metadata": {
  "colab": {
   "name": "bootstrap.ipynb",
   "provenance": []
  },
  "kernelspec": {
   "display_name": "Python 3 (ipykernel)",
   "language": "python",
   "name": "python3"
  },
  "language_info": {
   "codemirror_mode": {
    "name": "ipython",
    "version": 3
   },
   "file_extension": ".py",
   "mimetype": "text/x-python",
   "name": "python",
   "nbconvert_exporter": "python",
   "pygments_lexer": "ipython3",
   "version": "3.9.7"
  },
  "pycharm": {
   "stem_cell": {
    "cell_type": "raw",
    "metadata": {
     "collapsed": false
    },
    "source": []
   }
  }
 },
 "nbformat": 4,
 "nbformat_minor": 1
}
