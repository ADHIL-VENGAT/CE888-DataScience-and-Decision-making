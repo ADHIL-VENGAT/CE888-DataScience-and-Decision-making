{
  "cells": [
    {
      "cell_type": "markdown",
      "metadata": {
        "id": "view-in-github",
        "colab_type": "text"
      },
      "source": [
        "<a href=\"https://colab.research.google.com/github/ADHIL-VENGAT/CE888-DataScience-and-Decision-making/blob/main/lab8/rnn.ipynb\" target=\"_parent\"><img src=\"https://colab.research.google.com/assets/colab-badge.svg\" alt=\"Open In Colab\"/></a>"
      ]
    },
    {
      "cell_type": "markdown",
      "source": [
        "# Learning from Sequences: Timeseries and Text\n",
        "\n",
        "Created by Dr Ana Matran-Fernandez (amatra@essex.ac.uk) for CE888 (Data Science and Decision Making)\n",
        "\n",
        "This notebook accompanies lecture 8 and illustrates recurrent neural networks on an example of a timeseries (predicting tomorrow's temperature) and a classification problem on the IMDB text dataset."
      ],
      "metadata": {
        "id": "gS1IIAS-bcb-"
      }
    },
    {
      "cell_type": "markdown",
      "source": [
        "# Imports"
      ],
      "metadata": {
        "id": "0myiQp20cxRK"
      }
    },
    {
      "cell_type": "code",
      "execution_count": 1,
      "metadata": {
        "id": "1J0bYBQ7_a0L"
      },
      "outputs": [],
      "source": [
        "# imports\n",
        "import numpy as np\n",
        "import matplotlib.pyplot as plt\n",
        "import os\n",
        "import pandas as pd\n",
        "from sklearn.model_selection import train_test_split"
      ]
    },
    {
      "cell_type": "code",
      "execution_count": 2,
      "metadata": {
        "id": "U0NPDv7X_a0M"
      },
      "outputs": [],
      "source": [
        "# tensorflow imports\n",
        "from tensorflow import keras\n",
        "from keras import layers, models\n",
        "from keras.callbacks import EarlyStopping, ModelCheckpoint"
      ]
    },
    {
      "cell_type": "markdown",
      "source": [
        "# Timeseries"
      ],
      "metadata": {
        "id": "xaiw_VZjbtSH"
      }
    },
    {
      "cell_type": "code",
      "execution_count": 3,
      "metadata": {
        "colab": {
          "base_uri": "https://localhost:8080/",
          "height": 419
        },
        "id": "iA_R1Q-K_a0N",
        "outputId": "ac4e6483-9d96-459b-a523-200157e9b66d"
      },
      "outputs": [
        {
          "output_type": "execute_result",
          "data": {
            "text/plain": [
              "                  date  radiation_avg  precip  wind_avg  wind_max  temp_avg  \\\n",
              "0     14/05/2014 00:00            159     0.0       1.4       3.3     14.27   \n",
              "1     15/05/2014 00:00            280     0.0       0.6       2.3     13.51   \n",
              "2     16/05/2014 00:00            186     3.4       0.8       2.7     15.65   \n",
              "3     17/05/2014 00:00            221     0.0       1.0       3.3     17.46   \n",
              "4     18/05/2014 00:00            255     0.0       2.1       5.5     16.85   \n",
              "...                ...            ...     ...       ...       ...       ...   \n",
              "2551  17/05/2021 00:00            196     1.4       2.2       5.5     10.51   \n",
              "2552  17/05/2021 00:00            173     2.8       1.8       5.5     10.80   \n",
              "2553  18/05/2021 00:00            311     0.0       1.4       5.0     10.29   \n",
              "2554  19/05/2021 00:00            232     6.6       1.8       5.5     11.39   \n",
              "2555  20/05/2021 00:00             44     0.0       0.5       2.7      6.35   \n",
              "\n",
              "      humidity_avg  \n",
              "0            64.95  \n",
              "1            72.91  \n",
              "2            74.69  \n",
              "3            71.42  \n",
              "4            74.45  \n",
              "...            ...  \n",
              "2551         99.86  \n",
              "2552         99.86  \n",
              "2553         92.94  \n",
              "2554         90.32  \n",
              "2555         99.86  \n",
              "\n",
              "[2556 rows x 7 columns]"
            ],
            "text/html": [
              "\n",
              "  <div id=\"df-22f0edcf-566c-4722-85f0-f531d0058376\">\n",
              "    <div class=\"colab-df-container\">\n",
              "      <div>\n",
              "<style scoped>\n",
              "    .dataframe tbody tr th:only-of-type {\n",
              "        vertical-align: middle;\n",
              "    }\n",
              "\n",
              "    .dataframe tbody tr th {\n",
              "        vertical-align: top;\n",
              "    }\n",
              "\n",
              "    .dataframe thead th {\n",
              "        text-align: right;\n",
              "    }\n",
              "</style>\n",
              "<table border=\"1\" class=\"dataframe\">\n",
              "  <thead>\n",
              "    <tr style=\"text-align: right;\">\n",
              "      <th></th>\n",
              "      <th>date</th>\n",
              "      <th>radiation_avg</th>\n",
              "      <th>precip</th>\n",
              "      <th>wind_avg</th>\n",
              "      <th>wind_max</th>\n",
              "      <th>temp_avg</th>\n",
              "      <th>humidity_avg</th>\n",
              "    </tr>\n",
              "  </thead>\n",
              "  <tbody>\n",
              "    <tr>\n",
              "      <th>0</th>\n",
              "      <td>14/05/2014 00:00</td>\n",
              "      <td>159</td>\n",
              "      <td>0.0</td>\n",
              "      <td>1.4</td>\n",
              "      <td>3.3</td>\n",
              "      <td>14.27</td>\n",
              "      <td>64.95</td>\n",
              "    </tr>\n",
              "    <tr>\n",
              "      <th>1</th>\n",
              "      <td>15/05/2014 00:00</td>\n",
              "      <td>280</td>\n",
              "      <td>0.0</td>\n",
              "      <td>0.6</td>\n",
              "      <td>2.3</td>\n",
              "      <td>13.51</td>\n",
              "      <td>72.91</td>\n",
              "    </tr>\n",
              "    <tr>\n",
              "      <th>2</th>\n",
              "      <td>16/05/2014 00:00</td>\n",
              "      <td>186</td>\n",
              "      <td>3.4</td>\n",
              "      <td>0.8</td>\n",
              "      <td>2.7</td>\n",
              "      <td>15.65</td>\n",
              "      <td>74.69</td>\n",
              "    </tr>\n",
              "    <tr>\n",
              "      <th>3</th>\n",
              "      <td>17/05/2014 00:00</td>\n",
              "      <td>221</td>\n",
              "      <td>0.0</td>\n",
              "      <td>1.0</td>\n",
              "      <td>3.3</td>\n",
              "      <td>17.46</td>\n",
              "      <td>71.42</td>\n",
              "    </tr>\n",
              "    <tr>\n",
              "      <th>4</th>\n",
              "      <td>18/05/2014 00:00</td>\n",
              "      <td>255</td>\n",
              "      <td>0.0</td>\n",
              "      <td>2.1</td>\n",
              "      <td>5.5</td>\n",
              "      <td>16.85</td>\n",
              "      <td>74.45</td>\n",
              "    </tr>\n",
              "    <tr>\n",
              "      <th>...</th>\n",
              "      <td>...</td>\n",
              "      <td>...</td>\n",
              "      <td>...</td>\n",
              "      <td>...</td>\n",
              "      <td>...</td>\n",
              "      <td>...</td>\n",
              "      <td>...</td>\n",
              "    </tr>\n",
              "    <tr>\n",
              "      <th>2551</th>\n",
              "      <td>17/05/2021 00:00</td>\n",
              "      <td>196</td>\n",
              "      <td>1.4</td>\n",
              "      <td>2.2</td>\n",
              "      <td>5.5</td>\n",
              "      <td>10.51</td>\n",
              "      <td>99.86</td>\n",
              "    </tr>\n",
              "    <tr>\n",
              "      <th>2552</th>\n",
              "      <td>17/05/2021 00:00</td>\n",
              "      <td>173</td>\n",
              "      <td>2.8</td>\n",
              "      <td>1.8</td>\n",
              "      <td>5.5</td>\n",
              "      <td>10.80</td>\n",
              "      <td>99.86</td>\n",
              "    </tr>\n",
              "    <tr>\n",
              "      <th>2553</th>\n",
              "      <td>18/05/2021 00:00</td>\n",
              "      <td>311</td>\n",
              "      <td>0.0</td>\n",
              "      <td>1.4</td>\n",
              "      <td>5.0</td>\n",
              "      <td>10.29</td>\n",
              "      <td>92.94</td>\n",
              "    </tr>\n",
              "    <tr>\n",
              "      <th>2554</th>\n",
              "      <td>19/05/2021 00:00</td>\n",
              "      <td>232</td>\n",
              "      <td>6.6</td>\n",
              "      <td>1.8</td>\n",
              "      <td>5.5</td>\n",
              "      <td>11.39</td>\n",
              "      <td>90.32</td>\n",
              "    </tr>\n",
              "    <tr>\n",
              "      <th>2555</th>\n",
              "      <td>20/05/2021 00:00</td>\n",
              "      <td>44</td>\n",
              "      <td>0.0</td>\n",
              "      <td>0.5</td>\n",
              "      <td>2.7</td>\n",
              "      <td>6.35</td>\n",
              "      <td>99.86</td>\n",
              "    </tr>\n",
              "  </tbody>\n",
              "</table>\n",
              "<p>2556 rows × 7 columns</p>\n",
              "</div>\n",
              "      <button class=\"colab-df-convert\" onclick=\"convertToInteractive('df-22f0edcf-566c-4722-85f0-f531d0058376')\"\n",
              "              title=\"Convert this dataframe to an interactive table.\"\n",
              "              style=\"display:none;\">\n",
              "        \n",
              "  <svg xmlns=\"http://www.w3.org/2000/svg\" height=\"24px\"viewBox=\"0 0 24 24\"\n",
              "       width=\"24px\">\n",
              "    <path d=\"M0 0h24v24H0V0z\" fill=\"none\"/>\n",
              "    <path d=\"M18.56 5.44l.94 2.06.94-2.06 2.06-.94-2.06-.94-.94-2.06-.94 2.06-2.06.94zm-11 1L8.5 8.5l.94-2.06 2.06-.94-2.06-.94L8.5 2.5l-.94 2.06-2.06.94zm10 10l.94 2.06.94-2.06 2.06-.94-2.06-.94-.94-2.06-.94 2.06-2.06.94z\"/><path d=\"M17.41 7.96l-1.37-1.37c-.4-.4-.92-.59-1.43-.59-.52 0-1.04.2-1.43.59L10.3 9.45l-7.72 7.72c-.78.78-.78 2.05 0 2.83L4 21.41c.39.39.9.59 1.41.59.51 0 1.02-.2 1.41-.59l7.78-7.78 2.81-2.81c.8-.78.8-2.07 0-2.86zM5.41 20L4 18.59l7.72-7.72 1.47 1.35L5.41 20z\"/>\n",
              "  </svg>\n",
              "      </button>\n",
              "      \n",
              "  <style>\n",
              "    .colab-df-container {\n",
              "      display:flex;\n",
              "      flex-wrap:wrap;\n",
              "      gap: 12px;\n",
              "    }\n",
              "\n",
              "    .colab-df-convert {\n",
              "      background-color: #E8F0FE;\n",
              "      border: none;\n",
              "      border-radius: 50%;\n",
              "      cursor: pointer;\n",
              "      display: none;\n",
              "      fill: #1967D2;\n",
              "      height: 32px;\n",
              "      padding: 0 0 0 0;\n",
              "      width: 32px;\n",
              "    }\n",
              "\n",
              "    .colab-df-convert:hover {\n",
              "      background-color: #E2EBFA;\n",
              "      box-shadow: 0px 1px 2px rgba(60, 64, 67, 0.3), 0px 1px 3px 1px rgba(60, 64, 67, 0.15);\n",
              "      fill: #174EA6;\n",
              "    }\n",
              "\n",
              "    [theme=dark] .colab-df-convert {\n",
              "      background-color: #3B4455;\n",
              "      fill: #D2E3FC;\n",
              "    }\n",
              "\n",
              "    [theme=dark] .colab-df-convert:hover {\n",
              "      background-color: #434B5C;\n",
              "      box-shadow: 0px 1px 3px 1px rgba(0, 0, 0, 0.15);\n",
              "      filter: drop-shadow(0px 1px 2px rgba(0, 0, 0, 0.3));\n",
              "      fill: #FFFFFF;\n",
              "    }\n",
              "  </style>\n",
              "\n",
              "      <script>\n",
              "        const buttonEl =\n",
              "          document.querySelector('#df-22f0edcf-566c-4722-85f0-f531d0058376 button.colab-df-convert');\n",
              "        buttonEl.style.display =\n",
              "          google.colab.kernel.accessAllowed ? 'block' : 'none';\n",
              "\n",
              "        async function convertToInteractive(key) {\n",
              "          const element = document.querySelector('#df-22f0edcf-566c-4722-85f0-f531d0058376');\n",
              "          const dataTable =\n",
              "            await google.colab.kernel.invokeFunction('convertToInteractive',\n",
              "                                                     [key], {});\n",
              "          if (!dataTable) return;\n",
              "\n",
              "          const docLinkHtml = 'Like what you see? Visit the ' +\n",
              "            '<a target=\"_blank\" href=https://colab.research.google.com/notebooks/data_table.ipynb>data table notebook</a>'\n",
              "            + ' to learn more about interactive tables.';\n",
              "          element.innerHTML = '';\n",
              "          dataTable['output_type'] = 'display_data';\n",
              "          await google.colab.output.renderOutput(dataTable, element);\n",
              "          const docLink = document.createElement('div');\n",
              "          docLink.innerHTML = docLinkHtml;\n",
              "          element.appendChild(docLink);\n",
              "        }\n",
              "      </script>\n",
              "    </div>\n",
              "  </div>\n",
              "  "
            ]
          },
          "metadata": {},
          "execution_count": 3
        }
      ],
      "source": [
        "df = pd.read_csv('https://raw.githubusercontent.com/albanda/CE888/master/lab8/weather.csv')\n",
        "df.drop(['temp_max', 'temp_min'], axis=1, inplace=True)\n",
        "df"
      ]
    },
    {
      "cell_type": "code",
      "execution_count": 4,
      "metadata": {
        "colab": {
          "base_uri": "https://localhost:8080/",
          "height": 279
        },
        "id": "nzsytNAh_a0N",
        "outputId": "7b6f12f7-2d98-4dea-abbe-dc033bb75076"
      },
      "outputs": [
        {
          "output_type": "display_data",
          "data": {
            "text/plain": [
              "<Figure size 432x288 with 1 Axes>"
            ],
            "image/png": "[encoded data removed]"
          },
          "metadata": {
            "needs_background": "light"
          }
        }
      ],
      "source": [
        "plt.plot(range(len(df)), df['temp_avg'])\n",
        "plt.xlabel('Temporal range')\n",
        "plt.ylabel('Average temperature (C) (7 years)')\n",
        "plt.savefig('temperature_over_time.pdf', bbox_inches='tight')"
      ]
    },
    {
      "cell_type": "code",
      "execution_count": 5,
      "metadata": {
        "colab": {
          "base_uri": "https://localhost:8080/",
          "height": 279
        },
        "id": "ysbM2n99_a0N",
        "outputId": "01d525f7-322e-4431-d1c9-7958aacb6fef"
      },
      "outputs": [
        {
          "output_type": "display_data",
          "data": {
            "text/plain": [
              "<Figure size 432x288 with 1 Axes>"
            ],
            "image/png": "[encoded data removed]"
          },
          "metadata": {
            "needs_background": "light"
          }
        }
      ],
      "source": [
        "# Look at the first 2 years\n",
        "length = 2*365\n",
        "plt.plot(range(length), df['temp_avg'][:length])\n",
        "plt.xlabel('Temporal range')\n",
        "plt.ylabel('Average temperature (C) (2 years)')\n",
        "plt.savefig('temperature_over_time_2y.pdf', bbox_inches='tight')"
      ]
    },
    {
      "cell_type": "markdown",
      "metadata": {
        "id": "ikyqi2m7_a0O"
      },
      "source": [
        "We have clear periodicity every year. In the previous plot we saw 7 cycles (7 years). Here we see 2.\n",
        "\n",
        "Always look for periodicity in your timeseries. There will always be daily and yearly cycles. Check these patterns.\n",
        "\n",
        "Another issue with timeseries is dividing the dataset into train/validation/test sets. We definitely cannot shuffle the data, and we need to be very careful with data leakage (using data from the future)."
      ]
    },
    {
      "cell_type": "markdown",
      "metadata": {
        "id": "1fxuW2ne_a0P"
      },
      "source": [
        "## Data prep\n",
        "\n",
        "We'll try to predict the average temperature of tomorrow based on data from the past.\n",
        "\n",
        "To avoid data leakage, we're going to use a simple approach: use the first 50% of data for training, the next 30% for validation, and the final 20% for testing.\n"
      ]
    },
    {
      "cell_type": "code",
      "execution_count": 6,
      "metadata": {
        "colab": {
          "base_uri": "https://localhost:8080/"
        },
        "id": "vofGsYen_a0P",
        "outputId": "74781866-1836-43e4-f4ae-99d2402a339b"
      },
      "outputs": [
        {
          "output_type": "stream",
          "name": "stdout",
          "text": [
            "Samples for training: 1278; validation: 766; test: 512\n"
          ]
        }
      ],
      "source": [
        "n_tr, n_val = int(0.5*len(df)), int(0.3*len(df))\n",
        "n_te = len(df) - n_tr - n_val\n",
        "print('Samples for training: %d; validation: %d; test: %d' % (n_tr, n_val, n_te))"
      ]
    },
    {
      "cell_type": "code",
      "execution_count": 7,
      "metadata": {
        "colab": {
          "base_uri": "https://localhost:8080/"
        },
        "id": "lsMDT2Jq_a0P",
        "outputId": "c26326e8-ea76-4009-e96c-728ef3030219"
      },
      "outputs": [
        {
          "output_type": "stream",
          "name": "stdout",
          "text": [
            "(2556, 6)\n"
          ]
        }
      ],
      "source": [
        "# Get the data from the dataframe (dropping date column)\n",
        "data = df.iloc[:, 1:].values\n",
        "print(data.shape)\n",
        "assert data.shape[0] == len(df)\n",
        "assert data.shape[1] == len(df.columns)-1, \"Are you sure you're dropping the date?\"\n",
        "# We need to normalise our time series. Calculate mean and std from TRAINING DATA ONLY. \n",
        "# We'll use it on the validation and test sets.\n",
        "mean_tr = data[:n_tr, :].mean(axis=0)\n",
        "std_tr = data[:n_tr, :].std(axis=0)\n",
        "data = (data - mean_tr) / std_tr\n",
        "\n",
        "\n",
        "y = df['temp_avg'].values.reshape(-1, 1)\n",
        "\n",
        "# index of the column that contains the avg_temp\n",
        "y_idx = 4"
      ]
    },
    {
      "cell_type": "code",
      "source": [
        "data[:20, y_idx] * std_tr[y_idx] + mean_tr[y_idx]"
      ],
      "metadata": {
        "colab": {
          "base_uri": "https://localhost:8080/"
        },
        "id": "1VJAcdfICLi1",
        "outputId": "772bc67b-4ee7-42db-8f24-435ee3d264db"
      },
      "execution_count": 8,
      "outputs": [
        {
          "output_type": "execute_result",
          "data": {
            "text/plain": [
              "array([14.27, 13.51, 15.65, 17.46, 16.85, 18.26, 17.35, 15.55, 14.52,\n",
              "       13.93, 11.48, 13.63, 12.81, 12.4 , 13.67, 14.15, 13.22, 12.21,\n",
              "       15.53, 14.52])"
            ]
          },
          "metadata": {},
          "execution_count": 8
        }
      ]
    },
    {
      "cell_type": "code",
      "source": [
        "y[5:25]"
      ],
      "metadata": {
        "colab": {
          "base_uri": "https://localhost:8080/"
        },
        "id": "xN-YJyEeCUv9",
        "outputId": "2991f7de-5a82-460e-d96c-8cf6fb25f485"
      },
      "execution_count": 9,
      "outputs": [
        {
          "output_type": "execute_result",
          "data": {
            "text/plain": [
              "array([[18.26],\n",
              "       [17.35],\n",
              "       [15.55],\n",
              "       [14.52],\n",
              "       [13.93],\n",
              "       [11.48],\n",
              "       [13.63],\n",
              "       [12.81],\n",
              "       [12.4 ],\n",
              "       [13.67],\n",
              "       [14.15],\n",
              "       [13.22],\n",
              "       [12.21],\n",
              "       [15.53],\n",
              "       [14.52],\n",
              "       [15.35],\n",
              "       [12.29],\n",
              "       [13.88],\n",
              "       [15.13],\n",
              "       [17.29]])"
            ]
          },
          "metadata": {},
          "execution_count": 9
        }
      ]
    },
    {
      "cell_type": "code",
      "execution_count": 10,
      "metadata": {
        "id": "K_JGeiAs_a0Q"
      },
      "outputs": [],
      "source": [
        "# We'll use a Dataset from keras to pass our data\n",
        "sampling_rate = 1  # we keep all data points\n",
        "sequence_length = 14  # 2 weeks to predict tomorrow's temperature\n",
        "delay = sampling_rate * sequence_length  # the target is the day after the end of the sequence\n",
        "batch_size = 16"
      ]
    },
    {
      "cell_type": "code",
      "execution_count": 11,
      "metadata": {
        "colab": {
          "base_uri": "https://localhost:8080/"
        },
        "id": "cRDGWNYl_a0Q",
        "outputId": "0c07c962-ea21-4d0c-89ac-60e88a5adfdd"
      },
      "outputs": [
        {
          "output_type": "stream",
          "name": "stdout",
          "text": [
            "X shape: (16, 14, 6)\n",
            "target shape: (16, 1)\n"
          ]
        }
      ],
      "source": [
        "train_dataset = keras.utils.timeseries_dataset_from_array(\n",
        "    data[:-delay],\n",
        "    targets=y[delay:],\n",
        "    sampling_rate=sampling_rate, sequence_length=sequence_length,\n",
        "    batch_size=batch_size,\n",
        "    start_index=0, end_index=n_tr  # first 50% for training\n",
        "    )\n",
        "\n",
        "val_dataset = keras.utils.timeseries_dataset_from_array(\n",
        "    data[:-delay],\n",
        "    targets=y[delay:],\n",
        "    sampling_rate=sampling_rate, sequence_length=sequence_length,\n",
        "    batch_size=batch_size,\n",
        "    start_index=n_tr, end_index=n_tr+n_val  # 50%-80% for validation\n",
        "    )\n",
        "\n",
        "test_dataset = keras.utils.timeseries_dataset_from_array(\n",
        "    data[:-delay],\n",
        "    targets=y[delay:],\n",
        "    sampling_rate=sampling_rate, sequence_length=sequence_length,\n",
        "    batch_size=batch_size,\n",
        "    start_index=n_tr+n_val  # last 20% for test\n",
        "    )\n",
        "\n",
        "for X, target in train_dataset:\n",
        "    print(\"X shape:\", X.shape)\n",
        "    print(\"target shape:\", target.shape)\n",
        "    #print(X[:, :, y_idx] * std_tr[y_idx] + mean_tr[y_idx])\n",
        "    #print(target)\n",
        "    break  # so we only print once"
      ]
    },
    {
      "cell_type": "code",
      "source": [
        "# Function to plot history with neural networks\n",
        "def plot_hist_regression(hist, y):\n",
        "  n_ = len(hist.history['mae'])\n",
        "  plt.plot(range(1, n_+1), np.asarray(hist.history['mae']), 'bo', label='MAE on training set')\n",
        "  plt.plot(range(1, n_+1), np.asarray(hist.history['val_mae']), 'b', label='MAE on validation set')\n",
        "  plt.legend()\n",
        "  plt.xlabel(\"Epoch\") \n",
        "  plt.ylabel(\"MAE (degrees)\")\n",
        "  plt.axhline(y=y)\n",
        "  plt.show()\n"
      ],
      "metadata": {
        "id": "u_v2rAW_W4kQ"
      },
      "execution_count": 12,
      "outputs": []
    },
    {
      "cell_type": "markdown",
      "metadata": {
        "id": "WlhjIvZR_a0Q"
      },
      "source": [
        "## Establishing a baseline\n"
      ]
    },
    {
      "cell_type": "markdown",
      "source": [
        "### Common sense, no ML baseline\n",
        "\n",
        "- Sanity check\n",
        "- To establish whether ML methods are actually any good\n",
        "\n",
        "Tomorrow's temperature is likely to be close to today's: let's predict that the temperature 24 hours from now will be equal to the temperature right now.\n",
        "\n",
        "We'll use the MAE as metric"
      ],
      "metadata": {
        "id": "rloJamyvWPWj"
      }
    },
    {
      "cell_type": "code",
      "execution_count": 13,
      "metadata": {
        "colab": {
          "base_uri": "https://localhost:8080/"
        },
        "id": "MUY5acIf_a0Q",
        "outputId": "1e9d8946-025f-448e-8011-4723d076c62a"
      },
      "outputs": [
        {
          "output_type": "stream",
          "name": "stdout",
          "text": [
            "MAE on train set = 2.56 (degrees Celsius)\n",
            "MAE on validation set = 2.69 (degrees Celsius)\n",
            "MAE on test set = 2.85 (degrees Celsius)\n"
          ]
        }
      ],
      "source": [
        "def naive_method(dataset, mean, std):\n",
        "    error = 0\n",
        "    samples = 0\n",
        "    count = 0\n",
        "    for X, target in dataset:\n",
        "        pred = X[:, -1, y_idx] * std + mean  # predict last available temperature and un-standardise\n",
        "        #print(X.shape, target.shape, pred.shape)  # [batch_size, sequence_length, n_feats]\n",
        "        #print(X[:, -1, y_idx] * std + mean, target)\n",
        "        error += np.sum(np.abs(pred - target))\n",
        "        samples += X.shape[0]  # batch_size\n",
        "        count += 1\n",
        "    return error / samples / batch_size # average\n",
        "\n",
        "\n",
        "print('MAE on train set = %.2f (degrees Celsius)' % naive_method(train_dataset, mean_tr[y_idx], std_tr[y_idx]))\n",
        "print('MAE on validation set = %.2f (degrees Celsius)' % naive_method(val_dataset, mean_tr[y_idx], std_tr[y_idx]))\n",
        "print('MAE on test set = %.2f (degrees Celsius)' % naive_method(test_dataset, mean_tr[y_idx], std_tr[y_idx]))\n",
        "# Save MAE on validation for later\n",
        "baseline = naive_method(val_dataset, mean_tr[y_idx], std_tr[y_idx])"
      ]
    },
    {
      "cell_type": "markdown",
      "source": [
        "This baseline achieves a validation MAE of 2.69 degrees and a test MAE of 2.85 degrees. So if we assume that tomorrow's temperature will be the same as today's, we'll be off by less than 3 degrees on average.\n",
        "\n",
        "Not too bad, but surely we can do better!"
      ],
      "metadata": {
        "id": "znycUtxiJmAF"
      }
    },
    {
      "cell_type": "markdown",
      "metadata": {
        "id": "7c-duA1Z_a0R"
      },
      "source": [
        "### Simple ML baseline\n",
        "\n",
        "\n"
      ]
    },
    {
      "cell_type": "code",
      "source": [
        "# To get some practice with neural networks, we'll try a 1-layer NN with nothing fancy.\n",
        "\n",
        "model_dense = models.Sequential()\n",
        "model_dense.add(layers.Flatten(input_shape=(sequence_length, len(df.columns)-1)))  # we need to specify the input shape or we won't be able to see the summary\n",
        "model_dense.add(layers.Dense(10, activation='relu'))\n",
        "model_dense.add(layers.Dense(1))\n",
        "\n",
        "model_dense.summary()"
      ],
      "metadata": {
        "colab": {
          "base_uri": "https://localhost:8080/"
        },
        "id": "fWGqpICHJlRe",
        "outputId": "3fefc83f-c377-4f9d-9765-91320d6d5a4c"
      },
      "execution_count": 14,
      "outputs": [
        {
          "output_type": "stream",
          "name": "stdout",
          "text": [
            "Model: \"sequential\"\n",
            "_________________________________________________________________\n",
            " Layer (type)                Output Shape              Param #   \n",
            "=================================================================\n",
            " flatten (Flatten)           (None, 84)                0         \n",
            "                                                                 \n",
            " dense (Dense)               (None, 10)                850       \n",
            "                                                                 \n",
            " dense_1 (Dense)             (None, 1)                 11        \n",
            "                                                                 \n",
            "=================================================================\n",
            "Total params: 861\n",
            "Trainable params: 861\n",
            "Non-trainable params: 0\n",
            "_________________________________________________________________\n"
          ]
        }
      ]
    },
    {
      "cell_type": "code",
      "source": [
        "n_epochs = 20\n",
        "\n",
        "model_dense.compile(optimizer='rmsprop', loss='mse', metrics=['mae'])\n",
        "history_dense = model_dense.fit(train_dataset, epochs=n_epochs, validation_data=val_dataset)"
      ],
      "metadata": {
        "colab": {
          "base_uri": "https://localhost:8080/"
        },
        "id": "p0Hz1rX8LMfT",
        "outputId": "e0240460-90c6-4606-c065-fc847b1391d7"
      },
      "execution_count": 15,
      "outputs": [
        {
          "output_type": "stream",
          "name": "stdout",
          "text": [
            "Epoch 1/20\n",
            "80/80 [==============================] - 2s 13ms/step - loss: 159.4352 - mae: 11.5781 - val_loss: 142.6013 - val_mae: 10.7623\n",
            "Epoch 2/20\n",
            "80/80 [==============================] - 1s 10ms/step - loss: 130.0483 - mae: 10.3337 - val_loss: 115.2559 - val_mae: 9.5642\n",
            "Epoch 3/20\n",
            "80/80 [==============================] - 1s 11ms/step - loss: 102.1660 - mae: 9.0556 - val_loss: 87.6907 - val_mae: 8.2639\n",
            "Epoch 4/20\n",
            "80/80 [==============================] - 1s 9ms/step - loss: 74.8171 - mae: 7.6468 - val_loss: 62.3768 - val_mae: 6.8768\n",
            "Epoch 5/20\n",
            "80/80 [==============================] - 1s 10ms/step - loss: 52.5139 - mae: 6.2781 - val_loss: 44.3572 - val_mae: 5.6033\n",
            "Epoch 6/20\n",
            "80/80 [==============================] - 1s 9ms/step - loss: 38.9144 - mae: 5.2668 - val_loss: 34.7496 - val_mae: 4.7866\n",
            "Epoch 7/20\n",
            "80/80 [==============================] - 1s 9ms/step - loss: 32.8292 - mae: 4.7558 - val_loss: 30.9439 - val_mae: 4.4758\n",
            "Epoch 8/20\n",
            "80/80 [==============================] - 1s 10ms/step - loss: 30.0013 - mae: 4.5220 - val_loss: 29.3907 - val_mae: 4.3556\n",
            "Epoch 9/20\n",
            "80/80 [==============================] - 1s 9ms/step - loss: 27.9292 - mae: 4.3578 - val_loss: 28.2221 - val_mae: 4.2683\n",
            "Epoch 10/20\n",
            "80/80 [==============================] - 1s 11ms/step - loss: 26.0351 - mae: 4.2026 - val_loss: 27.0997 - val_mae: 4.1770\n",
            "Epoch 11/20\n",
            "80/80 [==============================] - 1s 11ms/step - loss: 24.2867 - mae: 4.0519 - val_loss: 26.0283 - val_mae: 4.0856\n",
            "Epoch 12/20\n",
            "80/80 [==============================] - 1s 12ms/step - loss: 22.7588 - mae: 3.9195 - val_loss: 25.0294 - val_mae: 4.0007\n",
            "Epoch 13/20\n",
            "80/80 [==============================] - 1s 12ms/step - loss: 21.4239 - mae: 3.8024 - val_loss: 24.0623 - val_mae: 3.9169\n",
            "Epoch 14/20\n",
            "80/80 [==============================] - 1s 12ms/step - loss: 20.2196 - mae: 3.6936 - val_loss: 23.1026 - val_mae: 3.8319\n",
            "Epoch 15/20\n",
            "80/80 [==============================] - 1s 11ms/step - loss: 19.1416 - mae: 3.5921 - val_loss: 22.1731 - val_mae: 3.7462\n",
            "Epoch 16/20\n",
            "80/80 [==============================] - 1s 10ms/step - loss: 18.1559 - mae: 3.4970 - val_loss: 21.2696 - val_mae: 3.6601\n",
            "Epoch 17/20\n",
            "80/80 [==============================] - 1s 12ms/step - loss: 17.2591 - mae: 3.4086 - val_loss: 20.4205 - val_mae: 3.5772\n",
            "Epoch 18/20\n",
            "80/80 [==============================] - 1s 11ms/step - loss: 16.4389 - mae: 3.3238 - val_loss: 19.6042 - val_mae: 3.4979\n",
            "Epoch 19/20\n",
            "80/80 [==============================] - 1s 10ms/step - loss: 15.6869 - mae: 3.2440 - val_loss: 18.8322 - val_mae: 3.4220\n",
            "Epoch 20/20\n",
            "80/80 [==============================] - 1s 13ms/step - loss: 14.9893 - mae: 3.1693 - val_loss: 18.1139 - val_mae: 3.3523\n"
          ]
        }
      ]
    },
    {
      "cell_type": "code",
      "source": [
        "# Plot MAE cures for validation and training\n",
        "plot_hist_regression(history_dense, baseline)"
      ],
      "metadata": {
        "colab": {
          "base_uri": "https://localhost:8080/",
          "height": 54
        },
        "id": "aBRYn-AKMCi4",
        "outputId": "08c4c379-415b-4803-b5aa-069a0134dade"
      },
      "execution_count": 16,
      "outputs": [
        {
          "output_type": "display_data",
          "data": {
            "text/plain": [
              "<Figure size 432x288 with 1 Axes>"
            ],
            "image/png": "[encoded data removed]"
          },
          "metadata": {
            "needs_background": "light"
          }
        }
      ]
    },
    {
      "cell_type": "markdown",
      "source": [
        "Validation loss is worse than what we had with our common-sense baseline, and we're already overfitting (MAE on training set is lower than on validation set). It turns out our previous baseline is not as easy to outperform as we thought!\n",
        "\n",
        "Remember our 'hypothesis space'? Using 2 Dense layers doesn't seem to be very useful in this case. We need other types of layers for this problem."
      ],
      "metadata": {
        "id": "1EJywOA5NJa9"
      }
    },
    {
      "cell_type": "code",
      "source": [
        "# We know that CNNs take advantage of neighbouring values, so why don't we try that?\n",
        "\n",
        "# In addition to the Conv2D layers we saw last week, there are Conv1D and Conv3D layers. \n",
        "# Conv1D layers rely on 1D windows that slide across an input sequence (imagine a 1D image)\n",
        "\n",
        "model_cnn = models.Sequential()\n",
        "model_cnn.add(layers.Conv1D(8, 7, activation='relu', input_shape=(sequence_length, len(df.columns)-1)))\n",
        "model_cnn.add(layers.MaxPooling1D(2))\n",
        "model_cnn.add(layers.Conv1D(8, 3, activation='relu'))\n",
        "model_cnn.add(layers.MaxPooling1D(2))\n",
        "model_cnn.add(layers.GlobalAveragePooling1D())\n",
        "model_cnn.add(layers.Dense(1))\n",
        "\n",
        "model_cnn.summary()"
      ],
      "metadata": {
        "colab": {
          "base_uri": "https://localhost:8080/"
        },
        "id": "k6PADykQPIjq",
        "outputId": "414e7eb2-f886-4f1f-c154-0350eb41d4e9"
      },
      "execution_count": 17,
      "outputs": [
        {
          "output_type": "stream",
          "name": "stdout",
          "text": [
            "Model: \"sequential_1\"\n",
            "_________________________________________________________________\n",
            " Layer (type)                Output Shape              Param #   \n",
            "=================================================================\n",
            " conv1d (Conv1D)             (None, 8, 8)              344       \n",
            "                                                                 \n",
            " max_pooling1d (MaxPooling1D  (None, 4, 8)             0         \n",
            " )                                                               \n",
            "                                                                 \n",
            " conv1d_1 (Conv1D)           (None, 2, 8)              200       \n",
            "                                                                 \n",
            " max_pooling1d_1 (MaxPooling  (None, 1, 8)             0         \n",
            " 1D)                                                             \n",
            "                                                                 \n",
            " global_average_pooling1d (G  (None, 8)                0         \n",
            " lobalAveragePooling1D)                                          \n",
            "                                                                 \n",
            " dense_2 (Dense)             (None, 1)                 9         \n",
            "                                                                 \n",
            "=================================================================\n",
            "Total params: 553\n",
            "Trainable params: 553\n",
            "Non-trainable params: 0\n",
            "_________________________________________________________________\n"
          ]
        }
      ]
    },
    {
      "cell_type": "code",
      "source": [
        "model_cnn.compile(optimizer='rmsprop', loss='mse', metrics=['mae'])\n",
        "history_cnn = model_cnn.fit(train_dataset, epochs=n_epochs,\n",
        "                            validation_data=val_dataset)"
      ],
      "metadata": {
        "colab": {
          "base_uri": "https://localhost:8080/"
        },
        "id": "PSGRJSulQs22",
        "outputId": "91f85836-ff34-484e-e47f-1807b987b5e4"
      },
      "execution_count": 18,
      "outputs": [
        {
          "output_type": "stream",
          "name": "stdout",
          "text": [
            "Epoch 1/20\n",
            "80/80 [==============================] - 2s 8ms/step - loss: 114.3073 - mae: 9.2050 - val_loss: 96.3071 - val_mae: 8.0168\n",
            "Epoch 2/20\n",
            "80/80 [==============================] - 1s 6ms/step - loss: 67.4600 - mae: 6.9499 - val_loss: 49.5258 - val_mae: 5.7216\n",
            "Epoch 3/20\n",
            "80/80 [==============================] - 1s 7ms/step - loss: 25.5852 - mae: 4.1674 - val_loss: 20.8019 - val_mae: 3.4530\n",
            "Epoch 4/20\n",
            "80/80 [==============================] - 1s 8ms/step - loss: 16.9378 - mae: 3.3295 - val_loss: 18.4656 - val_mae: 3.2104\n",
            "Epoch 5/20\n",
            "80/80 [==============================] - 1s 7ms/step - loss: 14.8623 - mae: 3.1280 - val_loss: 17.0153 - val_mae: 3.0697\n",
            "Epoch 6/20\n",
            "80/80 [==============================] - 1s 7ms/step - loss: 13.3410 - mae: 2.9598 - val_loss: 15.9044 - val_mae: 2.9734\n",
            "Epoch 7/20\n",
            "80/80 [==============================] - 1s 6ms/step - loss: 12.2285 - mae: 2.8245 - val_loss: 15.0502 - val_mae: 2.9099\n",
            "Epoch 8/20\n",
            "80/80 [==============================] - 1s 6ms/step - loss: 11.4472 - mae: 2.7267 - val_loss: 14.4245 - val_mae: 2.8665\n",
            "Epoch 9/20\n",
            "80/80 [==============================] - 1s 8ms/step - loss: 10.8969 - mae: 2.6627 - val_loss: 13.9606 - val_mae: 2.8339\n",
            "Epoch 10/20\n",
            "80/80 [==============================] - 1s 7ms/step - loss: 10.4963 - mae: 2.6133 - val_loss: 13.6103 - val_mae: 2.8054\n",
            "Epoch 11/20\n",
            "80/80 [==============================] - 1s 9ms/step - loss: 10.1810 - mae: 2.5723 - val_loss: 13.2658 - val_mae: 2.7771\n",
            "Epoch 12/20\n",
            "80/80 [==============================] - 1s 7ms/step - loss: 9.9133 - mae: 2.5344 - val_loss: 12.9829 - val_mae: 2.7528\n",
            "Epoch 13/20\n",
            "80/80 [==============================] - 1s 6ms/step - loss: 9.6888 - mae: 2.5024 - val_loss: 12.6908 - val_mae: 2.7297\n",
            "Epoch 14/20\n",
            "80/80 [==============================] - 1s 6ms/step - loss: 9.4836 - mae: 2.4733 - val_loss: 12.4106 - val_mae: 2.7071\n",
            "Epoch 15/20\n",
            "80/80 [==============================] - 1s 8ms/step - loss: 9.2831 - mae: 2.4449 - val_loss: 12.1856 - val_mae: 2.6873\n",
            "Epoch 16/20\n",
            "80/80 [==============================] - 1s 7ms/step - loss: 9.1050 - mae: 2.4193 - val_loss: 11.9931 - val_mae: 2.6694\n",
            "Epoch 17/20\n",
            "80/80 [==============================] - 1s 7ms/step - loss: 8.9426 - mae: 2.3956 - val_loss: 11.7927 - val_mae: 2.6519\n",
            "Epoch 18/20\n",
            "80/80 [==============================] - 1s 8ms/step - loss: 8.7939 - mae: 2.3740 - val_loss: 11.6440 - val_mae: 2.6375\n",
            "Epoch 19/20\n",
            "80/80 [==============================] - 1s 7ms/step - loss: 8.6502 - mae: 2.3533 - val_loss: 11.4780 - val_mae: 2.6227\n",
            "Epoch 20/20\n",
            "80/80 [==============================] - 1s 8ms/step - loss: 8.5165 - mae: 2.3341 - val_loss: 11.3294 - val_mae: 2.6092\n"
          ]
        }
      ]
    },
    {
      "cell_type": "code",
      "source": [
        "# Plot MAE cures for validation and training\n",
        "plot_hist_regression(history_cnn, baseline)"
      ],
      "metadata": {
        "colab": {
          "base_uri": "https://localhost:8080/",
          "height": 54
        },
        "id": "6bB6lzLYSG-u",
        "outputId": "9b87aae3-0829-4ded-8e4e-c78ddc147ad5"
      },
      "execution_count": 19,
      "outputs": [
        {
          "output_type": "display_data",
          "data": {
            "text/plain": [
              "<Figure size 432x288 with 1 Axes>"
            ],
            "image/png": "[encoded data removed]"
          },
          "metadata": {
            "needs_background": "light"
          }
        }
      ]
    },
    {
      "cell_type": "markdown",
      "source": [
        "This model isn't any better, with a validation MAE of 2.77 degrees (also worse than the 'common-sense approach' that we tried at first), and we're overfitting a bit too.\n",
        "\n",
        "Why?\n",
        "\n",
        "In timeseries, order matters a lot: the recent past is more informative than data from 5 days ago, and convolutional layers don't take advantage of this fact -- max pooling and global average pooling layers actually destroy this order information."
      ],
      "metadata": {
        "id": "Kc2iMPSHViL1"
      }
    },
    {
      "cell_type": "markdown",
      "metadata": {
        "id": "3ozUAZX__a0R"
      },
      "source": [
        "## Long Short Term Memory (LSTM) Neural Networks\n",
        "\n",
        "\n"
      ]
    },
    {
      "cell_type": "code",
      "execution_count": 20,
      "metadata": {
        "id": "2dWfiaUw_a0R",
        "colab": {
          "base_uri": "https://localhost:8080/"
        },
        "outputId": "346d5854-c933-413f-e657-d486182ba075"
      },
      "outputs": [
        {
          "output_type": "stream",
          "name": "stdout",
          "text": [
            "Model: \"sequential_2\"\n",
            "_________________________________________________________________\n",
            " Layer (type)                Output Shape              Param #   \n",
            "=================================================================\n",
            " lstm (LSTM)                 (None, 20)                2160      \n",
            "                                                                 \n",
            " dense_3 (Dense)             (None, 1)                 21        \n",
            "                                                                 \n",
            "=================================================================\n",
            "Total params: 2,181\n",
            "Trainable params: 2,181\n",
            "Non-trainable params: 0\n",
            "_________________________________________________________________\n"
          ]
        }
      ],
      "source": [
        "# 1-layer LSTM\n",
        "\n",
        "model_lstm1 = models.Sequential()\n",
        "model_lstm1.add(layers.LSTM(20, input_shape=(sequence_length, len(df.columns)-1)))\n",
        "model_lstm1.add(layers.Dense(1))\n",
        "\n",
        "model_lstm1.summary()"
      ]
    },
    {
      "cell_type": "code",
      "source": [
        "n_epochs = 20"
      ],
      "metadata": {
        "id": "DMst2Mp0R0Xi"
      },
      "execution_count": 21,
      "outputs": []
    },
    {
      "cell_type": "code",
      "source": [
        "model_lstm1.compile(optimizer='rmsprop', loss='mse', metrics=['mae'])\n",
        "history_lstm1 = model_lstm1.fit(train_dataset, epochs=n_epochs,\n",
        "                            validation_data=val_dataset)"
      ],
      "metadata": {
        "colab": {
          "base_uri": "https://localhost:8080/"
        },
        "id": "Pff2tZQHXb-z",
        "outputId": "72963d30-3267-4794-9acf-1b51d95f1b6b"
      },
      "execution_count": 22,
      "outputs": [
        {
          "output_type": "stream",
          "name": "stdout",
          "text": [
            "Epoch 1/20\n",
            "80/80 [==============================] - 3s 16ms/step - loss: 140.4663 - mae: 10.6466 - val_loss: 118.7026 - val_mae: 9.6223\n",
            "Epoch 2/20\n",
            "80/80 [==============================] - 1s 13ms/step - loss: 91.0187 - mae: 8.3235 - val_loss: 62.9160 - val_mae: 6.4653\n",
            "Epoch 3/20\n",
            "80/80 [==============================] - 1s 13ms/step - loss: 50.8696 - mae: 5.9101 - val_loss: 42.1773 - val_mae: 5.1067\n",
            "Epoch 4/20\n",
            "80/80 [==============================] - 1s 11ms/step - loss: 37.0264 - mae: 5.0213 - val_loss: 33.4131 - val_mae: 4.5565\n",
            "Epoch 5/20\n",
            "80/80 [==============================] - 1s 13ms/step - loss: 29.0166 - mae: 4.4147 - val_loss: 27.2622 - val_mae: 4.1424\n",
            "Epoch 6/20\n",
            "80/80 [==============================] - 1s 12ms/step - loss: 23.6205 - mae: 3.9788 - val_loss: 22.9132 - val_mae: 3.8159\n",
            "Epoch 7/20\n",
            "80/80 [==============================] - 1s 11ms/step - loss: 19.7837 - mae: 3.6408 - val_loss: 19.8084 - val_mae: 3.5551\n",
            "Epoch 8/20\n",
            "80/80 [==============================] - 1s 11ms/step - loss: 16.7676 - mae: 3.3468 - val_loss: 17.3818 - val_mae: 3.3361\n",
            "Epoch 9/20\n",
            "80/80 [==============================] - 1s 13ms/step - loss: 14.3956 - mae: 3.0849 - val_loss: 15.4113 - val_mae: 3.1458\n",
            "Epoch 10/20\n",
            "80/80 [==============================] - 1s 11ms/step - loss: 12.5662 - mae: 2.8618 - val_loss: 13.7777 - val_mae: 2.9788\n",
            "Epoch 11/20\n",
            "80/80 [==============================] - 1s 11ms/step - loss: 11.0563 - mae: 2.6742 - val_loss: 12.3812 - val_mae: 2.8219\n",
            "Epoch 12/20\n",
            "80/80 [==============================] - 1s 11ms/step - loss: 9.8148 - mae: 2.5080 - val_loss: 11.2164 - val_mae: 2.6835\n",
            "Epoch 13/20\n",
            "80/80 [==============================] - 1s 11ms/step - loss: 8.7596 - mae: 2.3665 - val_loss: 10.3007 - val_mae: 2.5675\n",
            "Epoch 14/20\n",
            "80/80 [==============================] - 1s 11ms/step - loss: 7.9480 - mae: 2.2507 - val_loss: 9.6220 - val_mae: 2.4838\n",
            "Epoch 15/20\n",
            "80/80 [==============================] - 1s 10ms/step - loss: 7.2826 - mae: 2.1573 - val_loss: 9.0955 - val_mae: 2.4202\n",
            "Epoch 16/20\n",
            "80/80 [==============================] - 1s 12ms/step - loss: 6.8314 - mae: 2.0890 - val_loss: 8.6582 - val_mae: 2.3707\n",
            "Epoch 17/20\n",
            "80/80 [==============================] - 1s 11ms/step - loss: 6.4283 - mae: 2.0273 - val_loss: 8.3439 - val_mae: 2.3305\n",
            "Epoch 18/20\n",
            "80/80 [==============================] - 1s 11ms/step - loss: 6.2118 - mae: 1.9884 - val_loss: 8.0419 - val_mae: 2.2895\n",
            "Epoch 19/20\n",
            "80/80 [==============================] - 1s 13ms/step - loss: 5.9320 - mae: 1.9440 - val_loss: 7.8335 - val_mae: 2.2579\n",
            "Epoch 20/20\n",
            "80/80 [==============================] - 1s 12ms/step - loss: 5.8194 - mae: 1.9210 - val_loss: 7.6065 - val_mae: 2.2224\n"
          ]
        }
      ]
    },
    {
      "cell_type": "code",
      "source": [
        "# Plot MAE cures for validation and training\n",
        "plot_hist_regression(history_lstm1, baseline)\n"
      ],
      "metadata": {
        "colab": {
          "base_uri": "https://localhost:8080/",
          "height": 54
        },
        "id": "hr-bgDUvXmvS",
        "outputId": "36b0f888-8d5f-49bd-caaa-c7f36e9ad7da"
      },
      "execution_count": 23,
      "outputs": [
        {
          "output_type": "display_data",
          "data": {
            "text/plain": [
              "<Figure size 432x288 with 1 Axes>"
            ],
            "image/png": "[encoded data removed]"
          },
          "metadata": {
            "needs_background": "light"
          }
        }
      ]
    },
    {
      "cell_type": "code",
      "source": [
        "print('Test MAE = %.2f degrees' % model_lstm1.evaluate(test_dataset)[1])"
      ],
      "metadata": {
        "colab": {
          "base_uri": "https://localhost:8080/"
        },
        "id": "0fFZvXXUcQ67",
        "outputId": "70701d32-10fb-4cf5-b61b-50449a5af98d"
      },
      "execution_count": 24,
      "outputs": [
        {
          "output_type": "stream",
          "name": "stdout",
          "text": [
            "31/31 [==============================] - 0s 5ms/step - loss: 8.0755 - mae: 2.2373\n",
            "Test MAE = 2.24 degrees\n"
          ]
        }
      ]
    },
    {
      "cell_type": "markdown",
      "source": [
        "Success! We finally beat the common-sense baseline! The validation MAE now is 2.12 degrees, and the test MAE is 2.27.\n",
        "\n",
        "Why do LSTM layers work? Let's go back to the slides"
      ],
      "metadata": {
        "id": "bYSWwI1aXvwL"
      }
    },
    {
      "cell_type": "code",
      "source": [
        "# Adding dropout\n",
        "\n",
        "model_lstm2 = models.Sequential()\n",
        "model_lstm2.add(layers.LSTM(20, input_shape=(sequence_length, len(df.columns)-1), recurrent_dropout=0.25))\n",
        "model_lstm2.add(layers.Dropout(0.4))\n",
        "model_lstm2.add(layers.Dense(1))\n",
        "\n",
        "model_lstm2.summary()"
      ],
      "metadata": {
        "id": "acSYakeOcokB",
        "colab": {
          "base_uri": "https://localhost:8080/"
        },
        "outputId": "ece47512-5f37-4367-d9e2-a36a409cc52e"
      },
      "execution_count": 25,
      "outputs": [
        {
          "output_type": "stream",
          "name": "stdout",
          "text": [
            "Model: \"sequential_3\"\n",
            "_________________________________________________________________\n",
            " Layer (type)                Output Shape              Param #   \n",
            "=================================================================\n",
            " lstm_1 (LSTM)               (None, 20)                2160      \n",
            "                                                                 \n",
            " dropout (Dropout)           (None, 20)                0         \n",
            "                                                                 \n",
            " dense_4 (Dense)             (None, 1)                 21        \n",
            "                                                                 \n",
            "=================================================================\n",
            "Total params: 2,181\n",
            "Trainable params: 2,181\n",
            "Non-trainable params: 0\n",
            "_________________________________________________________________\n"
          ]
        }
      ]
    },
    {
      "cell_type": "code",
      "source": [
        "model_lstm2.compile(optimizer='rmsprop', loss='mse', metrics=['mae'])\n",
        "history_lstm2 = model_lstm2.fit(train_dataset, epochs=n_epochs,\n",
        "                            validation_data=val_dataset)"
      ],
      "metadata": {
        "colab": {
          "base_uri": "https://localhost:8080/"
        },
        "id": "LvRnf9TWSWf9",
        "outputId": "f0f7ae0e-855d-4529-f1a2-e15f8677b2b7"
      },
      "execution_count": 26,
      "outputs": [
        {
          "output_type": "stream",
          "name": "stdout",
          "text": [
            "Epoch 1/20\n",
            "80/80 [==============================] - 4s 19ms/step - loss: 136.3238 - mae: 10.4698 - val_loss: 113.7928 - val_mae: 9.4031\n",
            "Epoch 2/20\n",
            "80/80 [==============================] - 1s 16ms/step - loss: 86.5720 - mae: 8.0168 - val_loss: 55.6200 - val_mae: 5.9495\n",
            "Epoch 3/20\n",
            "80/80 [==============================] - 1s 16ms/step - loss: 46.9056 - mae: 5.6268 - val_loss: 36.9640 - val_mae: 4.7664\n",
            "Epoch 4/20\n",
            "80/80 [==============================] - 1s 16ms/step - loss: 33.7803 - mae: 4.7523 - val_loss: 28.4557 - val_mae: 4.2109\n",
            "Epoch 5/20\n",
            "80/80 [==============================] - 1s 15ms/step - loss: 26.9818 - mae: 4.2199 - val_loss: 23.4600 - val_mae: 3.8606\n",
            "Epoch 6/20\n",
            "80/80 [==============================] - 1s 16ms/step - loss: 22.6220 - mae: 3.8145 - val_loss: 19.6855 - val_mae: 3.5337\n",
            "Epoch 7/20\n",
            "80/80 [==============================] - 1s 16ms/step - loss: 20.7553 - mae: 3.7025 - val_loss: 17.2099 - val_mae: 3.3104\n",
            "Epoch 8/20\n",
            "80/80 [==============================] - 1s 16ms/step - loss: 18.0317 - mae: 3.3810 - val_loss: 15.1944 - val_mae: 3.1019\n",
            "Epoch 9/20\n",
            "80/80 [==============================] - 1s 15ms/step - loss: 16.8964 - mae: 3.3126 - val_loss: 13.3919 - val_mae: 2.9099\n",
            "Epoch 10/20\n",
            "80/80 [==============================] - 1s 17ms/step - loss: 15.5887 - mae: 3.1120 - val_loss: 12.3625 - val_mae: 2.8018\n",
            "Epoch 11/20\n",
            "80/80 [==============================] - 1s 16ms/step - loss: 14.8653 - mae: 3.0146 - val_loss: 11.2906 - val_mae: 2.6843\n",
            "Epoch 12/20\n",
            "80/80 [==============================] - 1s 17ms/step - loss: 12.8173 - mae: 2.8658 - val_loss: 10.2279 - val_mae: 2.5388\n",
            "Epoch 13/20\n",
            "80/80 [==============================] - 1s 16ms/step - loss: 12.6061 - mae: 2.8300 - val_loss: 9.6106 - val_mae: 2.4669\n",
            "Epoch 14/20\n",
            "80/80 [==============================] - 1s 15ms/step - loss: 12.7097 - mae: 2.8312 - val_loss: 9.4106 - val_mae: 2.4583\n",
            "Epoch 15/20\n",
            "80/80 [==============================] - 1s 18ms/step - loss: 11.3226 - mae: 2.6723 - val_loss: 9.3234 - val_mae: 2.4598\n",
            "Epoch 16/20\n",
            "80/80 [==============================] - 1s 16ms/step - loss: 10.6935 - mae: 2.6159 - val_loss: 8.6103 - val_mae: 2.3500\n",
            "Epoch 17/20\n",
            "80/80 [==============================] - 1s 17ms/step - loss: 11.8483 - mae: 2.7082 - val_loss: 8.0327 - val_mae: 2.2638\n",
            "Epoch 18/20\n",
            "80/80 [==============================] - 1s 16ms/step - loss: 10.9281 - mae: 2.6095 - val_loss: 7.6948 - val_mae: 2.2118\n",
            "Epoch 19/20\n",
            "80/80 [==============================] - 1s 15ms/step - loss: 11.1213 - mae: 2.6561 - val_loss: 7.7725 - val_mae: 2.2417\n",
            "Epoch 20/20\n",
            "80/80 [==============================] - 1s 16ms/step - loss: 10.3754 - mae: 2.5678 - val_loss: 7.3631 - val_mae: 2.1757\n"
          ]
        }
      ]
    },
    {
      "cell_type": "code",
      "source": [
        "# Plot MAE cures for validation and training\n",
        "plot_hist_regression(history_lstm2, baseline)"
      ],
      "metadata": {
        "colab": {
          "base_uri": "https://localhost:8080/",
          "height": 54
        },
        "id": "cWpm-j9iSck1",
        "outputId": "ef2e621a-74a0-4c4f-e0c3-bc2cd4d8d3b9"
      },
      "execution_count": 27,
      "outputs": [
        {
          "output_type": "display_data",
          "data": {
            "text/plain": [
              "<Figure size 432x288 with 1 Axes>"
            ],
            "image/png": "[encoded data removed]"
          },
          "metadata": {
            "needs_background": "light"
          }
        }
      ]
    },
    {
      "cell_type": "code",
      "source": [
        "print('Test MAE = %.2f degrees' % model_lstm2.evaluate(test_dataset)[1])"
      ],
      "metadata": {
        "colab": {
          "base_uri": "https://localhost:8080/"
        },
        "id": "rAIQrQDVSmSM",
        "outputId": "ef69fd31-33e9-4ba8-d308-3a666b0c6cc9"
      },
      "execution_count": 28,
      "outputs": [
        {
          "output_type": "stream",
          "name": "stdout",
          "text": [
            "31/31 [==============================] - 0s 5ms/step - loss: 8.5381 - mae: 2.3071\n",
            "Test MAE = 2.31 degrees\n"
          ]
        }
      ]
    },
    {
      "cell_type": "markdown",
      "source": [
        "Note that validation set MAE is now lower than MAE on training set -- no longer overfitting. Validation MAE is 2.16 and test MAE is also 2.16.\n",
        "\n",
        "NOTE: This is a very simple dataset with very small differences in performance between different models.  You'll just have to take my word for it that *in general* this approach works. "
      ],
      "metadata": {
        "id": "H3OrpvE3S4gM"
      }
    },
    {
      "cell_type": "code",
      "source": [
        "# Performance in the previous figure can (maybe) still be improved\n",
        "# Let's try to add some more layers -- we can do this now that we're no longer overfitting\n",
        "\n",
        "model_lstm3 = models.Sequential()\n",
        "model_lstm3.add(layers.LSTM(20, input_shape=(sequence_length, len(df.columns)-1), recurrent_dropout=0.25, return_sequences=True))  # NEW!\n",
        "model_lstm3.add(layers.LSTM(20, input_shape=(sequence_length, len(df.columns)-1), recurrent_dropout=0.25))  # NEW!!\n",
        "model_lstm3.add(layers.Dropout(0.4))\n",
        "model_lstm3.add(layers.Dense(1))\n",
        "model_lstm3.summary()"
      ],
      "metadata": {
        "colab": {
          "base_uri": "https://localhost:8080/"
        },
        "id": "jq_ZDTttTX6_",
        "outputId": "2584d965-6e13-41b0-e083-895eff02313f"
      },
      "execution_count": 29,
      "outputs": [
        {
          "output_type": "stream",
          "name": "stdout",
          "text": [
            "Model: \"sequential_4\"\n",
            "_________________________________________________________________\n",
            " Layer (type)                Output Shape              Param #   \n",
            "=================================================================\n",
            " lstm_2 (LSTM)               (None, 14, 20)            2160      \n",
            "                                                                 \n",
            " lstm_3 (LSTM)               (None, 20)                3280      \n",
            "                                                                 \n",
            " dropout_1 (Dropout)         (None, 20)                0         \n",
            "                                                                 \n",
            " dense_5 (Dense)             (None, 1)                 21        \n",
            "                                                                 \n",
            "=================================================================\n",
            "Total params: 5,461\n",
            "Trainable params: 5,461\n",
            "Non-trainable params: 0\n",
            "_________________________________________________________________\n"
          ]
        }
      ]
    },
    {
      "cell_type": "code",
      "source": [
        "model_lstm3.compile(optimizer='rmsprop', loss='mse', metrics=['mae'])\n",
        "\n",
        "callbacks = [EarlyStopping(monitor='val_mae', patience=2)]\n",
        "\n",
        "history_lstm3 = model_lstm3.fit(train_dataset, epochs=60,  # increased number of epochs\n",
        "                            validation_data=val_dataset,\n",
        "                            callbacks=callbacks)  # but added early stopping callback\n"
      ],
      "metadata": {
        "colab": {
          "base_uri": "https://localhost:8080/"
        },
        "id": "9xQXChtNUxzh",
        "outputId": "c8eb51ea-2fd4-455e-85d5-e6d6684d507a"
      },
      "execution_count": 30,
      "outputs": [
        {
          "output_type": "stream",
          "name": "stdout",
          "text": [
            "Epoch 1/60\n",
            "80/80 [==============================] - 7s 31ms/step - loss: 114.3240 - mae: 9.5470 - val_loss: 66.7004 - val_mae: 6.7668\n",
            "Epoch 2/60\n",
            "80/80 [==============================] - 2s 25ms/step - loss: 52.4262 - mae: 5.9917 - val_loss: 40.1117 - val_mae: 4.9912\n",
            "Epoch 3/60\n",
            "80/80 [==============================] - 2s 26ms/step - loss: 37.9139 - mae: 4.9782 - val_loss: 33.7302 - val_mae: 4.6584\n",
            "Epoch 4/60\n",
            "80/80 [==============================] - 2s 27ms/step - loss: 31.1650 - mae: 4.5309 - val_loss: 26.5321 - val_mae: 4.0592\n",
            "Epoch 5/60\n",
            "80/80 [==============================] - 2s 26ms/step - loss: 26.0395 - mae: 4.1052 - val_loss: 25.6456 - val_mae: 4.1383\n",
            "Epoch 6/60\n",
            "80/80 [==============================] - 2s 26ms/step - loss: 22.6595 - mae: 3.8161 - val_loss: 22.0227 - val_mae: 3.8175\n",
            "Epoch 7/60\n",
            "80/80 [==============================] - 3s 35ms/step - loss: 20.0428 - mae: 3.5816 - val_loss: 19.5612 - val_mae: 3.5918\n",
            "Epoch 8/60\n",
            "80/80 [==============================] - 2s 27ms/step - loss: 17.4449 - mae: 3.3714 - val_loss: 16.4847 - val_mae: 3.2636\n",
            "Epoch 9/60\n",
            "80/80 [==============================] - 2s 26ms/step - loss: 16.7249 - mae: 3.2665 - val_loss: 14.5860 - val_mae: 3.0593\n",
            "Epoch 10/60\n",
            "80/80 [==============================] - 2s 26ms/step - loss: 14.8509 - mae: 3.0793 - val_loss: 13.1753 - val_mae: 2.9051\n",
            "Epoch 11/60\n",
            "80/80 [==============================] - 2s 26ms/step - loss: 14.0756 - mae: 2.9993 - val_loss: 12.8002 - val_mae: 2.8839\n",
            "Epoch 12/60\n",
            "80/80 [==============================] - 2s 26ms/step - loss: 13.3193 - mae: 2.8981 - val_loss: 11.3954 - val_mae: 2.7144\n",
            "Epoch 13/60\n",
            "80/80 [==============================] - 2s 27ms/step - loss: 12.7188 - mae: 2.8593 - val_loss: 10.6819 - val_mae: 2.6332\n",
            "Epoch 14/60\n",
            "80/80 [==============================] - 2s 27ms/step - loss: 11.4714 - mae: 2.6604 - val_loss: 10.3900 - val_mae: 2.5969\n",
            "Epoch 15/60\n",
            "80/80 [==============================] - 2s 25ms/step - loss: 11.7122 - mae: 2.7221 - val_loss: 9.1408 - val_mae: 2.4326\n",
            "Epoch 16/60\n",
            "80/80 [==============================] - 2s 26ms/step - loss: 12.4838 - mae: 2.8009 - val_loss: 8.8541 - val_mae: 2.4036\n",
            "Epoch 17/60\n",
            "80/80 [==============================] - 2s 26ms/step - loss: 11.0901 - mae: 2.6580 - val_loss: 8.2289 - val_mae: 2.3111\n",
            "Epoch 18/60\n",
            "80/80 [==============================] - 2s 26ms/step - loss: 10.5182 - mae: 2.5475 - val_loss: 8.1734 - val_mae: 2.3167\n",
            "Epoch 19/60\n",
            "80/80 [==============================] - 2s 26ms/step - loss: 10.6746 - mae: 2.5998 - val_loss: 7.9123 - val_mae: 2.2844\n",
            "Epoch 20/60\n",
            "80/80 [==============================] - 2s 26ms/step - loss: 9.9768 - mae: 2.5159 - val_loss: 8.4560 - val_mae: 2.3573\n",
            "Epoch 21/60\n",
            "80/80 [==============================] - 3s 34ms/step - loss: 10.3442 - mae: 2.5845 - val_loss: 7.5120 - val_mae: 2.2224\n",
            "Epoch 22/60\n",
            "80/80 [==============================] - 2s 25ms/step - loss: 10.3757 - mae: 2.5332 - val_loss: 7.3833 - val_mae: 2.1919\n",
            "Epoch 23/60\n",
            "80/80 [==============================] - 2s 25ms/step - loss: 9.7060 - mae: 2.4668 - val_loss: 7.2927 - val_mae: 2.1726\n",
            "Epoch 24/60\n",
            "80/80 [==============================] - 2s 26ms/step - loss: 9.6195 - mae: 2.4589 - val_loss: 6.8322 - val_mae: 2.1047\n",
            "Epoch 25/60\n",
            "80/80 [==============================] - 2s 26ms/step - loss: 9.3843 - mae: 2.4580 - val_loss: 7.1621 - val_mae: 2.1679\n",
            "Epoch 26/60\n",
            "80/80 [==============================] - 2s 26ms/step - loss: 10.0605 - mae: 2.5053 - val_loss: 6.4244 - val_mae: 2.0361\n",
            "Epoch 27/60\n",
            "80/80 [==============================] - 2s 27ms/step - loss: 9.4437 - mae: 2.4278 - val_loss: 6.8338 - val_mae: 2.0980\n",
            "Epoch 28/60\n",
            "80/80 [==============================] - 2s 26ms/step - loss: 9.0762 - mae: 2.3821 - val_loss: 6.4388 - val_mae: 2.0336\n",
            "Epoch 29/60\n",
            "80/80 [==============================] - 2s 26ms/step - loss: 9.2320 - mae: 2.4148 - val_loss: 6.5356 - val_mae: 2.0341\n",
            "Epoch 30/60\n",
            "80/80 [==============================] - 2s 27ms/step - loss: 9.2986 - mae: 2.4281 - val_loss: 5.9861 - val_mae: 1.9513\n",
            "Epoch 31/60\n",
            "80/80 [==============================] - 2s 25ms/step - loss: 8.2201 - mae: 2.2690 - val_loss: 6.3244 - val_mae: 2.0107\n",
            "Epoch 32/60\n",
            "80/80 [==============================] - 2s 26ms/step - loss: 9.0548 - mae: 2.3705 - val_loss: 5.8276 - val_mae: 1.9224\n",
            "Epoch 33/60\n",
            "80/80 [==============================] - 2s 27ms/step - loss: 8.7723 - mae: 2.3138 - val_loss: 5.9999 - val_mae: 1.9583\n",
            "Epoch 34/60\n",
            "80/80 [==============================] - 2s 26ms/step - loss: 8.4281 - mae: 2.3280 - val_loss: 5.8903 - val_mae: 1.9193\n",
            "Epoch 35/60\n",
            "80/80 [==============================] - 2s 26ms/step - loss: 8.7164 - mae: 2.3298 - val_loss: 5.6567 - val_mae: 1.8887\n",
            "Epoch 36/60\n",
            "80/80 [==============================] - 2s 26ms/step - loss: 8.4965 - mae: 2.3188 - val_loss: 5.5655 - val_mae: 1.8688\n",
            "Epoch 37/60\n",
            "80/80 [==============================] - 2s 26ms/step - loss: 8.6431 - mae: 2.3404 - val_loss: 5.4116 - val_mae: 1.8354\n",
            "Epoch 38/60\n",
            "80/80 [==============================] - 2s 27ms/step - loss: 8.3730 - mae: 2.2610 - val_loss: 5.4708 - val_mae: 1.8468\n",
            "Epoch 39/60\n",
            "80/80 [==============================] - 2s 26ms/step - loss: 8.3164 - mae: 2.3038 - val_loss: 5.6090 - val_mae: 1.8750\n"
          ]
        }
      ]
    },
    {
      "cell_type": "code",
      "source": [
        "# Plot MAE cures for validation and training\n",
        "plot_hist_regression(history_lstm3, baseline)\n",
        "print('Test MAE = %.2f degrees' % model_lstm3.evaluate(test_dataset)[1])"
      ],
      "metadata": {
        "colab": {
          "base_uri": "https://localhost:8080/",
          "height": 88
        },
        "id": "PtFfB3YaU4k3",
        "outputId": "dca90961-65ee-4af9-cfad-24d55f4e3fc9"
      },
      "execution_count": 31,
      "outputs": [
        {
          "output_type": "display_data",
          "data": {
            "text/plain": [
              "<Figure size 432x288 with 1 Axes>"
            ],
            "image/png": "[encoded data removed]"
          },
          "metadata": {
            "needs_background": "light"
          }
        },
        {
          "output_type": "stream",
          "name": "stdout",
          "text": [
            "31/31 [==============================] - 0s 6ms/step - loss: 5.8613 - mae: 1.8473\n",
            "Test MAE = 1.85 degrees\n"
          ]
        }
      ]
    },
    {
      "cell_type": "markdown",
      "source": [
        "Validation MAE = 1.92 degrees\n",
        "\n",
        "Test MAE = 1.89 degrees\n"
      ],
      "metadata": {
        "id": "eUJqRqp1XJnL"
      }
    },
    {
      "cell_type": "markdown",
      "source": [
        "# Text"
      ],
      "metadata": {
        "id": "zGEuNqw2csXj"
      }
    },
    {
      "cell_type": "markdown",
      "source": [
        "## Data prep\n",
        "\n",
        "We'll try to predict whether the review for a movie is positive or negative looking only at the text of the review.\n",
        "\n",
        "We'll use the IMDB text dataset for this task, which is available on `keras.datasets` and described [here](https://keras.io/api/datasets/imdb/). \n",
        "\n",
        "We'll merge the training and test sets and use 60% for training, 20% for validation, and 20% for testing.\n",
        "\n",
        "\n",
        "As this is a binary classificationp problem, we'll use the binary cross entropy loss function. We will keep track of accuracy when training and evaluating the model.\n"
      ],
      "metadata": {
        "id": "dtv0EjsTbwvm"
      }
    },
    {
      "cell_type": "code",
      "source": [
        "def plot_hist_classif(hist):\n",
        "  n_ = len(hist.history['accuracy'])\n",
        "  plt.plot(range(1, n_+1), 100*np.asarray(hist.history['accuracy']), 'bo', label='Accuracy on training set')\n",
        "  plt.plot(range(1, n_+1), 100*np.asarray(hist.history['val_accuracy']), 'b', label='Accuracy on validation set')\n",
        "  plt.legend()\n",
        "  plt.xlabel(\"Epoch\") \n",
        "  plt.ylabel(\"Accuracy\")\n",
        "  plt.ylim(0, 100)\n",
        "  plt.axhline(y=50)\n",
        "  plt.show()\n"
      ],
      "metadata": {
        "id": "i-mH-8IGwGo1"
      },
      "execution_count": 32,
      "outputs": []
    },
    {
      "cell_type": "code",
      "source": [
        "max_features = 15000  # only consider the top 15k words\n",
        "maxlen = 500  # first 500 words of each review\n",
        "batch_size = 32\n",
        "\n",
        "print('Loading data...')\n",
        "# Load dataset\n",
        "(x_train, y_train), (x_test, y_test) = keras.datasets.imdb.load_data(num_words=max_features)\n",
        "print(len(x_train), 'train sequences', x_train.shape)\n",
        "print(len(x_test), 'test sequences', x_test.shape)"
      ],
      "metadata": {
        "colab": {
          "base_uri": "https://localhost:8080/"
        },
        "id": "4TW3Vg49n5V-",
        "outputId": "a9fea7df-b3ff-454f-8680-b3c2a0996471"
      },
      "execution_count": 33,
      "outputs": [
        {
          "output_type": "stream",
          "name": "stdout",
          "text": [
            "Loading data...\n",
            "Downloading data from https://storage.googleapis.com/tensorflow/tf-keras-datasets/imdb.npz\n",
            "17465344/17464789 [==============================] - 0s 0us/step\n",
            "17473536/17464789 [==============================] - 0s 0us/step\n",
            "25000 train sequences (25000,)\n",
            "25000 test sequences (25000,)\n"
          ]
        }
      ]
    },
    {
      "cell_type": "code",
      "source": [
        "# How balanced is this dataset?\n",
        "print(np.sum(y_train)/len(y_train))\n",
        "print(np.sum(y_test)/len(y_test))"
      ],
      "metadata": {
        "colab": {
          "base_uri": "https://localhost:8080/"
        },
        "id": "8ApTb-jYtSOm",
        "outputId": "f37e37c2-cbac-4049-8adf-b34bc0a07d31"
      },
      "execution_count": 34,
      "outputs": [
        {
          "output_type": "stream",
          "name": "stdout",
          "text": [
            "0.5\n",
            "0.5\n"
          ]
        }
      ]
    },
    {
      "cell_type": "code",
      "source": [
        "# Merge the two datasets and divide: 60% for training, 20% validation, 20% test\n",
        "x_, y_ = np.concatenate((x_train, x_test)), np.concatenate((y_train, y_test))\n",
        "print(x_.shape, y_.shape)\n",
        "x_train, x_test, y_train, y_test = train_test_split(x_, y_, test_size=0.4, random_state=10)  # 60/40 split\n",
        "x_val, x_test, y_val, y_test = train_test_split(x_test, y_test, test_size=0.5, random_state=10)  # 50/50 split\n",
        "print(len(x_train), 'train sequences', x_train.shape)\n",
        "print(len(x_val), 'validation sequences', x_val.shape)\n",
        "print(len(x_test), 'test sequences', x_test.shape)"
      ],
      "metadata": {
        "colab": {
          "base_uri": "https://localhost:8080/"
        },
        "id": "Z53Fbicqr8tm",
        "outputId": "abfae06d-ce10-40aa-f47d-c40d44f225a2"
      },
      "execution_count": 35,
      "outputs": [
        {
          "output_type": "stream",
          "name": "stdout",
          "text": [
            "(50000,) (50000,)\n",
            "30000 train sequences (30000,)\n",
            "10000 validation sequences (10000,)\n",
            "10000 test sequences (10000,)\n"
          ]
        }
      ]
    },
    {
      "cell_type": "code",
      "source": [
        "x_train[0][:10]  # numbers!!"
      ],
      "metadata": {
        "colab": {
          "base_uri": "https://localhost:8080/"
        },
        "id": "5v_Hy-r8o8pR",
        "outputId": "4e032cbe-112b-4174-d646-2f8f088d4670"
      },
      "execution_count": 36,
      "outputs": [
        {
          "output_type": "execute_result",
          "data": {
            "text/plain": [
              "[1, 11531, 186, 8, 28, 6, 6482, 7, 269, 4042]"
            ]
          },
          "metadata": {},
          "execution_count": 36
        }
      ]
    },
    {
      "cell_type": "code",
      "source": [
        "# We can explore what one of the reviews looks like at this point.\n",
        "\n",
        "# Retrieve the word index file that maps words to indices\n",
        "word_index = keras.datasets.imdb.get_word_index()\n",
        "# Reverse the word index to obtain a dict mapping indices to words (which is what we have)\n",
        "inverted_word_index = dict((i, word) for (word, i) in word_index.items())\n",
        "# Decode the first sequence in the dataset\n",
        "decoded_sequence = \" \".join(inverted_word_index[i] for i in x_train[0])\n",
        "decoded_sequence"
      ],
      "metadata": {
        "colab": {
          "base_uri": "https://localhost:8080/",
          "height": 105
        },
        "id": "rgEgNSLBpFwh",
        "outputId": "cf76058e-6826-4057-afb5-5d979463fac7"
      },
      "execution_count": 37,
      "outputs": [
        {
          "output_type": "stream",
          "name": "stdout",
          "text": [
            "Downloading data from https://storage.googleapis.com/tensorflow/tf-keras-datasets/imdb_word_index.json\n",
            "1646592/1641221 [==============================] - 0s 0us/step\n",
            "1654784/1641221 [==============================] - 0s 0us/step\n"
          ]
        },
        {
          "output_type": "execute_result",
          "data": {
            "text/plain": [
              "\"the lilly horror in one is fatale br looks meaningless in bronson be showing as you debut film ample to and ingredients zombi ample they for series and thought she's all manipulate and believing in j show look early last quote desire tight interesting that's kind out is far shelter but of frame br and\""
            ],
            "application/vnd.google.colaboratory.intrinsic+json": {
              "type": "string"
            }
          },
          "metadata": {},
          "execution_count": 37
        }
      ]
    },
    {
      "cell_type": "code",
      "source": [
        "# Let's ensure all sequences have the same length through padding\n",
        "# - shorter reviews are padded with 0's\n",
        "# - longer reviews are cut\n",
        "print('Pad sequences')\n",
        "x_train = keras.preprocessing.sequence.pad_sequences(x_train, maxlen=maxlen)\n",
        "x_val = keras.preprocessing.sequence.pad_sequences(x_val, maxlen=maxlen)\n",
        "x_test = keras.preprocessing.sequence.pad_sequences(x_test, maxlen=maxlen)\n",
        "print('x_train shape:', x_train.shape)\n",
        "print('x_val shape:', x_val.shape)\n",
        "print('x_test shape:', x_test.shape)"
      ],
      "metadata": {
        "colab": {
          "base_uri": "https://localhost:8080/"
        },
        "id": "ibmO0V-gcthG",
        "outputId": "7d031e90-30cf-42ef-86f5-783a4b374260"
      },
      "execution_count": 38,
      "outputs": [
        {
          "output_type": "stream",
          "name": "stdout",
          "text": [
            "Pad sequences\n",
            "x_train shape: (30000, 500)\n",
            "x_val shape: (10000, 500)\n",
            "x_test shape: (10000, 500)\n"
          ]
        }
      ]
    },
    {
      "cell_type": "code",
      "source": [
        "# Basic feedforward model\n",
        "model = models.Sequential()\n",
        "model.add(layers.Embedding(max_features, 128, input_length=maxlen))\n",
        "model.add(layers.Dense(64, activation='relu'))\n",
        "model.add(layers.Dropout(0.5))\n",
        "model.add(layers.Dense(64, activation='relu'))\n",
        "model.add(layers.Dropout(0.5))\n",
        "model.add(layers.Flatten())\n",
        "model.add(layers.Dense(1, activation=\"sigmoid\"))\n",
        "model.summary()"
      ],
      "metadata": {
        "colab": {
          "base_uri": "https://localhost:8080/"
        },
        "id": "sBpQpwBAk44H",
        "outputId": "1646b8e0-afe7-4a3b-a5b2-0488b0e148d2"
      },
      "execution_count": 39,
      "outputs": [
        {
          "output_type": "stream",
          "name": "stdout",
          "text": [
            "Model: \"sequential_5\"\n",
            "_________________________________________________________________\n",
            " Layer (type)                Output Shape              Param #   \n",
            "=================================================================\n",
            " embedding (Embedding)       (None, 500, 128)          1920000   \n",
            "                                                                 \n",
            " dense_6 (Dense)             (None, 500, 64)           8256      \n",
            "                                                                 \n",
            " dropout_2 (Dropout)         (None, 500, 64)           0         \n",
            "                                                                 \n",
            " dense_7 (Dense)             (None, 500, 64)           4160      \n",
            "                                                                 \n",
            " dropout_3 (Dropout)         (None, 500, 64)           0         \n",
            "                                                                 \n",
            " flatten_1 (Flatten)         (None, 32000)             0         \n",
            "                                                                 \n",
            " dense_8 (Dense)             (None, 1)                 32001     \n",
            "                                                                 \n",
            "=================================================================\n",
            "Total params: 1,964,417\n",
            "Trainable params: 1,964,417\n",
            "Non-trainable params: 0\n",
            "_________________________________________________________________\n"
          ]
        }
      ]
    },
    {
      "cell_type": "code",
      "source": [
        "model.compile(optimizer=\"rmsprop\", loss=\"binary_crossentropy\", metrics=[\"accuracy\"])\n",
        "history = model.fit(x_train, y_train, batch_size=batch_size, epochs=20, validation_data=(x_val, y_val))"
      ],
      "metadata": {
        "colab": {
          "base_uri": "https://localhost:8080/"
        },
        "id": "-8c7tCS5vrC3",
        "outputId": "e7543565-13d5-4cb4-e14a-f518a341f08c"
      },
      "execution_count": 40,
      "outputs": [
        {
          "output_type": "stream",
          "name": "stdout",
          "text": [
            "Epoch 1/20\n",
            "938/938 [==============================] - 68s 71ms/step - loss: 0.4258 - accuracy: 0.7771 - val_loss: 0.2596 - val_accuracy: 0.8956\n",
            "Epoch 2/20\n",
            "938/938 [==============================] - 66s 70ms/step - loss: 0.2393 - accuracy: 0.9060 - val_loss: 0.2597 - val_accuracy: 0.8960\n",
            "Epoch 3/20\n",
            "938/938 [==============================] - 66s 70ms/step - loss: 0.2060 - accuracy: 0.9202 - val_loss: 0.2834 - val_accuracy: 0.8895\n",
            "Epoch 4/20\n",
            "938/938 [==============================] - 66s 71ms/step - loss: 0.1874 - accuracy: 0.9295 - val_loss: 0.2694 - val_accuracy: 0.8941\n",
            "Epoch 5/20\n",
            "938/938 [==============================] - 66s 70ms/step - loss: 0.1754 - accuracy: 0.9321 - val_loss: 0.3387 - val_accuracy: 0.8702\n",
            "Epoch 6/20\n",
            "938/938 [==============================] - 66s 70ms/step - loss: 0.1664 - accuracy: 0.9365 - val_loss: 0.3444 - val_accuracy: 0.8678\n",
            "Epoch 7/20\n",
            "938/938 [==============================] - 66s 70ms/step - loss: 0.1586 - accuracy: 0.9407 - val_loss: 0.3082 - val_accuracy: 0.8843\n",
            "Epoch 8/20\n",
            "938/938 [==============================] - 66s 70ms/step - loss: 0.1509 - accuracy: 0.9444 - val_loss: 0.3529 - val_accuracy: 0.8713\n",
            "Epoch 9/20\n",
            "938/938 [==============================] - 66s 70ms/step - loss: 0.1440 - accuracy: 0.9465 - val_loss: 0.2978 - val_accuracy: 0.8868\n",
            "Epoch 10/20\n",
            "938/938 [==============================] - 66s 70ms/step - loss: 0.1392 - accuracy: 0.9484 - val_loss: 0.3016 - val_accuracy: 0.8882\n",
            "Epoch 11/20\n",
            "938/938 [==============================] - 66s 70ms/step - loss: 0.1373 - accuracy: 0.9501 - val_loss: 0.2904 - val_accuracy: 0.8905\n",
            "Epoch 12/20\n",
            "938/938 [==============================] - 66s 70ms/step - loss: 0.1294 - accuracy: 0.9518 - val_loss: 0.3344 - val_accuracy: 0.8814\n",
            "Epoch 13/20\n",
            "938/938 [==============================] - 66s 70ms/step - loss: 0.1207 - accuracy: 0.9568 - val_loss: 0.3120 - val_accuracy: 0.8855\n",
            "Epoch 14/20\n",
            "938/938 [==============================] - 66s 71ms/step - loss: 0.1167 - accuracy: 0.9566 - val_loss: 0.3255 - val_accuracy: 0.8862\n",
            "Epoch 15/20\n",
            "938/938 [==============================] - 67s 71ms/step - loss: 0.1137 - accuracy: 0.9576 - val_loss: 0.3796 - val_accuracy: 0.8722\n",
            "Epoch 16/20\n",
            "938/938 [==============================] - 66s 70ms/step - loss: 0.1097 - accuracy: 0.9604 - val_loss: 0.3760 - val_accuracy: 0.8739\n",
            "Epoch 17/20\n",
            "938/938 [==============================] - 66s 70ms/step - loss: 0.1033 - accuracy: 0.9625 - val_loss: 0.4645 - val_accuracy: 0.8472\n",
            "Epoch 18/20\n",
            "938/938 [==============================] - 66s 70ms/step - loss: 0.1014 - accuracy: 0.9631 - val_loss: 0.4663 - val_accuracy: 0.8593\n",
            "Epoch 19/20\n",
            "938/938 [==============================] - 66s 70ms/step - loss: 0.0927 - accuracy: 0.9653 - val_loss: 0.4522 - val_accuracy: 0.8652\n",
            "Epoch 20/20\n",
            "938/938 [==============================] - 65s 70ms/step - loss: 0.0898 - accuracy: 0.9689 - val_loss: 0.4287 - val_accuracy: 0.8744\n"
          ]
        }
      ]
    },
    {
      "cell_type": "code",
      "source": [
        "plot_hist_classif(history)\n",
        "print('Test Accuracy = %.2f' % model.evaluate(x_test, y_test)[1])  # overfitting!"
      ],
      "metadata": {
        "id": "dKBVw5mHv_oX",
        "outputId": "cc1cc3f6-0dfe-406e-a447-897b9227e6ef",
        "colab": {
          "base_uri": "https://localhost:8080/",
          "height": 317
        }
      },
      "execution_count": 41,
      "outputs": [
        {
          "output_type": "display_data",
          "data": {
            "text/plain": [
              "<Figure size 432x288 with 1 Axes>"
            ],
            "image/png": "[encoded data removed]"
          },
          "metadata": {
            "needs_background": "light"
          }
        },
        {
          "output_type": "stream",
          "name": "stdout",
          "text": [
            "313/313 [==============================] - 4s 13ms/step - loss: 0.4121 - accuracy: 0.8799\n",
            "Test Accuracy = 0.88\n"
          ]
        }
      ]
    },
    {
      "cell_type": "code",
      "source": [
        "# Let's try an RNN\n",
        "model = models.Sequential()\n",
        "model.add(layers.Embedding(max_features, 64))\n",
        "model.add(layers.LSTM(128, return_sequences=False))\n",
        "model.add(layers.Dropout(0.5))\n",
        "model.add(layers.Dense(1, activation=\"sigmoid\"))\n",
        "model.compile(optimizer=\"rmsprop\", loss=\"binary_crossentropy\", metrics=[\"accuracy\"])\n",
        "model.summary()"
      ],
      "metadata": {
        "id": "Ieh7Wl9Pwh8V",
        "outputId": "aa4f672f-b0f9-4d36-d58a-e4f0740d3125",
        "colab": {
          "base_uri": "https://localhost:8080/"
        }
      },
      "execution_count": 42,
      "outputs": [
        {
          "output_type": "stream",
          "name": "stdout",
          "text": [
            "Model: \"sequential_6\"\n",
            "_________________________________________________________________\n",
            " Layer (type)                Output Shape              Param #   \n",
            "=================================================================\n",
            " embedding_1 (Embedding)     (None, None, 64)          960000    \n",
            "                                                                 \n",
            " lstm_4 (LSTM)               (None, 128)               98816     \n",
            "                                                                 \n",
            " dropout_4 (Dropout)         (None, 128)               0         \n",
            "                                                                 \n",
            " dense_9 (Dense)             (None, 1)                 129       \n",
            "                                                                 \n",
            "=================================================================\n",
            "Total params: 1,058,945\n",
            "Trainable params: 1,058,945\n",
            "Non-trainable params: 0\n",
            "_________________________________________________________________\n"
          ]
        }
      ]
    },
    {
      "cell_type": "code",
      "source": [
        "# This model will take a long time to train, so we add an early stopping criterion\n",
        "# N.B: It's actually much faster to train WITHOUT A GPU!!\n",
        "callbacks = [EarlyStopping(monitor='val_accuracy', patience=2)]\n",
        "history = model.fit(x_train, y_train, batch_size=batch_size, epochs=20, validation_data=(x_val, y_val), callbacks=callbacks)\n",
        "plot_hist_classif(history)\n",
        "print('Test Accuracy = %.2f' % model.evaluate(x_test, y_test)[1])\n",
        "# Note that we're still overfitting, but this is just an example of use"
      ],
      "metadata": {
        "id": "Sd54xZMmxKBQ",
        "outputId": "f23f5951-23a9-4118-ea1a-343ce077e7ff",
        "colab": {
          "base_uri": "https://localhost:8080/",
          "height": 555
        }
      },
      "execution_count": 43,
      "outputs": [
        {
          "output_type": "stream",
          "name": "stdout",
          "text": [
            "Epoch 1/20\n",
            "938/938 [==============================] - 509s 540ms/step - loss: 0.4260 - accuracy: 0.8126 - val_loss: 0.3248 - val_accuracy: 0.8678\n",
            "Epoch 2/20\n",
            "938/938 [==============================] - 508s 542ms/step - loss: 0.2819 - accuracy: 0.8919 - val_loss: 0.3012 - val_accuracy: 0.8826\n",
            "Epoch 3/20\n",
            "938/938 [==============================] - 508s 542ms/step - loss: 0.2352 - accuracy: 0.9124 - val_loss: 0.2920 - val_accuracy: 0.8811\n",
            "Epoch 4/20\n",
            "938/938 [==============================] - 507s 540ms/step - loss: 0.2052 - accuracy: 0.9247 - val_loss: 0.2677 - val_accuracy: 0.8991\n",
            "Epoch 5/20\n",
            "938/938 [==============================] - 508s 542ms/step - loss: 0.1848 - accuracy: 0.9337 - val_loss: 0.2482 - val_accuracy: 0.9017\n",
            "Epoch 6/20\n",
            "938/938 [==============================] - 507s 540ms/step - loss: 0.1632 - accuracy: 0.9431 - val_loss: 0.2829 - val_accuracy: 0.9010\n",
            "Epoch 7/20\n",
            "938/938 [==============================] - 507s 541ms/step - loss: 0.1469 - accuracy: 0.9495 - val_loss: 0.2623 - val_accuracy: 0.9002\n"
          ]
        },
        {
          "output_type": "display_data",
          "data": {
            "text/plain": [
              "<Figure size 432x288 with 1 Axes>"
            ],
            "image/png": "[encoded data removed]"
          },
          "metadata": {
            "needs_background": "light"
          }
        },
        {
          "output_type": "stream",
          "name": "stdout",
          "text": [
            "313/313 [==============================] - 41s 130ms/step - loss: 0.2573 - accuracy: 0.9046\n",
            "Test Accuracy = 0.90\n"
          ]
        }
      ]
    },
    {
      "cell_type": "markdown",
      "source": [
        "## Your turn!\n",
        "\n",
        "Implement a bidirectional RNN that can outperform the LSTM model we had above.\n",
        "\n",
        "A starting skeleton could be:\n",
        " \n",
        "*   Embedding layer with an output dimension of 64\n",
        "*   Bidirectional layer with a 32-neuron LSTM layer\n",
        "*   Dense layer with 1 neuron and a sigmoid activation\n",
        "\n",
        "Some suggestions:\n",
        "\n",
        "- Change the sizes of the layers (i.e., the numbers of neurons)\n",
        "- Add dropout\n",
        "- Add other recurrent and/or bidirectional layers\n",
        "\n",
        "Once you have a model that scores over 90% on the validation set, check its performance on the test set and upload it on the code checker in Moodle.\n",
        "\n",
        "Note that the model I'm suggesting above will be able to reach the desired performance, but it will show signs of overfitting. Can you do it by adding regularization (dropout, smaller network) so you don't overfit?\n"
      ],
      "metadata": {
        "id": "kzZhXm5gkz_g"
      }
    },
    {
      "cell_type": "code",
      "source": [
        "n_ = 10  # number of epochs. You can edit this\n",
        "\n",
        "model = models.Sequential()\n",
        "# YOUR CODE HERE!\n",
        "model.add(layers.Embedding(max_features, 64))\n",
        "model.add(layers.Bidirectional(layers.LSTM(64, return_sequences=True)))\n",
        "model.add(layers.Dropout(0.4))\n",
        "model.add(layers.Bidirectional(layers.LSTM(32, return_sequences=False)))\n",
        "model.add(layers.Dropout(0.3))\n",
        "model.add(layers.Dense(1, activation=\"sigmoid\"))\n",
        "\n",
        "# I DON'T RECOMMEND THAT YOU CHANGE CODE AFTER THIS POINT\n",
        "model.compile(optimizer=\"rmsprop\", loss=\"binary_crossentropy\", metrics=[\"accuracy\"])\n",
        "\n",
        "print(model.summary())\n",
        "\n",
        "# This model will take a long time to train, so we add an early stopping criterion\n",
        "# I've also added a ModelCheckpoint that will save the best model according to val_accuracy regardless of whether we continue training\n",
        "callbacks = [EarlyStopping(monitor='val_accuracy', patience=1),\n",
        "             ModelCheckpoint(\"model.keras\", save_best_only=True, monitor=\"val_accuracy\", mode='max')]\n",
        "\n",
        "history = model.fit(x_train, y_train, batch_size=batch_size, epochs=n_, \n",
        "                    validation_data=(x_val, y_val), \n",
        "                    callbacks=callbacks)\n",
        "plot_hist_classif(history)\n",
        "model = keras.models.load_model(\"model.keras\")\n",
        "print('Test Accuracy = %.2f' % model.evaluate(x_test, y_test)[1])"
      ],
      "metadata": {
        "colab": {
          "base_uri": "https://localhost:8080/",
          "height": 861
        },
        "id": "oTGRVK0cOwFR",
        "outputId": "815717b0-cea8-45e5-dc5a-c94554e89520"
      },
      "execution_count": 44,
      "outputs": [
        {
          "output_type": "stream",
          "name": "stdout",
          "text": [
            "Model: \"sequential_7\"\n",
            "_________________________________________________________________\n",
            " Layer (type)                Output Shape              Param #   \n",
            "=================================================================\n",
            " embedding_2 (Embedding)     (None, None, 64)          960000    \n",
            "                                                                 \n",
            " bidirectional (Bidirectiona  (None, None, 128)        66048     \n",
            " l)                                                              \n",
            "                                                                 \n",
            " dropout_5 (Dropout)         (None, None, 128)         0         \n",
            "                                                                 \n",
            " bidirectional_1 (Bidirectio  (None, 64)               41216     \n",
            " nal)                                                            \n",
            "                                                                 \n",
            " dropout_6 (Dropout)         (None, 64)                0         \n",
            "                                                                 \n",
            " dense_10 (Dense)            (None, 1)                 65        \n",
            "                                                                 \n",
            "=================================================================\n",
            "Total params: 1,067,329\n",
            "Trainable params: 1,067,329\n",
            "Non-trainable params: 0\n",
            "_________________________________________________________________\n",
            "None\n",
            "Epoch 1/10\n",
            "938/938 [==============================] - 921s 974ms/step - loss: 0.4179 - accuracy: 0.8107 - val_loss: 0.3136 - val_accuracy: 0.8662\n",
            "Epoch 2/10\n",
            "938/938 [==============================] - 914s 974ms/step - loss: 0.2773 - accuracy: 0.8893 - val_loss: 0.2776 - val_accuracy: 0.8880\n",
            "Epoch 3/10\n",
            "938/938 [==============================] - 914s 975ms/step - loss: 0.2560 - accuracy: 0.9014 - val_loss: 0.2790 - val_accuracy: 0.8907\n",
            "Epoch 4/10\n",
            "938/938 [==============================] - 916s 976ms/step - loss: 0.2314 - accuracy: 0.9114 - val_loss: 0.2805 - val_accuracy: 0.8903\n"
          ]
        },
        {
          "output_type": "display_data",
          "data": {
            "text/plain": [
              "<Figure size 432x288 with 1 Axes>"
            ],
            "image/png": "[encoded data removed]"
          },
          "metadata": {
            "needs_background": "light"
          }
        },
        {
          "output_type": "stream",
          "name": "stdout",
          "text": [
            "313/313 [==============================] - 57s 177ms/step - loss: 0.2709 - accuracy: 0.8948\n",
            "Test Accuracy = 0.89\n"
          ]
        }
      ]
    },
    {
      "cell_type": "code",
      "source": [
        "if model.count_params() > 1000000:\n",
        "    print(\"Due to memory constraints on Moodle, the lab quiz has a 10MB limit on your model size, so you need to use a smaller model to validate through the auto-marker.\")\n",
        "\n",
        "if history.history[\"val_accuracy\"][-1] > 0.88:\n",
        "    print(\"Your model is accurate enough!\")\n",
        "\n",
        "else:\n",
        "    print(\"Accuracy is below the threshold!\")\n",
        "    raise Exception(\"Your model isn't accurate enough to pass the progress checker!\")\n",
        "# Save the model into a local folder\n",
        "keras.models.save_model(model, \"Model.h5\",save_format='h5')\n",
        "print('Model saved! You can now upload it to the lab quiz.')"
      ],
      "metadata": {
        "id": "ZFBmg66_CR7y",
        "outputId": "35b79ca3-8f56-45e2-dc53-16c45f5b13df",
        "colab": {
          "base_uri": "https://localhost:8080/"
        }
      },
      "execution_count": 45,
      "outputs": [
        {
          "output_type": "stream",
          "name": "stdout",
          "text": [
            "Due to memory constraints on Moodle, the lab quiz has a 10MB limit on your model size, so you need to use a smaller model to validate through the auto-marker.\n",
            "Your model is accurate enough!\n",
            "Model saved! You can now upload it to the lab quiz.\n"
          ]
        }
      ]
    },
    {
      "cell_type": "code",
      "source": [
        ""
      ],
      "metadata": {
        "id": "hv7PyBQQsXav"
      },
      "execution_count": 45,
      "outputs": []
    }
  ],
  "metadata": {
    "kernelspec": {
      "display_name": "Python 3",
      "language": "python",
      "name": "python3"
    },
    "language_info": {
      "codemirror_mode": {
        "name": "ipython",
        "version": 3
      },
      "file_extension": ".py",
      "mimetype": "text/x-python",
      "name": "python",
      "nbconvert_exporter": "python",
      "pygments_lexer": "ipython3",
      "version": "3.7.10"
    },
    "colab": {
      "name": "rnn.ipynb",
      "provenance": [],
      "collapsed_sections": [
        "WlhjIvZR_a0Q",
        "rloJamyvWPWj",
        "7c-duA1Z_a0R",
        "3ozUAZX__a0R"
      ],
      "include_colab_link": true
    }
  },
  "nbformat": 4,
  "nbformat_minor": 0
}