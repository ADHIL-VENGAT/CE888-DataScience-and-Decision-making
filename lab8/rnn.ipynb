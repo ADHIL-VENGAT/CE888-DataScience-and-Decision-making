{
  "cells": [
    {
      "cell_type": "markdown",
      "metadata": {
        "id": "view-in-github",
        "colab_type": "text"
      },
      "source": [
        "<a href=\"https://colab.research.google.com/github/ADHIL-VENGAT/CE888-DataScience-and-Decision-making/blob/main/lab8/rnn.ipynb\" target=\"_parent\"><img src=\"https://colab.research.google.com/assets/colab-badge.svg\" alt=\"Open In Colab\"/></a>"
      ]
    },
    {
      "cell_type": "markdown",
      "source": [
        "# Learning from Sequences: Timeseries and Text\n",
        "\n",
        "Created by Dr Ana Matran-Fernandez (amatra@essex.ac.uk) for CE888 (Data Science and Decision Making)\n",
        "\n",
        "This notebook accompanies lecture 8 and illustrates recurrent neural networks on an example of a timeseries (predicting tomorrow's temperature) and a classification problem on the IMDB text dataset."
      ],
      "metadata": {
        "id": "gS1IIAS-bcb-"
      }
    },
    {
      "cell_type": "markdown",
      "source": [
        "# Imports"
      ],
      "metadata": {
        "id": "0myiQp20cxRK"
      }
    },
    {
      "cell_type": "code",
      "execution_count": 47,
      "metadata": {
        "id": "1J0bYBQ7_a0L"
      },
      "outputs": [],
      "source": [
        "# imports\n",
        "import numpy as np\n",
        "import matplotlib.pyplot as plt\n",
        "import os\n",
        "import pandas as pd\n",
        "from sklearn.model_selection import train_test_split"
      ]
    },
    {
      "cell_type": "code",
      "execution_count": 48,
      "metadata": {
        "id": "U0NPDv7X_a0M"
      },
      "outputs": [],
      "source": [
        "# tensorflow imports\n",
        "from tensorflow import keras\n",
        "from keras import layers, models\n",
        "from keras.callbacks import EarlyStopping, ModelCheckpoint"
      ]
    },
    {
      "cell_type": "markdown",
      "source": [
        "# Timeseries"
      ],
      "metadata": {
        "id": "xaiw_VZjbtSH"
      }
    },
    {
      "cell_type": "code",
      "execution_count": 49,
      "metadata": {
        "colab": {
          "base_uri": "https://localhost:8080/",
          "height": 423
        },
        "id": "iA_R1Q-K_a0N",
        "outputId": "4e78cd74-8469-4c35-e481-b9115a6404e4"
      },
      "outputs": [
        {
          "output_type": "execute_result",
          "data": {
            "text/plain": [
              "                  date  radiation_avg  precip  wind_avg  wind_max  temp_avg  \\\n",
              "0     14/05/2014 00:00            159     0.0       1.4       3.3     14.27   \n",
              "1     15/05/2014 00:00            280     0.0       0.6       2.3     13.51   \n",
              "2     16/05/2014 00:00            186     3.4       0.8       2.7     15.65   \n",
              "3     17/05/2014 00:00            221     0.0       1.0       3.3     17.46   \n",
              "4     18/05/2014 00:00            255     0.0       2.1       5.5     16.85   \n",
              "...                ...            ...     ...       ...       ...       ...   \n",
              "2551  17/05/2021 00:00            196     1.4       2.2       5.5     10.51   \n",
              "2552  17/05/2021 00:00            173     2.8       1.8       5.5     10.80   \n",
              "2553  18/05/2021 00:00            311     0.0       1.4       5.0     10.29   \n",
              "2554  19/05/2021 00:00            232     6.6       1.8       5.5     11.39   \n",
              "2555  20/05/2021 00:00             44     0.0       0.5       2.7      6.35   \n",
              "\n",
              "      humidity_avg  \n",
              "0            64.95  \n",
              "1            72.91  \n",
              "2            74.69  \n",
              "3            71.42  \n",
              "4            74.45  \n",
              "...            ...  \n",
              "2551         99.86  \n",
              "2552         99.86  \n",
              "2553         92.94  \n",
              "2554         90.32  \n",
              "2555         99.86  \n",
              "\n",
              "[2556 rows x 7 columns]"
            ],
            "text/html": [
              "\n",
              "  <div id=\"df-7da55922-8a89-414e-8bd9-90a9977ada04\">\n",
              "    <div class=\"colab-df-container\">\n",
              "      <div>\n",
              "<style scoped>\n",
              "    .dataframe tbody tr th:only-of-type {\n",
              "        vertical-align: middle;\n",
              "    }\n",
              "\n",
              "    .dataframe tbody tr th {\n",
              "        vertical-align: top;\n",
              "    }\n",
              "\n",
              "    .dataframe thead th {\n",
              "        text-align: right;\n",
              "    }\n",
              "</style>\n",
              "<table border=\"1\" class=\"dataframe\">\n",
              "  <thead>\n",
              "    <tr style=\"text-align: right;\">\n",
              "      <th></th>\n",
              "      <th>date</th>\n",
              "      <th>radiation_avg</th>\n",
              "      <th>precip</th>\n",
              "      <th>wind_avg</th>\n",
              "      <th>wind_max</th>\n",
              "      <th>temp_avg</th>\n",
              "      <th>humidity_avg</th>\n",
              "    </tr>\n",
              "  </thead>\n",
              "  <tbody>\n",
              "    <tr>\n",
              "      <th>0</th>\n",
              "      <td>14/05/2014 00:00</td>\n",
              "      <td>159</td>\n",
              "      <td>0.0</td>\n",
              "      <td>1.4</td>\n",
              "      <td>3.3</td>\n",
              "      <td>14.27</td>\n",
              "      <td>64.95</td>\n",
              "    </tr>\n",
              "    <tr>\n",
              "      <th>1</th>\n",
              "      <td>15/05/2014 00:00</td>\n",
              "      <td>280</td>\n",
              "      <td>0.0</td>\n",
              "      <td>0.6</td>\n",
              "      <td>2.3</td>\n",
              "      <td>13.51</td>\n",
              "      <td>72.91</td>\n",
              "    </tr>\n",
              "    <tr>\n",
              "      <th>2</th>\n",
              "      <td>16/05/2014 00:00</td>\n",
              "      <td>186</td>\n",
              "      <td>3.4</td>\n",
              "      <td>0.8</td>\n",
              "      <td>2.7</td>\n",
              "      <td>15.65</td>\n",
              "      <td>74.69</td>\n",
              "    </tr>\n",
              "    <tr>\n",
              "      <th>3</th>\n",
              "      <td>17/05/2014 00:00</td>\n",
              "      <td>221</td>\n",
              "      <td>0.0</td>\n",
              "      <td>1.0</td>\n",
              "      <td>3.3</td>\n",
              "      <td>17.46</td>\n",
              "      <td>71.42</td>\n",
              "    </tr>\n",
              "    <tr>\n",
              "      <th>4</th>\n",
              "      <td>18/05/2014 00:00</td>\n",
              "      <td>255</td>\n",
              "      <td>0.0</td>\n",
              "      <td>2.1</td>\n",
              "      <td>5.5</td>\n",
              "      <td>16.85</td>\n",
              "      <td>74.45</td>\n",
              "    </tr>\n",
              "    <tr>\n",
              "      <th>...</th>\n",
              "      <td>...</td>\n",
              "      <td>...</td>\n",
              "      <td>...</td>\n",
              "      <td>...</td>\n",
              "      <td>...</td>\n",
              "      <td>...</td>\n",
              "      <td>...</td>\n",
              "    </tr>\n",
              "    <tr>\n",
              "      <th>2551</th>\n",
              "      <td>17/05/2021 00:00</td>\n",
              "      <td>196</td>\n",
              "      <td>1.4</td>\n",
              "      <td>2.2</td>\n",
              "      <td>5.5</td>\n",
              "      <td>10.51</td>\n",
              "      <td>99.86</td>\n",
              "    </tr>\n",
              "    <tr>\n",
              "      <th>2552</th>\n",
              "      <td>17/05/2021 00:00</td>\n",
              "      <td>173</td>\n",
              "      <td>2.8</td>\n",
              "      <td>1.8</td>\n",
              "      <td>5.5</td>\n",
              "      <td>10.80</td>\n",
              "      <td>99.86</td>\n",
              "    </tr>\n",
              "    <tr>\n",
              "      <th>2553</th>\n",
              "      <td>18/05/2021 00:00</td>\n",
              "      <td>311</td>\n",
              "      <td>0.0</td>\n",
              "      <td>1.4</td>\n",
              "      <td>5.0</td>\n",
              "      <td>10.29</td>\n",
              "      <td>92.94</td>\n",
              "    </tr>\n",
              "    <tr>\n",
              "      <th>2554</th>\n",
              "      <td>19/05/2021 00:00</td>\n",
              "      <td>232</td>\n",
              "      <td>6.6</td>\n",
              "      <td>1.8</td>\n",
              "      <td>5.5</td>\n",
              "      <td>11.39</td>\n",
              "      <td>90.32</td>\n",
              "    </tr>\n",
              "    <tr>\n",
              "      <th>2555</th>\n",
              "      <td>20/05/2021 00:00</td>\n",
              "      <td>44</td>\n",
              "      <td>0.0</td>\n",
              "      <td>0.5</td>\n",
              "      <td>2.7</td>\n",
              "      <td>6.35</td>\n",
              "      <td>99.86</td>\n",
              "    </tr>\n",
              "  </tbody>\n",
              "</table>\n",
              "<p>2556 rows × 7 columns</p>\n",
              "</div>\n",
              "      <button class=\"colab-df-convert\" onclick=\"convertToInteractive('df-7da55922-8a89-414e-8bd9-90a9977ada04')\"\n",
              "              title=\"Convert this dataframe to an interactive table.\"\n",
              "              style=\"display:none;\">\n",
              "        \n",
              "  <svg xmlns=\"http://www.w3.org/2000/svg\" height=\"24px\"viewBox=\"0 0 24 24\"\n",
              "       width=\"24px\">\n",
              "    <path d=\"M0 0h24v24H0V0z\" fill=\"none\"/>\n",
              "    <path d=\"M18.56 5.44l.94 2.06.94-2.06 2.06-.94-2.06-.94-.94-2.06-.94 2.06-2.06.94zm-11 1L8.5 8.5l.94-2.06 2.06-.94-2.06-.94L8.5 2.5l-.94 2.06-2.06.94zm10 10l.94 2.06.94-2.06 2.06-.94-2.06-.94-.94-2.06-.94 2.06-2.06.94z\"/><path d=\"M17.41 7.96l-1.37-1.37c-.4-.4-.92-.59-1.43-.59-.52 0-1.04.2-1.43.59L10.3 9.45l-7.72 7.72c-.78.78-.78 2.05 0 2.83L4 21.41c.39.39.9.59 1.41.59.51 0 1.02-.2 1.41-.59l7.78-7.78 2.81-2.81c.8-.78.8-2.07 0-2.86zM5.41 20L4 18.59l7.72-7.72 1.47 1.35L5.41 20z\"/>\n",
              "  </svg>\n",
              "      </button>\n",
              "      \n",
              "  <style>\n",
              "    .colab-df-container {\n",
              "      display:flex;\n",
              "      flex-wrap:wrap;\n",
              "      gap: 12px;\n",
              "    }\n",
              "\n",
              "    .colab-df-convert {\n",
              "      background-color: #E8F0FE;\n",
              "      border: none;\n",
              "      border-radius: 50%;\n",
              "      cursor: pointer;\n",
              "      display: none;\n",
              "      fill: #1967D2;\n",
              "      height: 32px;\n",
              "      padding: 0 0 0 0;\n",
              "      width: 32px;\n",
              "    }\n",
              "\n",
              "    .colab-df-convert:hover {\n",
              "      background-color: #E2EBFA;\n",
              "      box-shadow: 0px 1px 2px rgba(60, 64, 67, 0.3), 0px 1px 3px 1px rgba(60, 64, 67, 0.15);\n",
              "      fill: #174EA6;\n",
              "    }\n",
              "\n",
              "    [theme=dark] .colab-df-convert {\n",
              "      background-color: #3B4455;\n",
              "      fill: #D2E3FC;\n",
              "    }\n",
              "\n",
              "    [theme=dark] .colab-df-convert:hover {\n",
              "      background-color: #434B5C;\n",
              "      box-shadow: 0px 1px 3px 1px rgba(0, 0, 0, 0.15);\n",
              "      filter: drop-shadow(0px 1px 2px rgba(0, 0, 0, 0.3));\n",
              "      fill: #FFFFFF;\n",
              "    }\n",
              "  </style>\n",
              "\n",
              "      <script>\n",
              "        const buttonEl =\n",
              "          document.querySelector('#df-7da55922-8a89-414e-8bd9-90a9977ada04 button.colab-df-convert');\n",
              "        buttonEl.style.display =\n",
              "          google.colab.kernel.accessAllowed ? 'block' : 'none';\n",
              "\n",
              "        async function convertToInteractive(key) {\n",
              "          const element = document.querySelector('#df-7da55922-8a89-414e-8bd9-90a9977ada04');\n",
              "          const dataTable =\n",
              "            await google.colab.kernel.invokeFunction('convertToInteractive',\n",
              "                                                     [key], {});\n",
              "          if (!dataTable) return;\n",
              "\n",
              "          const docLinkHtml = 'Like what you see? Visit the ' +\n",
              "            '<a target=\"_blank\" href=https://colab.research.google.com/notebooks/data_table.ipynb>data table notebook</a>'\n",
              "            + ' to learn more about interactive tables.';\n",
              "          element.innerHTML = '';\n",
              "          dataTable['output_type'] = 'display_data';\n",
              "          await google.colab.output.renderOutput(dataTable, element);\n",
              "          const docLink = document.createElement('div');\n",
              "          docLink.innerHTML = docLinkHtml;\n",
              "          element.appendChild(docLink);\n",
              "        }\n",
              "      </script>\n",
              "    </div>\n",
              "  </div>\n",
              "  "
            ]
          },
          "metadata": {},
          "execution_count": 49
        }
      ],
      "source": [
        "df = pd.read_csv('https://raw.githubusercontent.com/albanda/CE888/master/lab8/weather.csv')\n",
        "df.drop(['temp_max', 'temp_min'], axis=1, inplace=True)\n",
        "df"
      ]
    },
    {
      "cell_type": "code",
      "execution_count": 50,
      "metadata": {
        "colab": {
          "base_uri": "https://localhost:8080/",
          "height": 279
        },
        "id": "nzsytNAh_a0N",
        "outputId": "bfad09a6-4bd8-423c-af35-f670913215e7"
      },
      "outputs": [
        {
          "output_type": "display_data",
          "data": {
            "text/plain": [
              "<Figure size 432x288 with 1 Axes>"
            ],
            "image/png": "[encoded data removed]"
          },
          "metadata": {
            "needs_background": "light"
          }
        }
      ],
      "source": [
        "plt.plot(range(len(df)), df['temp_avg'])\n",
        "plt.xlabel('Temporal range')\n",
        "plt.ylabel('Average temperature (C) (7 years)')\n",
        "plt.savefig('temperature_over_time.pdf', bbox_inches='tight')"
      ]
    },
    {
      "cell_type": "code",
      "execution_count": 51,
      "metadata": {
        "colab": {
          "base_uri": "https://localhost:8080/",
          "height": 279
        },
        "id": "ysbM2n99_a0N",
        "outputId": "111b1c4b-f5a4-4511-95af-4d76fedc0f54"
      },
      "outputs": [
        {
          "output_type": "display_data",
          "data": {
            "text/plain": [
              "<Figure size 432x288 with 1 Axes>"
            ],
            "image/png": "[encoded data removed]"
          },
          "metadata": {
            "needs_background": "light"
          }
        }
      ],
      "source": [
        "# Look at the first 2 years\n",
        "length = 2*365\n",
        "plt.plot(range(length), df['temp_avg'][:length])\n",
        "plt.xlabel('Temporal range')\n",
        "plt.ylabel('Average temperature (C) (2 years)')\n",
        "plt.savefig('temperature_over_time_2y.pdf', bbox_inches='tight')"
      ]
    },
    {
      "cell_type": "markdown",
      "metadata": {
        "id": "ikyqi2m7_a0O"
      },
      "source": [
        "We have clear periodicity every year. In the previous plot we saw 7 cycles (7 years). Here we see 2.\n",
        "\n",
        "Always look for periodicity in your timeseries. There will always be daily and yearly cycles. Check these patterns.\n",
        "\n",
        "Another issue with timeseries is dividing the dataset into train/validation/test sets. We definitely cannot shuffle the data, and we need to be very careful with data leakage (using data from the future)."
      ]
    },
    {
      "cell_type": "markdown",
      "metadata": {
        "id": "1fxuW2ne_a0P"
      },
      "source": [
        "## Data prep\n",
        "\n",
        "We'll try to predict the average temperature of tomorrow based on data from the past.\n",
        "\n",
        "To avoid data leakage, we're going to use a simple approach: use the first 50% of data for training, the next 30% for validation, and the final 20% for testing.\n"
      ]
    },
    {
      "cell_type": "code",
      "execution_count": 52,
      "metadata": {
        "colab": {
          "base_uri": "https://localhost:8080/"
        },
        "id": "vofGsYen_a0P",
        "outputId": "27802413-5cae-4b69-b1fe-bfc22f976f2f"
      },
      "outputs": [
        {
          "output_type": "stream",
          "name": "stdout",
          "text": [
            "Samples for training: 1278; validation: 766; test: 512\n"
          ]
        }
      ],
      "source": [
        "n_tr, n_val = int(0.5*len(df)), int(0.3*len(df))\n",
        "n_te = len(df) - n_tr - n_val\n",
        "print('Samples for training: %d; validation: %d; test: %d' % (n_tr, n_val, n_te))"
      ]
    },
    {
      "cell_type": "code",
      "execution_count": 53,
      "metadata": {
        "colab": {
          "base_uri": "https://localhost:8080/"
        },
        "id": "lsMDT2Jq_a0P",
        "outputId": "8ca96f31-39f6-49de-fb76-241d10c1031d"
      },
      "outputs": [
        {
          "output_type": "stream",
          "name": "stdout",
          "text": [
            "(2556, 6)\n"
          ]
        }
      ],
      "source": [
        "# Get the data from the dataframe (dropping date column)\n",
        "data = df.iloc[:, 1:].values\n",
        "print(data.shape)\n",
        "assert data.shape[0] == len(df)\n",
        "assert data.shape[1] == len(df.columns)-1, \"Are you sure you're dropping the date?\"\n",
        "# We need to normalise our time series. Calculate mean and std from TRAINING DATA ONLY. \n",
        "# We'll use it on the validation and test sets.\n",
        "mean_tr = data[:n_tr, :].mean(axis=0)\n",
        "std_tr = data[:n_tr, :].std(axis=0)\n",
        "data = (data - mean_tr) / std_tr\n",
        "\n",
        "\n",
        "y = df['temp_avg'].values.reshape(-1, 1)\n",
        "\n",
        "# index of the column that contains the avg_temp\n",
        "y_idx = 4"
      ]
    },
    {
      "cell_type": "code",
      "source": [
        "data[:20, y_idx] * std_tr[y_idx] + mean_tr[y_idx]"
      ],
      "metadata": {
        "colab": {
          "base_uri": "https://localhost:8080/"
        },
        "id": "1VJAcdfICLi1",
        "outputId": "471dd1c4-754c-4df4-b825-a4ac58fbf61a"
      },
      "execution_count": 54,
      "outputs": [
        {
          "output_type": "execute_result",
          "data": {
            "text/plain": [
              "array([14.27, 13.51, 15.65, 17.46, 16.85, 18.26, 17.35, 15.55, 14.52,\n",
              "       13.93, 11.48, 13.63, 12.81, 12.4 , 13.67, 14.15, 13.22, 12.21,\n",
              "       15.53, 14.52])"
            ]
          },
          "metadata": {},
          "execution_count": 54
        }
      ]
    },
    {
      "cell_type": "code",
      "source": [
        "y[5:25]"
      ],
      "metadata": {
        "colab": {
          "base_uri": "https://localhost:8080/"
        },
        "id": "xN-YJyEeCUv9",
        "outputId": "d422236a-9aac-45a8-a1a2-6ccaa52c102e"
      },
      "execution_count": 55,
      "outputs": [
        {
          "output_type": "execute_result",
          "data": {
            "text/plain": [
              "array([[18.26],\n",
              "       [17.35],\n",
              "       [15.55],\n",
              "       [14.52],\n",
              "       [13.93],\n",
              "       [11.48],\n",
              "       [13.63],\n",
              "       [12.81],\n",
              "       [12.4 ],\n",
              "       [13.67],\n",
              "       [14.15],\n",
              "       [13.22],\n",
              "       [12.21],\n",
              "       [15.53],\n",
              "       [14.52],\n",
              "       [15.35],\n",
              "       [12.29],\n",
              "       [13.88],\n",
              "       [15.13],\n",
              "       [17.29]])"
            ]
          },
          "metadata": {},
          "execution_count": 55
        }
      ]
    },
    {
      "cell_type": "code",
      "execution_count": 56,
      "metadata": {
        "id": "K_JGeiAs_a0Q"
      },
      "outputs": [],
      "source": [
        "# We'll use a Dataset from keras to pass our data\n",
        "sampling_rate = 1  # we keep all data points\n",
        "sequence_length = 14  # 2 weeks to predict tomorrow's temperature\n",
        "delay = sampling_rate * sequence_length  # the target is the day after the end of the sequence\n",
        "batch_size = 16"
      ]
    },
    {
      "cell_type": "code",
      "execution_count": 57,
      "metadata": {
        "colab": {
          "base_uri": "https://localhost:8080/"
        },
        "id": "cRDGWNYl_a0Q",
        "outputId": "63af963d-f6eb-4559-d113-cd49daafa283"
      },
      "outputs": [
        {
          "output_type": "stream",
          "name": "stdout",
          "text": [
            "X shape: (16, 14, 6)\n",
            "target shape: (16, 1)\n"
          ]
        }
      ],
      "source": [
        "train_dataset = keras.utils.timeseries_dataset_from_array(\n",
        "    data[:-delay],\n",
        "    targets=y[delay:],\n",
        "    sampling_rate=sampling_rate, sequence_length=sequence_length,\n",
        "    batch_size=batch_size,\n",
        "    start_index=0, end_index=n_tr  # first 50% for training\n",
        "    )\n",
        "\n",
        "val_dataset = keras.utils.timeseries_dataset_from_array(\n",
        "    data[:-delay],\n",
        "    targets=y[delay:],\n",
        "    sampling_rate=sampling_rate, sequence_length=sequence_length,\n",
        "    batch_size=batch_size,\n",
        "    start_index=n_tr, end_index=n_tr+n_val  # 50%-80% for validation\n",
        "    )\n",
        "\n",
        "test_dataset = keras.utils.timeseries_dataset_from_array(\n",
        "    data[:-delay],\n",
        "    targets=y[delay:],\n",
        "    sampling_rate=sampling_rate, sequence_length=sequence_length,\n",
        "    batch_size=batch_size,\n",
        "    start_index=n_tr+n_val  # last 20% for test\n",
        "    )\n",
        "\n",
        "for X, target in train_dataset:\n",
        "    print(\"X shape:\", X.shape)\n",
        "    print(\"target shape:\", target.shape)\n",
        "    #print(X[:, :, y_idx] * std_tr[y_idx] + mean_tr[y_idx])\n",
        "    #print(target)\n",
        "    break  # so we only print once"
      ]
    },
    {
      "cell_type": "code",
      "source": [
        "# Function to plot history with neural networks\n",
        "def plot_hist_regression(hist, y):\n",
        "  n_ = len(hist.history['mae'])\n",
        "  plt.plot(range(1, n_+1), np.asarray(hist.history['mae']), 'bo', label='MAE on training set')\n",
        "  plt.plot(range(1, n_+1), np.asarray(hist.history['val_mae']), 'b', label='MAE on validation set')\n",
        "  plt.legend()\n",
        "  plt.xlabel(\"Epoch\") \n",
        "  plt.ylabel(\"MAE (degrees)\")\n",
        "  plt.axhline(y=y)\n",
        "  plt.show()\n"
      ],
      "metadata": {
        "id": "u_v2rAW_W4kQ"
      },
      "execution_count": 58,
      "outputs": []
    },
    {
      "cell_type": "markdown",
      "metadata": {
        "id": "WlhjIvZR_a0Q"
      },
      "source": [
        "## Establishing a baseline\n"
      ]
    },
    {
      "cell_type": "markdown",
      "source": [
        "### Common sense, no ML baseline\n",
        "\n",
        "- Sanity check\n",
        "- To establish whether ML methods are actually any good\n",
        "\n",
        "Tomorrow's temperature is likely to be close to today's: let's predict that the temperature 24 hours from now will be equal to the temperature right now.\n",
        "\n",
        "We'll use the MAE as metric"
      ],
      "metadata": {
        "id": "rloJamyvWPWj"
      }
    },
    {
      "cell_type": "code",
      "execution_count": 59,
      "metadata": {
        "colab": {
          "base_uri": "https://localhost:8080/"
        },
        "id": "MUY5acIf_a0Q",
        "outputId": "152a4c5b-2065-4271-be5f-9e94f8d924f7"
      },
      "outputs": [
        {
          "output_type": "stream",
          "name": "stdout",
          "text": [
            "MAE on train set = 2.56 (degrees Celsius)\n",
            "MAE on validation set = 2.69 (degrees Celsius)\n",
            "MAE on test set = 2.85 (degrees Celsius)\n"
          ]
        }
      ],
      "source": [
        "def naive_method(dataset, mean, std):\n",
        "    error = 0\n",
        "    samples = 0\n",
        "    count = 0\n",
        "    for X, target in dataset:\n",
        "        pred = X[:, -1, y_idx] * std + mean  # predict last available temperature and un-standardise\n",
        "        #print(X.shape, target.shape, pred.shape)  # [batch_size, sequence_length, n_feats]\n",
        "        #print(X[:, -1, y_idx] * std + mean, target)\n",
        "        error += np.sum(np.abs(pred - target))\n",
        "        samples += X.shape[0]  # batch_size\n",
        "        count += 1\n",
        "    return error / samples / batch_size # average\n",
        "\n",
        "\n",
        "print('MAE on train set = %.2f (degrees Celsius)' % naive_method(train_dataset, mean_tr[y_idx], std_tr[y_idx]))\n",
        "print('MAE on validation set = %.2f (degrees Celsius)' % naive_method(val_dataset, mean_tr[y_idx], std_tr[y_idx]))\n",
        "print('MAE on test set = %.2f (degrees Celsius)' % naive_method(test_dataset, mean_tr[y_idx], std_tr[y_idx]))\n",
        "# Save MAE on validation for later\n",
        "baseline = naive_method(val_dataset, mean_tr[y_idx], std_tr[y_idx])"
      ]
    },
    {
      "cell_type": "markdown",
      "source": [
        "This baseline achieves a validation MAE of 2.69 degrees and a test MAE of 2.85 degrees. So if we assume that tomorrow's temperature will be the same as today's, we'll be off by less than 3 degrees on average.\n",
        "\n",
        "Not too bad, but surely we can do better!"
      ],
      "metadata": {
        "id": "znycUtxiJmAF"
      }
    },
    {
      "cell_type": "markdown",
      "metadata": {
        "id": "7c-duA1Z_a0R"
      },
      "source": [
        "### Simple ML baseline\n",
        "\n",
        "\n"
      ]
    },
    {
      "cell_type": "code",
      "source": [
        "# To get some practice with neural networks, we'll try a 1-layer NN with nothing fancy.\n",
        "\n",
        "model_dense = models.Sequential()\n",
        "model_dense.add(layers.Flatten(input_shape=(sequence_length, len(df.columns)-1)))  # we need to specify the input shape or we won't be able to see the summary\n",
        "model_dense.add(layers.Dense(10, activation='relu'))\n",
        "model_dense.add(layers.Dense(1))\n",
        "\n",
        "model_dense.summary()"
      ],
      "metadata": {
        "colab": {
          "base_uri": "https://localhost:8080/"
        },
        "id": "fWGqpICHJlRe",
        "outputId": "e72b03a9-9a4b-404c-e956-873345b361dd"
      },
      "execution_count": 60,
      "outputs": [
        {
          "output_type": "stream",
          "name": "stdout",
          "text": [
            "Model: \"sequential_8\"\n",
            "_________________________________________________________________\n",
            " Layer (type)                Output Shape              Param #   \n",
            "=================================================================\n",
            " flatten_2 (Flatten)         (None, 84)                0         \n",
            "                                                                 \n",
            " dense_11 (Dense)            (None, 10)                850       \n",
            "                                                                 \n",
            " dense_12 (Dense)            (None, 1)                 11        \n",
            "                                                                 \n",
            "=================================================================\n",
            "Total params: 861\n",
            "Trainable params: 861\n",
            "Non-trainable params: 0\n",
            "_________________________________________________________________\n"
          ]
        }
      ]
    },
    {
      "cell_type": "code",
      "source": [
        "n_epochs = 20\n",
        "\n",
        "model_dense.compile(optimizer='rmsprop', loss='mse', metrics=['mae'])\n",
        "history_dense = model_dense.fit(train_dataset, epochs=n_epochs, validation_data=val_dataset)"
      ],
      "metadata": {
        "colab": {
          "base_uri": "https://localhost:8080/"
        },
        "id": "p0Hz1rX8LMfT",
        "outputId": "f8b1e056-aaea-4bdb-b54f-dee8228bc89d"
      },
      "execution_count": 61,
      "outputs": [
        {
          "output_type": "stream",
          "name": "stdout",
          "text": [
            "Epoch 1/20\n",
            "80/80 [==============================] - 1s 8ms/step - loss: 148.5002 - mae: 11.0951 - val_loss: 131.3259 - val_mae: 10.3773\n",
            "Epoch 2/20\n",
            "80/80 [==============================] - 1s 7ms/step - loss: 120.2269 - mae: 10.0129 - val_loss: 101.9897 - val_mae: 9.1503\n",
            "Epoch 3/20\n",
            "80/80 [==============================] - 1s 9ms/step - loss: 90.0969 - mae: 8.5807 - val_loss: 73.6403 - val_mae: 7.6576\n",
            "Epoch 4/20\n",
            "80/80 [==============================] - 1s 7ms/step - loss: 63.6072 - mae: 7.0478 - val_loss: 51.7682 - val_mae: 6.1662\n",
            "Epoch 5/20\n",
            "80/80 [==============================] - 1s 7ms/step - loss: 45.4055 - mae: 5.7437 - val_loss: 38.7078 - val_mae: 5.0916\n",
            "Epoch 6/20\n",
            "80/80 [==============================] - 1s 9ms/step - loss: 36.1505 - mae: 4.9866 - val_loss: 33.1407 - val_mae: 4.6399\n",
            "Epoch 7/20\n",
            "80/80 [==============================] - 1s 9ms/step - loss: 32.3446 - mae: 4.6788 - val_loss: 31.2264 - val_mae: 4.5041\n",
            "Epoch 8/20\n",
            "80/80 [==============================] - 1s 9ms/step - loss: 30.3490 - mae: 4.5152 - val_loss: 30.1052 - val_mae: 4.4247\n",
            "Epoch 9/20\n",
            "80/80 [==============================] - 1s 7ms/step - loss: 28.7712 - mae: 4.3907 - val_loss: 29.0336 - val_mae: 4.3444\n",
            "Epoch 10/20\n",
            "80/80 [==============================] - 1s 10ms/step - loss: 27.3508 - mae: 4.2794 - val_loss: 27.9342 - val_mae: 4.2586\n",
            "Epoch 11/20\n",
            "80/80 [==============================] - 1s 8ms/step - loss: 26.0362 - mae: 4.1742 - val_loss: 26.8270 - val_mae: 4.1706\n",
            "Epoch 12/20\n",
            "80/80 [==============================] - 1s 10ms/step - loss: 24.8268 - mae: 4.0753 - val_loss: 25.7117 - val_mae: 4.0804\n",
            "Epoch 13/20\n",
            "80/80 [==============================] - 1s 8ms/step - loss: 23.6970 - mae: 3.9826 - val_loss: 24.6042 - val_mae: 3.9913\n",
            "Epoch 14/20\n",
            "80/80 [==============================] - 1s 7ms/step - loss: 22.6052 - mae: 3.8915 - val_loss: 23.5302 - val_mae: 3.9024\n",
            "Epoch 15/20\n",
            "80/80 [==============================] - 1s 9ms/step - loss: 21.5510 - mae: 3.8016 - val_loss: 22.4990 - val_mae: 3.8131\n",
            "Epoch 16/20\n",
            "80/80 [==============================] - 1s 7ms/step - loss: 20.5399 - mae: 3.7142 - val_loss: 21.5019 - val_mae: 3.7241\n",
            "Epoch 17/20\n",
            "80/80 [==============================] - 1s 8ms/step - loss: 19.5610 - mae: 3.6274 - val_loss: 20.5274 - val_mae: 3.6362\n",
            "Epoch 18/20\n",
            "80/80 [==============================] - 1s 9ms/step - loss: 18.5813 - mae: 3.5368 - val_loss: 19.5616 - val_mae: 3.5467\n",
            "Epoch 19/20\n",
            "80/80 [==============================] - 1s 8ms/step - loss: 17.5918 - mae: 3.4405 - val_loss: 18.6016 - val_mae: 3.4619\n",
            "Epoch 20/20\n",
            "80/80 [==============================] - 1s 9ms/step - loss: 16.6235 - mae: 3.3436 - val_loss: 17.7080 - val_mae: 3.3810\n"
          ]
        }
      ]
    },
    {
      "cell_type": "code",
      "source": [
        "# Plot MAE cures for validation and training\n",
        "plot_hist_regression(history_dense, baseline)"
      ],
      "metadata": {
        "colab": {
          "base_uri": "https://localhost:8080/",
          "height": 279
        },
        "id": "aBRYn-AKMCi4",
        "outputId": "c5da0a37-6b08-43d6-94a0-b34478eed170"
      },
      "execution_count": 62,
      "outputs": [
        {
          "output_type": "display_data",
          "data": {
            "text/plain": [
              "<Figure size 432x288 with 1 Axes>"
            ],
            "image/png": "[encoded data removed]"
          },
          "metadata": {
            "needs_background": "light"
          }
        }
      ]
    },
    {
      "cell_type": "markdown",
      "source": [
        "Validation loss is worse than what we had with our common-sense baseline, and we're already overfitting (MAE on training set is lower than on validation set). It turns out our previous baseline is not as easy to outperform as we thought!\n",
        "\n",
        "Remember our 'hypothesis space'? Using 2 Dense layers doesn't seem to be very useful in this case. We need other types of layers for this problem."
      ],
      "metadata": {
        "id": "1EJywOA5NJa9"
      }
    },
    {
      "cell_type": "code",
      "source": [
        "# We know that CNNs take advantage of neighbouring values, so why don't we try that?\n",
        "\n",
        "# In addition to the Conv2D layers we saw last week, there are Conv1D and Conv3D layers. \n",
        "# Conv1D layers rely on 1D windows that slide across an input sequence (imagine a 1D image)\n",
        "\n",
        "model_cnn = models.Sequential()\n",
        "model_cnn.add(layers.Conv1D(8, 7, activation='relu', input_shape=(sequence_length, len(df.columns)-1)))\n",
        "model_cnn.add(layers.MaxPooling1D(2))\n",
        "model_cnn.add(layers.Conv1D(8, 3, activation='relu'))\n",
        "model_cnn.add(layers.MaxPooling1D(2))\n",
        "model_cnn.add(layers.GlobalAveragePooling1D())\n",
        "model_cnn.add(layers.Dense(1))\n",
        "\n",
        "model_cnn.summary()"
      ],
      "metadata": {
        "colab": {
          "base_uri": "https://localhost:8080/"
        },
        "id": "k6PADykQPIjq",
        "outputId": "604faea4-b0c5-4c12-f117-1ec54e23d211"
      },
      "execution_count": 63,
      "outputs": [
        {
          "output_type": "stream",
          "name": "stdout",
          "text": [
            "Model: \"sequential_9\"\n",
            "_________________________________________________________________\n",
            " Layer (type)                Output Shape              Param #   \n",
            "=================================================================\n",
            " conv1d_2 (Conv1D)           (None, 8, 8)              344       \n",
            "                                                                 \n",
            " max_pooling1d_2 (MaxPooling  (None, 4, 8)             0         \n",
            " 1D)                                                             \n",
            "                                                                 \n",
            " conv1d_3 (Conv1D)           (None, 2, 8)              200       \n",
            "                                                                 \n",
            " max_pooling1d_3 (MaxPooling  (None, 1, 8)             0         \n",
            " 1D)                                                             \n",
            "                                                                 \n",
            " global_average_pooling1d_1   (None, 8)                0         \n",
            " (GlobalAveragePooling1D)                                        \n",
            "                                                                 \n",
            " dense_13 (Dense)            (None, 1)                 9         \n",
            "                                                                 \n",
            "=================================================================\n",
            "Total params: 553\n",
            "Trainable params: 553\n",
            "Non-trainable params: 0\n",
            "_________________________________________________________________\n"
          ]
        }
      ]
    },
    {
      "cell_type": "code",
      "source": [
        "model_cnn.compile(optimizer='rmsprop', loss='mse', metrics=['mae'])\n",
        "history_cnn = model_cnn.fit(train_dataset, epochs=n_epochs,\n",
        "                            validation_data=val_dataset)"
      ],
      "metadata": {
        "colab": {
          "base_uri": "https://localhost:8080/"
        },
        "id": "PSGRJSulQs22",
        "outputId": "afa2d18c-6e16-452f-a6a4-658fc4ae4627"
      },
      "execution_count": 64,
      "outputs": [
        {
          "output_type": "stream",
          "name": "stdout",
          "text": [
            "Epoch 1/20\n",
            "80/80 [==============================] - 2s 10ms/step - loss: 142.3152 - mae: 10.7186 - val_loss: 110.4709 - val_mae: 9.2430\n",
            "Epoch 2/20\n",
            "80/80 [==============================] - 1s 8ms/step - loss: 77.6364 - mae: 7.8016 - val_loss: 54.8367 - val_mae: 6.5009\n",
            "Epoch 3/20\n",
            "80/80 [==============================] - 1s 10ms/step - loss: 30.6241 - mae: 4.6903 - val_loss: 25.0617 - val_mae: 3.9531\n",
            "Epoch 4/20\n",
            "80/80 [==============================] - 1s 8ms/step - loss: 19.0171 - mae: 3.5085 - val_loss: 21.1949 - val_mae: 3.3732\n",
            "Epoch 5/20\n",
            "80/80 [==============================] - 1s 10ms/step - loss: 16.3796 - mae: 3.2436 - val_loss: 20.2775 - val_mae: 3.1975\n",
            "Epoch 6/20\n",
            "80/80 [==============================] - 1s 10ms/step - loss: 14.8376 - mae: 3.0898 - val_loss: 19.5776 - val_mae: 3.0991\n",
            "Epoch 7/20\n",
            "80/80 [==============================] - 1s 8ms/step - loss: 13.6701 - mae: 2.9659 - val_loss: 18.8606 - val_mae: 3.0373\n",
            "Epoch 8/20\n",
            "80/80 [==============================] - 1s 8ms/step - loss: 12.7562 - mae: 2.8667 - val_loss: 18.1435 - val_mae: 2.9907\n",
            "Epoch 9/20\n",
            "80/80 [==============================] - 1s 8ms/step - loss: 12.0231 - mae: 2.7865 - val_loss: 17.5112 - val_mae: 2.9561\n",
            "Epoch 10/20\n",
            "80/80 [==============================] - 1s 10ms/step - loss: 11.4271 - mae: 2.7249 - val_loss: 16.9819 - val_mae: 2.9263\n",
            "Epoch 11/20\n",
            "80/80 [==============================] - 1s 9ms/step - loss: 10.9433 - mae: 2.6721 - val_loss: 16.3933 - val_mae: 2.8941\n",
            "Epoch 12/20\n",
            "80/80 [==============================] - 1s 8ms/step - loss: 10.5300 - mae: 2.6230 - val_loss: 15.9241 - val_mae: 2.8660\n",
            "Epoch 13/20\n",
            "80/80 [==============================] - 1s 9ms/step - loss: 10.1746 - mae: 2.5811 - val_loss: 15.5037 - val_mae: 2.8440\n",
            "Epoch 14/20\n",
            "80/80 [==============================] - 1s 11ms/step - loss: 9.8956 - mae: 2.5476 - val_loss: 15.0710 - val_mae: 2.8232\n",
            "Epoch 15/20\n",
            "80/80 [==============================] - 1s 8ms/step - loss: 9.6467 - mae: 2.5161 - val_loss: 14.6624 - val_mae: 2.8028\n",
            "Epoch 16/20\n",
            "80/80 [==============================] - 1s 10ms/step - loss: 9.4292 - mae: 2.4871 - val_loss: 14.3327 - val_mae: 2.7842\n",
            "Epoch 17/20\n",
            "80/80 [==============================] - 1s 10ms/step - loss: 9.2460 - mae: 2.4618 - val_loss: 14.0230 - val_mae: 2.7666\n",
            "Epoch 18/20\n",
            "80/80 [==============================] - 1s 8ms/step - loss: 9.0803 - mae: 2.4396 - val_loss: 13.7668 - val_mae: 2.7502\n",
            "Epoch 19/20\n",
            "80/80 [==============================] - 1s 11ms/step - loss: 8.9257 - mae: 2.4200 - val_loss: 13.5290 - val_mae: 2.7350\n",
            "Epoch 20/20\n",
            "80/80 [==============================] - 1s 10ms/step - loss: 8.7917 - mae: 2.4023 - val_loss: 13.2813 - val_mae: 2.7196\n"
          ]
        }
      ]
    },
    {
      "cell_type": "code",
      "source": [
        "# Plot MAE cures for validation and training\n",
        "plot_hist_regression(history_cnn, baseline)"
      ],
      "metadata": {
        "colab": {
          "base_uri": "https://localhost:8080/",
          "height": 279
        },
        "id": "6bB6lzLYSG-u",
        "outputId": "7e45fd0e-a978-4acc-c8d2-e7e0889e0908"
      },
      "execution_count": 65,
      "outputs": [
        {
          "output_type": "display_data",
          "data": {
            "text/plain": [
              "<Figure size 432x288 with 1 Axes>"
            ],
            "image/png": "[encoded data removed]"
          },
          "metadata": {
            "needs_background": "light"
          }
        }
      ]
    },
    {
      "cell_type": "markdown",
      "source": [
        "This model isn't any better, with a validation MAE of 2.77 degrees (also worse than the 'common-sense approach' that we tried at first), and we're overfitting a bit too.\n",
        "\n",
        "Why?\n",
        "\n",
        "In timeseries, order matters a lot: the recent past is more informative than data from 5 days ago, and convolutional layers don't take advantage of this fact -- max pooling and global average pooling layers actually destroy this order information."
      ],
      "metadata": {
        "id": "Kc2iMPSHViL1"
      }
    },
    {
      "cell_type": "markdown",
      "metadata": {
        "id": "3ozUAZX__a0R"
      },
      "source": [
        "## Long Short Term Memory (LSTM) Neural Networks\n",
        "\n",
        "\n"
      ]
    },
    {
      "cell_type": "code",
      "execution_count": 66,
      "metadata": {
        "id": "2dWfiaUw_a0R",
        "colab": {
          "base_uri": "https://localhost:8080/"
        },
        "outputId": "9ee045ef-aa84-4200-a5da-c45905aa774c"
      },
      "outputs": [
        {
          "output_type": "stream",
          "name": "stdout",
          "text": [
            "Model: \"sequential_10\"\n",
            "_________________________________________________________________\n",
            " Layer (type)                Output Shape              Param #   \n",
            "=================================================================\n",
            " lstm_8 (LSTM)               (None, 20)                2160      \n",
            "                                                                 \n",
            " dense_14 (Dense)            (None, 1)                 21        \n",
            "                                                                 \n",
            "=================================================================\n",
            "Total params: 2,181\n",
            "Trainable params: 2,181\n",
            "Non-trainable params: 0\n",
            "_________________________________________________________________\n"
          ]
        }
      ],
      "source": [
        "# 1-layer LSTM\n",
        "\n",
        "model_lstm1 = models.Sequential()\n",
        "model_lstm1.add(layers.LSTM(20, input_shape=(sequence_length, len(df.columns)-1)))\n",
        "model_lstm1.add(layers.Dense(1))\n",
        "\n",
        "model_lstm1.summary()"
      ]
    },
    {
      "cell_type": "code",
      "source": [
        "n_epochs = 20"
      ],
      "metadata": {
        "id": "DMst2Mp0R0Xi"
      },
      "execution_count": 67,
      "outputs": []
    },
    {
      "cell_type": "code",
      "source": [
        "model_lstm1.compile(optimizer='rmsprop', loss='mse', metrics=['mae'])\n",
        "history_lstm1 = model_lstm1.fit(train_dataset, epochs=n_epochs,\n",
        "                            validation_data=val_dataset)"
      ],
      "metadata": {
        "colab": {
          "base_uri": "https://localhost:8080/"
        },
        "id": "Pff2tZQHXb-z",
        "outputId": "1d89ee5a-91fb-4e49-d775-9461a83fe02c"
      },
      "execution_count": 68,
      "outputs": [
        {
          "output_type": "stream",
          "name": "stdout",
          "text": [
            "Epoch 1/20\n",
            "80/80 [==============================] - 26s 20ms/step - loss: 131.5296 - mae: 10.3848 - val_loss: 107.3520 - val_mae: 9.3153\n",
            "Epoch 2/20\n",
            "80/80 [==============================] - 1s 14ms/step - loss: 85.7956 - mae: 8.2274 - val_loss: 64.2232 - val_mae: 6.7491\n",
            "Epoch 3/20\n",
            "80/80 [==============================] - 1s 15ms/step - loss: 51.4676 - mae: 5.9583 - val_loss: 43.1337 - val_mae: 5.1418\n",
            "Epoch 4/20\n",
            "80/80 [==============================] - 1s 14ms/step - loss: 38.1187 - mae: 5.0348 - val_loss: 34.3001 - val_mae: 4.5738\n",
            "Epoch 5/20\n",
            "80/80 [==============================] - 1s 15ms/step - loss: 30.0429 - mae: 4.4370 - val_loss: 28.0020 - val_mae: 4.1450\n",
            "Epoch 6/20\n",
            "80/80 [==============================] - 1s 15ms/step - loss: 24.0905 - mae: 3.9572 - val_loss: 23.2018 - val_mae: 3.7916\n",
            "Epoch 7/20\n",
            "80/80 [==============================] - 1s 15ms/step - loss: 19.7191 - mae: 3.5795 - val_loss: 19.4876 - val_mae: 3.4812\n",
            "Epoch 8/20\n",
            "80/80 [==============================] - 1s 15ms/step - loss: 16.3555 - mae: 3.2647 - val_loss: 16.6233 - val_mae: 3.2180\n",
            "Epoch 9/20\n",
            "80/80 [==============================] - 1s 15ms/step - loss: 13.6651 - mae: 2.9751 - val_loss: 14.3770 - val_mae: 2.9907\n",
            "Epoch 10/20\n",
            "80/80 [==============================] - 1s 15ms/step - loss: 11.5952 - mae: 2.7302 - val_loss: 12.6260 - val_mae: 2.8076\n",
            "Epoch 11/20\n",
            "80/80 [==============================] - 1s 15ms/step - loss: 10.0144 - mae: 2.5335 - val_loss: 11.2619 - val_mae: 2.6584\n",
            "Epoch 12/20\n",
            "80/80 [==============================] - 1s 15ms/step - loss: 8.8324 - mae: 2.3733 - val_loss: 10.1851 - val_mae: 2.5338\n",
            "Epoch 13/20\n",
            "80/80 [==============================] - 1s 15ms/step - loss: 7.9248 - mae: 2.2446 - val_loss: 9.3160 - val_mae: 2.4293\n",
            "Epoch 14/20\n",
            "80/80 [==============================] - 1s 16ms/step - loss: 7.2303 - mae: 2.1434 - val_loss: 8.6257 - val_mae: 2.3426\n",
            "Epoch 15/20\n",
            "80/80 [==============================] - 1s 14ms/step - loss: 6.7200 - mae: 2.0692 - val_loss: 8.0625 - val_mae: 2.2693\n",
            "Epoch 16/20\n",
            "80/80 [==============================] - 1s 15ms/step - loss: 6.3485 - mae: 2.0110 - val_loss: 7.6272 - val_mae: 2.2110\n",
            "Epoch 17/20\n",
            "80/80 [==============================] - 1s 15ms/step - loss: 6.0470 - mae: 1.9612 - val_loss: 7.2934 - val_mae: 2.1633\n",
            "Epoch 18/20\n",
            "80/80 [==============================] - 1s 14ms/step - loss: 5.8006 - mae: 1.9199 - val_loss: 7.0234 - val_mae: 2.1224\n",
            "Epoch 19/20\n",
            "80/80 [==============================] - 1s 14ms/step - loss: 5.5887 - mae: 1.8828 - val_loss: 6.7989 - val_mae: 2.0869\n",
            "Epoch 20/20\n",
            "80/80 [==============================] - 1s 15ms/step - loss: 5.4051 - mae: 1.8495 - val_loss: 6.6042 - val_mae: 2.0545\n"
          ]
        }
      ]
    },
    {
      "cell_type": "code",
      "source": [
        "# Plot MAE cures for validation and training\n",
        "plot_hist_regression(history_lstm1, baseline)\n"
      ],
      "metadata": {
        "colab": {
          "base_uri": "https://localhost:8080/",
          "height": 279
        },
        "id": "hr-bgDUvXmvS",
        "outputId": "58a6bd7d-0414-4156-84c9-a7a8a86ba448"
      },
      "execution_count": 69,
      "outputs": [
        {
          "output_type": "display_data",
          "data": {
            "text/plain": [
              "<Figure size 432x288 with 1 Axes>"
            ],
            "image/png": "[encoded data removed]"
          },
          "metadata": {
            "needs_background": "light"
          }
        }
      ]
    },
    {
      "cell_type": "code",
      "source": [
        "print('Test MAE = %.2f degrees' % model_lstm1.evaluate(test_dataset)[1])"
      ],
      "metadata": {
        "colab": {
          "base_uri": "https://localhost:8080/"
        },
        "id": "0fFZvXXUcQ67",
        "outputId": "15fc7db0-a355-4a13-fb4b-35a246c46124"
      },
      "execution_count": 70,
      "outputs": [
        {
          "output_type": "stream",
          "name": "stdout",
          "text": [
            "31/31 [==============================] - 0s 6ms/step - loss: 7.4761 - mae: 2.1222\n",
            "Test MAE = 2.12 degrees\n"
          ]
        }
      ]
    },
    {
      "cell_type": "markdown",
      "source": [
        "Success! We finally beat the common-sense baseline! The validation MAE now is 2.12 degrees, and the test MAE is 2.27.\n",
        "\n",
        "Why do LSTM layers work? Let's go back to the slides"
      ],
      "metadata": {
        "id": "bYSWwI1aXvwL"
      }
    },
    {
      "cell_type": "code",
      "source": [
        "# Adding dropout\n",
        "\n",
        "model_lstm2 = models.Sequential()\n",
        "model_lstm2.add(layers.LSTM(20, input_shape=(sequence_length, len(df.columns)-1), recurrent_dropout=0.25))\n",
        "model_lstm2.add(layers.Dropout(0.4))\n",
        "model_lstm2.add(layers.Dense(1))\n",
        "\n",
        "model_lstm2.summary()"
      ],
      "metadata": {
        "id": "acSYakeOcokB",
        "colab": {
          "base_uri": "https://localhost:8080/"
        },
        "outputId": "09caa5d8-4322-40c7-9bcc-b0afe67f40ad"
      },
      "execution_count": 71,
      "outputs": [
        {
          "output_type": "stream",
          "name": "stdout",
          "text": [
            "Model: \"sequential_11\"\n",
            "_________________________________________________________________\n",
            " Layer (type)                Output Shape              Param #   \n",
            "=================================================================\n",
            " lstm_9 (LSTM)               (None, 20)                2160      \n",
            "                                                                 \n",
            " dropout_8 (Dropout)         (None, 20)                0         \n",
            "                                                                 \n",
            " dense_15 (Dense)            (None, 1)                 21        \n",
            "                                                                 \n",
            "=================================================================\n",
            "Total params: 2,181\n",
            "Trainable params: 2,181\n",
            "Non-trainable params: 0\n",
            "_________________________________________________________________\n"
          ]
        }
      ]
    },
    {
      "cell_type": "code",
      "source": [
        "model_lstm2.compile(optimizer='rmsprop', loss='mse', metrics=['mae'])\n",
        "history_lstm2 = model_lstm2.fit(train_dataset, epochs=n_epochs,\n",
        "                            validation_data=val_dataset)"
      ],
      "metadata": {
        "colab": {
          "base_uri": "https://localhost:8080/"
        },
        "id": "LvRnf9TWSWf9",
        "outputId": "d994e5b8-db11-4bbf-8baa-5317ee3ac677"
      },
      "execution_count": 72,
      "outputs": [
        {
          "output_type": "stream",
          "name": "stdout",
          "text": [
            "Epoch 1/20\n",
            "80/80 [==============================] - 4s 22ms/step - loss: 136.9249 - mae: 10.4762 - val_loss: 112.2620 - val_mae: 9.2383\n",
            "Epoch 2/20\n",
            "80/80 [==============================] - 2s 20ms/step - loss: 88.4964 - mae: 8.1190 - val_loss: 61.2433 - val_mae: 6.3253\n",
            "Epoch 3/20\n",
            "80/80 [==============================] - 2s 20ms/step - loss: 53.6126 - mae: 6.0630 - val_loss: 42.9562 - val_mae: 5.1532\n",
            "Epoch 4/20\n",
            "80/80 [==============================] - 2s 20ms/step - loss: 41.1165 - mae: 5.2528 - val_loss: 34.3700 - val_mae: 4.6040\n",
            "Epoch 5/20\n",
            "80/80 [==============================] - 2s 20ms/step - loss: 33.3462 - mae: 4.7121 - val_loss: 28.1690 - val_mae: 4.1891\n",
            "Epoch 6/20\n",
            "80/80 [==============================] - 2s 22ms/step - loss: 27.8550 - mae: 4.2207 - val_loss: 23.5496 - val_mae: 3.8499\n",
            "Epoch 7/20\n",
            "80/80 [==============================] - 2s 20ms/step - loss: 23.8720 - mae: 3.9197 - val_loss: 20.1811 - val_mae: 3.5844\n",
            "Epoch 8/20\n",
            "80/80 [==============================] - 2s 20ms/step - loss: 21.2320 - mae: 3.6461 - val_loss: 18.2434 - val_mae: 3.4299\n",
            "Epoch 9/20\n",
            "80/80 [==============================] - 2s 20ms/step - loss: 18.1380 - mae: 3.4122 - val_loss: 15.4273 - val_mae: 3.1346\n",
            "Epoch 10/20\n",
            "80/80 [==============================] - 2s 20ms/step - loss: 16.9870 - mae: 3.2838 - val_loss: 13.6761 - val_mae: 2.9539\n",
            "Epoch 11/20\n",
            "80/80 [==============================] - 2s 19ms/step - loss: 15.2708 - mae: 3.1164 - val_loss: 12.5679 - val_mae: 2.8341\n",
            "Epoch 12/20\n",
            "80/80 [==============================] - 2s 20ms/step - loss: 14.0736 - mae: 2.9739 - val_loss: 10.9404 - val_mae: 2.6270\n",
            "Epoch 13/20\n",
            "80/80 [==============================] - 2s 19ms/step - loss: 13.7698 - mae: 2.9497 - val_loss: 10.4765 - val_mae: 2.5789\n",
            "Epoch 14/20\n",
            "80/80 [==============================] - 2s 21ms/step - loss: 12.7122 - mae: 2.8521 - val_loss: 9.5891 - val_mae: 2.4644\n",
            "Epoch 15/20\n",
            "80/80 [==============================] - 2s 20ms/step - loss: 11.6046 - mae: 2.6974 - val_loss: 9.3906 - val_mae: 2.4488\n",
            "Epoch 16/20\n",
            "80/80 [==============================] - 2s 21ms/step - loss: 12.4285 - mae: 2.7841 - val_loss: 8.6198 - val_mae: 2.3400\n",
            "Epoch 17/20\n",
            "80/80 [==============================] - 2s 21ms/step - loss: 11.4721 - mae: 2.6823 - val_loss: 8.3787 - val_mae: 2.3208\n",
            "Epoch 18/20\n",
            "80/80 [==============================] - 2s 21ms/step - loss: 11.2365 - mae: 2.6868 - val_loss: 8.0940 - val_mae: 2.2903\n",
            "Epoch 19/20\n",
            "80/80 [==============================] - 2s 21ms/step - loss: 11.2805 - mae: 2.6684 - val_loss: 7.9227 - val_mae: 2.2640\n",
            "Epoch 20/20\n",
            "80/80 [==============================] - 2s 21ms/step - loss: 11.5073 - mae: 2.6615 - val_loss: 7.9491 - val_mae: 2.2801\n"
          ]
        }
      ]
    },
    {
      "cell_type": "code",
      "source": [
        "# Plot MAE cures for validation and training\n",
        "plot_hist_regression(history_lstm2, baseline)"
      ],
      "metadata": {
        "colab": {
          "base_uri": "https://localhost:8080/",
          "height": 279
        },
        "id": "cWpm-j9iSck1",
        "outputId": "b61d38e2-164e-4dfc-fd97-8f30778f2d12"
      },
      "execution_count": 73,
      "outputs": [
        {
          "output_type": "display_data",
          "data": {
            "text/plain": [
              "<Figure size 432x288 with 1 Axes>"
            ],
            "image/png": "[encoded data removed]"
          },
          "metadata": {
            "needs_background": "light"
          }
        }
      ]
    },
    {
      "cell_type": "code",
      "source": [
        "print('Test MAE = %.2f degrees' % model_lstm2.evaluate(test_dataset)[1])"
      ],
      "metadata": {
        "colab": {
          "base_uri": "https://localhost:8080/"
        },
        "id": "rAIQrQDVSmSM",
        "outputId": "c32288c1-e20c-460f-bd42-66bbc42e8373"
      },
      "execution_count": 74,
      "outputs": [
        {
          "output_type": "stream",
          "name": "stdout",
          "text": [
            "31/31 [==============================] - 0s 6ms/step - loss: 8.5882 - mae: 2.2879\n",
            "Test MAE = 2.29 degrees\n"
          ]
        }
      ]
    },
    {
      "cell_type": "markdown",
      "source": [
        "Note that validation set MAE is now lower than MAE on training set -- no longer overfitting. Validation MAE is 2.16 and test MAE is also 2.16.\n",
        "\n",
        "NOTE: This is a very simple dataset with very small differences in performance between different models.  You'll just have to take my word for it that *in general* this approach works. "
      ],
      "metadata": {
        "id": "H3OrpvE3S4gM"
      }
    },
    {
      "cell_type": "code",
      "source": [
        "# Performance in the previous figure can (maybe) still be improved\n",
        "# Let's try to add some more layers -- we can do this now that we're no longer overfitting\n",
        "\n",
        "model_lstm3 = models.Sequential()\n",
        "model_lstm3.add(layers.LSTM(20, input_shape=(sequence_length, len(df.columns)-1), recurrent_dropout=0.25, return_sequences=True))  # NEW!\n",
        "model_lstm3.add(layers.LSTM(20, input_shape=(sequence_length, len(df.columns)-1), recurrent_dropout=0.25))  # NEW!!\n",
        "model_lstm3.add(layers.Dropout(0.4))\n",
        "model_lstm3.add(layers.Dense(1))\n",
        "model_lstm3.summary()"
      ],
      "metadata": {
        "colab": {
          "base_uri": "https://localhost:8080/"
        },
        "id": "jq_ZDTttTX6_",
        "outputId": "0d6d6ac7-c472-42ad-cb49-75f48aa8b906"
      },
      "execution_count": 75,
      "outputs": [
        {
          "output_type": "stream",
          "name": "stdout",
          "text": [
            "Model: \"sequential_12\"\n",
            "_________________________________________________________________\n",
            " Layer (type)                Output Shape              Param #   \n",
            "=================================================================\n",
            " lstm_10 (LSTM)              (None, 14, 20)            2160      \n",
            "                                                                 \n",
            " lstm_11 (LSTM)              (None, 20)                3280      \n",
            "                                                                 \n",
            " dropout_9 (Dropout)         (None, 20)                0         \n",
            "                                                                 \n",
            " dense_16 (Dense)            (None, 1)                 21        \n",
            "                                                                 \n",
            "=================================================================\n",
            "Total params: 5,461\n",
            "Trainable params: 5,461\n",
            "Non-trainable params: 0\n",
            "_________________________________________________________________\n"
          ]
        }
      ]
    },
    {
      "cell_type": "code",
      "source": [
        "model_lstm3.compile(optimizer='rmsprop', loss='mse', metrics=['mae'])\n",
        "\n",
        "callbacks = [EarlyStopping(monitor='val_mae', patience=2)]\n",
        "\n",
        "history_lstm3 = model_lstm3.fit(train_dataset, epochs=60,  # increased number of epochs\n",
        "                            validation_data=val_dataset,\n",
        "                            callbacks=callbacks)  # but added early stopping callback\n"
      ],
      "metadata": {
        "colab": {
          "base_uri": "https://localhost:8080/"
        },
        "id": "9xQXChtNUxzh",
        "outputId": "5a2e0c73-1690-4f49-8f46-4eaa8008cbb8"
      },
      "execution_count": 76,
      "outputs": [
        {
          "output_type": "stream",
          "name": "stdout",
          "text": [
            "Epoch 1/60\n",
            "80/80 [==============================] - 8s 38ms/step - loss: 120.6567 - mae: 9.7801 - val_loss: 79.8473 - val_mae: 7.5150\n",
            "Epoch 2/60\n",
            "80/80 [==============================] - 3s 32ms/step - loss: 65.1476 - mae: 6.7511 - val_loss: 50.0434 - val_mae: 5.5910\n",
            "Epoch 3/60\n",
            "80/80 [==============================] - 3s 32ms/step - loss: 45.7247 - mae: 5.5168 - val_loss: 39.8337 - val_mae: 4.9682\n",
            "Epoch 4/60\n",
            "80/80 [==============================] - 3s 32ms/step - loss: 38.0004 - mae: 5.0201 - val_loss: 33.0299 - val_mae: 4.5433\n",
            "Epoch 5/60\n",
            "80/80 [==============================] - 3s 32ms/step - loss: 31.3730 - mae: 4.5355 - val_loss: 28.0584 - val_mae: 4.2287\n",
            "Epoch 6/60\n",
            "80/80 [==============================] - 3s 32ms/step - loss: 26.3676 - mae: 4.1322 - val_loss: 23.3959 - val_mae: 3.8568\n",
            "Epoch 7/60\n",
            "80/80 [==============================] - 3s 33ms/step - loss: 23.0319 - mae: 3.8586 - val_loss: 20.4480 - val_mae: 3.6246\n",
            "Epoch 8/60\n",
            "80/80 [==============================] - 3s 32ms/step - loss: 20.5577 - mae: 3.5920 - val_loss: 18.0865 - val_mae: 3.4099\n",
            "Epoch 9/60\n",
            "80/80 [==============================] - 3s 36ms/step - loss: 18.2053 - mae: 3.3938 - val_loss: 15.4181 - val_mae: 3.1043\n",
            "Epoch 10/60\n",
            "80/80 [==============================] - 3s 33ms/step - loss: 16.6900 - mae: 3.2215 - val_loss: 14.1086 - val_mae: 2.9838\n",
            "Epoch 11/60\n",
            "80/80 [==============================] - 3s 34ms/step - loss: 14.7301 - mae: 3.0022 - val_loss: 12.8505 - val_mae: 2.8583\n",
            "Epoch 12/60\n",
            "80/80 [==============================] - 3s 32ms/step - loss: 14.4803 - mae: 3.0603 - val_loss: 12.5662 - val_mae: 2.8474\n",
            "Epoch 13/60\n",
            "80/80 [==============================] - 3s 32ms/step - loss: 13.7555 - mae: 2.9653 - val_loss: 10.7783 - val_mae: 2.6112\n",
            "Epoch 14/60\n",
            "80/80 [==============================] - 3s 33ms/step - loss: 12.4691 - mae: 2.7896 - val_loss: 10.6204 - val_mae: 2.6152\n",
            "Epoch 15/60\n",
            "80/80 [==============================] - 3s 32ms/step - loss: 11.9434 - mae: 2.7523 - val_loss: 9.6841 - val_mae: 2.4854\n",
            "Epoch 16/60\n",
            "80/80 [==============================] - 3s 33ms/step - loss: 12.2502 - mae: 2.7845 - val_loss: 9.4159 - val_mae: 2.4653\n",
            "Epoch 17/60\n",
            "80/80 [==============================] - 3s 32ms/step - loss: 11.4805 - mae: 2.7183 - val_loss: 9.2312 - val_mae: 2.4591\n",
            "Epoch 18/60\n",
            "80/80 [==============================] - 3s 36ms/step - loss: 11.6589 - mae: 2.7297 - val_loss: 8.3622 - val_mae: 2.3350\n",
            "Epoch 19/60\n",
            "80/80 [==============================] - 3s 33ms/step - loss: 10.5242 - mae: 2.5782 - val_loss: 8.2957 - val_mae: 2.3203\n",
            "Epoch 20/60\n",
            "80/80 [==============================] - 3s 33ms/step - loss: 10.3811 - mae: 2.5704 - val_loss: 8.2958 - val_mae: 2.3373\n",
            "Epoch 21/60\n",
            "80/80 [==============================] - 3s 32ms/step - loss: 11.0712 - mae: 2.6396 - val_loss: 7.6225 - val_mae: 2.2277\n",
            "Epoch 22/60\n",
            "80/80 [==============================] - 3s 32ms/step - loss: 10.0000 - mae: 2.4801 - val_loss: 7.4351 - val_mae: 2.2022\n",
            "Epoch 23/60\n",
            "80/80 [==============================] - 3s 33ms/step - loss: 9.8425 - mae: 2.4865 - val_loss: 7.0756 - val_mae: 2.1287\n",
            "Epoch 24/60\n",
            "80/80 [==============================] - 3s 33ms/step - loss: 9.8465 - mae: 2.4913 - val_loss: 6.7820 - val_mae: 2.0922\n",
            "Epoch 25/60\n",
            "80/80 [==============================] - 3s 32ms/step - loss: 9.2112 - mae: 2.4117 - val_loss: 6.6751 - val_mae: 2.0783\n",
            "Epoch 26/60\n",
            "80/80 [==============================] - 3s 34ms/step - loss: 9.7181 - mae: 2.4797 - val_loss: 6.4960 - val_mae: 2.0420\n",
            "Epoch 27/60\n",
            "80/80 [==============================] - 3s 37ms/step - loss: 9.0519 - mae: 2.3786 - val_loss: 6.1984 - val_mae: 1.9892\n",
            "Epoch 28/60\n",
            "80/80 [==============================] - 3s 33ms/step - loss: 8.9285 - mae: 2.3901 - val_loss: 6.1572 - val_mae: 1.9804\n",
            "Epoch 29/60\n",
            "80/80 [==============================] - 3s 33ms/step - loss: 9.0156 - mae: 2.4043 - val_loss: 6.3060 - val_mae: 2.0043\n",
            "Epoch 30/60\n",
            "80/80 [==============================] - 3s 33ms/step - loss: 8.7117 - mae: 2.3415 - val_loss: 5.8803 - val_mae: 1.9319\n",
            "Epoch 31/60\n",
            "80/80 [==============================] - 3s 33ms/step - loss: 8.6840 - mae: 2.3437 - val_loss: 5.5412 - val_mae: 1.8652\n",
            "Epoch 32/60\n",
            "80/80 [==============================] - 3s 33ms/step - loss: 8.8093 - mae: 2.3532 - val_loss: 5.7194 - val_mae: 1.9037\n",
            "Epoch 33/60\n",
            "80/80 [==============================] - 3s 33ms/step - loss: 8.0883 - mae: 2.2312 - val_loss: 5.7002 - val_mae: 1.8991\n"
          ]
        }
      ]
    },
    {
      "cell_type": "code",
      "source": [
        "# Plot MAE cures for validation and training\n",
        "plot_hist_regression(history_lstm3, baseline)\n",
        "print('Test MAE = %.2f degrees' % model_lstm3.evaluate(test_dataset)[1])"
      ],
      "metadata": {
        "colab": {
          "base_uri": "https://localhost:8080/",
          "height": 314
        },
        "id": "PtFfB3YaU4k3",
        "outputId": "d807c66e-8a7b-4782-fa21-e7a9f35ce522"
      },
      "execution_count": 77,
      "outputs": [
        {
          "output_type": "display_data",
          "data": {
            "text/plain": [
              "<Figure size 432x288 with 1 Axes>"
            ],
            "image/png": "[encoded data removed]"
          },
          "metadata": {
            "needs_background": "light"
          }
        },
        {
          "output_type": "stream",
          "name": "stdout",
          "text": [
            "31/31 [==============================] - 0s 8ms/step - loss: 6.1399 - mae: 1.9149\n",
            "Test MAE = 1.91 degrees\n"
          ]
        }
      ]
    },
    {
      "cell_type": "markdown",
      "source": [
        "Validation MAE = 1.92 degrees\n",
        "\n",
        "Test MAE = 1.89 degrees\n"
      ],
      "metadata": {
        "id": "eUJqRqp1XJnL"
      }
    },
    {
      "cell_type": "markdown",
      "source": [
        "# Text"
      ],
      "metadata": {
        "id": "zGEuNqw2csXj"
      }
    },
    {
      "cell_type": "markdown",
      "source": [
        "## Data prep\n",
        "\n",
        "We'll try to predict whether the review for a movie is positive or negative looking only at the text of the review.\n",
        "\n",
        "We'll use the IMDB text dataset for this task, which is available on `keras.datasets` and described [here](https://keras.io/api/datasets/imdb/). \n",
        "\n",
        "We'll merge the training and test sets and use 60% for training, 20% for validation, and 20% for testing.\n",
        "\n",
        "\n",
        "As this is a binary classificationp problem, we'll use the binary cross entropy loss function. We will keep track of accuracy when training and evaluating the model.\n"
      ],
      "metadata": {
        "id": "dtv0EjsTbwvm"
      }
    },
    {
      "cell_type": "code",
      "source": [
        "def plot_hist_classif(hist):\n",
        "  n_ = len(hist.history['accuracy'])\n",
        "  plt.plot(range(1, n_+1), 100*np.asarray(hist.history['accuracy']), 'bo', label='Accuracy on training set')\n",
        "  plt.plot(range(1, n_+1), 100*np.asarray(hist.history['val_accuracy']), 'b', label='Accuracy on validation set')\n",
        "  plt.legend()\n",
        "  plt.xlabel(\"Epoch\") \n",
        "  plt.ylabel(\"Accuracy\")\n",
        "  plt.ylim(0, 100)\n",
        "  plt.axhline(y=50)\n",
        "  plt.show()\n"
      ],
      "metadata": {
        "id": "i-mH-8IGwGo1"
      },
      "execution_count": 78,
      "outputs": []
    },
    {
      "cell_type": "code",
      "source": [
        "max_features = 15000  # only consider the top 15k words\n",
        "maxlen = 500  # first 500 words of each review\n",
        "batch_size = 32\n",
        "\n",
        "print('Loading data...')\n",
        "# Load dataset\n",
        "(x_train, y_train), (x_test, y_test) = keras.datasets.imdb.load_data(num_words=max_features)\n",
        "print(len(x_train), 'train sequences', x_train.shape)\n",
        "print(len(x_test), 'test sequences', x_test.shape)"
      ],
      "metadata": {
        "colab": {
          "base_uri": "https://localhost:8080/"
        },
        "id": "4TW3Vg49n5V-",
        "outputId": "59da8821-1e8e-4da2-a18d-47e049460b60"
      },
      "execution_count": 79,
      "outputs": [
        {
          "output_type": "stream",
          "name": "stdout",
          "text": [
            "Loading data...\n",
            "25000 train sequences (25000,)\n",
            "25000 test sequences (25000,)\n"
          ]
        }
      ]
    },
    {
      "cell_type": "code",
      "source": [
        "# How balanced is this dataset?\n",
        "print(np.sum(y_train)/len(y_train))\n",
        "print(np.sum(y_test)/len(y_test))"
      ],
      "metadata": {
        "colab": {
          "base_uri": "https://localhost:8080/"
        },
        "id": "8ApTb-jYtSOm",
        "outputId": "01cdba64-1be3-4635-af5f-11b715b319c1"
      },
      "execution_count": 80,
      "outputs": [
        {
          "output_type": "stream",
          "name": "stdout",
          "text": [
            "0.5\n",
            "0.5\n"
          ]
        }
      ]
    },
    {
      "cell_type": "code",
      "source": [
        "# Merge the two datasets and divide: 60% for training, 20% validation, 20% test\n",
        "x_, y_ = np.concatenate((x_train, x_test)), np.concatenate((y_train, y_test))\n",
        "print(x_.shape, y_.shape)\n",
        "x_train, x_test, y_train, y_test = train_test_split(x_, y_, test_size=0.4, random_state=10)  # 60/40 split\n",
        "x_val, x_test, y_val, y_test = train_test_split(x_test, y_test, test_size=0.5, random_state=10)  # 50/50 split\n",
        "print(len(x_train), 'train sequences', x_train.shape)\n",
        "print(len(x_val), 'validation sequences', x_val.shape)\n",
        "print(len(x_test), 'test sequences', x_test.shape)"
      ],
      "metadata": {
        "colab": {
          "base_uri": "https://localhost:8080/"
        },
        "id": "Z53Fbicqr8tm",
        "outputId": "7864772a-23ae-409a-995b-53d1b84f6ba6"
      },
      "execution_count": 81,
      "outputs": [
        {
          "output_type": "stream",
          "name": "stdout",
          "text": [
            "(50000,) (50000,)\n",
            "30000 train sequences (30000,)\n",
            "10000 validation sequences (10000,)\n",
            "10000 test sequences (10000,)\n"
          ]
        }
      ]
    },
    {
      "cell_type": "code",
      "source": [
        "x_train[0][:10]  # numbers!!"
      ],
      "metadata": {
        "colab": {
          "base_uri": "https://localhost:8080/"
        },
        "id": "5v_Hy-r8o8pR",
        "outputId": "3e2ccce7-b620-466b-ce2b-e6ed83c0e35d"
      },
      "execution_count": 82,
      "outputs": [
        {
          "output_type": "execute_result",
          "data": {
            "text/plain": [
              "[1, 11531, 186, 8, 28, 6, 6482, 7, 269, 4042]"
            ]
          },
          "metadata": {},
          "execution_count": 82
        }
      ]
    },
    {
      "cell_type": "code",
      "source": [
        "# We can explore what one of the reviews looks like at this point.\n",
        "\n",
        "# Retrieve the word index file that maps words to indices\n",
        "word_index = keras.datasets.imdb.get_word_index()\n",
        "# Reverse the word index to obtain a dict mapping indices to words (which is what we have)\n",
        "inverted_word_index = dict((i, word) for (word, i) in word_index.items())\n",
        "# Decode the first sequence in the dataset\n",
        "decoded_sequence = \" \".join(inverted_word_index[i] for i in x_train[0])\n",
        "decoded_sequence"
      ],
      "metadata": {
        "colab": {
          "base_uri": "https://localhost:8080/",
          "height": 53
        },
        "id": "rgEgNSLBpFwh",
        "outputId": "f86c5188-993a-4481-df4e-43193f00691c"
      },
      "execution_count": 83,
      "outputs": [
        {
          "output_type": "execute_result",
          "data": {
            "text/plain": [
              "\"the lilly horror in one is fatale br looks meaningless in bronson be showing as you debut film ample to and ingredients zombi ample they for series and thought she's all manipulate and believing in j show look early last quote desire tight interesting that's kind out is far shelter but of frame br and\""
            ],
            "application/vnd.google.colaboratory.intrinsic+json": {
              "type": "string"
            }
          },
          "metadata": {},
          "execution_count": 83
        }
      ]
    },
    {
      "cell_type": "code",
      "source": [
        "# Let's ensure all sequences have the same length through padding\n",
        "# - shorter reviews are padded with 0's\n",
        "# - longer reviews are cut\n",
        "print('Pad sequences')\n",
        "x_train = keras.preprocessing.sequence.pad_sequences(x_train, maxlen=maxlen)\n",
        "x_val = keras.preprocessing.sequence.pad_sequences(x_val, maxlen=maxlen)\n",
        "x_test = keras.preprocessing.sequence.pad_sequences(x_test, maxlen=maxlen)\n",
        "print('x_train shape:', x_train.shape)\n",
        "print('x_val shape:', x_val.shape)\n",
        "print('x_test shape:', x_test.shape)"
      ],
      "metadata": {
        "colab": {
          "base_uri": "https://localhost:8080/"
        },
        "id": "ibmO0V-gcthG",
        "outputId": "cacf9350-e44d-4efa-84eb-621bebfa6079"
      },
      "execution_count": 84,
      "outputs": [
        {
          "output_type": "stream",
          "name": "stdout",
          "text": [
            "Pad sequences\n",
            "x_train shape: (30000, 500)\n",
            "x_val shape: (10000, 500)\n",
            "x_test shape: (10000, 500)\n"
          ]
        }
      ]
    },
    {
      "cell_type": "code",
      "source": [
        "# Basic feedforward model\n",
        "model = models.Sequential()\n",
        "model.add(layers.Embedding(max_features, 128, input_length=maxlen))\n",
        "model.add(layers.Dense(64, activation='relu'))\n",
        "model.add(layers.Dropout(0.5))\n",
        "model.add(layers.Dense(64, activation='relu'))\n",
        "model.add(layers.Dropout(0.5))\n",
        "model.add(layers.Flatten())\n",
        "model.add(layers.Dense(1, activation=\"sigmoid\"))\n",
        "model.summary()"
      ],
      "metadata": {
        "colab": {
          "base_uri": "https://localhost:8080/"
        },
        "id": "sBpQpwBAk44H",
        "outputId": "a19a1119-cbc3-43bb-8277-f3da446e7b3b"
      },
      "execution_count": 85,
      "outputs": [
        {
          "output_type": "stream",
          "name": "stdout",
          "text": [
            "Model: \"sequential_13\"\n",
            "_________________________________________________________________\n",
            " Layer (type)                Output Shape              Param #   \n",
            "=================================================================\n",
            " embedding_3 (Embedding)     (None, 500, 128)          1920000   \n",
            "                                                                 \n",
            " dense_17 (Dense)            (None, 500, 64)           8256      \n",
            "                                                                 \n",
            " dropout_10 (Dropout)        (None, 500, 64)           0         \n",
            "                                                                 \n",
            " dense_18 (Dense)            (None, 500, 64)           4160      \n",
            "                                                                 \n",
            " dropout_11 (Dropout)        (None, 500, 64)           0         \n",
            "                                                                 \n",
            " flatten_3 (Flatten)         (None, 32000)             0         \n",
            "                                                                 \n",
            " dense_19 (Dense)            (None, 1)                 32001     \n",
            "                                                                 \n",
            "=================================================================\n",
            "Total params: 1,964,417\n",
            "Trainable params: 1,964,417\n",
            "Non-trainable params: 0\n",
            "_________________________________________________________________\n"
          ]
        }
      ]
    },
    {
      "cell_type": "code",
      "source": [
        "model.compile(optimizer=\"rmsprop\", loss=\"binary_crossentropy\", metrics=[\"accuracy\"])\n",
        "history = model.fit(x_train, y_train, batch_size=batch_size, epochs=20, validation_data=(x_val, y_val))"
      ],
      "metadata": {
        "colab": {
          "base_uri": "https://localhost:8080/"
        },
        "id": "-8c7tCS5vrC3",
        "outputId": "e5c86d2c-8790-44fb-9013-ce02f2b37f07"
      },
      "execution_count": 86,
      "outputs": [
        {
          "output_type": "stream",
          "name": "stdout",
          "text": [
            "Epoch 1/20\n",
            "938/938 [==============================] - 77s 81ms/step - loss: 0.4355 - accuracy: 0.7692 - val_loss: 0.3600 - val_accuracy: 0.8575\n",
            "Epoch 2/20\n",
            "938/938 [==============================] - 75s 80ms/step - loss: 0.2475 - accuracy: 0.9016 - val_loss: 0.2780 - val_accuracy: 0.8870\n",
            "Epoch 3/20\n",
            "938/938 [==============================] - 76s 81ms/step - loss: 0.2089 - accuracy: 0.9184 - val_loss: 0.2707 - val_accuracy: 0.8914\n",
            "Epoch 4/20\n",
            "938/938 [==============================] - 74s 79ms/step - loss: 0.1914 - accuracy: 0.9265 - val_loss: 0.2608 - val_accuracy: 0.8962\n",
            "Epoch 5/20\n",
            "938/938 [==============================] - 75s 80ms/step - loss: 0.1803 - accuracy: 0.9310 - val_loss: 0.2732 - val_accuracy: 0.8928\n",
            "Epoch 6/20\n",
            "938/938 [==============================] - 75s 79ms/step - loss: 0.1690 - accuracy: 0.9371 - val_loss: 0.2946 - val_accuracy: 0.8833\n",
            "Epoch 7/20\n",
            "938/938 [==============================] - 75s 80ms/step - loss: 0.1606 - accuracy: 0.9403 - val_loss: 0.3575 - val_accuracy: 0.8710\n",
            "Epoch 8/20\n",
            "938/938 [==============================] - 74s 79ms/step - loss: 0.1531 - accuracy: 0.9434 - val_loss: 0.4180 - val_accuracy: 0.8468\n",
            "Epoch 9/20\n",
            "938/938 [==============================] - 74s 79ms/step - loss: 0.1473 - accuracy: 0.9451 - val_loss: 0.2941 - val_accuracy: 0.8883\n",
            "Epoch 10/20\n",
            "938/938 [==============================] - 75s 80ms/step - loss: 0.1409 - accuracy: 0.9472 - val_loss: 0.2875 - val_accuracy: 0.8929\n",
            "Epoch 11/20\n",
            "938/938 [==============================] - 74s 79ms/step - loss: 0.1307 - accuracy: 0.9523 - val_loss: 0.3763 - val_accuracy: 0.8646\n",
            "Epoch 12/20\n",
            "938/938 [==============================] - 74s 79ms/step - loss: 0.1272 - accuracy: 0.9529 - val_loss: 0.4090 - val_accuracy: 0.8653\n",
            "Epoch 13/20\n",
            "938/938 [==============================] - 74s 79ms/step - loss: 0.1231 - accuracy: 0.9545 - val_loss: 0.3257 - val_accuracy: 0.8871\n",
            "Epoch 14/20\n",
            "938/938 [==============================] - 75s 80ms/step - loss: 0.1180 - accuracy: 0.9568 - val_loss: 0.4009 - val_accuracy: 0.8703\n",
            "Epoch 15/20\n",
            "938/938 [==============================] - 74s 79ms/step - loss: 0.1124 - accuracy: 0.9599 - val_loss: 0.4844 - val_accuracy: 0.8470\n",
            "Epoch 16/20\n",
            "938/938 [==============================] - 74s 79ms/step - loss: 0.1070 - accuracy: 0.9611 - val_loss: 0.3579 - val_accuracy: 0.8825\n",
            "Epoch 17/20\n",
            "938/938 [==============================] - 74s 79ms/step - loss: 0.1046 - accuracy: 0.9628 - val_loss: 0.3623 - val_accuracy: 0.8852\n",
            "Epoch 18/20\n",
            "938/938 [==============================] - 74s 79ms/step - loss: 0.0960 - accuracy: 0.9646 - val_loss: 0.3875 - val_accuracy: 0.8818\n",
            "Epoch 19/20\n",
            "938/938 [==============================] - 74s 79ms/step - loss: 0.0983 - accuracy: 0.9649 - val_loss: 0.4137 - val_accuracy: 0.8790\n",
            "Epoch 20/20\n",
            "938/938 [==============================] - 75s 80ms/step - loss: 0.0889 - accuracy: 0.9680 - val_loss: 0.4108 - val_accuracy: 0.8787\n"
          ]
        }
      ]
    },
    {
      "cell_type": "code",
      "source": [
        "plot_hist_classif(history)\n",
        "print('Test Accuracy = %.2f' % model.evaluate(x_test, y_test)[1])  # overfitting!"
      ],
      "metadata": {
        "id": "dKBVw5mHv_oX",
        "outputId": "ed55fca2-2c6e-4a46-eab7-97f083422176",
        "colab": {
          "base_uri": "https://localhost:8080/",
          "height": 318
        }
      },
      "execution_count": 87,
      "outputs": [
        {
          "output_type": "display_data",
          "data": {
            "text/plain": [
              "<Figure size 432x288 with 1 Axes>"
            ],
            "image/png": "[encoded data removed]"
          },
          "metadata": {
            "needs_background": "light"
          }
        },
        {
          "output_type": "stream",
          "name": "stdout",
          "text": [
            "313/313 [==============================] - 5s 16ms/step - loss: 0.4115 - accuracy: 0.8789\n",
            "Test Accuracy = 0.88\n"
          ]
        }
      ]
    },
    {
      "cell_type": "code",
      "source": [
        "# Let's try an RNN\n",
        "model = models.Sequential()\n",
        "model.add(layers.Embedding(max_features, 64))\n",
        "model.add(layers.LSTM(128, return_sequences=False))\n",
        "model.add(layers.Dropout(0.5))\n",
        "model.add(layers.Dense(1, activation=\"sigmoid\"))\n",
        "model.compile(optimizer=\"rmsprop\", loss=\"binary_crossentropy\", metrics=[\"accuracy\"])\n",
        "model.summary()"
      ],
      "metadata": {
        "id": "Ieh7Wl9Pwh8V",
        "outputId": "33b8bf33-0350-48ca-92a2-3c9dea5bd9ee",
        "colab": {
          "base_uri": "https://localhost:8080/"
        }
      },
      "execution_count": 88,
      "outputs": [
        {
          "output_type": "stream",
          "name": "stdout",
          "text": [
            "Model: \"sequential_14\"\n",
            "_________________________________________________________________\n",
            " Layer (type)                Output Shape              Param #   \n",
            "=================================================================\n",
            " embedding_4 (Embedding)     (None, None, 64)          960000    \n",
            "                                                                 \n",
            " lstm_12 (LSTM)              (None, 128)               98816     \n",
            "                                                                 \n",
            " dropout_12 (Dropout)        (None, 128)               0         \n",
            "                                                                 \n",
            " dense_20 (Dense)            (None, 1)                 129       \n",
            "                                                                 \n",
            "=================================================================\n",
            "Total params: 1,058,945\n",
            "Trainable params: 1,058,945\n",
            "Non-trainable params: 0\n",
            "_________________________________________________________________\n"
          ]
        }
      ]
    },
    {
      "cell_type": "code",
      "source": [
        "# This model will take a long time to train, so we add an early stopping criterion\n",
        "# N.B: It's actually much faster to train WITHOUT A GPU!!\n",
        "callbacks = [EarlyStopping(monitor='val_accuracy', patience=2)]\n",
        "history = model.fit(x_train, y_train, batch_size=batch_size, epochs=20, validation_data=(x_val, y_val), callbacks=callbacks)\n",
        "plot_hist_classif(history)\n",
        "print('Test Accuracy = %.2f' % model.evaluate(x_test, y_test)[1])\n",
        "# Note that we're still overfitting, but this is just an example of use"
      ],
      "metadata": {
        "id": "Sd54xZMmxKBQ",
        "outputId": "4ecd86b0-a413-46f8-eb74-ea29869e54fb",
        "colab": {
          "base_uri": "https://localhost:8080/",
          "height": 491
        }
      },
      "execution_count": 89,
      "outputs": [
        {
          "output_type": "stream",
          "name": "stdout",
          "text": [
            "Epoch 1/20\n",
            "938/938 [==============================] - 586s 622ms/step - loss: 0.4468 - accuracy: 0.7899 - val_loss: 0.3620 - val_accuracy: 0.8403\n",
            "Epoch 2/20\n",
            "938/938 [==============================] - 583s 622ms/step - loss: 0.2919 - accuracy: 0.8875 - val_loss: 0.2758 - val_accuracy: 0.8880\n",
            "Epoch 3/20\n",
            "938/938 [==============================] - 584s 622ms/step - loss: 0.2450 - accuracy: 0.9087 - val_loss: 0.2601 - val_accuracy: 0.8997\n",
            "Epoch 4/20\n",
            "938/938 [==============================] - 582s 620ms/step - loss: 0.2117 - accuracy: 0.9230 - val_loss: 0.2931 - val_accuracy: 0.8975\n",
            "Epoch 5/20\n",
            "938/938 [==============================] - 582s 620ms/step - loss: 0.1892 - accuracy: 0.9323 - val_loss: 0.2654 - val_accuracy: 0.8951\n"
          ]
        },
        {
          "output_type": "display_data",
          "data": {
            "text/plain": [
              "<Figure size 432x288 with 1 Axes>"
            ],
            "image/png": "[encoded data removed]"
          },
          "metadata": {
            "needs_background": "light"
          }
        },
        {
          "output_type": "stream",
          "name": "stdout",
          "text": [
            "313/313 [==============================] - 46s 147ms/step - loss: 0.2556 - accuracy: 0.8995\n",
            "Test Accuracy = 0.90\n"
          ]
        }
      ]
    },
    {
      "cell_type": "markdown",
      "source": [
        "## Your turn!\n",
        "\n",
        "Implement a bidirectional RNN that can outperform the LSTM model we had above.\n",
        "\n",
        "A starting skeleton could be:\n",
        " \n",
        "*   Embedding layer with an output dimension of 64\n",
        "*   Bidirectional layer with a 32-neuron LSTM layer\n",
        "*   Dense layer with 1 neuron and a sigmoid activation\n",
        "\n",
        "Some suggestions:\n",
        "\n",
        "- Change the sizes of the layers (i.e., the numbers of neurons)\n",
        "- Add dropout\n",
        "- Add other recurrent and/or bidirectional layers\n",
        "\n",
        "Once you have a model that scores over 90% on the validation set, check its performance on the test set and upload it on the code checker in Moodle.\n",
        "\n",
        "Note that the model I'm suggesting above will be able to reach the desired performance, but it will show signs of overfitting. Can you do it by adding regularization (dropout, smaller network) so you don't overfit?\n"
      ],
      "metadata": {
        "id": "kzZhXm5gkz_g"
      }
    },
    {
      "cell_type": "code",
      "source": [
        "n_ = 10  # number of epochs. You can edit this\n",
        "\n",
        "model = models.Sequential()\n",
        "# YOUR CODE HERE!\n",
        "model.add(layers.Embedding(max_features, 64))\n",
        "model.add(layers.Bidirectional(layers.LSTM(32, return_sequences=True), input_shape=(5, 10)))\n",
        "model.add(layers.Dropout(0.4))\n",
        "model.add(layers.Bidirectional(layers.LSTM(16, return_sequences=False)))\n",
        "model.add(layers.Dropout(0.4))\n",
        "model.add(layers.Dense(1, activation=\"sigmoid\"))\n",
        "\n",
        "# I DON'T RECOMMEND THAT YOU CHANGE CODE AFTER THIS POINT\n",
        "model.compile(optimizer=\"rmsprop\", loss=\"binary_crossentropy\", metrics=[\"accuracy\"])\n",
        "\n",
        "print(model.summary())\n",
        "\n",
        "# This model will take a long time to train, so we add an early stopping criterion\n",
        "# I've also added a ModelCheckpoint that will save the best model according to val_accuracy regardless of whether we continue training\n",
        "callbacks = [EarlyStopping(monitor='val_accuracy', patience=1),\n",
        "             ModelCheckpoint(\"model.keras\", save_best_only=True, monitor=\"val_accuracy\", mode='max')]\n",
        "\n",
        "history = model.fit(x_train, y_train, batch_size=batch_size, epochs=n_, \n",
        "                    validation_data=(x_val, y_val), \n",
        "                    callbacks=callbacks)\n",
        "plot_hist_classif(history)\n",
        "model = keras.models.load_model(\"model.keras\")\n",
        "print('Test Accuracy = %.2f' % model.evaluate(x_test, y_test)[1])"
      ],
      "metadata": {
        "colab": {
          "base_uri": "https://localhost:8080/"
        },
        "id": "oTGRVK0cOwFR",
        "outputId": "a6bf7b72-f8c5-463c-acdc-55a11858dbd6"
      },
      "execution_count": null,
      "outputs": [
        {
          "output_type": "stream",
          "name": "stdout",
          "text": [
            "Model: \"sequential_15\"\n",
            "_________________________________________________________________\n",
            " Layer (type)                Output Shape              Param #   \n",
            "=================================================================\n",
            " embedding_5 (Embedding)     (None, None, 64)          960000    \n",
            "                                                                 \n",
            " bidirectional_4 (Bidirectio  (None, None, 64)         24832     \n",
            " nal)                                                            \n",
            "                                                                 \n",
            " dropout_13 (Dropout)        (None, None, 64)          0         \n",
            "                                                                 \n",
            " bidirectional_5 (Bidirectio  (None, 32)               10368     \n",
            " nal)                                                            \n",
            "                                                                 \n",
            " dropout_14 (Dropout)        (None, 32)                0         \n",
            "                                                                 \n",
            " dense_21 (Dense)            (None, 1)                 33        \n",
            "                                                                 \n",
            "=================================================================\n",
            "Total params: 995,233\n",
            "Trainable params: 995,233\n",
            "Non-trainable params: 0\n",
            "_________________________________________________________________\n",
            "None\n",
            "Epoch 1/10\n",
            "938/938 [==============================] - 729s 768ms/step - loss: 0.3954 - accuracy: 0.8261 - val_loss: 0.3131 - val_accuracy: 0.8746\n",
            "Epoch 2/10\n",
            "374/938 [==========>...................] - ETA: 6:47 - loss: 0.2536 - accuracy: 0.9043"
          ]
        }
      ]
    },
    {
      "cell_type": "code",
      "source": [
        "if model.count_params() > 1000000:\n",
        "    print(\"Due to memory constraints on Moodle, the lab quiz has a 10MB limit on your model size, so you need to use a smaller model to validate through the auto-marker.\")\n",
        "\n",
        "if history.history[\"val_accuracy\"][-1] > 0.9:\n",
        "    print(\"Your model is accurate enough!\")\n",
        "\n",
        "else:\n",
        "    print(\"Accuracy is below the threshold!\")\n",
        "    raise Exception(\"Your model isn't accurate enough to pass the progress checker!\")\n",
        "# Save the model into a local folder\n",
        "keras.models.save_model(model, \"Model.h5\",save_format='h5')\n",
        "print('Model saved! You can now upload it to the lab quiz.')"
      ],
      "metadata": {
        "id": "ZFBmg66_CR7y"
      },
      "execution_count": null,
      "outputs": []
    },
    {
      "cell_type": "code",
      "source": [
        ""
      ],
      "metadata": {
        "id": "hv7PyBQQsXav"
      },
      "execution_count": null,
      "outputs": []
    }
  ],
  "metadata": {
    "kernelspec": {
      "display_name": "Python 3",
      "language": "python",
      "name": "python3"
    },
    "language_info": {
      "codemirror_mode": {
        "name": "ipython",
        "version": 3
      },
      "file_extension": ".py",
      "mimetype": "text/x-python",
      "name": "python",
      "nbconvert_exporter": "python",
      "pygments_lexer": "ipython3",
      "version": "3.7.10"
    },
    "colab": {
      "name": "rnn.ipynb",
      "provenance": [],
      "collapsed_sections": [
        "WlhjIvZR_a0Q",
        "rloJamyvWPWj",
        "7c-duA1Z_a0R",
        "3ozUAZX__a0R"
      ],
      "include_colab_link": true
    }
  },
  "nbformat": 4,
  "nbformat_minor": 0
}